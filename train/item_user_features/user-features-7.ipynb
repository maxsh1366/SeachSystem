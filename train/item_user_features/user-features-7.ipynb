{
 "cells": [
  {
   "cell_type": "code",
   "execution_count": 1,
   "id": "2c42eca5",
   "metadata": {},
   "outputs": [],
   "source": [
    "import os\n",
    "os.environ[\"CUDA_VISIBLE_DEVICES\"]=\"0\"\n",
    "\n",
    "import cudf, pandas as pd"
   ]
  },
  {
   "cell_type": "code",
   "execution_count": 2,
   "id": "41610cfc",
   "metadata": {},
   "outputs": [
    {
     "name": "stdout",
     "output_type": "stream",
     "text": [
      "(7683577, 4)\n"
     ]
    },
    {
     "data": {
      "text/html": [
       "<div>\n",
       "<style scoped>\n",
       "    .dataframe tbody tr th:only-of-type {\n",
       "        vertical-align: middle;\n",
       "    }\n",
       "\n",
       "    .dataframe tbody tr th {\n",
       "        vertical-align: top;\n",
       "    }\n",
       "\n",
       "    .dataframe thead th {\n",
       "        text-align: right;\n",
       "    }\n",
       "</style>\n",
       "<table border=\"1\" class=\"dataframe\">\n",
       "  <thead>\n",
       "    <tr style=\"text-align: right;\">\n",
       "      <th></th>\n",
       "      <th>session</th>\n",
       "      <th>aid</th>\n",
       "      <th>ts</th>\n",
       "      <th>type</th>\n",
       "    </tr>\n",
       "  </thead>\n",
       "  <tbody>\n",
       "    <tr>\n",
       "      <th>0</th>\n",
       "      <td>11098528</td>\n",
       "      <td>11830</td>\n",
       "      <td>1661119200</td>\n",
       "      <td>0</td>\n",
       "    </tr>\n",
       "    <tr>\n",
       "      <th>1</th>\n",
       "      <td>11098529</td>\n",
       "      <td>1105029</td>\n",
       "      <td>1661119200</td>\n",
       "      <td>0</td>\n",
       "    </tr>\n",
       "    <tr>\n",
       "      <th>2</th>\n",
       "      <td>11098530</td>\n",
       "      <td>264500</td>\n",
       "      <td>1661119200</td>\n",
       "      <td>0</td>\n",
       "    </tr>\n",
       "    <tr>\n",
       "      <th>3</th>\n",
       "      <td>11098530</td>\n",
       "      <td>264500</td>\n",
       "      <td>1661119288</td>\n",
       "      <td>0</td>\n",
       "    </tr>\n",
       "    <tr>\n",
       "      <th>4</th>\n",
       "      <td>11098530</td>\n",
       "      <td>409236</td>\n",
       "      <td>1661119369</td>\n",
       "      <td>0</td>\n",
       "    </tr>\n",
       "  </tbody>\n",
       "</table>\n",
       "</div>"
      ],
      "text/plain": [
       "    session      aid          ts  type\n",
       "0  11098528    11830  1661119200     0\n",
       "1  11098529  1105029  1661119200     0\n",
       "2  11098530   264500  1661119200     0\n",
       "3  11098530   264500  1661119288     0\n",
       "4  11098530   409236  1661119369     0"
      ]
     },
     "execution_count": 2,
     "metadata": {},
     "output_type": "execute_result"
    }
   ],
   "source": [
    "df = cudf.read_parquet('../../data/train_data/test.parquet')\n",
    "mn = df.ts.min()\n",
    "#df['hour'] = df.ts % (60*60*24)\n",
    "#df['day'] = df.ts % (60*60*24*7)\n",
    "#df['aid2'] = df.aid\n",
    "print( df.shape )\n",
    "df.head()"
   ]
  },
  {
   "cell_type": "code",
   "execution_count": 3,
   "id": "7117fe90",
   "metadata": {},
   "outputs": [],
   "source": [
    "user_features = df.groupby('session').agg({'ts':'max'})\n",
    "user_features.columns = ['ts_max7']"
   ]
  },
  {
   "cell_type": "code",
   "execution_count": 4,
   "id": "5707d1eb",
   "metadata": {},
   "outputs": [
    {
     "data": {
      "text/html": [
       "<div>\n",
       "<style scoped>\n",
       "    .dataframe tbody tr th:only-of-type {\n",
       "        vertical-align: middle;\n",
       "    }\n",
       "\n",
       "    .dataframe tbody tr th {\n",
       "        vertical-align: top;\n",
       "    }\n",
       "\n",
       "    .dataframe thead th {\n",
       "        text-align: right;\n",
       "    }\n",
       "</style>\n",
       "<table border=\"1\" class=\"dataframe\">\n",
       "  <thead>\n",
       "    <tr style=\"text-align: right;\">\n",
       "      <th></th>\n",
       "      <th>ts_max7</th>\n",
       "    </tr>\n",
       "    <tr>\n",
       "      <th>session</th>\n",
       "      <th></th>\n",
       "    </tr>\n",
       "  </thead>\n",
       "  <tbody>\n",
       "    <tr>\n",
       "      <th>12150265</th>\n",
       "      <td>1661636717</td>\n",
       "    </tr>\n",
       "    <tr>\n",
       "      <th>12720718</th>\n",
       "      <td>1661685970</td>\n",
       "    </tr>\n",
       "    <tr>\n",
       "      <th>12829669</th>\n",
       "      <td>1661707886</td>\n",
       "    </tr>\n",
       "    <tr>\n",
       "      <th>11939634</th>\n",
       "      <td>1661588668</td>\n",
       "    </tr>\n",
       "    <tr>\n",
       "      <th>11959102</th>\n",
       "      <td>1661415946</td>\n",
       "    </tr>\n",
       "  </tbody>\n",
       "</table>\n",
       "</div>"
      ],
      "text/plain": [
       "             ts_max7\n",
       "session             \n",
       "12150265  1661636717\n",
       "12720718  1661685970\n",
       "12829669  1661707886\n",
       "11939634  1661588668\n",
       "11959102  1661415946"
      ]
     },
     "execution_count": 4,
     "metadata": {},
     "output_type": "execute_result"
    }
   ],
   "source": [
    "user_features.head()"
   ]
  },
  {
   "cell_type": "code",
   "execution_count": 5,
   "id": "e7818f39",
   "metadata": {},
   "outputs": [],
   "source": [
    "user_features2 = df.groupby('session').agg({'ts':'min'})\n",
    "user_features2.columns = ['ts_min7']"
   ]
  },
  {
   "cell_type": "code",
   "execution_count": 6,
   "id": "cf254791",
   "metadata": {},
   "outputs": [
    {
     "data": {
      "text/html": [
       "<div>\n",
       "<style scoped>\n",
       "    .dataframe tbody tr th:only-of-type {\n",
       "        vertical-align: middle;\n",
       "    }\n",
       "\n",
       "    .dataframe tbody tr th {\n",
       "        vertical-align: top;\n",
       "    }\n",
       "\n",
       "    .dataframe thead th {\n",
       "        text-align: right;\n",
       "    }\n",
       "</style>\n",
       "<table border=\"1\" class=\"dataframe\">\n",
       "  <thead>\n",
       "    <tr style=\"text-align: right;\">\n",
       "      <th></th>\n",
       "      <th>ts_min7</th>\n",
       "    </tr>\n",
       "    <tr>\n",
       "      <th>session</th>\n",
       "      <th></th>\n",
       "    </tr>\n",
       "  </thead>\n",
       "  <tbody>\n",
       "    <tr>\n",
       "      <th>12150265</th>\n",
       "      <td>1661461408</td>\n",
       "    </tr>\n",
       "    <tr>\n",
       "      <th>12720718</th>\n",
       "      <td>1661685970</td>\n",
       "    </tr>\n",
       "    <tr>\n",
       "      <th>12829669</th>\n",
       "      <td>1661707886</td>\n",
       "    </tr>\n",
       "    <tr>\n",
       "      <th>11939634</th>\n",
       "      <td>1661404870</td>\n",
       "    </tr>\n",
       "    <tr>\n",
       "      <th>11959102</th>\n",
       "      <td>1661412885</td>\n",
       "    </tr>\n",
       "  </tbody>\n",
       "</table>\n",
       "</div>"
      ],
      "text/plain": [
       "             ts_min7\n",
       "session             \n",
       "12150265  1661461408\n",
       "12720718  1661685970\n",
       "12829669  1661707886\n",
       "11939634  1661404870\n",
       "11959102  1661412885"
      ]
     },
     "execution_count": 6,
     "metadata": {},
     "output_type": "execute_result"
    }
   ],
   "source": [
    "user_features2.head()"
   ]
  },
  {
   "cell_type": "code",
   "execution_count": 7,
   "id": "5c826403",
   "metadata": {},
   "outputs": [],
   "source": [
    "user_features = cudf.concat([user_features,user_features2],axis=1)"
   ]
  },
  {
   "cell_type": "code",
   "execution_count": null,
   "id": "0a0aa2b8",
   "metadata": {},
   "outputs": [],
   "source": []
  },
  {
   "cell_type": "code",
   "execution_count": 8,
   "id": "4218e2fb",
   "metadata": {},
   "outputs": [],
   "source": [
    "user_features['ts_diff7'] = user_features.ts_max7 - user_features.ts_min7"
   ]
  },
  {
   "cell_type": "code",
   "execution_count": 9,
   "id": "39c905a0",
   "metadata": {},
   "outputs": [],
   "source": [
    "for c in ['ts_max7','ts_min7']:\n",
    "    user_features[c] -= mn"
   ]
  },
  {
   "cell_type": "code",
   "execution_count": 10,
   "id": "d44f7068",
   "metadata": {},
   "outputs": [
    {
     "data": {
      "text/html": [
       "<div>\n",
       "<style scoped>\n",
       "    .dataframe tbody tr th:only-of-type {\n",
       "        vertical-align: middle;\n",
       "    }\n",
       "\n",
       "    .dataframe tbody tr th {\n",
       "        vertical-align: top;\n",
       "    }\n",
       "\n",
       "    .dataframe thead th {\n",
       "        text-align: right;\n",
       "    }\n",
       "</style>\n",
       "<table border=\"1\" class=\"dataframe\">\n",
       "  <thead>\n",
       "    <tr style=\"text-align: right;\">\n",
       "      <th></th>\n",
       "      <th>ts_max7</th>\n",
       "      <th>ts_min7</th>\n",
       "      <th>ts_diff7</th>\n",
       "    </tr>\n",
       "    <tr>\n",
       "      <th>session</th>\n",
       "      <th></th>\n",
       "      <th></th>\n",
       "      <th></th>\n",
       "    </tr>\n",
       "  </thead>\n",
       "  <tbody>\n",
       "    <tr>\n",
       "      <th>11098528</th>\n",
       "      <td>0</td>\n",
       "      <td>0</td>\n",
       "      <td>0</td>\n",
       "    </tr>\n",
       "    <tr>\n",
       "      <th>11098529</th>\n",
       "      <td>0</td>\n",
       "      <td>0</td>\n",
       "      <td>0</td>\n",
       "    </tr>\n",
       "    <tr>\n",
       "      <th>11098530</th>\n",
       "      <td>1332</td>\n",
       "      <td>0</td>\n",
       "      <td>1332</td>\n",
       "    </tr>\n",
       "    <tr>\n",
       "      <th>11098531</th>\n",
       "      <td>546</td>\n",
       "      <td>0</td>\n",
       "      <td>546</td>\n",
       "    </tr>\n",
       "    <tr>\n",
       "      <th>11098532</th>\n",
       "      <td>796</td>\n",
       "      <td>1</td>\n",
       "      <td>795</td>\n",
       "    </tr>\n",
       "  </tbody>\n",
       "</table>\n",
       "</div>"
      ],
      "text/plain": [
       "          ts_max7  ts_min7  ts_diff7\n",
       "session                             \n",
       "11098528        0        0         0\n",
       "11098529        0        0         0\n",
       "11098530     1332        0      1332\n",
       "11098531      546        0       546\n",
       "11098532      796        1       795"
      ]
     },
     "execution_count": 10,
     "metadata": {},
     "output_type": "execute_result"
    }
   ],
   "source": [
    "user_features.head()"
   ]
  },
  {
   "cell_type": "code",
   "execution_count": 11,
   "id": "7ab70d81",
   "metadata": {},
   "outputs": [],
   "source": [
    "user_features = user_features.astype('int32')"
   ]
  },
  {
   "cell_type": "code",
   "execution_count": 12,
   "id": "5b70464e",
   "metadata": {},
   "outputs": [],
   "source": [
    "user_features.to_parquet('../../data/item_user_features/user7.pqt')"
   ]
  }
 ],
 "metadata": {
  "kernelspec": {
   "display_name": "Python 3 (ipykernel)",
   "language": "python",
   "name": "python3"
  },
  "language_info": {
   "codemirror_mode": {
    "name": "ipython",
    "version": 3
   },
   "file_extension": ".py",
   "mimetype": "text/x-python",
   "name": "python",
   "nbconvert_exporter": "python",
   "pygments_lexer": "ipython3",
   "version": "3.8.13"
  }
 },
 "nbformat": 4,
 "nbformat_minor": 5
}
