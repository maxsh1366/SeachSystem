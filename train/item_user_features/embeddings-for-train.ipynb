{
 "cells": [
  {
   "cell_type": "markdown",
   "id": "9a0a8828",
   "metadata": {
    "papermill": {
     "duration": 0.003684,
     "end_time": "2023-02-12T17:48:45.179856",
     "exception": false,
     "start_time": "2023-02-12T17:48:45.176172",
     "status": "completed"
    },
    "tags": []
   },
   "source": [
    "# Extract Matrix Factorization Embeddings for Train\n",
    "\n",
    "The code for this notebook's item matrix factorization comes from CPMP's notebook [here][1] and Radek's notebook [here][2]. \n",
    "\n",
    "[1]: https://www.kaggle.com/code/cpmpml/matrix-factorization-with-gpu\n",
    "[2]: https://www.kaggle.com/code/radek1/matrix-factorization-pytorch-merlin-dataloader"
   ]
  },
  {
   "cell_type": "markdown",
   "id": "6e43f891",
   "metadata": {
    "papermill": {
     "duration": 0.002221,
     "end_time": "2023-02-12T17:48:45.184737",
     "exception": false,
     "start_time": "2023-02-12T17:48:45.182516",
     "status": "completed"
    },
    "tags": []
   },
   "source": [
    "# Data Preprocessing\n",
    "We will load and process data with RAPIDS cuDF"
   ]
  },
  {
   "cell_type": "code",
   "execution_count": 1,
   "id": "84e9d63e",
   "metadata": {
    "_kg_hide-input": false,
    "execution": {
     "iopub.execute_input": "2023-02-12T17:48:45.192048Z",
     "iopub.status.busy": "2023-02-12T17:48:45.191518Z",
     "iopub.status.idle": "2023-02-12T17:49:11.656321Z",
     "shell.execute_reply": "2023-02-12T17:49:11.654270Z"
    },
    "papermill": {
     "duration": 26.471304,
     "end_time": "2023-02-12T17:49:11.658665",
     "exception": false,
     "start_time": "2023-02-12T17:48:45.187361",
     "status": "completed"
    },
    "tags": []
   },
   "outputs": [
    {
     "name": "stdout",
     "output_type": "stream",
     "text": [
      "RAPIDS cuDF version 21.10.01\n",
      "Cardinality of items is 1855602\n"
     ]
    }
   ],
   "source": [
    "import cudf\n",
    "print('RAPIDS cuDF version',cudf.__version__)\n",
    "\n",
    "train = cudf.read_parquet('../../data/train_data/train.parquet')\n",
    "train = train.sort_values(['session','ts'])\n",
    "\n",
    "test = cudf.read_parquet('../../data/train_data/test.parquet')\n",
    "test = test.sort_values(['session','ts'])\n",
    "\n",
    "train_pairs = cudf.concat([train, test],axis=0,ignore_index=True)[['session', 'aid']]\n",
    "del train, test\n",
    "\n",
    "train_pairs['aid_next'] = train_pairs.groupby('session').aid.shift(-1)\n",
    "train_pairs = train_pairs[['aid', 'aid_next']].dropna().reset_index(drop=True)\n",
    "\n",
    "cardinality_aids = 1855602 \n",
    "print('Cardinality of items is',cardinality_aids)"
   ]
  },
  {
   "cell_type": "markdown",
   "id": "40848fcc",
   "metadata": {
    "papermill": {
     "duration": 0.002459,
     "end_time": "2023-02-12T17:49:11.664313",
     "exception": false,
     "start_time": "2023-02-12T17:49:11.661854",
     "status": "completed"
    },
    "tags": []
   },
   "source": [
    "# Install Merlin Dataloader!\n",
    "We will feed our PyTorch model with Merlin dataloader!"
   ]
  },
  {
   "cell_type": "code",
   "execution_count": 2,
   "id": "0b0711d8",
   "metadata": {
    "_kg_hide-input": false,
    "_kg_hide-output": true,
    "collapsed": true,
    "execution": {
     "iopub.execute_input": "2023-02-12T17:49:11.671347Z",
     "iopub.status.busy": "2023-02-12T17:49:11.670496Z",
     "iopub.status.idle": "2023-02-12T17:50:57.833653Z",
     "shell.execute_reply": "2023-02-12T17:50:57.832597Z"
    },
    "jupyter": {
     "outputs_hidden": true
    },
    "papermill": {
     "duration": 106.169515,
     "end_time": "2023-02-12T17:50:57.836376",
     "exception": false,
     "start_time": "2023-02-12T17:49:11.666861",
     "status": "completed"
    },
    "tags": []
   },
   "outputs": [
    {
     "name": "stdout",
     "output_type": "stream",
     "text": [
      "Collecting merlin-dataloader==0.0.2\r\n",
      "  Downloading merlin-dataloader-0.0.2.tar.gz (44 kB)\r\n",
      "\u001b[2K     \u001b[90m━━━━━━━━━━━━━━━━━━━━━━━━━━━━━━━━━━━━━━━\u001b[0m \u001b[32m44.1/44.1 kB\u001b[0m \u001b[31m562.9 kB/s\u001b[0m eta \u001b[36m0:00:00\u001b[0m\r\n",
      "\u001b[?25h  Installing build dependencies ... \u001b[?25l-\b \b\\\b \b|\b \b/\b \b-\b \b\\\b \bdone\r\n",
      "\u001b[?25h  Getting requirements to build wheel ... \u001b[?25l-\b \bdone\r\n",
      "\u001b[?25h  Preparing metadata (pyproject.toml) ... \u001b[?25l-\b \bdone\r\n",
      "\u001b[?25hCollecting merlin-core\r\n",
      "  Downloading merlin-core-0.7.0.tar.gz (108 kB)\r\n",
      "\u001b[2K     \u001b[90m━━━━━━━━━━━━━━━━━━━━━━━━━━━━━━━━━━━━━━━\u001b[0m \u001b[32m108.0/108.0 kB\u001b[0m \u001b[31m1.3 MB/s\u001b[0m eta \u001b[36m0:00:00\u001b[0m\r\n",
      "\u001b[?25h  Installing build dependencies ... \u001b[?25l-\b \b\\\b \b|\b \b/\b \bdone\r\n",
      "\u001b[?25h  Getting requirements to build wheel ... \u001b[?25l-\b \bdone\r\n",
      "\u001b[?25h  Preparing metadata (pyproject.toml) ... \u001b[?25l-\b \bdone\r\n",
      "\u001b[?25h  Downloading merlin-core-0.6.0.tar.gz (108 kB)\r\n",
      "\u001b[2K     \u001b[90m━━━━━━━━━━━━━━━━━━━━━━━━━━━━━━━━━━━━━━━\u001b[0m \u001b[32m108.0/108.0 kB\u001b[0m \u001b[31m4.5 MB/s\u001b[0m eta \u001b[36m0:00:00\u001b[0m\r\n",
      "\u001b[?25h  Installing build dependencies ... \u001b[?25l-\b \b\\\b \b|\b \bdone\r\n",
      "\u001b[?25h  Getting requirements to build wheel ... \u001b[?25l-\b \bdone\r\n",
      "\u001b[?25h  Preparing metadata (pyproject.toml) ... \u001b[?25l-\b \bdone\r\n",
      "\u001b[?25h  Downloading merlin-core-0.5.0.tar.gz (104 kB)\r\n",
      "\u001b[2K     \u001b[90m━━━━━━━━━━━━━━━━━━━━━━━━━━━━━━━━━━━━━━━\u001b[0m \u001b[32m104.7/104.7 kB\u001b[0m \u001b[31m5.5 MB/s\u001b[0m eta \u001b[36m0:00:00\u001b[0m\r\n",
      "\u001b[?25h  Installing build dependencies ... \u001b[?25l-\b \b\\\b \b|\b \bdone\r\n",
      "\u001b[?25h  Getting requirements to build wheel ... \u001b[?25l-\b \bdone\r\n",
      "\u001b[?25h  Preparing metadata (pyproject.toml) ... \u001b[?25l-\b \bdone\r\n",
      "\u001b[?25hRequirement already satisfied: pandas<1.4.0dev0,>=1.2.0 in /opt/conda/lib/python3.7/site-packages (from merlin-core->merlin-dataloader==0.0.2) (1.3.5)\r\n",
      "Requirement already satisfied: numba>=0.54 in /opt/conda/lib/python3.7/site-packages (from merlin-core->merlin-dataloader==0.0.2) (0.55.2)\r\n",
      "Collecting betterproto<2.0.0\r\n",
      "  Downloading betterproto-1.2.5.tar.gz (26 kB)\r\n",
      "  Installing build dependencies ... \u001b[?25l-\b \b\\\b \b|\b \bdone\r\n",
      "\u001b[?25h  Getting requirements to build wheel ... \u001b[?25l-\b \bdone\r\n",
      "\u001b[?25h  Preparing metadata (pyproject.toml) ... \u001b[?25l-\b \bdone\r\n",
      "\u001b[?25hRequirement already satisfied: dask>=2021.11.2 in /opt/conda/lib/python3.7/site-packages (from merlin-core->merlin-dataloader==0.0.2) (2022.2.0)\r\n",
      "Requirement already satisfied: pyarrow>=5.0.0 in /opt/conda/lib/python3.7/site-packages (from merlin-core->merlin-dataloader==0.0.2) (5.0.0)\r\n",
      "Requirement already satisfied: protobuf>=3.0.0 in /opt/conda/lib/python3.7/site-packages (from merlin-core->merlin-dataloader==0.0.2) (3.19.4)\r\n",
      "Requirement already satisfied: tqdm>=4.0 in /opt/conda/lib/python3.7/site-packages (from merlin-core->merlin-dataloader==0.0.2) (4.64.0)\r\n",
      "Requirement already satisfied: tensorflow-metadata>=1.2.0 in /opt/conda/lib/python3.7/site-packages (from merlin-core->merlin-dataloader==0.0.2) (1.9.0)\r\n",
      "Requirement already satisfied: distributed>=2021.11.2 in /opt/conda/lib/python3.7/site-packages (from merlin-core->merlin-dataloader==0.0.2) (2022.2.0)\r\n",
      "Requirement already satisfied: packaging in /opt/conda/lib/python3.7/site-packages (from merlin-core->merlin-dataloader==0.0.2) (21.3)\r\n",
      "Collecting grpclib\r\n",
      "  Downloading grpclib-0.4.3.tar.gz (62 kB)\r\n",
      "\u001b[2K     \u001b[90m━━━━━━━━━━━━━━━━━━━━━━━━━━━━━━━━━━━━━━━━\u001b[0m \u001b[32m62.1/62.1 kB\u001b[0m \u001b[31m5.1 MB/s\u001b[0m eta \u001b[36m0:00:00\u001b[0m\r\n",
      "\u001b[?25h  Installing build dependencies ... \u001b[?25l-\b \b\\\b \b|\b \bdone\r\n",
      "\u001b[?25h  Getting requirements to build wheel ... \u001b[?25l-\b \bdone\r\n",
      "\u001b[?25h  Preparing metadata (pyproject.toml) ... \u001b[?25l-\b \bdone\r\n",
      "\u001b[?25hCollecting stringcase\r\n",
      "  Downloading stringcase-1.2.0.tar.gz (3.0 kB)\r\n",
      "  Preparing metadata (setup.py) ... \u001b[?25l-\b \bdone\r\n",
      "\u001b[?25hRequirement already satisfied: fsspec>=0.6.0 in /opt/conda/lib/python3.7/site-packages (from dask>=2021.11.2->merlin-core->merlin-dataloader==0.0.2) (2022.8.2)\r\n",
      "Requirement already satisfied: pyyaml>=5.3.1 in /opt/conda/lib/python3.7/site-packages (from dask>=2021.11.2->merlin-core->merlin-dataloader==0.0.2) (6.0)\r\n",
      "Requirement already satisfied: partd>=0.3.10 in /opt/conda/lib/python3.7/site-packages (from dask>=2021.11.2->merlin-core->merlin-dataloader==0.0.2) (1.3.0)\r\n",
      "Requirement already satisfied: toolz>=0.8.2 in /opt/conda/lib/python3.7/site-packages (from dask>=2021.11.2->merlin-core->merlin-dataloader==0.0.2) (0.11.2)\r\n",
      "Requirement already satisfied: cloudpickle>=1.1.1 in /opt/conda/lib/python3.7/site-packages (from dask>=2021.11.2->merlin-core->merlin-dataloader==0.0.2) (2.1.0)\r\n",
      "Requirement already satisfied: tblib>=1.6.0 in /opt/conda/lib/python3.7/site-packages (from distributed>=2021.11.2->merlin-core->merlin-dataloader==0.0.2) (1.7.0)\r\n",
      "Requirement already satisfied: zict>=0.1.3 in /opt/conda/lib/python3.7/site-packages (from distributed>=2021.11.2->merlin-core->merlin-dataloader==0.0.2) (2.2.0)\r\n",
      "Requirement already satisfied: jinja2 in /opt/conda/lib/python3.7/site-packages (from distributed>=2021.11.2->merlin-core->merlin-dataloader==0.0.2) (3.1.2)\r\n",
      "Requirement already satisfied: setuptools in /opt/conda/lib/python3.7/site-packages (from distributed>=2021.11.2->merlin-core->merlin-dataloader==0.0.2) (59.8.0)\r\n",
      "Requirement already satisfied: sortedcontainers!=2.0.0,!=2.0.1 in /opt/conda/lib/python3.7/site-packages (from distributed>=2021.11.2->merlin-core->merlin-dataloader==0.0.2) (2.4.0)\r\n",
      "Requirement already satisfied: tornado>=5 in /opt/conda/lib/python3.7/site-packages (from distributed>=2021.11.2->merlin-core->merlin-dataloader==0.0.2) (6.1)\r\n",
      "Requirement already satisfied: psutil>=5.0 in /opt/conda/lib/python3.7/site-packages (from distributed>=2021.11.2->merlin-core->merlin-dataloader==0.0.2) (5.9.1)\r\n",
      "Requirement already satisfied: click>=6.6 in /opt/conda/lib/python3.7/site-packages (from distributed>=2021.11.2->merlin-core->merlin-dataloader==0.0.2) (8.0.4)\r\n",
      "Requirement already satisfied: msgpack>=0.6.0 in /opt/conda/lib/python3.7/site-packages (from distributed>=2021.11.2->merlin-core->merlin-dataloader==0.0.2) (1.0.4)\r\n",
      "Requirement already satisfied: numpy<1.23,>=1.18 in /opt/conda/lib/python3.7/site-packages (from numba>=0.54->merlin-core->merlin-dataloader==0.0.2) (1.21.6)\r\n",
      "Requirement already satisfied: llvmlite<0.39,>=0.38.0rc1 in /opt/conda/lib/python3.7/site-packages (from numba>=0.54->merlin-core->merlin-dataloader==0.0.2) (0.38.1)\r\n",
      "Requirement already satisfied: pyparsing!=3.0.5,>=2.0.2 in /opt/conda/lib/python3.7/site-packages (from packaging->merlin-core->merlin-dataloader==0.0.2) (3.0.9)\r\n",
      "Requirement already satisfied: python-dateutil>=2.7.3 in /opt/conda/lib/python3.7/site-packages (from pandas<1.4.0dev0,>=1.2.0->merlin-core->merlin-dataloader==0.0.2) (2.8.2)\r\n",
      "Requirement already satisfied: pytz>=2017.3 in /opt/conda/lib/python3.7/site-packages (from pandas<1.4.0dev0,>=1.2.0->merlin-core->merlin-dataloader==0.0.2) (2022.1)\r\n",
      "Requirement already satisfied: googleapis-common-protos<2,>=1.52.0 in /opt/conda/lib/python3.7/site-packages (from tensorflow-metadata>=1.2.0->merlin-core->merlin-dataloader==0.0.2) (1.56.3)\r\n",
      "Requirement already satisfied: absl-py<2.0.0,>=0.9 in /opt/conda/lib/python3.7/site-packages (from tensorflow-metadata>=1.2.0->merlin-core->merlin-dataloader==0.0.2) (0.15.0)\r\n",
      "Requirement already satisfied: six in /opt/conda/lib/python3.7/site-packages (from absl-py<2.0.0,>=0.9->tensorflow-metadata>=1.2.0->merlin-core->merlin-dataloader==0.0.2) (1.15.0)\r\n",
      "Requirement already satisfied: importlib-metadata in /opt/conda/lib/python3.7/site-packages (from click>=6.6->distributed>=2021.11.2->merlin-core->merlin-dataloader==0.0.2) (4.13.0)\r\n",
      "Requirement already satisfied: locket in /opt/conda/lib/python3.7/site-packages (from partd>=0.3.10->dask>=2021.11.2->merlin-core->merlin-dataloader==0.0.2) (1.0.0)\r\n",
      "Requirement already satisfied: heapdict in /opt/conda/lib/python3.7/site-packages (from zict>=0.1.3->distributed>=2021.11.2->merlin-core->merlin-dataloader==0.0.2) (1.0.1)\r\n",
      "Requirement already satisfied: multidict in /opt/conda/lib/python3.7/site-packages (from grpclib->betterproto<2.0.0->merlin-core->merlin-dataloader==0.0.2) (6.0.2)\r\n",
      "Collecting h2<5,>=3.1.0\r\n",
      "  Downloading h2-4.1.0-py3-none-any.whl (57 kB)\r\n",
      "\u001b[2K     \u001b[90m━━━━━━━━━━━━━━━━━━━━━━━━━━━━━━━━━━━━━━━━\u001b[0m \u001b[32m57.5/57.5 kB\u001b[0m \u001b[31m4.2 MB/s\u001b[0m eta \u001b[36m0:00:00\u001b[0m\r\n",
      "\u001b[?25hRequirement already satisfied: MarkupSafe>=2.0 in /opt/conda/lib/python3.7/site-packages (from jinja2->distributed>=2021.11.2->merlin-core->merlin-dataloader==0.0.2) (2.1.1)\r\n",
      "Collecting hpack<5,>=4.0\r\n",
      "  Downloading hpack-4.0.0-py3-none-any.whl (32 kB)\r\n",
      "Collecting hyperframe<7,>=6.0\r\n",
      "  Downloading hyperframe-6.0.1-py3-none-any.whl (12 kB)\r\n",
      "Requirement already satisfied: typing-extensions>=3.6.4 in /opt/conda/lib/python3.7/site-packages (from importlib-metadata->click>=6.6->distributed>=2021.11.2->merlin-core->merlin-dataloader==0.0.2) (4.1.1)\r\n",
      "Requirement already satisfied: zipp>=0.5 in /opt/conda/lib/python3.7/site-packages (from importlib-metadata->click>=6.6->distributed>=2021.11.2->merlin-core->merlin-dataloader==0.0.2) (3.8.0)\r\n",
      "Building wheels for collected packages: merlin-dataloader, merlin-core, betterproto, grpclib, stringcase\r\n",
      "  Building wheel for merlin-dataloader (pyproject.toml) ... \u001b[?25l-\b \bdone\r\n",
      "\u001b[?25h  Created wheel for merlin-dataloader: filename=merlin_dataloader-0.0.2-py3-none-any.whl size=29203 sha256=c04f07479683086749e4fa3f6c04f70c9b3519d436867b3c1f52889024799af0\r\n",
      "  Stored in directory: /root/.cache/pip/wheels/30/f3/00/80ac2c82293a7443be28f1bcf682cddfd7fdbcd6e105b3a3ab\r\n",
      "  Building wheel for merlin-core (pyproject.toml) ... \u001b[?25l-\b \bdone\r\n",
      "\u001b[?25h  Created wheel for merlin-core: filename=merlin_core-0.5.0-py3-none-any.whl size=109354 sha256=5b3e75fd5e959c4720a5f440bf5f5a6eea2c1a21dbaa7ff91862d3aa9d69283a\r\n",
      "  Stored in directory: /root/.cache/pip/wheels/3d/19/62/598b031339ba3b38a0255bb275c8f8ee2a4917407416970837\r\n",
      "  Building wheel for betterproto (pyproject.toml) ... \u001b[?25l-\b \bdone\r\n",
      "\u001b[?25h  Created wheel for betterproto: filename=betterproto-1.2.5-py3-none-any.whl size=21998 sha256=ed7b482f1c18e5a2cc59673dfac409b6d48728fb3ff82155ba5ddffb5a6a2a64\r\n",
      "  Stored in directory: /root/.cache/pip/wheels/d5/d7/46/97b7ec73d54fb8fc70775837af159e34b4965eda3481c7e659\r\n",
      "  Building wheel for grpclib (pyproject.toml) ... \u001b[?25l-\b \b\\\b \bdone\r\n",
      "\u001b[?25h  Created wheel for grpclib: filename=grpclib-0.4.3-py3-none-any.whl size=77063 sha256=7b129de0d73f5e3cb5f05f1e4e4d7b09d664116c2f3f67941c97b5f87a2b5bd8\r\n",
      "  Stored in directory: /root/.cache/pip/wheels/93/53/7d/0c5c8970895a99d2211c22d751756e69f1ec8383651838b199\r\n",
      "  Building wheel for stringcase (setup.py) ... \u001b[?25l-\b \b\\\b \bdone\r\n",
      "\u001b[?25h  Created wheel for stringcase: filename=stringcase-1.2.0-py3-none-any.whl size=3587 sha256=6c498e9147c0ff0b2280e2bfbd05da3de73f9b0950e99d4646800d9b4e680f3a\r\n",
      "  Stored in directory: /root/.cache/pip/wheels/86/ab/a3/a8fa7e0a07e80f547e03468c03827f8257f7339327986faed1\r\n",
      "Successfully built merlin-dataloader merlin-core betterproto grpclib stringcase\r\n",
      "Installing collected packages: stringcase, hyperframe, hpack, h2, grpclib, betterproto, merlin-core, merlin-dataloader\r\n",
      "Successfully installed betterproto-1.2.5 grpclib-0.4.3 h2-4.1.0 hpack-4.0.0 hyperframe-6.0.1 merlin-core-0.5.0 merlin-dataloader-0.0.2 stringcase-1.2.0\r\n",
      "\u001b[33mWARNING: Running pip as the 'root' user can result in broken permissions and conflicting behaviour with the system package manager. It is recommended to use a virtual environment instead: https://pip.pypa.io/warnings/venv\u001b[0m\u001b[33m\r\n",
      "\u001b[0m"
     ]
    }
   ],
   "source": [
    "!pip install merlin-dataloader==0.0.2\n",
    "from merlin.loader.torch import Loader \n",
    "\n",
    "train_pairs.to_pandas().to_parquet('all_pairs.parquet')\n",
    "#train_pairs[:-10_000_000].to_pandas().to_parquet('train_pairs.parquet')\n",
    "#train_pairs[-10_000_000:].to_pandas().to_parquet('valid_pairs.parquet')\n",
    "\n",
    "from merlin.loader.torch import Loader \n",
    "from merlin.io import Dataset\n",
    "\n",
    "train_ds = Dataset('all_pairs.parquet')\n",
    "train_dl_merlin = Loader(train_ds, 65536, True)"
   ]
  },
  {
   "cell_type": "markdown",
   "id": "485b3e66",
   "metadata": {
    "papermill": {
     "duration": 0.038188,
     "end_time": "2023-02-12T17:50:59.430362",
     "exception": false,
     "start_time": "2023-02-12T17:50:59.392174",
     "status": "completed"
    },
    "tags": []
   },
   "source": [
    "# Learn Item Embeddings with PyTorch Matrix Factorization Model\n",
    "We will build a PyTorch model to generate item embeddings via matrix factorization."
   ]
  },
  {
   "cell_type": "code",
   "execution_count": 3,
   "id": "8a56b5a7",
   "metadata": {
    "_kg_hide-input": false,
    "execution": {
     "iopub.execute_input": "2023-02-12T17:50:59.533978Z",
     "iopub.status.busy": "2023-02-12T17:50:59.533381Z",
     "iopub.status.idle": "2023-02-12T17:50:59.715146Z",
     "shell.execute_reply": "2023-02-12T17:50:59.714145Z"
    },
    "papermill": {
     "duration": 0.246121,
     "end_time": "2023-02-12T17:50:59.718462",
     "exception": false,
     "start_time": "2023-02-12T17:50:59.472341",
     "status": "completed"
    },
    "tags": []
   },
   "outputs": [],
   "source": [
    "import torch\n",
    "from torch import nn\n",
    "\n",
    "class MatrixFactorization(nn.Module):\n",
    "    def __init__(self, n_aids, n_factors):\n",
    "        super().__init__()\n",
    "        self.aid_factors = nn.Embedding(n_aids, n_factors, sparse=True)\n",
    "        \n",
    "    def forward(self, aid1, aid2):\n",
    "        aid1 = self.aid_factors(aid1)\n",
    "        aid2 = self.aid_factors(aid2)\n",
    "        \n",
    "        return (aid1 * aid2).sum(dim=1)\n",
    "    \n",
    "class AverageMeter(object):\n",
    "    \"\"\"Computes and stores the average and current value\"\"\"\n",
    "    def __init__(self, name, fmt=':f'):\n",
    "        self.name = name\n",
    "        self.fmt = fmt\n",
    "        self.reset()\n",
    "\n",
    "    def reset(self):\n",
    "        self.val = 0\n",
    "        self.avg = 0\n",
    "        self.sum = 0\n",
    "        self.count = 0\n",
    "\n",
    "    def update(self, val, n=1):\n",
    "        self.val = val\n",
    "        self.sum += val * n\n",
    "        self.count += n\n",
    "        self.avg = self.sum / self.count\n",
    "\n",
    "    def __str__(self):\n",
    "        fmtstr = '{name} {val' + self.fmt + '} ({avg' + self.fmt + '})'\n",
    "        return fmtstr.format(**self.__dict__)\n",
    "\n",
    "valid_ds = Dataset('valid_pairs.parquet')\n",
    "valid_dl_merlin = Loader(valid_ds, 65536, True)"
   ]
  },
  {
   "cell_type": "code",
   "execution_count": 4,
   "id": "92879c0b",
   "metadata": {
    "_kg_hide-input": false,
    "execution": {
     "iopub.execute_input": "2023-02-12T17:50:59.746238Z",
     "iopub.status.busy": "2023-02-12T17:50:59.745853Z",
     "iopub.status.idle": "2023-02-12T17:57:38.498719Z",
     "shell.execute_reply": "2023-02-12T17:57:38.497671Z"
    },
    "papermill": {
     "duration": 398.777624,
     "end_time": "2023-02-12T17:57:38.509497",
     "exception": false,
     "start_time": "2023-02-12T17:50:59.731873",
     "status": "completed"
    },
    "tags": []
   },
   "outputs": [
    {
     "name": "stdout",
     "output_type": "stream",
     "text": [
      "01: * Train_Loss 0.601  * Valid_Accuracy 0.717\n",
      "02: * Train_Loss 0.597  * Valid_Accuracy 0.726\n",
      "03: * Train_Loss 0.592  * Valid_Accuracy 0.729\n",
      "04: * Train_Loss 0.590  * Valid_Accuracy 0.730\n",
      "05: * Train_Loss 0.588  * Valid_Accuracy 0.730\n",
      "06: * Train_Loss 0.589  * Valid_Accuracy 0.731\n",
      "07: * Train_Loss 0.587  * Valid_Accuracy 0.731\n",
      "08: * Train_Loss 0.587  * Valid_Accuracy 0.732\n",
      "09: * Train_Loss 0.583  * Valid_Accuracy 0.732\n",
      "10: * Train_Loss 0.585  * Valid_Accuracy 0.732\n",
      "11: * Train_Loss 0.587  * Valid_Accuracy 0.732\n",
      "12: * Train_Loss 0.584  * Valid_Accuracy 0.732\n",
      "13: * Train_Loss 0.586  * Valid_Accuracy 0.732\n",
      "14: * Train_Loss 0.587  * Valid_Accuracy 0.732\n",
      "15: * Train_Loss 0.583  * Valid_Accuracy 0.732\n",
      "16: * Train_Loss 0.585  * Valid_Accuracy 0.732\n",
      "17: * Train_Loss 0.585  * Valid_Accuracy 0.732\n",
      "18: * Train_Loss 0.585  * Valid_Accuracy 0.732\n",
      "19: * Train_Loss 0.582  * Valid_Accuracy 0.732\n",
      "20: * Train_Loss 0.583  * Valid_Accuracy 0.732\n"
     ]
    }
   ],
   "source": [
    "from torch.optim import SparseAdam\n",
    "\n",
    "num_epochs=20\n",
    "lr=0.1\n",
    "\n",
    "model = MatrixFactorization(cardinality_aids+1, 32)\n",
    "optimizer = SparseAdam(model.parameters(), lr=lr)\n",
    "criterion = nn.BCEWithLogitsLoss()\n",
    "\n",
    "model.to('cuda')\n",
    "for epoch in range(num_epochs):\n",
    "    for batch, _ in train_dl_merlin:\n",
    "        model.train()\n",
    "        losses = AverageMeter('Loss', ':.4e')\n",
    "            \n",
    "        aid1, aid2 = batch['aid'], batch['aid_next']\n",
    "        aid1 = aid1.to('cuda')\n",
    "        aid2 = aid2.to('cuda')\n",
    "        output_pos = model(aid1, aid2)\n",
    "        output_neg = model(aid1, aid2[torch.randperm(aid2.shape[0])])\n",
    "        \n",
    "        output = torch.cat([output_pos, output_neg])\n",
    "        targets = torch.cat([torch.ones_like(output_pos), torch.zeros_like(output_pos)])\n",
    "        loss = criterion(output, targets)\n",
    "        losses.update(loss.item())\n",
    "        \n",
    "        optimizer.zero_grad()\n",
    "        loss.backward()\n",
    "        optimizer.step()\n",
    "        \n",
    "    model.eval()\n",
    "    \n",
    "    with torch.no_grad():\n",
    "        accuracy = AverageMeter('accuracy')\n",
    "        for batch, _ in valid_dl_merlin:\n",
    "            aid1, aid2 = batch['aid'], batch['aid_next']\n",
    "            output_pos = model(aid1, aid2)\n",
    "            output_neg = model(aid1, aid2[torch.randperm(aid2.shape[0])])\n",
    "            accuracy_batch = torch.cat([output_pos.sigmoid() > 0.5, output_neg.sigmoid() < 0.5]).float().mean()\n",
    "            accuracy.update(accuracy_batch, aid1.shape[0])\n",
    "            \n",
    "    print(f'{epoch+1:02d}: * Train_Loss {losses.avg:.3f}  * Valid_Accuracy {accuracy.avg:.3f}')"
   ]
  },
  {
   "cell_type": "markdown",
   "id": "5e0ccc62",
   "metadata": {
    "papermill": {
     "duration": 0.008334,
     "end_time": "2023-02-12T17:57:38.526422",
     "exception": false,
     "start_time": "2023-02-12T17:57:38.518088",
     "status": "completed"
    },
    "tags": []
   },
   "source": [
    "# Extract Item Embeddings\n",
    "We extract item embeddings from our model's embedding table."
   ]
  },
  {
   "cell_type": "code",
   "execution_count": 5,
   "id": "d3ba2a2f",
   "metadata": {
    "execution": {
     "iopub.execute_input": "2023-02-12T17:57:38.544973Z",
     "iopub.status.busy": "2023-02-12T17:57:38.544657Z",
     "iopub.status.idle": "2023-02-12T17:57:39.008624Z",
     "shell.execute_reply": "2023-02-12T17:57:39.007331Z"
    },
    "papermill": {
     "duration": 0.475863,
     "end_time": "2023-02-12T17:57:39.010796",
     "exception": false,
     "start_time": "2023-02-12T17:57:38.534933",
     "status": "completed"
    },
    "tags": []
   },
   "outputs": [
    {
     "name": "stdout",
     "output_type": "stream",
     "text": [
      "Item Matrix Factorization embeddings have shape (1855603, 32)\n"
     ]
    }
   ],
   "source": [
    "# EXTRACT EMBEDDINGS FROM MODEL EMBEDDING TABLE\n",
    "import numpy as np\n",
    "embeddings = model.aid_factors.weight.detach().cpu().numpy().astype('float32')\n",
    "np.save('../../data/item_user_features/item_embed_32',embeddings)\n",
    "print('Item Matrix Factorization embeddings have shape',embeddings.shape)"
   ]
  }
 ],
 "metadata": {
  "kernelspec": {
   "display_name": "Python 3 (ipykernel)",
   "language": "python",
   "name": "python3"
  },
  "language_info": {
   "codemirror_mode": {
    "name": "ipython",
    "version": 3
   },
   "file_extension": ".py",
   "mimetype": "text/x-python",
   "name": "python",
   "nbconvert_exporter": "python",
   "pygments_lexer": "ipython3",
   "version": "3.8.13"
  },
  "papermill": {
   "default_parameters": {},
   "duration": 543.069922,
   "end_time": "2023-02-12T17:57:40.444160",
   "environment_variables": {},
   "exception": null,
   "input_path": "__notebook__.ipynb",
   "output_path": "__notebook__.ipynb",
   "parameters": {},
   "start_time": "2023-02-12T17:48:37.374238",
   "version": "2.3.4"
  }
 },
 "nbformat": 4,
 "nbformat_minor": 5
}
