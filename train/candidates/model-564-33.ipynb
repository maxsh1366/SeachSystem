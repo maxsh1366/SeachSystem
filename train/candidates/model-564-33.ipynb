{
 "cells": [
  {
   "cell_type": "markdown",
   "id": "403d7742",
   "metadata": {
    "papermill": {
     "duration": 0.005829,
     "end_time": "2022-11-03T16:49:27.399833",
     "exception": false,
     "start_time": "2022-11-03T16:49:27.394004",
     "status": "completed"
    },
    "tags": []
   },
   "source": [
    "# OTTO: Co-visitation Matrix\n",
    "\n",
    "There exist products that are frequently viewed and bought together. Here we leverage this idea by computing a co-visitation matrix of products. It's done in the following way:\n",
    "\n",
    "1. First we look at all pairs of events within the same session that are close to each other in time (< 1 day). We compute co-visitation matrix $M_{aid1,aid2}$ by counting global number of event pairs for each pair across all sessions.\n",
    "2. For each $aid1$ we find top 20 most frequent aid2:  `aid2=argsort(M[aid])[-20:]`\n",
    "3. We produce test results by concatenating `tail(20)` of test session events (see https://www.kaggle.com/code/simamumu/old-test-data-last-20-aid-get-lb0-947) with the most likely recommendations from co-visitation matrix. These recommendations are generated from session AIDs and `aid2` from the step 2\n",
    "\n",
    "\n",
    "**Please, smash that thumbs up button and subscribe if you like this notebook!**"
   ]
  },
  {
   "cell_type": "markdown",
   "id": "a3347d85",
   "metadata": {
    "papermill": {
     "duration": 0.003667,
     "end_time": "2022-11-03T16:49:27.407651",
     "exception": false,
     "start_time": "2022-11-03T16:49:27.403984",
     "status": "completed"
    },
    "tags": []
   },
   "source": [
    "## Utils, imports"
   ]
  },
  {
   "cell_type": "code",
   "execution_count": 1,
   "id": "1983ae84",
   "metadata": {},
   "outputs": [],
   "source": [
    "VER = 564\n",
    "\n",
    "ITEM_CT = 50\n",
    "W_VER = 33"
   ]
  },
  {
   "cell_type": "code",
   "execution_count": 2,
   "id": "aa81e9ef",
   "metadata": {
    "execution": {
     "iopub.execute_input": "2022-11-03T16:49:27.417898Z",
     "iopub.status.busy": "2022-11-03T16:49:27.417269Z",
     "iopub.status.idle": "2022-11-03T16:49:27.535479Z",
     "shell.execute_reply": "2022-11-03T16:49:27.534395Z"
    },
    "papermill": {
     "duration": 0.126841,
     "end_time": "2022-11-03T16:49:27.538248",
     "exception": false,
     "start_time": "2022-11-03T16:49:27.411407",
     "status": "completed"
    },
    "tags": []
   },
   "outputs": [],
   "source": [
    "### import numpy as np\n",
    "from collections import defaultdict\n",
    "import pandas as pd\n",
    "from tqdm.notebook import tqdm\n",
    "import glob\n",
    "import numpy as np, gc\n",
    "import multiprocessing\n",
    "import os\n",
    "import pickle\n",
    "\n",
    "import glob\n",
    "from collections import Counter"
   ]
  },
  {
   "cell_type": "markdown",
   "id": "e7d8e7d0",
   "metadata": {
    "papermill": {
     "duration": 0.006685,
     "end_time": "2022-11-03T16:50:19.618761",
     "exception": false,
     "start_time": "2022-11-03T16:50:19.612076",
     "status": "completed"
    },
    "tags": []
   },
   "source": [
    "## Test set inference"
   ]
  },
  {
   "cell_type": "code",
   "execution_count": 3,
   "id": "6e71e9e1",
   "metadata": {
    "execution": {
     "iopub.execute_input": "2022-11-03T16:50:19.634447Z",
     "iopub.status.busy": "2022-11-03T16:50:19.633761Z",
     "iopub.status.idle": "2022-11-03T16:50:19.639750Z",
     "shell.execute_reply": "2022-11-03T16:50:19.638683Z"
    },
    "papermill": {
     "duration": 0.016803,
     "end_time": "2022-11-03T16:50:19.642289",
     "exception": false,
     "start_time": "2022-11-03T16:50:19.625486",
     "status": "completed"
    },
    "tags": []
   },
   "outputs": [],
   "source": [
    "def load_test():    \n",
    "    dfs = []\n",
    "    for e, chunk_file in enumerate(tqdm(glob.glob('/raid/Kaggle/otto/valid/test_parquet/*'))):\n",
    "        chunk = pd.read_parquet(chunk_file)\n",
    "        #chunk.ts *= 1000\n",
    "        dfs.append(chunk)\n",
    "\n",
    "    return pd.concat(dfs).reset_index(drop=True) #.astype({\"ts\": \"datetime64[ms]\"})"
   ]
  },
  {
   "cell_type": "code",
   "execution_count": 4,
   "id": "21022a2c",
   "metadata": {
    "execution": {
     "iopub.execute_input": "2022-11-03T16:50:19.658231Z",
     "iopub.status.busy": "2022-11-03T16:50:19.657828Z",
     "iopub.status.idle": "2022-11-03T16:50:22.997555Z",
     "shell.execute_reply": "2022-11-03T16:50:22.996707Z"
    },
    "papermill": {
     "duration": 3.350315,
     "end_time": "2022-11-03T16:50:22.999986",
     "exception": false,
     "start_time": "2022-11-03T16:50:19.649671",
     "status": "completed"
    },
    "tags": []
   },
   "outputs": [],
   "source": [
    "#test_df = load_test()\n",
    "test_df = pd.read_parquet('test_with_d.parquet')"
   ]
  },
  {
   "cell_type": "code",
   "execution_count": 6,
   "id": "b8d453ce",
   "metadata": {},
   "outputs": [],
   "source": [
    "#test_df.ts = (test_df.ts/1000).astype('int32')"
   ]
  },
  {
   "cell_type": "code",
   "execution_count": 7,
   "id": "415cbfba",
   "metadata": {},
   "outputs": [
    {
     "data": {
      "text/html": [
       "<div>\n",
       "<style scoped>\n",
       "    .dataframe tbody tr th:only-of-type {\n",
       "        vertical-align: middle;\n",
       "    }\n",
       "\n",
       "    .dataframe tbody tr th {\n",
       "        vertical-align: top;\n",
       "    }\n",
       "\n",
       "    .dataframe thead th {\n",
       "        text-align: right;\n",
       "    }\n",
       "</style>\n",
       "<table border=\"1\" class=\"dataframe\">\n",
       "  <thead>\n",
       "    <tr style=\"text-align: right;\">\n",
       "      <th></th>\n",
       "      <th>session</th>\n",
       "      <th>aid</th>\n",
       "      <th>ts</th>\n",
       "      <th>type</th>\n",
       "      <th>d</th>\n",
       "    </tr>\n",
       "  </thead>\n",
       "  <tbody>\n",
       "    <tr>\n",
       "      <th>0</th>\n",
       "      <td>11098528</td>\n",
       "      <td>11830</td>\n",
       "      <td>1661119200</td>\n",
       "      <td>0</td>\n",
       "      <td>0</td>\n",
       "    </tr>\n",
       "    <tr>\n",
       "      <th>1</th>\n",
       "      <td>11098529</td>\n",
       "      <td>1105029</td>\n",
       "      <td>1661119200</td>\n",
       "      <td>0</td>\n",
       "      <td>0</td>\n",
       "    </tr>\n",
       "    <tr>\n",
       "      <th>2</th>\n",
       "      <td>11098530</td>\n",
       "      <td>264500</td>\n",
       "      <td>1661119200</td>\n",
       "      <td>0</td>\n",
       "      <td>0</td>\n",
       "    </tr>\n",
       "    <tr>\n",
       "      <th>3</th>\n",
       "      <td>11098530</td>\n",
       "      <td>264500</td>\n",
       "      <td>1661119288</td>\n",
       "      <td>0</td>\n",
       "      <td>0</td>\n",
       "    </tr>\n",
       "    <tr>\n",
       "      <th>4</th>\n",
       "      <td>11098530</td>\n",
       "      <td>409236</td>\n",
       "      <td>1661119369</td>\n",
       "      <td>0</td>\n",
       "      <td>0</td>\n",
       "    </tr>\n",
       "  </tbody>\n",
       "</table>\n",
       "</div>"
      ],
      "text/plain": [
       "    session      aid          ts  type  d\n",
       "0  11098528    11830  1661119200     0  0\n",
       "1  11098529  1105029  1661119200     0  0\n",
       "2  11098530   264500  1661119200     0  0\n",
       "3  11098530   264500  1661119288     0  0\n",
       "4  11098530   409236  1661119369     0  0"
      ]
     },
     "execution_count": 7,
     "metadata": {},
     "output_type": "execute_result"
    }
   ],
   "source": [
    "test_df.head()"
   ]
  },
  {
   "cell_type": "code",
   "execution_count": null,
   "id": "5e43e3d1",
   "metadata": {},
   "outputs": [],
   "source": []
  },
  {
   "cell_type": "code",
   "execution_count": 8,
   "id": "7c308b08",
   "metadata": {},
   "outputs": [],
   "source": [
    "# COMPUTED FROM TEST DATA\n",
    "top_orders = [ 876493, 1406660, 1236775,  166037, 1460571, 1531805,  836852,\n",
    "        634452,  923948, 1043508,  832192,  801774,  258353,  332654,\n",
    "       1596897,   29735,  544144, 1581568, 1006198, 1462420,  331708,\n",
    "        231487,  642804,  986164, 1116095,  329725, 1022566, 1604220,\n",
    "       1733943,  289406,  631899,  162064,  122983,  247240, 1436280,\n",
    "        954951, 1445562,  373490, 1568011,  172856,  756588,  184976,\n",
    "       1534690,  508883, 1310373,  530377, 1457846, 1196256,  321547,\n",
    "        982423,  892871, 1441266, 1294924, 1685214, 1609228,  576949,\n",
    "        714524,   56279, 1102089,  314210, 1125638, 1768724, 1734305,\n",
    "        898836, 1188425,  145332,  688602,  527209, 1647157,   42628,\n",
    "       1628069, 1722991,  409620,  102416, 1476166, 1734475, 1182614,\n",
    "        926412,  988767,  137514,  500609,  479970,  165160,  443425,\n",
    "        302096, 1257293,  823143,  856779, 1030009,  304807, 1164832,\n",
    "         78262, 1025795, 1133209,  881286, 1620020,  742601,  108125,\n",
    "        558573, 1107897]\n",
    "top_carts = [ 485256,   33343,  613493,  152547,  876493, 1406660, 1736857,\n",
    "        166037, 1460571, 1236775,  554660,  660655, 1531805, 1022566,\n",
    "        231487,  122983, 1562705,  923948,  332654,  544144,  832192,\n",
    "        634452,  322370,  836852,   29735, 1006198, 1043508,  801774,\n",
    "       1462420,  258353,  530377,  558573, 1116095,  756588,  986164,\n",
    "        329725, 1568011, 1581568, 1025795, 1445562,   42628, 1733943,\n",
    "        642804, 1604220,  184976,  892871,  162064,  501077, 1182614,\n",
    "       1647157,  331708, 1310373, 1534690, 1111967, 1476166, 1257293,\n",
    "         19665, 1768724,  108125, 1502122,  172856,  982423, 1734475,\n",
    "        409620, 1586171, 1685214, 1662401,  881286, 1164832,  373490,\n",
    "        637827, 1125638, 1702657, 1281615,  714524,  500609,  508883,\n",
    "         78262, 1359971, 1102089, 1734305, 1628069, 1436280, 1596897,\n",
    "        631899, 1030009, 1497089,  988767,  670066,  289406,  450505,\n",
    "       1196256,  247240,   16151, 1497245, 1689044,  479970, 1609228,\n",
    "       1853288, 1636724]\n",
    "top_clicks = [ 485256, 1460571,  108125, 1551213,   33343,  613493,  876493,\n",
    "        152547,  184976, 1236775, 1406660,  836852,  331708, 1531805,\n",
    "         29735,  554660,  634452,  986164,  959208,  832192,  332654,\n",
    "        620545, 1645990,  166037,  102345, 1116095,  811371,  322370,\n",
    "       1733943, 1043508, 1019736,  756588,  801774,  231487,  861401,\n",
    "       1502122, 1030009,  329725, 1624436, 1022566, 1006198,  496180,\n",
    "       1685214, 1853288,  530377,  659399, 1604220, 1102089, 1586171,\n",
    "       1497089,  754412, 1765072, 1109824, 1264313,  881286, 1294924,\n",
    "        199409, 1581568,  385065,  195381,  558573, 1196256, 1782099,\n",
    "        612920,  435253,  923948,  508883, 1126038, 1647563, 1508062,\n",
    "       1182614,  544144,  247240,  982423,   57315, 1628069,  674590,\n",
    "       1798916,  892871,  909449,  337471,  721034, 1734305,   95488,\n",
    "       1722991, 1754984,  819288, 1462420,  836707, 1796103,   42628,\n",
    "        642804,  122983,  321547, 1278671,  714524, 1603001,  409620,\n",
    "        636101, 1702657]"
   ]
  },
  {
   "cell_type": "code",
   "execution_count": 9,
   "id": "3dbbd7d2",
   "metadata": {},
   "outputs": [
    {
     "name": "stdout",
     "output_type": "stream",
     "text": [
      "Reading top20 AIDs from cache\n"
     ]
    }
   ],
   "source": [
    "print('Reading top20 AIDs from cache')\n",
    "top_20 = pickle.load(open('../../data/covisit_matrices/top_80_aids_v93.pkl', 'rb')) #time weight. All2all #added time decay\n",
    "\n",
    "top_20b = pickle.load(open('../../data/covisit_matrices/top_40_aids_v217_0.pkl', 'rb')) # both ways 1 #td did not help\n",
    "top_20c = pickle.load(open('../../data/covisit_matrices/top_40_aids_v220_0.pkl', 'rb')) # both ways 2 #td did not help\n",
    "top_20d = pickle.load(open('../../data/covisit_matrices/top_40_aids_v226_0.pkl', 'rb')) # forward 3 buy #td did not help\n",
    "\n",
    "top_20e = pickle.load(open('../../data/covisit_matrices/top_40_aids_v232_0.pkl', 'rb')) # both ways 3 #added time decay\n",
    "\n",
    "top_20f = pickle.load(open('../../data/covisit_matrices/top_40_aids_v235_0.pkl', 'rb')) # both ways 6 #time decay\n",
    "top_20f.update(pickle.load(open('../../data/covisit_matrices/top_40_aids_v235_1.pkl', 'rb'))) # both ways 6 #time decay\n",
    "\n",
    "top_20_orders = pickle.load(open('../../data/covisit_matrices/top_40_orders_carts_v95.pkl', 'rb')) #added time decay\n",
    "top_20_carts = top_20_orders\n",
    "\n",
    "top_20_buy2buy = pickle.load(open('../../data/covisit_matrices/top_40_buy2buy_v90.pkl', 'rb')) #td did not help\n",
    "top_20_buy2buy2 = pickle.load(open('../../data/covisit_matrices/top_40_buy2buy_v99.pkl', 'rb')) #time decay\n",
    "\n",
    "top_20_test = pickle.load(open('../../data/covisit_matrices/top_40_aids_v116_0.pkl', 'rb')) #time decay\n",
    "for k in range(1,3): # recent 3 week time delta decay. all to buy\n",
    "    top_20_test.update( pickle.load(open(f'../../data/covisit_matrices/top_40_aids_v116_{k}.pkl', 'rb')) )\n",
    "    \n",
    "top_20_test2 = pickle.load(open('../../data/covisit_matrices/top_40_aids_v115_0.pkl', 'rb')) #time decay\n",
    "for k in range(1,3): # recent 2 week time delta decay weight\n",
    "    top_20_test2.update( pickle.load(open(f'../../data/covisit_matrices/top_40_aids_v115_{k}.pkl', 'rb')) )\n",
    "    \n",
    "top_20_buy = pickle.load(open('../../data/covisit_matrices/top_40_aids_v239_0.pkl', 'rb'))"
   ]
  },
  {
   "cell_type": "code",
   "execution_count": 13,
   "id": "6d13651e",
   "metadata": {},
   "outputs": [
    {
     "data": {
      "text/plain": [
       "(1812132, 1819763, 1072368)"
      ]
     },
     "execution_count": 13,
     "metadata": {},
     "output_type": "execute_result"
    }
   ],
   "source": [
    "len( top_20), len( top_20_orders ), len( top_20_buy2buy )"
   ]
  },
  {
   "cell_type": "code",
   "execution_count": null,
   "id": "266a7fb0",
   "metadata": {},
   "outputs": [],
   "source": []
  },
  {
   "cell_type": "code",
   "execution_count": 14,
   "id": "8a5e5bb8",
   "metadata": {},
   "outputs": [],
   "source": [
    "INCLUDE = ['top20','top20b','top20c','top20d','top20e','top20f','top20orders','top20buy2buy','top20buy2buy2',\n",
    "          'top20test','top20test2','top20buy']\n",
    "INFER = ['top20']"
   ]
  },
  {
   "cell_type": "code",
   "execution_count": 15,
   "id": "b5c27d8c",
   "metadata": {
    "execution": {
     "iopub.execute_input": "2022-11-03T16:50:23.017400Z",
     "iopub.status.busy": "2022-11-03T16:50:23.016737Z",
     "iopub.status.idle": "2022-11-03T16:50:23.024104Z",
     "shell.execute_reply": "2022-11-03T16:50:23.022920Z"
    },
    "papermill": {
     "duration": 0.019192,
     "end_time": "2022-11-03T16:50:23.026501",
     "exception": false,
     "start_time": "2022-11-03T16:50:23.007309",
     "status": "completed"
    },
    "tags": []
   },
   "outputs": [],
   "source": [
    "import itertools\n",
    "\n",
    "type_weight_multipliers = {0: 1, 1: 6, 2: 3}\n",
    "\n",
    "def suggest_aids(df):\n",
    "    aids=df.aid.tolist()\n",
    "    types = df.type.tolist()\n",
    "    unique_aids = list(dict.fromkeys(aids[::-1] ))\n",
    "    \n",
    "    if 0:\n",
    "        df2 = df.sort_values('ts',ascending=False).drop_duplicates('d')\n",
    "        aids2 = df2.aid.tolist()\n",
    "        unique_aids3 = list(dict.fromkeys(aids2[::-1] )) #last of each session\n",
    "\n",
    "        mx = df.d.max()\n",
    "        aids2 = df.loc[df.d==mx].aid.tolist()\n",
    "        unique_aids4 = list(dict.fromkeys(aids2[::-1] ))\n",
    "\n",
    "        df = df.loc[ df['type'].isin([1,2]) ]\n",
    "        unique_buys = list(dict.fromkeys( df.aid.tolist()[::-1] ))\n",
    "    \n",
    "    ln = len(unique_aids)\n",
    " \n",
    "    if 0: #len(unique_aids)>=20:\n",
    "        weights=np.logspace(0.1,1,len(aids),base=2, endpoint=True)-1\n",
    "        aids_temp = Counter() \n",
    "        for aid,w,t in zip(aids,weights,types): \n",
    "            aids_temp[aid] += w * type_weight_multipliers[t]\n",
    "        if 'top20c' in INFER:\n",
    "            aids3 = list(itertools.chain(*[top_20c[aid][:20] for aid in unique_aids[:2] if aid in top_20c]))\n",
    "            for i,aid in enumerate(aids3):\n",
    "                aids_temp[aid] += 0.6\n",
    "        if 'top20b' in INFER:\n",
    "            aids3 = list(itertools.chain(*[top_20b[aid][:15] for aid in unique_aids3 if aid in top_20b]))\n",
    "            for i,aid in enumerate(aids3):\n",
    "                aids_temp[aid] += 0.3\n",
    "        if 'top20test2' in INFER:\n",
    "            aids3 = list(itertools.chain(*[top_20_test2[aid][:20] for aid in unique_aids[:2] if aid in top_20_test2]))\n",
    "            for i,aid in enumerate(aids3):\n",
    "                aids_temp[aid] += 0.6\n",
    "                \n",
    "        result = [k for k,v in aids_temp.most_common(ITEM_CT)]\n",
    "        return (result + top_clicks[:ITEM_CT-len(result)])[:ITEM_CT]\n",
    "        #return sorted_aids \n",
    "    \n",
    "    aids_temp = Counter() \n",
    "    if 'top20' in INFER:\n",
    "        aids2 = list(itertools.chain(*[top_20[aid][:20] for aid in unique_aids if aid in top_20]))\n",
    "        for i,aid in enumerate(aids2):\n",
    "            m = 0.1 + 0.9*(ln-(i//20))/ln\n",
    "            aids_temp[aid] += m\n",
    "            if i%20==0: aids_temp[aid] += m\n",
    "    if 'top20b' in INFER:\n",
    "        aids3 = list(itertools.chain(*[top_20b[aid][:20] for aid in unique_aids[:2] if aid in top_20b]))\n",
    "        for i,aid in enumerate(aids3):\n",
    "            aids_temp[aid] += 1\n",
    "            if i%20==0: aids_temp[aid] += 1\n",
    "    if 'top20test2' in INFER:\n",
    "        aids3 = list(itertools.chain(*[top_20_test2[aid][:20] for aid in unique_aids[:2] if aid in top_20_test2]))\n",
    "        for i,aid in enumerate(aids3):\n",
    "            aids_temp[aid] += 1\n",
    "            if i%20==0: aids_temp[aid] += 1\n",
    "    if 'top20f' in INFER:\n",
    "        aids4 = list(itertools.chain(*[top_20f[aid][:10] for aid in unique_aids4 if aid in top_20f]))\n",
    "        for i,aid in enumerate(aids4):\n",
    "            w = i//10\n",
    "            aids_temp[aid] += 1 -w*0.1\n",
    "            if i%10==0: aids_temp[aid] += 1 -w*0.1\n",
    "    if 'top20e' in INFER:       \n",
    "        aids5 = list(itertools.chain(*[top_20e[aid][:20] for aid in unique_aids3 if aid in top_20e]))\n",
    "        for i,aid in enumerate(aids5):\n",
    "            aids_temp[aid] += 1\n",
    "            if i%20==0: aids_temp[aid] += 1\n",
    "        top_aids2 = [k for k,v in aids_temp.most_common(1) if k not in unique_aids]\n",
    "    if 'top20c' in INFER:\n",
    "        aids3 = list(itertools.chain(*[top_20c[aid][:10] for aid in top_aids2 if aid in top_20c]))\n",
    "        for i,aid in enumerate(aids3):\n",
    "            aids_temp[aid] += 1\n",
    "            if i%10==0: aids_temp[aid] += 1\n",
    "    top_aids2 = [k for k,v in aids_temp.most_common(ITEM_CT) if k not in unique_aids]\n",
    "    \n",
    "    result = unique_aids + top_aids2[:ITEM_CT - len(unique_aids)]\n",
    "    return (result + top_clicks[:ITEM_CT-len(result)])[:ITEM_CT]\n",
    "\n",
    "def suggest_orders(df):\n",
    "    aids = df.aid.tolist()\n",
    "    types = df.type.tolist()\n",
    "    unique_aids = list(dict.fromkeys(aids[::-1] ))\n",
    "    \n",
    "    if 0:\n",
    "        mx = df.d.max()\n",
    "        aids2 = df.loc[df.d==mx].aid.tolist()\n",
    "        unique_aids4 = list(dict.fromkeys(aids2[::-1] ))\n",
    "\n",
    "        mx = df.ts.max()\n",
    "        aids2 = df.loc[df.ts>=mx - 60*60/2].aid.tolist()\n",
    "        unique_aids5 = list(dict.fromkeys(aids2[::-1] )) #recent 1 hour   \n",
    "\n",
    "        df2 = df.drop_duplicates('d')\n",
    "        aids2 = df2.aid.tolist()\n",
    "        unique_aids2 = list(dict.fromkeys(aids2[::-1] )) #first of each session\n",
    "\n",
    "        df2 = df.sort_values('ts',ascending=False).drop_duplicates('d')\n",
    "        aids2 = df2.aid.tolist()\n",
    "        unique_aids3 = list(dict.fromkeys(aids2 )) #last of each session\n",
    "\n",
    "        df = df.loc[ df['type'].isin([1,2]) ]\n",
    "        unique_buys = list(dict.fromkeys( df.aid.tolist()[::-1] ))\n",
    "    \n",
    "    if 0: #len(unique_aids)>=20:\n",
    "\n",
    "        weights=np.logspace(0.5,1,len(aids),base=2, endpoint=True)-1\n",
    "        aids_temp = Counter() \n",
    "        for aid,w,t in zip(aids,weights,types): \n",
    "            aids_temp[aid] += w * type_weight_multipliers[t]\n",
    "        for aid in unique_aids2: \n",
    "            aids_temp[aid] += 0.5\n",
    "        for aid in unique_aids3: \n",
    "            aids_temp[aid] += 0.5\n",
    "        if 'top20buy2buy' in INFER:\n",
    "            aids3 = list(itertools.chain(*[top_20_buy2buy[aid][:40] for aid in unique_buys if aid in top_20_buy2buy]))\n",
    "            for i,aid in enumerate(aids3):\n",
    "                aids_temp[aid] += 0.05\n",
    "                if i%40==0: aids_temp[aid] += 0.05\n",
    "        if 'top20buy2buy2' in INFER:\n",
    "            aids3 = list(itertools.chain(*[top_20_buy2buy2[aid][:40] for aid in unique_buys if aid in top_20_buy2buy2]))\n",
    "            for i,aid in enumerate(aids3):\n",
    "                aids_temp[aid] += 0.1\n",
    "                if i%40==0: aids_temp[aid] += 0.1\n",
    "        if 'top20test' in INFER:        \n",
    "            aids4 = list(itertools.chain(*[top_20_test[aid][:40] for aid in unique_aids if aid in top_20_test]))\n",
    "            for i,aid in enumerate(aids4):\n",
    "                aids_temp[aid] += 0.05\n",
    "                if i%40==0: aids_temp[aid] += 0.05\n",
    "        if 'top20c' in INFER:\n",
    "            aids5 = list(itertools.chain(*[top_20c[aid][:20] for aid in unique_aids[:1] if aid in top_20c]))\n",
    "            for i,aid in enumerate(aids5):\n",
    "                aids_temp[aid] += 0.05\n",
    "                if i%20==0: aids_temp[aid] += 0.05\n",
    "        if 'top20d' in INFER:\n",
    "            aids6 = list(itertools.chain(*[top_20d[aid][:20] for aid in unique_buys[:1] if aid in top_20d]))\n",
    "            for i,aid in enumerate(aids6):\n",
    "                aids_temp[aid] += 0.05\n",
    "                if i%20==0: aids_temp[aid] += 0.05\n",
    "        if 'top20b' in INFER:        \n",
    "            aids7 = list(itertools.chain(*[top_20b[aid][:5] for aid in unique_aids3 if aid in top_20b]))\n",
    "            for i,aid in enumerate(aids7):\n",
    "                aids_temp[aid] += 0.25\n",
    "                if i%5==0: aids_temp[aid] += 0.25\n",
    "            aids7 = list(itertools.chain(*[top_20b[aid][:5] for aid in unique_aids2 if aid in top_20b]))\n",
    "            for i,aid in enumerate(aids7):\n",
    "                aids_temp[aid] += 0.125\n",
    "                if i%5==0: aids_temp[aid] += 0.125\n",
    "            \n",
    "        result = [k for k,v in aids_temp.most_common(ITEM_CT)]\n",
    "        return (result + top_orders[:ITEM_CT-len(result)])[:ITEM_CT]\n",
    "        #return sorted_aids \n",
    "    \n",
    "    weights = [2,2] + [1]*8 #+ [0]*30\n",
    "    weights2 = [2,2] + [1]*53 #+ [0]*25\n",
    "    weights3 = [2,2] + [1]*18 #+ [0]*70\n",
    "    weights4 = [2,2] + [1]*38 #+ [0]*70\n",
    "    \n",
    "    ln = len(unique_aids)\n",
    "    \n",
    "    aids_temp = Counter() \n",
    "    if 'top20orders' in INFER:\n",
    "        aids2 = list(itertools.chain(*[top_20_orders[aid][:10] for aid in unique_aids if aid in top_20_orders]))\n",
    "        w2 = weights* int(len(aids2)//10)\n",
    "        for i,(aid,w) in enumerate(zip(aids2,w2)):\n",
    "            m = 0.25 + 0.75*(ln-(i//10))/ln\n",
    "            aids_temp[aid] += w*m\n",
    "    if 'top20buy2buy' in INFER:\n",
    "        aids3 = list(itertools.chain(*[top_20_buy2buy[aid][:10] for aid in unique_buys if aid in top_20_buy2buy]))\n",
    "        w3 = weights* int(len(aids3)//10)\n",
    "        for i,(aid,w) in enumerate(zip(aids3,w3)):\n",
    "            aids_temp[aid] += w/2\n",
    "    if 'top20test' in INFER:\n",
    "        aids4 = list(itertools.chain(*[top_20_test[aid][:10] for aid in unique_aids if aid in top_20_test]))\n",
    "        w4 = weights* int(len(aids4)//10)\n",
    "        for i,(aid,w) in enumerate(zip(aids4,w4)):\n",
    "            m = 0.25 + 0.75*(ln-(i//10))/ln\n",
    "            aids_temp[aid] += w*m\n",
    "    if 'top20buy2buy2' in INFER:\n",
    "        aids5 = list(itertools.chain(*[top_20_buy2buy2[aid][:10] for aid in unique_buys if aid in top_20_buy2buy2]))\n",
    "        w5 = weights* int(len(aids5)//10)\n",
    "        for i,(aid,w) in enumerate(zip(aids5,w5)):\n",
    "            aids_temp[aid] += w/2\n",
    "    if 'top20c' in INFER:\n",
    "        aids5 = list(itertools.chain(*[top_20c[aid][:55] for aid in unique_aids[:1] if aid in top_20c]))\n",
    "        w5 = weights2* int(len(aids5)//55)\n",
    "        for aid,w in zip(aids5,w5):\n",
    "            aids_temp[aid] += w\n",
    "    if 'top20d' in INFER:\n",
    "        aids5 = list(itertools.chain(*[top_20d[aid][:20] for aid in unique_buys[:1] if aid in top_20d]))\n",
    "        w5 = weights3* int(len(aids5)//20)\n",
    "        for aid,w in zip(aids5,w5):\n",
    "            aids_temp[aid] += w\n",
    "        \n",
    "    # NEW\n",
    "    if 'top20buy' in INFER:\n",
    "        ln2 = len(unique_aids5)\n",
    "        aids5 = list(itertools.chain(*[top_20_buy[aid][:20] for aid in unique_aids5 if aid in top_20_buy]))\n",
    "        w5 = weights3* int(len(aids5)//20)\n",
    "        for aid,w in zip(aids5,w5):\n",
    "            aids_temp[aid] += 2*w/ln2\n",
    "    if 'top20f' in INFER:   \n",
    "        aids4 = list(itertools.chain(*[top_20f[aid][:5] for aid in unique_aids4 if aid in top_20f]))\n",
    "        for i,aid in enumerate(aids4):\n",
    "            w = i//5\n",
    "            aids_temp[aid] += 1/2 -w*0.05\n",
    "            if i%5==0: aids_temp[aid] += 1/2 -w*0.05\n",
    "    if 'top20e' in INFER:\n",
    "        aids5 = list(itertools.chain(*[top_20e[aid][:55] for aid in unique_aids3 if aid in top_20e]))\n",
    "        w5 = weights2* int(len(aids5)//55)\n",
    "        for i,(aid,w) in enumerate(zip(aids5,w5)):\n",
    "            w2 = i//55\n",
    "            aids_temp[aid] += w -w2*0.1\n",
    "    if 'top20e' in INFER:\n",
    "        aids5 = list(itertools.chain(*[top_20e[aid][:10] for aid in unique_aids2 if aid in top_20e]))\n",
    "        w5 = weights* int(len(aids5)//10)\n",
    "        for i,(aid,w) in enumerate(zip(aids5,w5)):\n",
    "            w2 = i//10\n",
    "            aids_temp[aid] += w/2. -w2*0.05\n",
    "                    \n",
    "    sorted_aids = [k for k,v in aids_temp.most_common(ITEM_CT) if k not in unique_aids]\n",
    "    \n",
    "    result = unique_aids + sorted_aids[:ITEM_CT - len(unique_aids)]\n",
    "    return (result + top_orders[:ITEM_CT-len(result)])[:ITEM_CT]"
   ]
  },
  {
   "cell_type": "code",
   "execution_count": 16,
   "id": "3dc85281",
   "metadata": {},
   "outputs": [
    {
     "name": "stdout",
     "output_type": "stream",
     "text": [
      "INFO: Pandarallel will run on 4 workers.\n",
      "INFO: Pandarallel will use Memory file system to transfer data between the main process and workers.\n"
     ]
    }
   ],
   "source": [
    "from pandarallel import pandarallel\n",
    "pandarallel.initialize(progress_bar=True, nb_workers=4, use_memory_fs=True)"
   ]
  },
  {
   "cell_type": "code",
   "execution_count": 17,
   "id": "3d6e03f4",
   "metadata": {},
   "outputs": [],
   "source": [
    "#%%time\n",
    "#test_df = test_df.sort_values([\"session\", \"ts\"])\n",
    "#test_df['d'] = test_df.groupby('session').ts.diff()\n",
    "#test_df.d = (test_df.d > 60*60*2).astype('int16').fillna(0)\n",
    "#test_df.d = test_df.groupby('session').d.cumsum()"
   ]
  },
  {
   "cell_type": "code",
   "execution_count": 18,
   "id": "1b1e4eb7",
   "metadata": {},
   "outputs": [
    {
     "data": {
      "application/vnd.jupyter.widget-view+json": {
       "model_id": "5d79afd7db8241499b3dc2a887fd157d",
       "version_major": 2,
       "version_minor": 0
      },
      "text/plain": [
       "VBox(children=(HBox(children=(IntProgress(value=0, description='0.00%', max=450313), Label(value='0 / 450313')…"
      ]
     },
     "metadata": {},
     "output_type": "display_data"
    },
    {
     "name": "stdout",
     "output_type": "stream",
     "text": [
      "CPU times: user 3min 17s, sys: 26.3 s, total: 3min 43s\n",
      "Wall time: 7min 23s\n"
     ]
    }
   ],
   "source": [
    "%%time\n",
    "pred_df = test_df.groupby([\"session\"]).parallel_apply(\n",
    "    lambda x: suggest_aids(x)\n",
    ")\n",
    "#pred_df_orders = pred_df"
   ]
  },
  {
   "cell_type": "code",
   "execution_count": 19,
   "id": "3926ed56",
   "metadata": {
    "scrolled": false
   },
   "outputs": [],
   "source": [
    "#%%time\n",
    "#pred_df_orders = test_df.groupby([\"session\"]).parallel_apply(\n",
    "#    lambda x: suggest_orders(x)\n",
    "#)\n",
    "#pred_df = pred_df_orders"
   ]
  },
  {
   "cell_type": "code",
   "execution_count": 20,
   "id": "1e04f01f",
   "metadata": {
    "_cell_guid": "b1076dfc-b9ad-4769-8c92-a6c4dae69d19",
    "_uuid": "8f2839f25d086af736a60e9eeb907d3b93b6e0e5",
    "execution": {
     "iopub.execute_input": "2022-11-03T16:50:23.043798Z",
     "iopub.status.busy": "2022-11-03T16:50:23.043030Z",
     "iopub.status.idle": "2022-11-03T16:56:33.705294Z",
     "shell.execute_reply": "2022-11-03T16:56:33.704216Z"
    },
    "papermill": {
     "duration": 370.673198,
     "end_time": "2022-11-03T16:56:33.707974",
     "exception": false,
     "start_time": "2022-11-03T16:50:23.034776",
     "status": "completed"
    },
    "tags": []
   },
   "outputs": [],
   "source": [
    "#%%time\n",
    "#pred_df_carts = test_df.sort_values([\"session\", \"ts\"]).groupby([\"session\"]).apply(\n",
    "#    lambda x: suggest_carts(x)\n",
    "#)"
   ]
  },
  {
   "cell_type": "code",
   "execution_count": 21,
   "id": "d2454d6e",
   "metadata": {
    "execution": {
     "iopub.execute_input": "2022-11-03T16:56:33.724021Z",
     "iopub.status.busy": "2022-11-03T16:56:33.723218Z",
     "iopub.status.idle": "2022-11-03T16:56:36.806975Z",
     "shell.execute_reply": "2022-11-03T16:56:36.806075Z"
    },
    "papermill": {
     "duration": 3.094733,
     "end_time": "2022-11-03T16:56:36.809864",
     "exception": false,
     "start_time": "2022-11-03T16:56:33.715131",
     "status": "completed"
    },
    "tags": []
   },
   "outputs": [],
   "source": [
    "pred_df = pd.DataFrame(pred_df.add_suffix(\"_clicks\"), columns=[\"labels\"]).reset_index()\n",
    "#pred_df = pd.DataFrame(pred_df_orders.add_suffix(\"_orders\"), columns=[\"labels\"]).reset_index()\n",
    "#carts_pred_df = pd.DataFrame(pred_df_orders.add_suffix(\"_carts\"), columns=[\"labels\"]).reset_index()"
   ]
  },
  {
   "cell_type": "code",
   "execution_count": 22,
   "id": "ef6275de",
   "metadata": {
    "execution": {
     "iopub.execute_input": "2022-11-03T16:56:36.826967Z",
     "iopub.status.busy": "2022-11-03T16:56:36.826138Z",
     "iopub.status.idle": "2022-11-03T16:56:36.836574Z",
     "shell.execute_reply": "2022-11-03T16:56:36.835824Z"
    },
    "papermill": {
     "duration": 0.020993,
     "end_time": "2022-11-03T16:56:36.838512",
     "exception": false,
     "start_time": "2022-11-03T16:56:36.817519",
     "status": "completed"
    },
    "tags": []
   },
   "outputs": [],
   "source": [
    "#pred_df_orders"
   ]
  },
  {
   "cell_type": "code",
   "execution_count": 23,
   "id": "d79f9692",
   "metadata": {
    "execution": {
     "iopub.execute_input": "2022-11-03T16:56:36.854645Z",
     "iopub.status.busy": "2022-11-03T16:56:36.854238Z",
     "iopub.status.idle": "2022-11-03T16:57:46.638134Z",
     "shell.execute_reply": "2022-11-03T16:57:46.636908Z"
    },
    "papermill": {
     "duration": 69.79526,
     "end_time": "2022-11-03T16:57:46.640882",
     "exception": false,
     "start_time": "2022-11-03T16:56:36.845622",
     "status": "completed"
    },
    "tags": []
   },
   "outputs": [],
   "source": [
    "#pred_df = pd.concat(\n",
    "#    [clicks_pred_df, orders_pred_df]\n",
    "#)\n",
    "pred_df.columns = [\"session_type\", \"labels\"]\n",
    "pred_df[\"labels\"] = pred_df.labels.apply(lambda x: \" \".join(map(str,x)))\n",
    "pred_df.to_csv(f\"../../data/candidate_scores/submission_v{VER}_v{W_VER}.csv\", index=False)"
   ]
  }
 ],
 "metadata": {
  "kernelspec": {
   "display_name": "Python 3 (ipykernel)",
   "language": "python",
   "name": "python3"
  },
  "language_info": {
   "codemirror_mode": {
    "name": "ipython",
    "version": 3
   },
   "file_extension": ".py",
   "mimetype": "text/x-python",
   "name": "python",
   "nbconvert_exporter": "python",
   "pygments_lexer": "ipython3",
   "version": "3.8.13"
  },
  "papermill": {
   "default_parameters": {},
   "duration": 510.728298,
   "end_time": "2022-11-03T16:57:49.871924",
   "environment_variables": {},
   "exception": null,
   "input_path": "__notebook__.ipynb",
   "output_path": "__notebook__.ipynb",
   "parameters": {},
   "start_time": "2022-11-03T16:49:19.143626",
   "version": "2.3.4"
  },
  "widgets": {
   "application/vnd.jupyter.widget-state+json": {
    "state": {
     "031ee36fafb743fabfdbe2c52e404acf": {
      "model_module": "@jupyter-widgets/controls",
      "model_module_version": "1.5.0",
      "model_name": "FloatProgressModel",
      "state": {
       "_dom_classes": [],
       "_model_module": "@jupyter-widgets/controls",
       "_model_module_version": "1.5.0",
       "_model_name": "FloatProgressModel",
       "_view_count": null,
       "_view_module": "@jupyter-widgets/controls",
       "_view_module_version": "1.5.0",
       "_view_name": "ProgressView",
       "bar_style": "success",
       "description": "",
       "description_tooltip": null,
       "layout": "IPY_MODEL_c60d5b27c7104ff4b66221703612c2c8",
       "max": 17,
       "min": 0,
       "orientation": "horizontal",
       "style": "IPY_MODEL_c2ba884d4d0d4732937e2a78645d78e2",
       "value": 17
      }
     },
     "0760aa58dc6a449ebb44554c24ed2bd3": {
      "model_module": "@jupyter-widgets/controls",
      "model_module_version": "1.5.0",
      "model_name": "HTMLModel",
      "state": {
       "_dom_classes": [],
       "_model_module": "@jupyter-widgets/controls",
       "_model_module_version": "1.5.0",
       "_model_name": "HTMLModel",
       "_view_count": null,
       "_view_module": "@jupyter-widgets/controls",
       "_view_module_version": "1.5.0",
       "_view_name": "HTMLView",
       "description": "",
       "description_tooltip": null,
       "layout": "IPY_MODEL_1064b0bdf3bd4a3ea3020740104e0e92",
       "placeholder": "​",
       "style": "IPY_MODEL_be5e1ae69d7045e5a0033d98222fba08",
       "value": " 17/17 [00:02&lt;00:00,  9.56it/s]"
      }
     },
     "1064b0bdf3bd4a3ea3020740104e0e92": {
      "model_module": "@jupyter-widgets/base",
      "model_module_version": "1.2.0",
      "model_name": "LayoutModel",
      "state": {
       "_model_module": "@jupyter-widgets/base",
       "_model_module_version": "1.2.0",
       "_model_name": "LayoutModel",
       "_view_count": null,
       "_view_module": "@jupyter-widgets/base",
       "_view_module_version": "1.2.0",
       "_view_name": "LayoutView",
       "align_content": null,
       "align_items": null,
       "align_self": null,
       "border": null,
       "bottom": null,
       "display": null,
       "flex": null,
       "flex_flow": null,
       "grid_area": null,
       "grid_auto_columns": null,
       "grid_auto_flow": null,
       "grid_auto_rows": null,
       "grid_column": null,
       "grid_gap": null,
       "grid_row": null,
       "grid_template_areas": null,
       "grid_template_columns": null,
       "grid_template_rows": null,
       "height": null,
       "justify_content": null,
       "justify_items": null,
       "left": null,
       "margin": null,
       "max_height": null,
       "max_width": null,
       "min_height": null,
       "min_width": null,
       "object_fit": null,
       "object_position": null,
       "order": null,
       "overflow": null,
       "overflow_x": null,
       "overflow_y": null,
       "padding": null,
       "right": null,
       "top": null,
       "visibility": null,
       "width": null
      }
     },
     "1889ea3d74b44b2aa0aceaccc954093c": {
      "model_module": "@jupyter-widgets/controls",
      "model_module_version": "1.5.0",
      "model_name": "HBoxModel",
      "state": {
       "_dom_classes": [],
       "_model_module": "@jupyter-widgets/controls",
       "_model_module_version": "1.5.0",
       "_model_name": "HBoxModel",
       "_view_count": null,
       "_view_module": "@jupyter-widgets/controls",
       "_view_module_version": "1.5.0",
       "_view_name": "HBoxView",
       "box_style": "",
       "children": [
        "IPY_MODEL_2cdd3effa7b64da88f84b3752c118240",
        "IPY_MODEL_031ee36fafb743fabfdbe2c52e404acf",
        "IPY_MODEL_0760aa58dc6a449ebb44554c24ed2bd3"
       ],
       "layout": "IPY_MODEL_4f3ccc97bf9f42928feb4598055d7027"
      }
     },
     "2cdd3effa7b64da88f84b3752c118240": {
      "model_module": "@jupyter-widgets/controls",
      "model_module_version": "1.5.0",
      "model_name": "HTMLModel",
      "state": {
       "_dom_classes": [],
       "_model_module": "@jupyter-widgets/controls",
       "_model_module_version": "1.5.0",
       "_model_name": "HTMLModel",
       "_view_count": null,
       "_view_module": "@jupyter-widgets/controls",
       "_view_module_version": "1.5.0",
       "_view_name": "HTMLView",
       "description": "",
       "description_tooltip": null,
       "layout": "IPY_MODEL_e4c36f74dc844ee3b94f548e941d7207",
       "placeholder": "​",
       "style": "IPY_MODEL_9a77629b692844c6bac59e052d77b9d2",
       "value": "100%"
      }
     },
     "4f3ccc97bf9f42928feb4598055d7027": {
      "model_module": "@jupyter-widgets/base",
      "model_module_version": "1.2.0",
      "model_name": "LayoutModel",
      "state": {
       "_model_module": "@jupyter-widgets/base",
       "_model_module_version": "1.2.0",
       "_model_name": "LayoutModel",
       "_view_count": null,
       "_view_module": "@jupyter-widgets/base",
       "_view_module_version": "1.2.0",
       "_view_name": "LayoutView",
       "align_content": null,
       "align_items": null,
       "align_self": null,
       "border": null,
       "bottom": null,
       "display": null,
       "flex": null,
       "flex_flow": null,
       "grid_area": null,
       "grid_auto_columns": null,
       "grid_auto_flow": null,
       "grid_auto_rows": null,
       "grid_column": null,
       "grid_gap": null,
       "grid_row": null,
       "grid_template_areas": null,
       "grid_template_columns": null,
       "grid_template_rows": null,
       "height": null,
       "justify_content": null,
       "justify_items": null,
       "left": null,
       "margin": null,
       "max_height": null,
       "max_width": null,
       "min_height": null,
       "min_width": null,
       "object_fit": null,
       "object_position": null,
       "order": null,
       "overflow": null,
       "overflow_x": null,
       "overflow_y": null,
       "padding": null,
       "right": null,
       "top": null,
       "visibility": null,
       "width": null
      }
     },
     "9a77629b692844c6bac59e052d77b9d2": {
      "model_module": "@jupyter-widgets/controls",
      "model_module_version": "1.5.0",
      "model_name": "DescriptionStyleModel",
      "state": {
       "_model_module": "@jupyter-widgets/controls",
       "_model_module_version": "1.5.0",
       "_model_name": "DescriptionStyleModel",
       "_view_count": null,
       "_view_module": "@jupyter-widgets/base",
       "_view_module_version": "1.2.0",
       "_view_name": "StyleView",
       "description_width": ""
      }
     },
     "be5e1ae69d7045e5a0033d98222fba08": {
      "model_module": "@jupyter-widgets/controls",
      "model_module_version": "1.5.0",
      "model_name": "DescriptionStyleModel",
      "state": {
       "_model_module": "@jupyter-widgets/controls",
       "_model_module_version": "1.5.0",
       "_model_name": "DescriptionStyleModel",
       "_view_count": null,
       "_view_module": "@jupyter-widgets/base",
       "_view_module_version": "1.2.0",
       "_view_name": "StyleView",
       "description_width": ""
      }
     },
     "c2ba884d4d0d4732937e2a78645d78e2": {
      "model_module": "@jupyter-widgets/controls",
      "model_module_version": "1.5.0",
      "model_name": "ProgressStyleModel",
      "state": {
       "_model_module": "@jupyter-widgets/controls",
       "_model_module_version": "1.5.0",
       "_model_name": "ProgressStyleModel",
       "_view_count": null,
       "_view_module": "@jupyter-widgets/base",
       "_view_module_version": "1.2.0",
       "_view_name": "StyleView",
       "bar_color": null,
       "description_width": ""
      }
     },
     "c60d5b27c7104ff4b66221703612c2c8": {
      "model_module": "@jupyter-widgets/base",
      "model_module_version": "1.2.0",
      "model_name": "LayoutModel",
      "state": {
       "_model_module": "@jupyter-widgets/base",
       "_model_module_version": "1.2.0",
       "_model_name": "LayoutModel",
       "_view_count": null,
       "_view_module": "@jupyter-widgets/base",
       "_view_module_version": "1.2.0",
       "_view_name": "LayoutView",
       "align_content": null,
       "align_items": null,
       "align_self": null,
       "border": null,
       "bottom": null,
       "display": null,
       "flex": null,
       "flex_flow": null,
       "grid_area": null,
       "grid_auto_columns": null,
       "grid_auto_flow": null,
       "grid_auto_rows": null,
       "grid_column": null,
       "grid_gap": null,
       "grid_row": null,
       "grid_template_areas": null,
       "grid_template_columns": null,
       "grid_template_rows": null,
       "height": null,
       "justify_content": null,
       "justify_items": null,
       "left": null,
       "margin": null,
       "max_height": null,
       "max_width": null,
       "min_height": null,
       "min_width": null,
       "object_fit": null,
       "object_position": null,
       "order": null,
       "overflow": null,
       "overflow_x": null,
       "overflow_y": null,
       "padding": null,
       "right": null,
       "top": null,
       "visibility": null,
       "width": null
      }
     },
     "e4c36f74dc844ee3b94f548e941d7207": {
      "model_module": "@jupyter-widgets/base",
      "model_module_version": "1.2.0",
      "model_name": "LayoutModel",
      "state": {
       "_model_module": "@jupyter-widgets/base",
       "_model_module_version": "1.2.0",
       "_model_name": "LayoutModel",
       "_view_count": null,
       "_view_module": "@jupyter-widgets/base",
       "_view_module_version": "1.2.0",
       "_view_name": "LayoutView",
       "align_content": null,
       "align_items": null,
       "align_self": null,
       "border": null,
       "bottom": null,
       "display": null,
       "flex": null,
       "flex_flow": null,
       "grid_area": null,
       "grid_auto_columns": null,
       "grid_auto_flow": null,
       "grid_auto_rows": null,
       "grid_column": null,
       "grid_gap": null,
       "grid_row": null,
       "grid_template_areas": null,
       "grid_template_columns": null,
       "grid_template_rows": null,
       "height": null,
       "justify_content": null,
       "justify_items": null,
       "left": null,
       "margin": null,
       "max_height": null,
       "max_width": null,
       "min_height": null,
       "min_width": null,
       "object_fit": null,
       "object_position": null,
       "order": null,
       "overflow": null,
       "overflow_x": null,
       "overflow_y": null,
       "padding": null,
       "right": null,
       "top": null,
       "visibility": null,
       "width": null
      }
     }
    },
    "version_major": 2,
    "version_minor": 0
   }
  }
 },
 "nbformat": 4,
 "nbformat_minor": 5
}
