{
 "cells": [
  {
   "cell_type": "markdown",
   "id": "403d7742",
   "metadata": {
    "papermill": {
     "duration": 0.005829,
     "end_time": "2022-11-03T16:49:27.399833",
     "exception": false,
     "start_time": "2022-11-03T16:49:27.394004",
     "status": "completed"
    },
    "tags": []
   },
   "source": [
    "# OTTO: Co-visitation Matrix\n",
    "\n",
    "There exist products that are frequently viewed and bought together. Here we leverage this idea by computing a co-visitation matrix of products. It's done in the following way:\n",
    "\n",
    "1. First we look at all pairs of events within the same session that are close to each other in time (< 1 day). We compute co-visitation matrix $M_{aid1,aid2}$ by counting global number of event pairs for each pair across all sessions.\n",
    "2. For each $aid1$ we find top 20 most frequent aid2:  `aid2=argsort(M[aid])[-20:]`\n",
    "3. We produce test results by concatenating `tail(20)` of test session events (see https://www.kaggle.com/code/simamumu/old-test-data-last-20-aid-get-lb0-947) with the most likely recommendations from co-visitation matrix. These recommendations are generated from session AIDs and `aid2` from the step 2\n",
    "\n",
    "\n",
    "**Please, smash that thumbs up button and subscribe if you like this notebook!**"
   ]
  },
  {
   "cell_type": "markdown",
   "id": "a3347d85",
   "metadata": {
    "papermill": {
     "duration": 0.003667,
     "end_time": "2022-11-03T16:49:27.407651",
     "exception": false,
     "start_time": "2022-11-03T16:49:27.403984",
     "status": "completed"
    },
    "tags": []
   },
   "source": [
    "## Utils, imports"
   ]
  },
  {
   "cell_type": "code",
   "execution_count": 1,
   "id": "1983ae84",
   "metadata": {},
   "outputs": [],
   "source": [
    "VER = 709\n",
    "\n",
    "OFFSET = ''\n",
    "\n",
    "ITEM_CT = 100\n",
    "ITEM_CT2 = 100\n",
    "ITEM_CT3 = 10"
   ]
  },
  {
   "cell_type": "code",
   "execution_count": 2,
   "id": "aa81e9ef",
   "metadata": {
    "execution": {
     "iopub.execute_input": "2022-11-03T16:49:27.417898Z",
     "iopub.status.busy": "2022-11-03T16:49:27.417269Z",
     "iopub.status.idle": "2022-11-03T16:49:27.535479Z",
     "shell.execute_reply": "2022-11-03T16:49:27.534395Z"
    },
    "papermill": {
     "duration": 0.126841,
     "end_time": "2022-11-03T16:49:27.538248",
     "exception": false,
     "start_time": "2022-11-03T16:49:27.411407",
     "status": "completed"
    },
    "tags": []
   },
   "outputs": [],
   "source": [
    "### import numpy as np\n",
    "from collections import defaultdict\n",
    "import pandas as pd\n",
    "from tqdm.notebook import tqdm\n",
    "import glob\n",
    "import numpy as np, gc\n",
    "import multiprocessing\n",
    "import os\n",
    "import pickle\n",
    "\n",
    "import glob\n",
    "from collections import Counter"
   ]
  },
  {
   "cell_type": "markdown",
   "id": "e7d8e7d0",
   "metadata": {
    "papermill": {
     "duration": 0.006685,
     "end_time": "2022-11-03T16:50:19.618761",
     "exception": false,
     "start_time": "2022-11-03T16:50:19.612076",
     "status": "completed"
    },
    "tags": []
   },
   "source": [
    "## Test set inference"
   ]
  },
  {
   "cell_type": "code",
   "execution_count": 3,
   "id": "6e71e9e1",
   "metadata": {
    "execution": {
     "iopub.execute_input": "2022-11-03T16:50:19.634447Z",
     "iopub.status.busy": "2022-11-03T16:50:19.633761Z",
     "iopub.status.idle": "2022-11-03T16:50:19.639750Z",
     "shell.execute_reply": "2022-11-03T16:50:19.638683Z"
    },
    "papermill": {
     "duration": 0.016803,
     "end_time": "2022-11-03T16:50:19.642289",
     "exception": false,
     "start_time": "2022-11-03T16:50:19.625486",
     "status": "completed"
    },
    "tags": []
   },
   "outputs": [],
   "source": [
    "def load_test():    \n",
    "    dfs = []\n",
    "    for e, chunk_file in enumerate(tqdm(glob.glob('/raid/Kaggle/otto/valid/test_parquet/*'))):\n",
    "        chunk = pd.read_parquet(chunk_file)\n",
    "        #chunk.ts *= 1000\n",
    "        dfs.append(chunk)\n",
    "\n",
    "    return pd.concat(dfs).reset_index(drop=True) #.astype({\"ts\": \"datetime64[ms]\"})"
   ]
  },
  {
   "cell_type": "code",
   "execution_count": 4,
   "id": "e3c3c6a4",
   "metadata": {},
   "outputs": [],
   "source": [
    "#%%time\n",
    "#test_df = load_test()\n",
    "\n",
    "#test_df = test_df.sort_values([\"session\", \"ts\"])\n",
    "#test_df['d'] = test_df.groupby('session').ts.diff()\n",
    "#test_df.d = (test_df.d > 60*60*2).astype('int16').fillna(0)\n",
    "#test_df.d = test_df.groupby('session').d.cumsum()\n",
    "\n",
    "#test_df.to_parquet('../../Nov-2022/nov-12-22-otto/test.parquet',index=False)"
   ]
  },
  {
   "cell_type": "code",
   "execution_count": 5,
   "id": "21022a2c",
   "metadata": {
    "execution": {
     "iopub.execute_input": "2022-11-03T16:50:19.658231Z",
     "iopub.status.busy": "2022-11-03T16:50:19.657828Z",
     "iopub.status.idle": "2022-11-03T16:50:22.997555Z",
     "shell.execute_reply": "2022-11-03T16:50:22.996707Z"
    },
    "papermill": {
     "duration": 3.350315,
     "end_time": "2022-11-03T16:50:22.999986",
     "exception": false,
     "start_time": "2022-11-03T16:50:19.649671",
     "status": "completed"
    },
    "tags": []
   },
   "outputs": [],
   "source": [
    "test_df = pd.read_parquet('test_with_d.parquet')"
   ]
  },
  {
   "cell_type": "code",
   "execution_count": 6,
   "id": "b8d453ce",
   "metadata": {},
   "outputs": [],
   "source": [
    "#test_df = test_df.iloc[:4096]"
   ]
  },
  {
   "cell_type": "code",
   "execution_count": 7,
   "id": "5e43e3d1",
   "metadata": {},
   "outputs": [
    {
     "data": {
      "text/plain": [
       "1661119200"
      ]
     },
     "execution_count": 7,
     "metadata": {},
     "output_type": "execute_result"
    }
   ],
   "source": [
    "#MN = 1661119200\n",
    "MN = test_df.ts.min()\n",
    "MN"
   ]
  },
  {
   "cell_type": "code",
   "execution_count": 8,
   "id": "29e40d05",
   "metadata": {},
   "outputs": [],
   "source": [
    "test_df['day'] = (test_df.ts - MN) // (60*60*24)"
   ]
  },
  {
   "cell_type": "code",
   "execution_count": 9,
   "id": "415cbfba",
   "metadata": {},
   "outputs": [
    {
     "data": {
      "text/html": [
       "<div>\n",
       "<style scoped>\n",
       "    .dataframe tbody tr th:only-of-type {\n",
       "        vertical-align: middle;\n",
       "    }\n",
       "\n",
       "    .dataframe tbody tr th {\n",
       "        vertical-align: top;\n",
       "    }\n",
       "\n",
       "    .dataframe thead th {\n",
       "        text-align: right;\n",
       "    }\n",
       "</style>\n",
       "<table border=\"1\" class=\"dataframe\">\n",
       "  <thead>\n",
       "    <tr style=\"text-align: right;\">\n",
       "      <th></th>\n",
       "      <th>session</th>\n",
       "      <th>aid</th>\n",
       "      <th>ts</th>\n",
       "      <th>type</th>\n",
       "      <th>d</th>\n",
       "      <th>day</th>\n",
       "    </tr>\n",
       "  </thead>\n",
       "  <tbody>\n",
       "    <tr>\n",
       "      <th>0</th>\n",
       "      <td>11098528</td>\n",
       "      <td>11830</td>\n",
       "      <td>1661119200</td>\n",
       "      <td>0</td>\n",
       "      <td>0</td>\n",
       "      <td>0</td>\n",
       "    </tr>\n",
       "    <tr>\n",
       "      <th>1</th>\n",
       "      <td>11098529</td>\n",
       "      <td>1105029</td>\n",
       "      <td>1661119200</td>\n",
       "      <td>0</td>\n",
       "      <td>0</td>\n",
       "      <td>0</td>\n",
       "    </tr>\n",
       "    <tr>\n",
       "      <th>2</th>\n",
       "      <td>11098530</td>\n",
       "      <td>264500</td>\n",
       "      <td>1661119200</td>\n",
       "      <td>0</td>\n",
       "      <td>0</td>\n",
       "      <td>0</td>\n",
       "    </tr>\n",
       "    <tr>\n",
       "      <th>3</th>\n",
       "      <td>11098530</td>\n",
       "      <td>264500</td>\n",
       "      <td>1661119288</td>\n",
       "      <td>0</td>\n",
       "      <td>0</td>\n",
       "      <td>0</td>\n",
       "    </tr>\n",
       "    <tr>\n",
       "      <th>4</th>\n",
       "      <td>11098530</td>\n",
       "      <td>409236</td>\n",
       "      <td>1661119369</td>\n",
       "      <td>0</td>\n",
       "      <td>0</td>\n",
       "      <td>0</td>\n",
       "    </tr>\n",
       "  </tbody>\n",
       "</table>\n",
       "</div>"
      ],
      "text/plain": [
       "    session      aid          ts  type  d  day\n",
       "0  11098528    11830  1661119200     0  0    0\n",
       "1  11098529  1105029  1661119200     0  0    0\n",
       "2  11098530   264500  1661119200     0  0    0\n",
       "3  11098530   264500  1661119288     0  0    0\n",
       "4  11098530   409236  1661119369     0  0    0"
      ]
     },
     "execution_count": 9,
     "metadata": {},
     "output_type": "execute_result"
    }
   ],
   "source": [
    "test_df.head()"
   ]
  },
  {
   "cell_type": "code",
   "execution_count": null,
   "id": "d7e0b43e",
   "metadata": {},
   "outputs": [],
   "source": []
  },
  {
   "cell_type": "code",
   "execution_count": 10,
   "id": "7c308b08",
   "metadata": {},
   "outputs": [],
   "source": [
    "# COMPUTED FROM TEST DATA\n",
    "top_orders = [ 876493, 1406660, 1236775,  166037, 1460571, 1531805,  836852,\n",
    "        634452,  923948, 1043508,  832192,  801774,  258353,  332654,\n",
    "       1596897,   29735,  544144, 1581568, 1006198, 1462420,  331708,\n",
    "        231487,  642804,  986164, 1116095,  329725, 1022566, 1604220,\n",
    "       1733943,  289406,  631899,  162064,  122983,  247240, 1436280,\n",
    "        954951, 1445562,  373490, 1568011,  172856,  756588,  184976,\n",
    "       1534690,  508883, 1310373,  530377, 1457846, 1196256,  321547,\n",
    "        982423,  892871, 1441266, 1294924, 1685214, 1609228,  576949,\n",
    "        714524,   56279, 1102089,  314210, 1125638, 1768724, 1734305,\n",
    "        898836, 1188425,  145332,  688602,  527209, 1647157,   42628,\n",
    "       1628069, 1722991,  409620,  102416, 1476166, 1734475, 1182614,\n",
    "        926412,  988767,  137514,  500609,  479970,  165160,  443425,\n",
    "        302096, 1257293,  823143,  856779, 1030009,  304807, 1164832,\n",
    "         78262, 1025795, 1133209,  881286, 1620020,  742601,  108125,\n",
    "        558573, 1107897]\n",
    "top_carts = [ 485256,   33343,  613493,  152547,  876493, 1406660, 1736857,\n",
    "        166037, 1460571, 1236775,  554660,  660655, 1531805, 1022566,\n",
    "        231487,  122983, 1562705,  923948,  332654,  544144,  832192,\n",
    "        634452,  322370,  836852,   29735, 1006198, 1043508,  801774,\n",
    "       1462420,  258353,  530377,  558573, 1116095,  756588,  986164,\n",
    "        329725, 1568011, 1581568, 1025795, 1445562,   42628, 1733943,\n",
    "        642804, 1604220,  184976,  892871,  162064,  501077, 1182614,\n",
    "       1647157,  331708, 1310373, 1534690, 1111967, 1476166, 1257293,\n",
    "         19665, 1768724,  108125, 1502122,  172856,  982423, 1734475,\n",
    "        409620, 1586171, 1685214, 1662401,  881286, 1164832,  373490,\n",
    "        637827, 1125638, 1702657, 1281615,  714524,  500609,  508883,\n",
    "         78262, 1359971, 1102089, 1734305, 1628069, 1436280, 1596897,\n",
    "        631899, 1030009, 1497089,  988767,  670066,  289406,  450505,\n",
    "       1196256,  247240,   16151, 1497245, 1689044,  479970, 1609228,\n",
    "       1853288, 1636724]\n",
    "top_clicks = [ 485256, 1460571,  108125, 1551213,   33343,  613493,  876493,\n",
    "        152547,  184976, 1236775, 1406660,  836852,  331708, 1531805,\n",
    "         29735,  554660,  634452,  986164,  959208,  832192,  332654,\n",
    "        620545, 1645990,  166037,  102345, 1116095,  811371,  322370,\n",
    "       1733943, 1043508, 1019736,  756588,  801774,  231487,  861401,\n",
    "       1502122, 1030009,  329725, 1624436, 1022566, 1006198,  496180,\n",
    "       1685214, 1853288,  530377,  659399, 1604220, 1102089, 1586171,\n",
    "       1497089,  754412, 1765072, 1109824, 1264313,  881286, 1294924,\n",
    "        199409, 1581568,  385065,  195381,  558573, 1196256, 1782099,\n",
    "        612920,  435253,  923948,  508883, 1126038, 1647563, 1508062,\n",
    "       1182614,  544144,  247240,  982423,   57315, 1628069,  674590,\n",
    "       1798916,  892871,  909449,  337471,  721034, 1734305,   95488,\n",
    "       1722991, 1754984,  819288, 1462420,  836707, 1796103,   42628,\n",
    "        642804,  122983,  321547, 1278671,  714524, 1603001,  409620,\n",
    "        636101, 1702657]"
   ]
  },
  {
   "cell_type": "code",
   "execution_count": 11,
   "id": "3dbbd7d2",
   "metadata": {},
   "outputs": [
    {
     "name": "stdout",
     "output_type": "stream",
     "text": [
      "Reading top20 AIDs from cache\n",
      "CPU times: user 41.4 s, sys: 6.23 s, total: 47.7 s\n",
      "Wall time: 47.6 s\n"
     ]
    }
   ],
   "source": [
    "print('Reading top20 AIDs from cache')\n",
    "top_20 = pickle.load(open('../../data/covisit_matrices/top_80_aids_v93.pkl', 'rb')) #time weight. All2all #added time decay\n",
    "\n",
    "top_20b = pickle.load(open('../../data/covisit_matrices/top_40_aids_v217_0.pkl', 'rb')) # both ways 1 #td did not help\n",
    "top_20c = pickle.load(open('../../data/covisit_matrices/top_40_aids_v220_0.pkl', 'rb')) # both ways 2 #td did not help\n",
    "top_20d = pickle.load(open('../../data/covisit_matrices/top_40_aids_v226_0.pkl', 'rb')) # forward 3 buy #td did not help\n",
    "\n",
    "top_20e = pickle.load(open('../../data/covisit_matrices/top_40_aids_v232_0.pkl', 'rb')) # both ways 3 #added time decay\n",
    "\n",
    "top_20f = pickle.load(open('../../data/covisit_matrices/top_40_aids_v235_0.pkl', 'rb')) # both ways 6 #time decay\n",
    "top_20f.update(pickle.load(open('../../data/covisit_matrices/top_40_aids_v235_1.pkl', 'rb'))) # both ways 6 #time decay\n",
    "\n",
    "top_20_orders = pickle.load(open('../../data/covisit_matrices/top_40_orders_carts_v95.pkl', 'rb')) #added time decay\n",
    "top_20_carts = top_20_orders\n",
    "\n",
    "top_20_buy2buy = pickle.load(open('../../data/covisit_matrices/top_40_buy2buy_v90.pkl', 'rb')) #td did not help\n",
    "top_20_buy2buy2 = pickle.load(open('../../data/covisit_matrices/top_40_buy2buy_v99.pkl', 'rb')) #time decay\n",
    "\n",
    "top_20_test = pickle.load(open('../../data/covisit_matrices/top_40_aids_v116_0.pkl', 'rb')) #time decay\n",
    "for k in range(1,3): # recent 3 week time delta decay. all to buy\n",
    "    top_20_test.update( pickle.load(open(f'../../data/covisit_matrices/top_40_aids_v116_{k}.pkl', 'rb')) )\n",
    "    \n",
    "top_20_test2 = pickle.load(open('../../data/covisit_matrices/top_40_aids_v115_0.pkl', 'rb')) #time decay\n",
    "for k in range(1,3): # recent 2 week time delta decay weight\n",
    "    top_20_test2.update( pickle.load(open(f'../../data/covisit_matrices/top_40_aids_v115_{k}.pkl', 'rb')) )\n",
    "    \n",
    "top_20_buy = pickle.load(open('../../data/covisit_matrices/top_40_aids_v239_0.pkl', 'rb'))"
   ]
  },
  {
   "cell_type": "code",
   "execution_count": 14,
   "id": "dc7254d4",
   "metadata": {},
   "outputs": [],
   "source": [
    "top_20_new = pickle.load(open('../../data/covisit_matrices/top_40_aids_v700_0.pkl', 'rb'))\n",
    "top_20_new2 = pickle.load(open('../../data/covisit_matrices/top_40_aids_v701_0.pkl', 'rb'))"
   ]
  },
  {
   "cell_type": "code",
   "execution_count": 15,
   "id": "ad5b97d0",
   "metadata": {},
   "outputs": [
    {
     "name": "stdout",
     "output_type": "stream",
     "text": [
      "CPU times: user 13.6 s, sys: 467 ms, total: 14.1 s\n",
      "Wall time: 14.1 s\n"
     ]
    }
   ],
   "source": [
    "%%time\n",
    "top_40_day = pickle.load(open(f'../../data/covisit_matrices/top_40_aids_v155_d0_0.pkl', 'rb')) \n",
    "top_40_day2 = pickle.load(open(f'../../data/covisit_matrices/top_80_aids_v157_d0_0.pkl', 'rb'))"
   ]
  },
  {
   "cell_type": "code",
   "execution_count": 16,
   "id": "fb38c152",
   "metadata": {},
   "outputs": [
    {
     "name": "stdout",
     "output_type": "stream",
     "text": [
      "CPU times: user 4.01 s, sys: 1.34 s, total: 5.35 s\n",
      "Wall time: 5.35 s\n"
     ]
    }
   ],
   "source": [
    "%%time\n",
    "top_40_less = pickle.load(open(f'../../data/covisit_matrices/top_40_aids_v167_0.pkl', 'rb')) \n",
    "top_40_more = pickle.load(open(f'../../data/covisit_matrices/top_40_aids_v168_0.pkl', 'rb'))"
   ]
  },
  {
   "cell_type": "code",
   "execution_count": 17,
   "id": "4e87374f",
   "metadata": {},
   "outputs": [
    {
     "name": "stdout",
     "output_type": "stream",
     "text": [
      "CPU times: user 16.8 s, sys: 858 ms, total: 17.6 s\n",
      "Wall time: 17.6 s\n"
     ]
    }
   ],
   "source": [
    "%%time\n",
    "top_40_less2 = pickle.load(open(f'../../data/covisit_matrices/top_40_aids_v165_0.pkl', 'rb')) \n",
    "top_40_more2 = pickle.load(open(f'../../data/covisit_matrices/top_40_aids_v166_0.pkl', 'rb'))"
   ]
  },
  {
   "cell_type": "code",
   "execution_count": 18,
   "id": "6d13651e",
   "metadata": {},
   "outputs": [
    {
     "data": {
      "text/plain": [
       "(1812132, 1819763, 1072368)"
      ]
     },
     "execution_count": 18,
     "metadata": {},
     "output_type": "execute_result"
    }
   ],
   "source": [
    "len( top_20), len( top_20_orders ), len( top_20_buy2buy )"
   ]
  },
  {
   "cell_type": "code",
   "execution_count": 19,
   "id": "b5c27d8c",
   "metadata": {
    "execution": {
     "iopub.execute_input": "2022-11-03T16:50:23.017400Z",
     "iopub.status.busy": "2022-11-03T16:50:23.016737Z",
     "iopub.status.idle": "2022-11-03T16:50:23.024104Z",
     "shell.execute_reply": "2022-11-03T16:50:23.022920Z"
    },
    "papermill": {
     "duration": 0.019192,
     "end_time": "2022-11-03T16:50:23.026501",
     "exception": false,
     "start_time": "2022-11-03T16:50:23.007309",
     "status": "completed"
    },
    "tags": []
   },
   "outputs": [],
   "source": [
    "import itertools\n",
    "\n",
    "type_weight_multipliers = {0: 1, 1: 6, 2: 3}\n",
    "\n",
    "def suggest_aids(df):\n",
    "    \n",
    "    #aids=df.aid.tolist()\n",
    "    #types = df.type.tolist()\n",
    "    \n",
    "    session = df[0]\n",
    "    aids = df[1]\n",
    "    types = df[2]\n",
    "    tss = df[3]\n",
    "    ds = df[4]\n",
    "    ds2 = df[6]\n",
    "    #days = df[7]\n",
    "    \n",
    "    top_day = top_40_day2\n",
    "    click_aids = click_df[session][:ITEM_CT3]\n",
    "    \n",
    "    unique_aids = list(dict.fromkeys(aids[::-1] ))\n",
    "    \n",
    "    #df2 = df.sort_values('ts',ascending=False).drop_duplicates('d')\n",
    "    #aids2 = df2.aid.tolist()\n",
    "    #unique_aids3 = list(dict.fromkeys(aids2[::-1] )) #last of each session\n",
    "    unique_aids3 = list(dict.fromkeys( [f for i, f in enumerate(aids) if ds2[i] == 1][::-1] ))\n",
    "    \n",
    "    #mx = df.d.max()\n",
    "    #aids2 = df.loc[df.d==mx].aid.tolist()\n",
    "    #unique_aids4 = list(dict.fromkeys(aids2[::-1] ))\n",
    "    mx = np.max(ds)\n",
    "    unique_aids4 = list(dict.fromkeys( [f for i, f in enumerate(aids) if ds[i] == mx][::-1] ))\n",
    "    \n",
    "    #aids2 = df.loc[df.ts >= mx - 60*60*24].aid.tolist()\n",
    "    #unique_aids6 = list(dict.fromkeys(aids2[::-1] )) #recent 1 day \n",
    "    mx = np.max(tss)\n",
    "    unique_aids6 = list(dict.fromkeys( [f for i, f in enumerate(aids) if tss[i] >= mx - 60*60*24 ][::-1] ))\n",
    "    \n",
    "    #df = df.loc[ df['type'].isin([1,2]) ]\n",
    "    #unique_buys = list(dict.fromkeys( df.aid.tolist()[::-1] ))\n",
    "    unique_buys = list(dict.fromkeys( [f for i, f in enumerate(aids) if types[i] in [1, 2]][::-1] ))\n",
    "    \n",
    "    ln = len(unique_aids)\n",
    " \n",
    "    if len(unique_aids)>=15:\n",
    "        weights=np.logspace(0.1,1,len(aids),base=2, endpoint=True)-1\n",
    "        aids_temp = Counter() \n",
    "        for aid,w,t in zip(aids,weights,types): \n",
    "            aids_temp[aid] += w * type_weight_multipliers[t]\n",
    "        aids3 = list(itertools.chain(*[top_20c[aid][:20*2] for aid in unique_aids[:2] if aid in top_20c]))\n",
    "        for i,aid in enumerate(aids3):\n",
    "            aids_temp[aid] += 0.6\n",
    "        aids3 = list(itertools.chain(*[top_20b[aid][:15*2] for aid in unique_aids3 if aid in top_20b]))\n",
    "        for i,aid in enumerate(aids3):\n",
    "            aids_temp[aid] += 0.3\n",
    "        aids3 = list(itertools.chain(*[top_20_test2[aid][:20*2] for aid in unique_aids[:2] if aid in top_20_test2]))\n",
    "        for i,aid in enumerate(aids3):\n",
    "            aids_temp[aid] += 0.6\n",
    "            \n",
    "        #aids3 = list(itertools.chain(*[top_20[aid][:10] for aid in click_aids[:5] if aid in top_20]))\n",
    "        #for i,aid in enumerate(aids3):\n",
    "        #    aids_temp[aid] += 0.3\n",
    "                \n",
    "        result = [k for k,v in aids_temp.most_common(ITEM_CT)]\n",
    "        return session, (result + top_clicks[:ITEM_CT-len(result)])[:ITEM_CT]\n",
    "        #return sorted_aids \n",
    "    \n",
    "    aids_temp = Counter() \n",
    "    \n",
    "    # NEW\n",
    "    MM = 4\n",
    "    aids2 = list(itertools.chain(*[top_day[aid][:10*MM] for aid in unique_aids6 if aid in top_day]))     \n",
    "    for i,aid in enumerate( aids2 ):\n",
    "        aids_temp[aid] += 1  \n",
    "        \n",
    "    # NEW NEW\n",
    "    #ln0 = len(click_aids)\n",
    "    aids2 = list(itertools.chain(*[top_20[aid][:20] for aid in click_aids if aid in top_20]))\n",
    "    for i,aid in enumerate(aids2):\n",
    "        aids_temp[aid] += 0.5\n",
    "        #if i%20==0: aids_temp[aid] += 0.5 \n",
    "    \n",
    "    weights3 = [2,2] + [1]*28 \n",
    "    if len(unique_aids)==1:\n",
    "        aids5 = list(itertools.chain(*[top_20_new2[aid][:30] for aid in unique_aids[-1:] if aid in top_20_new2]))\n",
    "        w5 = weights3* int(len(aids5)//30)\n",
    "        for aid,w in zip(aids5,w5):\n",
    "            aids_temp[aid] += w\n",
    "            \n",
    "    #aids2 = list(itertools.chain(*[top_20[aid][:20*2] for aid in unique_aids if aid in top_20]))\n",
    "    #for i,aid in enumerate(aids2):\n",
    "    #    m = 0.1 + 0.9*(ln-(i//(20*2)))/ln\n",
    "    #    aids_temp[aid] += m\n",
    "    #    if i%(20*2)==0: aids_temp[aid] += m\n",
    "         \n",
    "    # FROM GIBA\n",
    "    for i, a in enumerate(unique_aids):\n",
    "        w0 = np.max([1 - (0.35 * i), 0.001]) #Weight aid order starting from the last one. \n",
    "        if a in top_20:\n",
    "            for j, aj in enumerate(top_20[a]):\n",
    "                w1 = np.max([1 - (0.005 * j), 0.01]) #Weight the candidate aid from the dict\n",
    "                aids_temp[aj] += (w0*w1)\n",
    "                            \n",
    "    aids3 = list(itertools.chain(*[top_20b[aid][:20*2] for aid in unique_aids[:2] if aid in top_20b]))\n",
    "    for i,aid in enumerate(aids3):\n",
    "        aids_temp[aid] += 1\n",
    "        if i%(20*2)==0: aids_temp[aid] += 1\n",
    "            \n",
    "    aids3 = list(itertools.chain(*[top_20_test2[aid][:20*2] for aid in unique_aids[:2] if aid in top_20_test2]))\n",
    "    for i,aid in enumerate(aids3):\n",
    "        aids_temp[aid] += 1\n",
    "        if i%(20*2)==0: aids_temp[aid] += 1\n",
    "            \n",
    "    # TRY GIBA HERE\n",
    "    aids4 = list(itertools.chain(*[top_20f[aid][:10*2] for aid in unique_aids4 if aid in top_20f]))\n",
    "    for i,aid in enumerate(aids4):\n",
    "        w = i//(10*2)\n",
    "        aids_temp[aid] += 1 -w*0.1\n",
    "        if i%(10*2)==0: aids_temp[aid] += 1 -w*0.1\n",
    "            \n",
    "    aids5 = list(itertools.chain(*[top_20e[aid][:20*2] for aid in unique_aids3 if aid in top_20e]))\n",
    "    for i,aid in enumerate(aids5):\n",
    "        aids_temp[aid] += 1\n",
    "        if i%(20*2)==0: aids_temp[aid] += 1\n",
    "    top_aids2 = [k for k,v in aids_temp.most_common(1) if k not in unique_aids]\n",
    "    \n",
    "    aids3 = list(itertools.chain(*[top_20c[aid][:10*2] for aid in top_aids2 if aid in top_20c]))\n",
    "    for i,aid in enumerate(aids3):\n",
    "        aids_temp[aid] += 1\n",
    "        if i%(10*2)==0: aids_temp[aid] += 1\n",
    "    top_aids2 = [k for k,v in aids_temp.most_common(ITEM_CT) if k not in unique_aids]\n",
    "    \n",
    "    result = unique_aids + top_aids2[:ITEM_CT - len(unique_aids)]\n",
    "    return session, (result + top_clicks[:ITEM_CT-len(result)])[:ITEM_CT]\n",
    "\n",
    "def suggest_orders(df):\n",
    "    \n",
    "    session = df[0]\n",
    "    aids = df[1]\n",
    "    aids9 = aids.copy()\n",
    "    types = df[2]\n",
    "    tss = df[3]\n",
    "    ds = df[4]\n",
    "    ds1 = df[5]\n",
    "    ds2 = df[6]\n",
    "    days = df[7]\n",
    "    \n",
    "    #top_day = top_40_day[ df.day.values[0] ]\n",
    "    top_day = top_40_day\n",
    "    #click_aids = click_df[df.session.values[0]][:ITEM_CT2]\n",
    "    click_aids = click_df[session][:ITEM_CT3]\n",
    "    \n",
    "    #aids = df.aid.tolist()\n",
    "    #types = df.type.tolist()\n",
    "    unique_aids = list(dict.fromkeys(aids[::-1] ))\n",
    "    \n",
    "    #mx = df.d.max()\n",
    "    #aids2 = df.loc[df.d==mx].aid.tolist()\n",
    "    #unique_aids4 = list(dict.fromkeys(aids2[::-1] )) # last session\n",
    "    mx = np.max(ds)\n",
    "    unique_aids4 = list(dict.fromkeys( [f for i, f in enumerate(aids) if ds[i] == mx][::-1] ))\n",
    "    \n",
    "    #mx = df.ts.max()\n",
    "    #aids2 = df.loc[df.ts >= mx - 60*60/2].aid.tolist()\n",
    "    #unique_aids5 = list(dict.fromkeys(aids2[::-1] )) #recent 1 hour  \n",
    "    mx = np.max(tss)\n",
    "    unique_aids5 = list(dict.fromkeys( [f for i, f in enumerate(aids) if tss[i] >= mx - 60*60/2 ][::-1] ))\n",
    "    \n",
    "    #aids2 = df.loc[df.ts >= mx - 60*60*24].aid.tolist()\n",
    "    #unique_aids6 = list(dict.fromkeys(aids2[::-1] )) #recent 1 day \n",
    "    unique_aids6 = list(dict.fromkeys( [f for i, f in enumerate(aids) if tss[i] >= mx - 60*60*24 ][::-1] ))\n",
    "    \n",
    "    #df2 = df.drop_duplicates('d')\n",
    "    #aids2 = df2.aid.tolist()\n",
    "    #unique_aids2 = list(dict.fromkeys(aids2[::-1] )) #first of each session\n",
    "    unique_aids2 = list(dict.fromkeys( [f for i, f in enumerate(aids) if ds1[i] == 1][::-1] ))\n",
    "    \n",
    "    #df2 = df.sort_values('ts',ascending=False).drop_duplicates('d')\n",
    "    #aids2 = df2.aid.tolist()\n",
    "    #unique_aids3 = list(dict.fromkeys(aids2 )) #last of each session\n",
    "    unique_aids3 = list(dict.fromkeys( [f for i, f in enumerate(aids) if ds2[i] == 1][::-1] ))\n",
    "    \n",
    "    #df = df.loc[ df['type'].isin([1,2]) ]\n",
    "    #unique_buys = list(dict.fromkeys( df.aid.tolist()[::-1] ))\n",
    "    unique_buys = list(dict.fromkeys( [f for i, f in enumerate(aids) if types[i] in [1, 2]][::-1] ))\n",
    "    \n",
    "    if len(unique_aids)>=20:\n",
    "\n",
    "        weights=np.logspace(0.5,1,len(aids),base=2, endpoint=True)-1\n",
    "        aids_temp = Counter() \n",
    "        for aid,w,t in zip(aids,weights,types): \n",
    "            aids_temp[aid] += w * type_weight_multipliers[t]\n",
    "        for aid in unique_aids2: \n",
    "            aids_temp[aid] += 0.5\n",
    "        for aid in unique_aids3: \n",
    "            aids_temp[aid] += 0.5\n",
    "            \n",
    "        aids3 = list(itertools.chain(*[top_20_buy2buy[aid][:40] for aid in unique_buys if aid in top_20_buy2buy]))\n",
    "        for i,aid in enumerate(aids3):\n",
    "            aids_temp[aid] += 0.05\n",
    "            if i%40==0: aids_temp[aid] += 0.05\n",
    "        aids3 = list(itertools.chain(*[top_20_buy2buy2[aid][:40] for aid in unique_buys if aid in top_20_buy2buy2]))\n",
    "        for i,aid in enumerate(aids3):\n",
    "            aids_temp[aid] += 0.1\n",
    "            if i%40==0: aids_temp[aid] += 0.1\n",
    "                \n",
    "        aids4 = list(itertools.chain(*[top_20_test[aid][:40] for aid in unique_aids if aid in top_20_test]))\n",
    "        for i,aid in enumerate(aids4):\n",
    "            aids_temp[aid] += 0.05\n",
    "            if i%40==0: aids_temp[aid] += 0.05\n",
    "        aids5 = list(itertools.chain(*[top_20c[aid][:20] for aid in unique_aids[:1] if aid in top_20c]))\n",
    "        for i,aid in enumerate(aids5):\n",
    "            aids_temp[aid] += 0.05\n",
    "            if i%20==0: aids_temp[aid] += 0.05\n",
    "        aids6 = list(itertools.chain(*[top_20d[aid][:20] for aid in unique_buys[:1] if aid in top_20d]))\n",
    "        for i,aid in enumerate(aids6):\n",
    "            aids_temp[aid] += 0.05\n",
    "            if i%20==0: aids_temp[aid] += 0.05\n",
    "                \n",
    "        aids7 = list(itertools.chain(*[top_20b[aid][:5] for aid in unique_aids3 if aid in top_20b]))\n",
    "        for i,aid in enumerate(aids7):\n",
    "            aids_temp[aid] += 0.25\n",
    "            if i%5==0: aids_temp[aid] += 0.25\n",
    "        aids7 = list(itertools.chain(*[top_20b[aid][:5] for aid in unique_aids2 if aid in top_20b]))\n",
    "        for i,aid in enumerate(aids7):\n",
    "            aids_temp[aid] += 0.125\n",
    "            if i%5==0: aids_temp[aid] += 0.125\n",
    "                \n",
    "           \n",
    "        aids4 = list(itertools.chain(*[top_day[aid][:40] for aid in unique_aids6 if aid in top_day]))\n",
    "        for i,aid in enumerate(aids4):\n",
    "            aids_temp[aid] += 0.05\n",
    "            if i%40==0: aids_temp[aid] += 0.05\n",
    "        aids4 = list(itertools.chain(*[top_20_test[aid][:20] for aid in click_aids if aid in top_20_test]))\n",
    "        for i,aid in enumerate(aids4):\n",
    "            aids_temp[aid] += 0.05\n",
    "            if i%20==0: aids_temp[aid] += 0.05\n",
    "        aids4 = list(itertools.chain(*[top_20_buy[aid][:20] for aid in click_aids if aid in top_20_buy]))\n",
    "        for i,aid in enumerate(aids4):\n",
    "            aids_temp[aid] += 0.05\n",
    "            if i%20==0: aids_temp[aid] += 0.05\n",
    "        for aid in click_aids:\n",
    "            aids_temp[aid] += 0.05\n",
    "            \n",
    "        # NEW STUFF \n",
    "        aids4 = list(itertools.chain(*[top_40_more[aid][:5] for aid in unique_aids if aid in top_40_more]))\n",
    "        for i,aid in enumerate(aids4):\n",
    "            aids_temp[aid] += 0.03\n",
    "            if i%5==0: aids_temp[aid] += 0.03\n",
    "        aids4 = list(itertools.chain(*[top_40_more2[aid][:5] for aid in unique_aids if aid in top_40_more2]))\n",
    "        for i,aid in enumerate(aids4):\n",
    "            aids_temp[aid] += 0.03\n",
    "            if i%5==0: aids_temp[aid] += 0.03\n",
    "        aids4 = list(itertools.chain(*[top_40_less[aid][:5] for aid in unique_aids if aid in top_40_less]))\n",
    "        for i,aid in enumerate(aids4):\n",
    "            aids_temp[aid] += 0.03\n",
    "            if i%5==0: aids_temp[aid] += 0.03\n",
    "        aids4 = list(itertools.chain(*[top_40_less2[aid][:5] for aid in unique_aids if aid in top_40_less2]))\n",
    "        for i,aid in enumerate(aids4):\n",
    "            aids_temp[aid] += 0.03\n",
    "            if i%5==0: aids_temp[aid] += 0.03\n",
    "            \n",
    "        result = [k for k,v in aids_temp.most_common(ITEM_CT)]\n",
    "        return session, (result + top_orders[:ITEM_CT-len(result)])[:ITEM_CT]\n",
    "        #return sorted_aids \n",
    "    \n",
    "    weights = [2,2] + [1]*8 #+ [0]*30\n",
    "    weights2 = [2,2] + [1]*53 #+ [0]*25\n",
    "    weights3 = [2,2] + [1]*18 #+ [0]*70\n",
    "    weights4 = [2,2] + [1]*38 #+ [0]*70\n",
    "    weights5 = [2,2] + [1]*28 #+ [0]*70\n",
    "    \n",
    "    ln = len(unique_aids)\n",
    "    \n",
    "    MM = 3\n",
    "    aids_temp = Counter() \n",
    "    aids2 = list(itertools.chain(*[top_20_orders[aid][:10*MM] for aid in unique_aids if aid in top_20_orders]))\n",
    "    w2 = weights5* int(len(aids2)//(10*MM))\n",
    "    aids3 = list(itertools.chain(*[top_20_buy2buy[aid][:10*MM] for aid in unique_buys if aid in top_20_buy2buy]))\n",
    "    w3 = weights5* int(len(aids3)//(10*MM))\n",
    "    aids4 = list(itertools.chain(*[top_20_test[aid][:10*MM] for aid in unique_aids if aid in top_20_test]))\n",
    "    w4 = weights5* int(len(aids4)//(10*MM))\n",
    "    aids5 = list(itertools.chain(*[top_20_buy2buy2[aid][:10*MM] for aid in unique_buys if aid in top_20_buy2buy2]))\n",
    "    w5 = weights5* int(len(aids5)//(10*MM))\n",
    "    for i,(aid,w) in enumerate(zip(aids2,w2)):\n",
    "        m = 0.25 + 0.75*(ln-(i//(10*MM)))/ln\n",
    "        aids_temp[aid] += w*m\n",
    "    for i,(aid,w) in enumerate(zip(aids3,w3)):\n",
    "        aids_temp[aid] += w/2\n",
    "    for i,(aid,w) in enumerate(zip(aids4,w4)):\n",
    "        m = 0.25 + 0.75*(ln-(i//(10*MM)))/ln\n",
    "        aids_temp[aid] += w*m\n",
    "    for i,(aid,w) in enumerate(zip(aids5,w5)):\n",
    "        aids_temp[aid] += w/2\n",
    "      \n",
    "    # NEW\n",
    "    MM = 1\n",
    "    top_40_use = top_40_more\n",
    "    aids2 = list(itertools.chain(*[top_40_use[aid][:10*MM] for aid in unique_aids if aid in top_40_use]))\n",
    "    w2 = weights* int(len(aids2)//(10*MM))\n",
    "    for i,(aid,w) in enumerate(zip(aids2,w2)):\n",
    "        m = 0.25 + 0.75*(ln-(i//(10*MM)))/ln\n",
    "        aids_temp[aid] += w*m\n",
    "    MM = 1\n",
    "    top_40_use = top_40_less\n",
    "    aids2 = list(itertools.chain(*[top_40_use[aid][:10*MM] for aid in unique_aids if aid in top_40_use]))\n",
    "    w2 = weights* int(len(aids2)//(10*MM))\n",
    "    for i,(aid,w) in enumerate(zip(aids2,w2)):\n",
    "        m = 0.25 + 0.75*(ln-(i//(10*MM)))/ln\n",
    "        aids_temp[aid] += w*m\n",
    "        \n",
    "    # NEW\n",
    "    MM = 1\n",
    "    top_40_use = top_40_more2\n",
    "    aids2 = list(itertools.chain(*[top_40_use[aid][:10*MM] for aid in unique_aids if aid in top_40_use]))\n",
    "    w2 = weights* int(len(aids2)//(10*MM))\n",
    "    for i,(aid,w) in enumerate(zip(aids2,w2)):\n",
    "        m = 0.25 + 0.75*(ln-(i//(10*MM)))/ln\n",
    "        aids_temp[aid] += w*m\n",
    "    MM = 1\n",
    "    top_40_use = top_40_less2\n",
    "    aids2 = list(itertools.chain(*[top_40_use[aid][:10*MM] for aid in unique_aids if aid in top_40_use]))\n",
    "    w2 = weights* int(len(aids2)//(10*MM))\n",
    "    for i,(aid,w) in enumerate(zip(aids2,w2)):\n",
    "        m = 0.25 + 0.75*(ln-(i//(10*MM)))/ln\n",
    "        aids_temp[aid] += w*m\n",
    "                      \n",
    "    MM = 4\n",
    "    aids2 = list(itertools.chain(*[top_day[aid][:10*MM] for aid in unique_aids6 if aid in top_day]))\n",
    "    w2 = weights4* int(len(aids2)//(10*MM))        \n",
    "    for i,(aid,w) in enumerate(zip(aids2,w2)):\n",
    "        m = 0.25 + 0.75*(ln-(i//(10*MM)))/ln\n",
    "        aids_temp[aid] += 1 #w*m     \n",
    "        \n",
    "    ln0 = len(click_aids)\n",
    "    aids4 = list(itertools.chain(*[top_20_test[aid][:20] for aid in click_aids if aid in top_20_test]))\n",
    "    w4 = weights3* int(len(aids4)//(20))\n",
    "    for i,(aid,w) in enumerate(zip(aids4,w4)):\n",
    "        m = 0.25 + 0.75*(ln0-(i//(20)))/ln0\n",
    "        aids_temp[aid] += w*m\n",
    "    aids4 = list(itertools.chain(*[top_20_buy[aid][:20] for aid in click_aids if aid in top_20_buy]))\n",
    "    w4 = weights3* int(len(aids4)//(20))\n",
    "    for i,(aid,w) in enumerate(zip(aids4,w4)):\n",
    "        m = 0.25 + 0.75*(ln0-(i//(20)))/ln0\n",
    "        aids_temp[aid] += w*m\n",
    "    for aid in click_aids:\n",
    "        aids_temp[aid] += 1\n",
    "        \n",
    "    aids5 = list(itertools.chain(*[top_20c[aid][:55] for aid in unique_aids[:1] if aid in top_20c]))\n",
    "    w5 = weights2* int(len(aids5)//55)\n",
    "    for aid,w in zip(aids5,w5):\n",
    "        aids_temp[aid] += w\n",
    "        \n",
    "    if len(unique_aids)==1:\n",
    "        aids5 = list(itertools.chain(*[top_20_new2[aid][:20] for aid in unique_aids[-1:] if aid in top_20_new2]))\n",
    "        w5 = weights3* int(len(aids5)//20)\n",
    "        for aid,w in zip(aids5,w5):\n",
    "            aids_temp[aid] += w\n",
    "        aids5 = list(itertools.chain(*[top_20_new[aid][:20] for aid in unique_aids[-1:] if aid in top_20_new]))\n",
    "        w5 = weights3* int(len(aids5)//20)\n",
    "        for aid,w in zip(aids5,w5):\n",
    "            aids_temp[aid] += w\n",
    "        \n",
    "    aids5 = list(itertools.chain(*[top_20d[aid][:20] for aid in unique_buys[:1] if aid in top_20d]))\n",
    "    w5 = weights3* int(len(aids5)//20)\n",
    "    for aid,w in zip(aids5,w5):\n",
    "        aids_temp[aid] += w\n",
    "        \n",
    "    ln2 = len(unique_aids5)\n",
    "    aids5 = list(itertools.chain(*[top_20_buy[aid][:20] for aid in unique_aids5 if aid in top_20_buy]))\n",
    "    w5 = weights3* int(len(aids5)//20)\n",
    "    for aid,w in zip(aids5,w5):\n",
    "        aids_temp[aid] += 2*w/ln2\n",
    "        \n",
    "    aids4 = list(itertools.chain(*[top_20f[aid][:5] for aid in unique_aids4 if aid in top_20f]))\n",
    "    for i,aid in enumerate(aids4):\n",
    "        w = i//5\n",
    "        aids_temp[aid] += 1/2 -w*0.05\n",
    "        if i%5==0: aids_temp[aid] += 1/2 -w*0.05\n",
    "    aids5 = list(itertools.chain(*[top_20e[aid][:55] for aid in unique_aids3 if aid in top_20e]))\n",
    "    w5 = weights2* int(len(aids5)//55)\n",
    "    for i,(aid,w) in enumerate(zip(aids5,w5)):\n",
    "        w2 = i//55\n",
    "        aids_temp[aid] += w -w2*0.1\n",
    "    aids5 = list(itertools.chain(*[top_20e[aid][:10] for aid in unique_aids2 if aid in top_20e]))\n",
    "    w5 = weights* int(len(aids5)//10)\n",
    "    for i,(aid,w) in enumerate(zip(aids5,w5)):\n",
    "        w2 = i//10\n",
    "        aids_temp[aid] += w/2. -w2*0.05\n",
    "                            \n",
    "    sorted_aids = [k for k,v in aids_temp.most_common(ITEM_CT) if k not in unique_aids]\n",
    "    \n",
    "    result = unique_aids + sorted_aids[:ITEM_CT - len(unique_aids)]\n",
    "    return session, (result + top_orders[:ITEM_CT-len(result)])[:ITEM_CT]"
   ]
  },
  {
   "cell_type": "code",
   "execution_count": null,
   "id": "d57e0844",
   "metadata": {},
   "outputs": [],
   "source": []
  },
  {
   "cell_type": "code",
   "execution_count": 20,
   "id": "b6f76f45",
   "metadata": {},
   "outputs": [
    {
     "name": "stdout",
     "output_type": "stream",
     "text": [
      "N Cores : 40\n"
     ]
    }
   ],
   "source": [
    "import psutil\n",
    "N_CORES = psutil.cpu_count()     \n",
    "print(f\"N Cores : {N_CORES}\")\n",
    "from multiprocessing import Pool"
   ]
  },
  {
   "cell_type": "code",
   "execution_count": 21,
   "id": "169b61fc",
   "metadata": {},
   "outputs": [],
   "source": [
    "N_CORES = 20\n",
    "def df_parallelize_run(func, t_split):\n",
    "    \n",
    "    num_cores = np.min([N_CORES, len(t_split)])\n",
    "    pool = Pool(num_cores)\n",
    "    df = pool.map(func, t_split)\n",
    "    pool.close()\n",
    "    pool.join()\n",
    "    \n",
    "    return df"
   ]
  },
  {
   "cell_type": "code",
   "execution_count": 22,
   "id": "7810e35c",
   "metadata": {},
   "outputs": [
    {
     "name": "stdout",
     "output_type": "stream",
     "text": [
      "1801251\n",
      "CPU times: user 36.8 s, sys: 574 ms, total: 37.3 s\n",
      "Wall time: 37.3 s\n"
     ]
    }
   ],
   "source": [
    "%%time\n",
    "PIECES = 10\n",
    "valid_bysession_list = []\n",
    "for PART in range(PIECES):\n",
    "    with open(f'../../data/train_data/lists/valid_group_tolist_{PART}_1.pkl', 'rb') as f:\n",
    "        valid_bysession_list.extend(pickle.load(f))\n",
    "print(len(valid_bysession_list))"
   ]
  },
  {
   "cell_type": "code",
   "execution_count": 23,
   "id": "8596e298",
   "metadata": {},
   "outputs": [],
   "source": [
    "import pickle\n",
    "click_df = pickle.load(open('../../data/candidate_scores/clicks_v620_F.pkl', 'rb'))"
   ]
  },
  {
   "cell_type": "code",
   "execution_count": 24,
   "id": "764e1b18",
   "metadata": {},
   "outputs": [
    {
     "name": "stdout",
     "output_type": "stream",
     "text": [
      "CPU times: user 24.1 s, sys: 14.4 s, total: 38.5 s\n",
      "Wall time: 3min 3s\n"
     ]
    }
   ],
   "source": [
    "%%time\n",
    "temp = df_parallelize_run(suggest_aids, valid_bysession_list)\n",
    "val_clicks = pd.Series([f[1]  for f in temp], index=[f[0] for f in temp])"
   ]
  },
  {
   "cell_type": "code",
   "execution_count": 25,
   "id": "f81772eb",
   "metadata": {},
   "outputs": [
    {
     "name": "stdout",
     "output_type": "stream",
     "text": [
      "CPU times: user 1min 6s, sys: 18.8 s, total: 1min 25s\n",
      "Wall time: 4min 31s\n"
     ]
    }
   ],
   "source": [
    "%%time\n",
    "temp = df_parallelize_run(suggest_orders, valid_bysession_list)\n",
    "val_buys = pd.Series([f[1]  for f in temp], index=[f[0] for f in temp])"
   ]
  },
  {
   "cell_type": "code",
   "execution_count": null,
   "id": "70a6902f",
   "metadata": {},
   "outputs": [],
   "source": []
  },
  {
   "cell_type": "code",
   "execution_count": null,
   "id": "096b5ba5",
   "metadata": {},
   "outputs": [],
   "source": []
  },
  {
   "cell_type": "code",
   "execution_count": 26,
   "id": "69da7ed3",
   "metadata": {},
   "outputs": [],
   "source": [
    "weights = {'clicks': 0.10, 'carts': 0.30, 'orders': 0.60}\n",
    "\n",
    "valid_labels = pd.read_parquet('../../data/train_data/test_labels.parquet')\n",
    "\n",
    "def hits(b):\n",
    "    # b[0] : session id\n",
    "    # b[1] : ground truth\n",
    "    # b[2] : aids prediction \n",
    "    return b[0], len(set(b[1]).intersection(set(b[2]))), np.clip(len(b[1]), 0, 20)\n",
    "\n",
    "def otto_metric_piece(values, typ, verbose=True):\n",
    "    \n",
    "    c1 = pd.DataFrame(values, columns=[\"labels\"]).reset_index().rename({\"index\":\"session\"}, axis=1)\n",
    "    a = valid_labels.loc[valid_labels['type']==typ].merge(c1, how='left', on=['session'])\n",
    "    \n",
    "    a = a.loc[a.labels.notna()]\n",
    "\n",
    "    b=[[a0, a1, a2] for a0, a1, a2 in zip(a[\"session\"], a[\"ground_truth\"], a[\"labels\"])]\n",
    "    c = df_parallelize_run(hits, b)\n",
    "    c = np.array(c)\n",
    "    \n",
    "    recall = c[:,1].sum() / c[:,2].sum()\n",
    "    \n",
    "    print('{} recall = {:.5f}'.format(typ ,recall))\n",
    "    \n",
    "    return recall\n",
    "\n",
    "def otto_metric(clicks, carts, orders, verbose = True):\n",
    "    \n",
    "    score = 0\n",
    "    score += weights[\"clicks\"] * otto_metric_piece(clicks, \"clicks\", verbose = verbose)\n",
    "    score += weights[\"carts\"] * otto_metric_piece(carts, \"carts\", verbose = verbose)\n",
    "    score += weights[\"orders\"] * otto_metric_piece(orders, \"orders\", verbose = verbose)\n",
    "    \n",
    "    if verbose:\n",
    "        print('=============')\n",
    "        print('Overall Recall = {:.5f}'.format(score))\n",
    "        print('=============')\n",
    "    \n",
    "    return score"
   ]
  },
  {
   "cell_type": "code",
   "execution_count": 27,
   "id": "499ed615",
   "metadata": {},
   "outputs": [
    {
     "name": "stdout",
     "output_type": "stream",
     "text": [
      "clicks recall = 0.67459\n"
     ]
    }
   ],
   "source": [
    "#%%time\n",
    "_ = otto_metric_piece(val_clicks, 'clicks')\n",
    "\n",
    "#clicks recall = 0.62412 v701\n",
    "\n",
    "#### recall @100\n",
    "# clicks recall = 0.67459"
   ]
  },
  {
   "cell_type": "code",
   "execution_count": 28,
   "id": "4df6c93d",
   "metadata": {},
   "outputs": [
    {
     "name": "stdout",
     "output_type": "stream",
     "text": [
      "carts recall = 0.52667\n",
      "orders recall = 0.71981\n",
      "CPU times: user 57.6 s, sys: 32.4 s, total: 1min 29s\n",
      "Wall time: 1min 32s\n"
     ]
    }
   ],
   "source": [
    "%%time\n",
    "_ = otto_metric_piece(val_buys, 'carts')\n",
    "_ = otto_metric_piece(val_buys, 'orders')\n",
    "\n",
    "#carts recall = 0.48626 v708_0\n",
    "#orders recall = 0.69640\n",
    "\n",
    "##### recall @100\n",
    "#carts recall = 0.52667\n",
    "#orders recall = 0.71981"
   ]
  },
  {
   "cell_type": "code",
   "execution_count": 32,
   "id": "656c37f1",
   "metadata": {},
   "outputs": [
    {
     "data": {
      "text/plain": [
       "0.657346"
      ]
     },
     "execution_count": 32,
     "metadata": {},
     "output_type": "execute_result"
    }
   ],
   "source": [
    "0.1*0.67459 + 0.3*0.52667 + 0.6*0.71981"
   ]
  },
  {
   "cell_type": "markdown",
   "id": "0bd27d3b",
   "metadata": {},
   "source": [
    "# Create Submission"
   ]
  },
  {
   "cell_type": "code",
   "execution_count": 29,
   "id": "cba85c48",
   "metadata": {},
   "outputs": [],
   "source": [
    "pred_df = val_clicks\n",
    "pred_df_orders = val_buys"
   ]
  },
  {
   "cell_type": "code",
   "execution_count": 30,
   "id": "49e47657",
   "metadata": {},
   "outputs": [],
   "source": [
    "clicks_pred_df = pd.DataFrame(pred_df.add_suffix(\"_clicks\"), columns=[\"labels\"]).reset_index()\n",
    "orders_pred_df = pd.DataFrame(pred_df_orders.add_suffix(\"_orders\"), columns=[\"labels\"]).reset_index()\n",
    "carts_pred_df = pd.DataFrame(pred_df_orders.add_suffix(\"_carts\"), columns=[\"labels\"]).reset_index()"
   ]
  },
  {
   "cell_type": "code",
   "execution_count": 31,
   "id": "69e75637",
   "metadata": {},
   "outputs": [
    {
     "name": "stdout",
     "output_type": "stream",
     "text": [
      "CPU times: user 3min 48s, sys: 5.65 s, total: 3min 54s\n",
      "Wall time: 3min 55s\n"
     ]
    }
   ],
   "source": [
    "%%time\n",
    "pred_df = pd.concat(\n",
    "    [clicks_pred_df, orders_pred_df, carts_pred_df]\n",
    ")\n",
    "pred_df.columns = [\"session_type\", \"labels\"]\n",
    "pred_df[\"labels\"] = pred_df.labels.apply(lambda x: \" \".join(map(str,x)))\n",
    "pred_df.to_csv(f\"../../data/candidate_scores/submission_v{VER}{OFFSET}.csv\", index=False)"
   ]
  }
 ],
 "metadata": {
  "kernelspec": {
   "display_name": "Python 3 (ipykernel)",
   "language": "python",
   "name": "python3"
  },
  "language_info": {
   "codemirror_mode": {
    "name": "ipython",
    "version": 3
   },
   "file_extension": ".py",
   "mimetype": "text/x-python",
   "name": "python",
   "nbconvert_exporter": "python",
   "pygments_lexer": "ipython3",
   "version": "3.8.13"
  },
  "papermill": {
   "default_parameters": {},
   "duration": 510.728298,
   "end_time": "2022-11-03T16:57:49.871924",
   "environment_variables": {},
   "exception": null,
   "input_path": "__notebook__.ipynb",
   "output_path": "__notebook__.ipynb",
   "parameters": {},
   "start_time": "2022-11-03T16:49:19.143626",
   "version": "2.3.4"
  },
  "widgets": {
   "application/vnd.jupyter.widget-state+json": {
    "state": {
     "031ee36fafb743fabfdbe2c52e404acf": {
      "model_module": "@jupyter-widgets/controls",
      "model_module_version": "1.5.0",
      "model_name": "FloatProgressModel",
      "state": {
       "_dom_classes": [],
       "_model_module": "@jupyter-widgets/controls",
       "_model_module_version": "1.5.0",
       "_model_name": "FloatProgressModel",
       "_view_count": null,
       "_view_module": "@jupyter-widgets/controls",
       "_view_module_version": "1.5.0",
       "_view_name": "ProgressView",
       "bar_style": "success",
       "description": "",
       "description_tooltip": null,
       "layout": "IPY_MODEL_c60d5b27c7104ff4b66221703612c2c8",
       "max": 17,
       "min": 0,
       "orientation": "horizontal",
       "style": "IPY_MODEL_c2ba884d4d0d4732937e2a78645d78e2",
       "value": 17
      }
     },
     "0760aa58dc6a449ebb44554c24ed2bd3": {
      "model_module": "@jupyter-widgets/controls",
      "model_module_version": "1.5.0",
      "model_name": "HTMLModel",
      "state": {
       "_dom_classes": [],
       "_model_module": "@jupyter-widgets/controls",
       "_model_module_version": "1.5.0",
       "_model_name": "HTMLModel",
       "_view_count": null,
       "_view_module": "@jupyter-widgets/controls",
       "_view_module_version": "1.5.0",
       "_view_name": "HTMLView",
       "description": "",
       "description_tooltip": null,
       "layout": "IPY_MODEL_1064b0bdf3bd4a3ea3020740104e0e92",
       "placeholder": "​",
       "style": "IPY_MODEL_be5e1ae69d7045e5a0033d98222fba08",
       "value": " 17/17 [00:02&lt;00:00,  9.56it/s]"
      }
     },
     "1064b0bdf3bd4a3ea3020740104e0e92": {
      "model_module": "@jupyter-widgets/base",
      "model_module_version": "1.2.0",
      "model_name": "LayoutModel",
      "state": {
       "_model_module": "@jupyter-widgets/base",
       "_model_module_version": "1.2.0",
       "_model_name": "LayoutModel",
       "_view_count": null,
       "_view_module": "@jupyter-widgets/base",
       "_view_module_version": "1.2.0",
       "_view_name": "LayoutView",
       "align_content": null,
       "align_items": null,
       "align_self": null,
       "border": null,
       "bottom": null,
       "display": null,
       "flex": null,
       "flex_flow": null,
       "grid_area": null,
       "grid_auto_columns": null,
       "grid_auto_flow": null,
       "grid_auto_rows": null,
       "grid_column": null,
       "grid_gap": null,
       "grid_row": null,
       "grid_template_areas": null,
       "grid_template_columns": null,
       "grid_template_rows": null,
       "height": null,
       "justify_content": null,
       "justify_items": null,
       "left": null,
       "margin": null,
       "max_height": null,
       "max_width": null,
       "min_height": null,
       "min_width": null,
       "object_fit": null,
       "object_position": null,
       "order": null,
       "overflow": null,
       "overflow_x": null,
       "overflow_y": null,
       "padding": null,
       "right": null,
       "top": null,
       "visibility": null,
       "width": null
      }
     },
     "1889ea3d74b44b2aa0aceaccc954093c": {
      "model_module": "@jupyter-widgets/controls",
      "model_module_version": "1.5.0",
      "model_name": "HBoxModel",
      "state": {
       "_dom_classes": [],
       "_model_module": "@jupyter-widgets/controls",
       "_model_module_version": "1.5.0",
       "_model_name": "HBoxModel",
       "_view_count": null,
       "_view_module": "@jupyter-widgets/controls",
       "_view_module_version": "1.5.0",
       "_view_name": "HBoxView",
       "box_style": "",
       "children": [
        "IPY_MODEL_2cdd3effa7b64da88f84b3752c118240",
        "IPY_MODEL_031ee36fafb743fabfdbe2c52e404acf",
        "IPY_MODEL_0760aa58dc6a449ebb44554c24ed2bd3"
       ],
       "layout": "IPY_MODEL_4f3ccc97bf9f42928feb4598055d7027"
      }
     },
     "2cdd3effa7b64da88f84b3752c118240": {
      "model_module": "@jupyter-widgets/controls",
      "model_module_version": "1.5.0",
      "model_name": "HTMLModel",
      "state": {
       "_dom_classes": [],
       "_model_module": "@jupyter-widgets/controls",
       "_model_module_version": "1.5.0",
       "_model_name": "HTMLModel",
       "_view_count": null,
       "_view_module": "@jupyter-widgets/controls",
       "_view_module_version": "1.5.0",
       "_view_name": "HTMLView",
       "description": "",
       "description_tooltip": null,
       "layout": "IPY_MODEL_e4c36f74dc844ee3b94f548e941d7207",
       "placeholder": "​",
       "style": "IPY_MODEL_9a77629b692844c6bac59e052d77b9d2",
       "value": "100%"
      }
     },
     "4f3ccc97bf9f42928feb4598055d7027": {
      "model_module": "@jupyter-widgets/base",
      "model_module_version": "1.2.0",
      "model_name": "LayoutModel",
      "state": {
       "_model_module": "@jupyter-widgets/base",
       "_model_module_version": "1.2.0",
       "_model_name": "LayoutModel",
       "_view_count": null,
       "_view_module": "@jupyter-widgets/base",
       "_view_module_version": "1.2.0",
       "_view_name": "LayoutView",
       "align_content": null,
       "align_items": null,
       "align_self": null,
       "border": null,
       "bottom": null,
       "display": null,
       "flex": null,
       "flex_flow": null,
       "grid_area": null,
       "grid_auto_columns": null,
       "grid_auto_flow": null,
       "grid_auto_rows": null,
       "grid_column": null,
       "grid_gap": null,
       "grid_row": null,
       "grid_template_areas": null,
       "grid_template_columns": null,
       "grid_template_rows": null,
       "height": null,
       "justify_content": null,
       "justify_items": null,
       "left": null,
       "margin": null,
       "max_height": null,
       "max_width": null,
       "min_height": null,
       "min_width": null,
       "object_fit": null,
       "object_position": null,
       "order": null,
       "overflow": null,
       "overflow_x": null,
       "overflow_y": null,
       "padding": null,
       "right": null,
       "top": null,
       "visibility": null,
       "width": null
      }
     },
     "9a77629b692844c6bac59e052d77b9d2": {
      "model_module": "@jupyter-widgets/controls",
      "model_module_version": "1.5.0",
      "model_name": "DescriptionStyleModel",
      "state": {
       "_model_module": "@jupyter-widgets/controls",
       "_model_module_version": "1.5.0",
       "_model_name": "DescriptionStyleModel",
       "_view_count": null,
       "_view_module": "@jupyter-widgets/base",
       "_view_module_version": "1.2.0",
       "_view_name": "StyleView",
       "description_width": ""
      }
     },
     "be5e1ae69d7045e5a0033d98222fba08": {
      "model_module": "@jupyter-widgets/controls",
      "model_module_version": "1.5.0",
      "model_name": "DescriptionStyleModel",
      "state": {
       "_model_module": "@jupyter-widgets/controls",
       "_model_module_version": "1.5.0",
       "_model_name": "DescriptionStyleModel",
       "_view_count": null,
       "_view_module": "@jupyter-widgets/base",
       "_view_module_version": "1.2.0",
       "_view_name": "StyleView",
       "description_width": ""
      }
     },
     "c2ba884d4d0d4732937e2a78645d78e2": {
      "model_module": "@jupyter-widgets/controls",
      "model_module_version": "1.5.0",
      "model_name": "ProgressStyleModel",
      "state": {
       "_model_module": "@jupyter-widgets/controls",
       "_model_module_version": "1.5.0",
       "_model_name": "ProgressStyleModel",
       "_view_count": null,
       "_view_module": "@jupyter-widgets/base",
       "_view_module_version": "1.2.0",
       "_view_name": "StyleView",
       "bar_color": null,
       "description_width": ""
      }
     },
     "c60d5b27c7104ff4b66221703612c2c8": {
      "model_module": "@jupyter-widgets/base",
      "model_module_version": "1.2.0",
      "model_name": "LayoutModel",
      "state": {
       "_model_module": "@jupyter-widgets/base",
       "_model_module_version": "1.2.0",
       "_model_name": "LayoutModel",
       "_view_count": null,
       "_view_module": "@jupyter-widgets/base",
       "_view_module_version": "1.2.0",
       "_view_name": "LayoutView",
       "align_content": null,
       "align_items": null,
       "align_self": null,
       "border": null,
       "bottom": null,
       "display": null,
       "flex": null,
       "flex_flow": null,
       "grid_area": null,
       "grid_auto_columns": null,
       "grid_auto_flow": null,
       "grid_auto_rows": null,
       "grid_column": null,
       "grid_gap": null,
       "grid_row": null,
       "grid_template_areas": null,
       "grid_template_columns": null,
       "grid_template_rows": null,
       "height": null,
       "justify_content": null,
       "justify_items": null,
       "left": null,
       "margin": null,
       "max_height": null,
       "max_width": null,
       "min_height": null,
       "min_width": null,
       "object_fit": null,
       "object_position": null,
       "order": null,
       "overflow": null,
       "overflow_x": null,
       "overflow_y": null,
       "padding": null,
       "right": null,
       "top": null,
       "visibility": null,
       "width": null
      }
     },
     "e4c36f74dc844ee3b94f548e941d7207": {
      "model_module": "@jupyter-widgets/base",
      "model_module_version": "1.2.0",
      "model_name": "LayoutModel",
      "state": {
       "_model_module": "@jupyter-widgets/base",
       "_model_module_version": "1.2.0",
       "_model_name": "LayoutModel",
       "_view_count": null,
       "_view_module": "@jupyter-widgets/base",
       "_view_module_version": "1.2.0",
       "_view_name": "LayoutView",
       "align_content": null,
       "align_items": null,
       "align_self": null,
       "border": null,
       "bottom": null,
       "display": null,
       "flex": null,
       "flex_flow": null,
       "grid_area": null,
       "grid_auto_columns": null,
       "grid_auto_flow": null,
       "grid_auto_rows": null,
       "grid_column": null,
       "grid_gap": null,
       "grid_row": null,
       "grid_template_areas": null,
       "grid_template_columns": null,
       "grid_template_rows": null,
       "height": null,
       "justify_content": null,
       "justify_items": null,
       "left": null,
       "margin": null,
       "max_height": null,
       "max_width": null,
       "min_height": null,
       "min_width": null,
       "object_fit": null,
       "object_position": null,
       "order": null,
       "overflow": null,
       "overflow_x": null,
       "overflow_y": null,
       "padding": null,
       "right": null,
       "top": null,
       "visibility": null,
       "width": null
      }
     }
    },
    "version_major": 2,
    "version_minor": 0
   }
  }
 },
 "nbformat": 4,
 "nbformat_minor": 5
}
