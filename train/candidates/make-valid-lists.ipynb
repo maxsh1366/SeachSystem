{
 "cells": [
  {
   "cell_type": "code",
   "execution_count": 1,
   "id": "ed440f74",
   "metadata": {},
   "outputs": [],
   "source": [
    "VER = 1\n",
    "import pandas as pd, numpy as np\n",
    "import pickle, glob, gc"
   ]
  },
  {
   "cell_type": "code",
   "execution_count": 2,
   "id": "72683f89",
   "metadata": {
    "scrolled": true
   },
   "outputs": [
    {
     "data": {
      "text/html": [
       "<div>\n",
       "<style scoped>\n",
       "    .dataframe tbody tr th:only-of-type {\n",
       "        vertical-align: middle;\n",
       "    }\n",
       "\n",
       "    .dataframe tbody tr th {\n",
       "        vertical-align: top;\n",
       "    }\n",
       "\n",
       "    .dataframe thead th {\n",
       "        text-align: right;\n",
       "    }\n",
       "</style>\n",
       "<table border=\"1\" class=\"dataframe\">\n",
       "  <thead>\n",
       "    <tr style=\"text-align: right;\">\n",
       "      <th></th>\n",
       "      <th>session</th>\n",
       "      <th>aid</th>\n",
       "      <th>ts</th>\n",
       "      <th>type</th>\n",
       "      <th>d</th>\n",
       "    </tr>\n",
       "  </thead>\n",
       "  <tbody>\n",
       "    <tr>\n",
       "      <th>0</th>\n",
       "      <td>11098528</td>\n",
       "      <td>11830</td>\n",
       "      <td>1661119200</td>\n",
       "      <td>0</td>\n",
       "      <td>0</td>\n",
       "    </tr>\n",
       "    <tr>\n",
       "      <th>1</th>\n",
       "      <td>11098529</td>\n",
       "      <td>1105029</td>\n",
       "      <td>1661119200</td>\n",
       "      <td>0</td>\n",
       "      <td>0</td>\n",
       "    </tr>\n",
       "    <tr>\n",
       "      <th>2</th>\n",
       "      <td>11098530</td>\n",
       "      <td>264500</td>\n",
       "      <td>1661119200</td>\n",
       "      <td>0</td>\n",
       "      <td>0</td>\n",
       "    </tr>\n",
       "    <tr>\n",
       "      <th>3</th>\n",
       "      <td>11098530</td>\n",
       "      <td>264500</td>\n",
       "      <td>1661119288</td>\n",
       "      <td>0</td>\n",
       "      <td>0</td>\n",
       "    </tr>\n",
       "    <tr>\n",
       "      <th>4</th>\n",
       "      <td>11098530</td>\n",
       "      <td>409236</td>\n",
       "      <td>1661119369</td>\n",
       "      <td>0</td>\n",
       "      <td>0</td>\n",
       "    </tr>\n",
       "  </tbody>\n",
       "</table>\n",
       "</div>"
      ],
      "text/plain": [
       "    session      aid          ts  type  d\n",
       "0  11098528    11830  1661119200     0  0\n",
       "1  11098529  1105029  1661119200     0  0\n",
       "2  11098530   264500  1661119200     0  0\n",
       "3  11098530   264500  1661119288     0  0\n",
       "4  11098530   409236  1661119369     0  0"
      ]
     },
     "execution_count": 2,
     "metadata": {},
     "output_type": "execute_result"
    }
   ],
   "source": [
    "valid = pd.read_parquet('test_with_d.parquet')\n",
    "valid.head()"
   ]
  },
  {
   "cell_type": "code",
   "execution_count": 3,
   "id": "dfe08c3a",
   "metadata": {},
   "outputs": [],
   "source": [
    "#MN = 1661119200\n",
    "MN = valid.ts.min()\n",
    "print( MN ) #should be 1661119200 for valid\n",
    "valid['day'] = (valid.ts - MN) // (60*60*24)"
   ]
  },
  {
   "cell_type": "code",
   "execution_count": 4,
   "id": "89d14a2d",
   "metadata": {},
   "outputs": [
    {
     "data": {
      "text/html": [
       "<div>\n",
       "<style scoped>\n",
       "    .dataframe tbody tr th:only-of-type {\n",
       "        vertical-align: middle;\n",
       "    }\n",
       "\n",
       "    .dataframe tbody tr th {\n",
       "        vertical-align: top;\n",
       "    }\n",
       "\n",
       "    .dataframe thead th {\n",
       "        text-align: right;\n",
       "    }\n",
       "</style>\n",
       "<table border=\"1\" class=\"dataframe\">\n",
       "  <thead>\n",
       "    <tr style=\"text-align: right;\">\n",
       "      <th></th>\n",
       "      <th>session</th>\n",
       "      <th>aid</th>\n",
       "      <th>ts</th>\n",
       "      <th>type</th>\n",
       "      <th>d</th>\n",
       "      <th>day</th>\n",
       "    </tr>\n",
       "  </thead>\n",
       "  <tbody>\n",
       "    <tr>\n",
       "      <th>0</th>\n",
       "      <td>11098528</td>\n",
       "      <td>11830</td>\n",
       "      <td>1661119200</td>\n",
       "      <td>0</td>\n",
       "      <td>0</td>\n",
       "      <td>0</td>\n",
       "    </tr>\n",
       "    <tr>\n",
       "      <th>1</th>\n",
       "      <td>11098529</td>\n",
       "      <td>1105029</td>\n",
       "      <td>1661119200</td>\n",
       "      <td>0</td>\n",
       "      <td>0</td>\n",
       "      <td>0</td>\n",
       "    </tr>\n",
       "    <tr>\n",
       "      <th>2</th>\n",
       "      <td>11098530</td>\n",
       "      <td>264500</td>\n",
       "      <td>1661119200</td>\n",
       "      <td>0</td>\n",
       "      <td>0</td>\n",
       "      <td>0</td>\n",
       "    </tr>\n",
       "    <tr>\n",
       "      <th>3</th>\n",
       "      <td>11098530</td>\n",
       "      <td>264500</td>\n",
       "      <td>1661119288</td>\n",
       "      <td>0</td>\n",
       "      <td>0</td>\n",
       "      <td>0</td>\n",
       "    </tr>\n",
       "    <tr>\n",
       "      <th>4</th>\n",
       "      <td>11098530</td>\n",
       "      <td>409236</td>\n",
       "      <td>1661119369</td>\n",
       "      <td>0</td>\n",
       "      <td>0</td>\n",
       "      <td>0</td>\n",
       "    </tr>\n",
       "  </tbody>\n",
       "</table>\n",
       "</div>"
      ],
      "text/plain": [
       "    session      aid          ts  type  d  day\n",
       "0  11098528    11830  1661119200     0  0    0\n",
       "1  11098529  1105029  1661119200     0  0    0\n",
       "2  11098530   264500  1661119200     0  0    0\n",
       "3  11098530   264500  1661119288     0  0    0\n",
       "4  11098530   409236  1661119369     0  0    0"
      ]
     },
     "execution_count": 4,
     "metadata": {},
     "output_type": "execute_result"
    }
   ],
   "source": [
    "valid.head()"
   ]
  },
  {
   "cell_type": "code",
   "execution_count": 5,
   "id": "74e8f486",
   "metadata": {},
   "outputs": [],
   "source": [
    "valid = valid.sort_values(['session','ts'])"
   ]
  },
  {
   "cell_type": "code",
   "execution_count": 6,
   "id": "99b42c9a",
   "metadata": {},
   "outputs": [],
   "source": [
    "valid['x'] = valid.groupby(['session','d']).d.cumcount()"
   ]
  },
  {
   "cell_type": "code",
   "execution_count": 7,
   "id": "c89e4113",
   "metadata": {},
   "outputs": [],
   "source": [
    "valid['a'] = 0\n",
    "valid.loc[valid.x==0,'a'] = 1"
   ]
  },
  {
   "cell_type": "code",
   "execution_count": 8,
   "id": "d4d9ff61",
   "metadata": {},
   "outputs": [],
   "source": [
    "valid = valid.sort_values(['session','ts'],ascending=[True,False])"
   ]
  },
  {
   "cell_type": "code",
   "execution_count": 9,
   "id": "9dda3bd9",
   "metadata": {},
   "outputs": [],
   "source": [
    "valid['x'] = valid.groupby(['session','d']).d.cumcount()"
   ]
  },
  {
   "cell_type": "code",
   "execution_count": 10,
   "id": "ca864e68",
   "metadata": {},
   "outputs": [],
   "source": [
    "valid['b'] = 0\n",
    "valid.loc[valid.x==0,'b'] = 1"
   ]
  },
  {
   "cell_type": "code",
   "execution_count": 11,
   "id": "90847b3b",
   "metadata": {
    "scrolled": true
   },
   "outputs": [],
   "source": [
    "valid = valid.sort_values(['session','ts'])"
   ]
  },
  {
   "cell_type": "code",
   "execution_count": 12,
   "id": "ae14c4fc",
   "metadata": {},
   "outputs": [],
   "source": [
    "valid = valid.drop('x',axis=1)"
   ]
  },
  {
   "cell_type": "code",
   "execution_count": 13,
   "id": "3f5a4044",
   "metadata": {},
   "outputs": [
    {
     "data": {
      "text/html": [
       "<div>\n",
       "<style scoped>\n",
       "    .dataframe tbody tr th:only-of-type {\n",
       "        vertical-align: middle;\n",
       "    }\n",
       "\n",
       "    .dataframe tbody tr th {\n",
       "        vertical-align: top;\n",
       "    }\n",
       "\n",
       "    .dataframe thead th {\n",
       "        text-align: right;\n",
       "    }\n",
       "</style>\n",
       "<table border=\"1\" class=\"dataframe\">\n",
       "  <thead>\n",
       "    <tr style=\"text-align: right;\">\n",
       "      <th></th>\n",
       "      <th>session</th>\n",
       "      <th>aid</th>\n",
       "      <th>ts</th>\n",
       "      <th>type</th>\n",
       "      <th>d</th>\n",
       "      <th>day</th>\n",
       "      <th>a</th>\n",
       "      <th>b</th>\n",
       "    </tr>\n",
       "  </thead>\n",
       "  <tbody>\n",
       "    <tr>\n",
       "      <th>0</th>\n",
       "      <td>11098528</td>\n",
       "      <td>11830</td>\n",
       "      <td>1661119200</td>\n",
       "      <td>0</td>\n",
       "      <td>0</td>\n",
       "      <td>0</td>\n",
       "      <td>1</td>\n",
       "      <td>1</td>\n",
       "    </tr>\n",
       "    <tr>\n",
       "      <th>1</th>\n",
       "      <td>11098529</td>\n",
       "      <td>1105029</td>\n",
       "      <td>1661119200</td>\n",
       "      <td>0</td>\n",
       "      <td>0</td>\n",
       "      <td>0</td>\n",
       "      <td>1</td>\n",
       "      <td>1</td>\n",
       "    </tr>\n",
       "    <tr>\n",
       "      <th>2</th>\n",
       "      <td>11098530</td>\n",
       "      <td>264500</td>\n",
       "      <td>1661119200</td>\n",
       "      <td>0</td>\n",
       "      <td>0</td>\n",
       "      <td>0</td>\n",
       "      <td>1</td>\n",
       "      <td>0</td>\n",
       "    </tr>\n",
       "    <tr>\n",
       "      <th>3</th>\n",
       "      <td>11098530</td>\n",
       "      <td>264500</td>\n",
       "      <td>1661119288</td>\n",
       "      <td>0</td>\n",
       "      <td>0</td>\n",
       "      <td>0</td>\n",
       "      <td>0</td>\n",
       "      <td>0</td>\n",
       "    </tr>\n",
       "    <tr>\n",
       "      <th>4</th>\n",
       "      <td>11098530</td>\n",
       "      <td>409236</td>\n",
       "      <td>1661119369</td>\n",
       "      <td>0</td>\n",
       "      <td>0</td>\n",
       "      <td>0</td>\n",
       "      <td>0</td>\n",
       "      <td>0</td>\n",
       "    </tr>\n",
       "  </tbody>\n",
       "</table>\n",
       "</div>"
      ],
      "text/plain": [
       "    session      aid          ts  type  d  day  a  b\n",
       "0  11098528    11830  1661119200     0  0    0  1  1\n",
       "1  11098529  1105029  1661119200     0  0    0  1  1\n",
       "2  11098530   264500  1661119200     0  0    0  1  0\n",
       "3  11098530   264500  1661119288     0  0    0  0  0\n",
       "4  11098530   409236  1661119369     0  0    0  0  0"
      ]
     },
     "execution_count": 13,
     "metadata": {},
     "output_type": "execute_result"
    }
   ],
   "source": [
    "valid.head()"
   ]
  },
  {
   "cell_type": "code",
   "execution_count": 14,
   "id": "eec4a337",
   "metadata": {},
   "outputs": [
    {
     "name": "stdout",
     "output_type": "stream",
     "text": [
      "1801251\n",
      "CPU times: user 34.8 s, sys: 1.68 s, total: 36.5 s\n",
      "Wall time: 36.5 s\n"
     ]
    }
   ],
   "source": [
    "%%time\n",
    "temp = [group for name, group in valid.sort_values([\"session\", \"ts\"]).groupby([\"session\"])]\n",
    "print(len(temp))"
   ]
  },
  {
   "cell_type": "code",
   "execution_count": 15,
   "id": "c2c37034",
   "metadata": {},
   "outputs": [
    {
     "name": "stdout",
     "output_type": "stream",
     "text": [
      "0\n",
      "### PART 1 - from 0 to 180125\n",
      "1\n",
      "### PART 2 - from 180125 to 360250\n",
      "2\n",
      "### PART 3 - from 360250 to 540375\n",
      "3\n",
      "### PART 4 - from 540375 to 720500\n",
      "4\n",
      "### PART 5 - from 720500 to 900625\n",
      "5\n",
      "### PART 6 - from 900625 to 1080750\n",
      "6\n",
      "### PART 7 - from 1080750 to 1260875\n",
      "7\n",
      "### PART 8 - from 1260875 to 1441000\n",
      "8\n",
      "### PART 9 - from 1441000 to 1621125\n",
      "9\n",
      "### PART 10 - from 1621125 to 1801251\n",
      "CPU times: user 13min 46s, sys: 11.7 s, total: 13min 58s\n",
      "Wall time: 13min 58s\n"
     ]
    }
   ],
   "source": [
    "%%time\n",
    "PIECES = 10\n",
    "\n",
    "for PART in range(PIECES):\n",
    "    print(PART)\n",
    "    \n",
    "    print('### PART {} - from {} to {}'.format(PART + 1, PART * len(temp)//PIECES, (PART+1) * len(temp) // PIECES))\n",
    "    \n",
    "    mylist = [[h.session.iloc[0], h.aid.to_list(), h.type.to_list(), h.ts.to_list(), h.d.to_list(), \n",
    "               h.a.to_list(), h.b.to_list(), h.day.to_list() ] \n",
    "              for h in temp[PART * len(temp)//PIECES:(PART+1) * len(temp) // PIECES]]\n",
    "    \n",
    "    with open(f'../../data/train_data/lists/valid_group_tolist_{PART}_{VER}.pkl', 'wb') as f:\n",
    "        pickle.dump(mylist, f) "
   ]
  }
 ],
 "metadata": {
  "kernelspec": {
   "display_name": "Python 3 (ipykernel)",
   "language": "python",
   "name": "python3"
  },
  "language_info": {
   "codemirror_mode": {
    "name": "ipython",
    "version": 3
   },
   "file_extension": ".py",
   "mimetype": "text/x-python",
   "name": "python",
   "nbconvert_exporter": "python",
   "pygments_lexer": "ipython3",
   "version": "3.8.13"
  }
 },
 "nbformat": 4,
 "nbformat_minor": 5
}
