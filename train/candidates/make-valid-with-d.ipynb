{
 "cells": [
  {
   "cell_type": "code",
   "execution_count": 6,
   "id": "55895a2c",
   "metadata": {},
   "outputs": [],
   "source": [
    "import pandas as pd\n",
    "from tqdm.notebook import tqdm\n",
    "import glob"
   ]
  },
  {
   "cell_type": "code",
   "execution_count": null,
   "id": "336150c1",
   "metadata": {},
   "outputs": [],
   "source": []
  },
  {
   "cell_type": "code",
   "execution_count": 2,
   "id": "e9d8e505",
   "metadata": {},
   "outputs": [],
   "source": [
    "def load_test():    \n",
    "    dfs = []\n",
    "    for e, chunk_file in enumerate(tqdm(glob.glob('../../data/train_data/test_parquet/*'))):\n",
    "        chunk = pd.read_parquet(chunk_file)\n",
    "        #chunk.ts *= 1000\n",
    "        dfs.append(chunk)\n",
    "\n",
    "    return pd.concat(dfs).reset_index(drop=True) #.astype({\"ts\": \"datetime64[ms]\"})"
   ]
  },
  {
   "cell_type": "code",
   "execution_count": 7,
   "id": "f38545a2",
   "metadata": {},
   "outputs": [
    {
     "data": {
      "application/vnd.jupyter.widget-view+json": {
       "model_id": "0654173640b34b4a940513b81b01b888",
       "version_major": 2,
       "version_minor": 0
      },
      "text/plain": [
       "  0%|          | 0/17 [00:00<?, ?it/s]"
      ]
     },
     "metadata": {},
     "output_type": "display_data"
    }
   ],
   "source": [
    "test_df = load_test()"
   ]
  },
  {
   "cell_type": "code",
   "execution_count": 8,
   "id": "b54827eb",
   "metadata": {},
   "outputs": [
    {
     "name": "stdout",
     "output_type": "stream",
     "text": [
      "CPU times: user 4min 19s, sys: 7.62 s, total: 4min 26s\n",
      "Wall time: 4min 20s\n"
     ]
    }
   ],
   "source": [
    "%%time\n",
    "test_df = test_df.sort_values([\"session\", \"ts\"])\n",
    "test_df['d'] = test_df.groupby('session').ts.diff()\n",
    "test_df.d = (test_df.d > 60*60*2).astype('int16').fillna(0)\n",
    "test_df.d = test_df.groupby('session').d.cumsum()"
   ]
  },
  {
   "cell_type": "code",
   "execution_count": 12,
   "id": "1ea64f5c",
   "metadata": {},
   "outputs": [
    {
     "data": {
      "text/plain": [
       "session    int32\n",
       "aid        int32\n",
       "ts         int32\n",
       "type        int8\n",
       "d          int16\n",
       "dtype: object"
      ]
     },
     "execution_count": 12,
     "metadata": {},
     "output_type": "execute_result"
    }
   ],
   "source": [
    "test_df.dtypes"
   ]
  },
  {
   "cell_type": "code",
   "execution_count": 11,
   "id": "5a9e8cde",
   "metadata": {},
   "outputs": [],
   "source": [
    "test_df.session = test_df.session.astype('int32')\n",
    "test_df.aid = test_df.aid.astype('int32')"
   ]
  },
  {
   "cell_type": "code",
   "execution_count": 13,
   "id": "6e5fce5c",
   "metadata": {},
   "outputs": [],
   "source": [
    "test_df.to_parquet('test_with_d.parquet',index=False)"
   ]
  }
 ],
 "metadata": {
  "kernelspec": {
   "display_name": "Python 3 (ipykernel)",
   "language": "python",
   "name": "python3"
  },
  "language_info": {
   "codemirror_mode": {
    "name": "ipython",
    "version": 3
   },
   "file_extension": ".py",
   "mimetype": "text/x-python",
   "name": "python",
   "nbconvert_exporter": "python",
   "pygments_lexer": "ipython3",
   "version": "3.8.13"
  }
 },
 "nbformat": 4,
 "nbformat_minor": 5
}
