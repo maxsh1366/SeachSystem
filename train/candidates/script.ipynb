{
 "cells": [
  {
   "cell_type": "code",
   "execution_count": null,
   "id": "dab3b803",
   "metadata": {},
   "outputs": [],
   "source": []
  },
  {
   "cell_type": "code",
   "execution_count": null,
   "id": "7ecf0d57",
   "metadata": {},
   "outputs": [],
   "source": [
    "# ADD COLUMN OF REAL USER SESSION\n",
    "%reset -f\n",
    "%run make-valid-with-d.ipynb"
   ]
  },
  {
   "cell_type": "code",
   "execution_count": null,
   "id": "3016562e",
   "metadata": {},
   "outputs": [],
   "source": []
  },
  {
   "cell_type": "code",
   "execution_count": null,
   "id": "c92a2f49",
   "metadata": {},
   "outputs": [],
   "source": [
    "%reset -f\n",
    "%run model-564-1.ipynb"
   ]
  },
  {
   "cell_type": "code",
   "execution_count": null,
   "id": "1ba95c40",
   "metadata": {},
   "outputs": [],
   "source": [
    "%reset -f\n",
    "%run model-564-1-wgt.ipynb"
   ]
  },
  {
   "cell_type": "code",
   "execution_count": null,
   "id": "cc730848",
   "metadata": {},
   "outputs": [],
   "source": []
  },
  {
   "cell_type": "code",
   "execution_count": null,
   "id": "d489790c",
   "metadata": {},
   "outputs": [],
   "source": [
    "%reset -f\n",
    "%run model-564-20.ipynb"
   ]
  },
  {
   "cell_type": "code",
   "execution_count": null,
   "id": "3e5c64d4",
   "metadata": {},
   "outputs": [],
   "source": [
    "%reset -f\n",
    "%run model-564-20-wgt.ipynb"
   ]
  },
  {
   "cell_type": "code",
   "execution_count": null,
   "id": "ee7a575d",
   "metadata": {},
   "outputs": [],
   "source": []
  },
  {
   "cell_type": "code",
   "execution_count": null,
   "id": "09da99c2",
   "metadata": {},
   "outputs": [],
   "source": [
    "%reset -f\n",
    "%run model-564-21.ipynb"
   ]
  },
  {
   "cell_type": "code",
   "execution_count": null,
   "id": "41c62e57",
   "metadata": {},
   "outputs": [],
   "source": [
    "%reset -f\n",
    "%run model-564-21-wgt.ipynb"
   ]
  },
  {
   "cell_type": "code",
   "execution_count": null,
   "id": "2673c229",
   "metadata": {},
   "outputs": [],
   "source": []
  },
  {
   "cell_type": "code",
   "execution_count": null,
   "id": "3224206f",
   "metadata": {},
   "outputs": [],
   "source": [
    "%reset -f\n",
    "%run model-564-22.ipynb"
   ]
  },
  {
   "cell_type": "code",
   "execution_count": null,
   "id": "b5003b12",
   "metadata": {},
   "outputs": [],
   "source": [
    "%reset -f\n",
    "%run model-564-22-wgt.ipynb"
   ]
  },
  {
   "cell_type": "code",
   "execution_count": null,
   "id": "9c1e6531",
   "metadata": {},
   "outputs": [],
   "source": []
  },
  {
   "cell_type": "code",
   "execution_count": null,
   "id": "70caba74",
   "metadata": {},
   "outputs": [],
   "source": [
    "%reset -f\n",
    "%run model-564-23.ipynb"
   ]
  },
  {
   "cell_type": "code",
   "execution_count": null,
   "id": "4d8b0284",
   "metadata": {},
   "outputs": [],
   "source": [
    "%reset -f\n",
    "%run model-564-23-wgt.ipynb"
   ]
  },
  {
   "cell_type": "code",
   "execution_count": null,
   "id": "1012b5ff",
   "metadata": {},
   "outputs": [],
   "source": []
  },
  {
   "cell_type": "code",
   "execution_count": null,
   "id": "5318751a",
   "metadata": {},
   "outputs": [],
   "source": [
    "%reset -f\n",
    "%run model-564-24.ipynb"
   ]
  },
  {
   "cell_type": "code",
   "execution_count": null,
   "id": "43b94de6",
   "metadata": {},
   "outputs": [],
   "source": [
    "%reset -f\n",
    "%run model-564-24-wgt.ipynb"
   ]
  },
  {
   "cell_type": "code",
   "execution_count": null,
   "id": "d9ce1ef6",
   "metadata": {},
   "outputs": [],
   "source": []
  },
  {
   "cell_type": "code",
   "execution_count": null,
   "id": "3b7003dc",
   "metadata": {},
   "outputs": [],
   "source": [
    "%reset -f\n",
    "%run model-564-25.ipynb"
   ]
  },
  {
   "cell_type": "code",
   "execution_count": null,
   "id": "ee7cd814",
   "metadata": {},
   "outputs": [],
   "source": [
    "%reset -f\n",
    "%run model-564-25-wgt.ipynb"
   ]
  },
  {
   "cell_type": "code",
   "execution_count": null,
   "id": "9283ff70",
   "metadata": {},
   "outputs": [],
   "source": []
  },
  {
   "cell_type": "code",
   "execution_count": null,
   "id": "e2166c3f",
   "metadata": {},
   "outputs": [],
   "source": [
    "%reset -f\n",
    "%run model-564-26.ipynb"
   ]
  },
  {
   "cell_type": "code",
   "execution_count": null,
   "id": "3026ecd7",
   "metadata": {},
   "outputs": [],
   "source": [
    "%reset -f\n",
    "%run model-564-26-wgt.ipynb"
   ]
  },
  {
   "cell_type": "code",
   "execution_count": null,
   "id": "8121882f",
   "metadata": {},
   "outputs": [],
   "source": []
  },
  {
   "cell_type": "code",
   "execution_count": null,
   "id": "9304e260",
   "metadata": {},
   "outputs": [],
   "source": [
    "%reset -f\n",
    "%run model-564-27.ipynb"
   ]
  },
  {
   "cell_type": "code",
   "execution_count": null,
   "id": "26df68dd",
   "metadata": {},
   "outputs": [],
   "source": [
    "%reset -f\n",
    "%run model-564-27-wgt.ipynb"
   ]
  },
  {
   "cell_type": "code",
   "execution_count": null,
   "id": "9c4a3ac5",
   "metadata": {},
   "outputs": [],
   "source": []
  },
  {
   "cell_type": "code",
   "execution_count": null,
   "id": "5e82cd3d",
   "metadata": {},
   "outputs": [],
   "source": [
    "%reset -f\n",
    "%run model-564-3.ipynb"
   ]
  },
  {
   "cell_type": "code",
   "execution_count": null,
   "id": "2b8906e9",
   "metadata": {},
   "outputs": [],
   "source": [
    "%reset -f\n",
    "%run model-564-3-wgt.ipynb"
   ]
  },
  {
   "cell_type": "code",
   "execution_count": null,
   "id": "1c10a57d",
   "metadata": {},
   "outputs": [],
   "source": []
  },
  {
   "cell_type": "code",
   "execution_count": null,
   "id": "27545bbc",
   "metadata": {},
   "outputs": [],
   "source": [
    "%reset -f\n",
    "%run model-564-31.ipynb"
   ]
  },
  {
   "cell_type": "code",
   "execution_count": null,
   "id": "0eebcacd",
   "metadata": {},
   "outputs": [],
   "source": [
    "%reset -f\n",
    "%run model-564-31-wgt.ipynb"
   ]
  },
  {
   "cell_type": "code",
   "execution_count": null,
   "id": "75e09173",
   "metadata": {},
   "outputs": [],
   "source": []
  },
  {
   "cell_type": "code",
   "execution_count": null,
   "id": "f815e432",
   "metadata": {},
   "outputs": [],
   "source": [
    "%reset -f\n",
    "%run model-564-32.ipynb"
   ]
  },
  {
   "cell_type": "code",
   "execution_count": null,
   "id": "c49ac494",
   "metadata": {},
   "outputs": [],
   "source": [
    "%reset -f\n",
    "%run model-564-32-wgt.ipynb"
   ]
  },
  {
   "cell_type": "code",
   "execution_count": null,
   "id": "37f2808f",
   "metadata": {},
   "outputs": [],
   "source": []
  },
  {
   "cell_type": "code",
   "execution_count": null,
   "id": "70d86da0",
   "metadata": {},
   "outputs": [],
   "source": [
    "%reset -f\n",
    "%run model-564-33.ipynb"
   ]
  },
  {
   "cell_type": "code",
   "execution_count": null,
   "id": "1b4f895c",
   "metadata": {},
   "outputs": [],
   "source": [
    "%reset -f\n",
    "%run model-564-33-wgt.ipynb"
   ]
  },
  {
   "cell_type": "code",
   "execution_count": null,
   "id": "7a1e5131",
   "metadata": {},
   "outputs": [],
   "source": []
  },
  {
   "cell_type": "code",
   "execution_count": null,
   "id": "306aa91f",
   "metadata": {},
   "outputs": [],
   "source": [
    "%reset -f\n",
    "%run model-564-4.ipynb"
   ]
  },
  {
   "cell_type": "code",
   "execution_count": null,
   "id": "d2624c31",
   "metadata": {},
   "outputs": [],
   "source": [
    "%reset -f\n",
    "%run model-564-4-wgt.ipynb"
   ]
  },
  {
   "cell_type": "code",
   "execution_count": null,
   "id": "09f754be",
   "metadata": {},
   "outputs": [],
   "source": []
  },
  {
   "cell_type": "code",
   "execution_count": null,
   "id": "f01bef64",
   "metadata": {},
   "outputs": [],
   "source": [
    "%reset -f\n",
    "%run model-564-5.ipynb"
   ]
  },
  {
   "cell_type": "code",
   "execution_count": null,
   "id": "f237fe5a",
   "metadata": {},
   "outputs": [],
   "source": [
    "%reset -f\n",
    "%run model-564-5-wgt.ipynb"
   ]
  },
  {
   "cell_type": "code",
   "execution_count": null,
   "id": "f82a2dc2",
   "metadata": {},
   "outputs": [],
   "source": []
  },
  {
   "cell_type": "code",
   "execution_count": null,
   "id": "8de64385",
   "metadata": {},
   "outputs": [],
   "source": [
    "%reset -f\n",
    "%run model-564-6.ipynb"
   ]
  },
  {
   "cell_type": "code",
   "execution_count": null,
   "id": "e3b65219",
   "metadata": {},
   "outputs": [],
   "source": [
    "%reset -f\n",
    "%run model-564-6-wgt.ipynb"
   ]
  },
  {
   "cell_type": "code",
   "execution_count": null,
   "id": "37cc0b58",
   "metadata": {},
   "outputs": [],
   "source": []
  },
  {
   "cell_type": "code",
   "execution_count": null,
   "id": "8a5e32bc",
   "metadata": {},
   "outputs": [],
   "source": [
    "%reset -f\n",
    "%run model-564-7.ipynb"
   ]
  },
  {
   "cell_type": "code",
   "execution_count": null,
   "id": "968d758f",
   "metadata": {},
   "outputs": [],
   "source": [
    "%reset -f\n",
    "%run model-564-7-wgt.ipynb"
   ]
  },
  {
   "cell_type": "code",
   "execution_count": null,
   "id": "15df06c5",
   "metadata": {},
   "outputs": [],
   "source": []
  },
  {
   "cell_type": "code",
   "execution_count": null,
   "id": "58bfb28d",
   "metadata": {},
   "outputs": [],
   "source": [
    "%reset -f\n",
    "%run model-564-F.ipynb"
   ]
  },
  {
   "cell_type": "code",
   "execution_count": null,
   "id": "cc15f5e3",
   "metadata": {},
   "outputs": [],
   "source": [
    "%reset -f\n",
    "%run model-564-F-wgt.ipynb"
   ]
  },
  {
   "cell_type": "code",
   "execution_count": null,
   "id": "63d680a0",
   "metadata": {},
   "outputs": [],
   "source": []
  },
  {
   "cell_type": "code",
   "execution_count": null,
   "id": "2c6c7473",
   "metadata": {},
   "outputs": [],
   "source": [
    "%reset -f\n",
    "%run model-612.ipynb"
   ]
  },
  {
   "cell_type": "code",
   "execution_count": null,
   "id": "df653365",
   "metadata": {},
   "outputs": [],
   "source": [
    "%reset -f\n",
    "%run model-612-wgt.ipynb"
   ]
  },
  {
   "cell_type": "code",
   "execution_count": null,
   "id": "b707c7d6",
   "metadata": {},
   "outputs": [],
   "source": []
  },
  {
   "cell_type": "code",
   "execution_count": null,
   "id": "1c959ea0",
   "metadata": {},
   "outputs": [],
   "source": [
    "%reset -f\n",
    "%run model-614.ipynb"
   ]
  },
  {
   "cell_type": "code",
   "execution_count": null,
   "id": "90ea70f9",
   "metadata": {},
   "outputs": [],
   "source": [
    "%reset -f\n",
    "%run model-614-wgt.ipynb"
   ]
  },
  {
   "cell_type": "code",
   "execution_count": null,
   "id": "d8684574",
   "metadata": {},
   "outputs": [],
   "source": []
  },
  {
   "cell_type": "code",
   "execution_count": null,
   "id": "b47aaa04",
   "metadata": {},
   "outputs": [],
   "source": [
    "# CONVERT TRAIN/VALID DATA INTO PYTHON LISTS\n",
    "%reset -f\n",
    "%run make-valid-lists.ipynb"
   ]
  },
  {
   "cell_type": "code",
   "execution_count": null,
   "id": "da1e51b6",
   "metadata": {},
   "outputs": [],
   "source": [
    "%reset -f\n",
    "%run model-620-wgt.ipynb"
   ]
  },
  {
   "cell_type": "code",
   "execution_count": null,
   "id": "6ebbf7a5",
   "metadata": {},
   "outputs": [],
   "source": []
  },
  {
   "cell_type": "code",
   "execution_count": null,
   "id": "75c9c253",
   "metadata": {},
   "outputs": [],
   "source": [
    "%reset -f\n",
    "%run model-709.ipynb"
   ]
  },
  {
   "cell_type": "code",
   "execution_count": null,
   "id": "89d84e09",
   "metadata": {},
   "outputs": [],
   "source": [
    "%reset -f\n",
    "%run model-709-wgt.ipynb"
   ]
  },
  {
   "cell_type": "code",
   "execution_count": null,
   "id": "3dd56736",
   "metadata": {},
   "outputs": [],
   "source": []
  }
 ],
 "metadata": {
  "kernelspec": {
   "display_name": "Python 3 (ipykernel)",
   "language": "python",
   "name": "python3"
  },
  "language_info": {
   "codemirror_mode": {
    "name": "ipython",
    "version": 3
   },
   "file_extension": ".py",
   "mimetype": "text/x-python",
   "name": "python",
   "nbconvert_exporter": "python",
   "pygments_lexer": "ipython3",
   "version": "3.8.13"
  }
 },
 "nbformat": 4,
 "nbformat_minor": 5
}
