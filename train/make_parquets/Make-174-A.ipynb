{
 "cells": [
  {
   "cell_type": "code",
   "execution_count": 1,
   "id": "d0d39a4f",
   "metadata": {},
   "outputs": [],
   "source": [
    "import os\n",
    "os.environ[\"CUDA_VISIBLE_DEVICES\"]=\"0\"\n",
    "\n",
    "VER = 174\n",
    "USE = 'carts'"
   ]
  },
  {
   "cell_type": "code",
   "execution_count": 2,
   "id": "829a2f39",
   "metadata": {},
   "outputs": [],
   "source": [
    "import pandas as pd, cudf, numpy as np, gc\n",
    "pd.set_option('display.max_columns', 500)\n",
    "import matplotlib.pyplot as plt"
   ]
  },
  {
   "cell_type": "code",
   "execution_count": 3,
   "id": "cfc8cb2a",
   "metadata": {},
   "outputs": [
    {
     "name": "stdout",
     "output_type": "stream",
     "text": [
      "(1801251, 2)\n"
     ]
    },
    {
     "data": {
      "text/html": [
       "<div>\n",
       "<style scoped>\n",
       "    .dataframe tbody tr th:only-of-type {\n",
       "        vertical-align: middle;\n",
       "    }\n",
       "\n",
       "    .dataframe tbody tr th {\n",
       "        vertical-align: top;\n",
       "    }\n",
       "\n",
       "    .dataframe thead th {\n",
       "        text-align: right;\n",
       "    }\n",
       "</style>\n",
       "<table border=\"1\" class=\"dataframe\">\n",
       "  <thead>\n",
       "    <tr style=\"text-align: right;\">\n",
       "      <th></th>\n",
       "      <th>session_type</th>\n",
       "      <th>labels</th>\n",
       "    </tr>\n",
       "  </thead>\n",
       "  <tbody>\n",
       "    <tr>\n",
       "      <th>3602502</th>\n",
       "      <td>11098528_carts</td>\n",
       "      <td>11830 1732105 588923 1157882 884502 1182614 87...</td>\n",
       "    </tr>\n",
       "    <tr>\n",
       "      <th>3602503</th>\n",
       "      <td>11098529_carts</td>\n",
       "      <td>1105029 1049489 53004 1694360 628708 459126 13...</td>\n",
       "    </tr>\n",
       "    <tr>\n",
       "      <th>3602504</th>\n",
       "      <td>11098530_carts</td>\n",
       "      <td>409236 264500 1603001 963957 254154 364155 583...</td>\n",
       "    </tr>\n",
       "    <tr>\n",
       "      <th>3602505</th>\n",
       "      <td>11098531_carts</td>\n",
       "      <td>396199 1271998 452188 1728212 1365569 624163 1...</td>\n",
       "    </tr>\n",
       "    <tr>\n",
       "      <th>3602506</th>\n",
       "      <td>11098532_carts</td>\n",
       "      <td>876469 7651 1159379 476681 669555 1202618 1081...</td>\n",
       "    </tr>\n",
       "  </tbody>\n",
       "</table>\n",
       "</div>"
      ],
      "text/plain": [
       "           session_type                                             labels\n",
       "3602502  11098528_carts  11830 1732105 588923 1157882 884502 1182614 87...\n",
       "3602503  11098529_carts  1105029 1049489 53004 1694360 628708 459126 13...\n",
       "3602504  11098530_carts  409236 264500 1603001 963957 254154 364155 583...\n",
       "3602505  11098531_carts  396199 1271998 452188 1728212 1365569 624163 1...\n",
       "3602506  11098532_carts  876469 7651 1159379 476681 669555 1202618 1081..."
      ]
     },
     "execution_count": 3,
     "metadata": {},
     "output_type": "execute_result"
    }
   ],
   "source": [
    "LOAD = 709\n",
    "OFFSET = ''\n",
    "\n",
    "df = pd.read_csv(f\"../../data/candidate_scores/submission_v{LOAD}{OFFSET}.csv\")\n",
    "df = df.loc[df.session_type.str.contains(USE)]\n",
    "df = cudf.DataFrame(df)\n",
    "print( df.shape )\n",
    "df.head()"
   ]
  },
  {
   "cell_type": "code",
   "execution_count": 4,
   "id": "5730c92b",
   "metadata": {},
   "outputs": [
    {
     "name": "stdout",
     "output_type": "stream",
     "text": [
      "(1801251, 2)\n"
     ]
    },
    {
     "data": {
      "text/html": [
       "<div>\n",
       "<style scoped>\n",
       "    .dataframe tbody tr th:only-of-type {\n",
       "        vertical-align: middle;\n",
       "    }\n",
       "\n",
       "    .dataframe tbody tr th {\n",
       "        vertical-align: top;\n",
       "    }\n",
       "\n",
       "    .dataframe thead th {\n",
       "        text-align: right;\n",
       "    }\n",
       "</style>\n",
       "<table border=\"1\" class=\"dataframe\">\n",
       "  <thead>\n",
       "    <tr style=\"text-align: right;\">\n",
       "      <th></th>\n",
       "      <th>session_type</th>\n",
       "      <th>labels</th>\n",
       "    </tr>\n",
       "  </thead>\n",
       "  <tbody>\n",
       "    <tr>\n",
       "      <th>3602502</th>\n",
       "      <td>11098528_carts</td>\n",
       "      <td>-1 36.65 35.15 29.149999999999995 28.950000000...</td>\n",
       "    </tr>\n",
       "    <tr>\n",
       "      <th>3602503</th>\n",
       "      <td>11098529_carts</td>\n",
       "      <td>-1 19.275 13.125 12.174999999999999 10.55 10.3...</td>\n",
       "    </tr>\n",
       "    <tr>\n",
       "      <th>3602504</th>\n",
       "      <td>11098530_carts</td>\n",
       "      <td>-1 -1 48.825 33.375 33.025 30.175 28.325000000...</td>\n",
       "    </tr>\n",
       "    <tr>\n",
       "      <th>3602505</th>\n",
       "      <td>11098531_carts</td>\n",
       "      <td>-1 -1 -1 -1 -1 -1 -1 -1 -1 -1 -1 22.0272727272...</td>\n",
       "    </tr>\n",
       "    <tr>\n",
       "      <th>3602506</th>\n",
       "      <td>11098532_carts</td>\n",
       "      <td>-1 -1 25.575 25.275000000000002 23.50000000000...</td>\n",
       "    </tr>\n",
       "  </tbody>\n",
       "</table>\n",
       "</div>"
      ],
      "text/plain": [
       "           session_type                                             labels\n",
       "3602502  11098528_carts  -1 36.65 35.15 29.149999999999995 28.950000000...\n",
       "3602503  11098529_carts  -1 19.275 13.125 12.174999999999999 10.55 10.3...\n",
       "3602504  11098530_carts  -1 -1 48.825 33.375 33.025 30.175 28.325000000...\n",
       "3602505  11098531_carts  -1 -1 -1 -1 -1 -1 -1 -1 -1 -1 -1 22.0272727272...\n",
       "3602506  11098532_carts  -1 -1 25.575 25.275000000000002 23.50000000000..."
      ]
     },
     "execution_count": 4,
     "metadata": {},
     "output_type": "execute_result"
    }
   ],
   "source": [
    "OFFSET = '_wgt'\n",
    "\n",
    "df2 = pd.read_csv(f\"../../data/candidate_scores/submission_v{LOAD}{OFFSET}.csv\")\n",
    "df2 = df2.loc[df2.session_type.str.contains(USE)]\n",
    "df2 = cudf.DataFrame(df2)\n",
    "print( df2.shape )\n",
    "df2.head()"
   ]
  },
  {
   "cell_type": "code",
   "execution_count": 5,
   "id": "7bd10119",
   "metadata": {},
   "outputs": [
    {
     "data": {
      "text/html": [
       "<div>\n",
       "<style scoped>\n",
       "    .dataframe tbody tr th:only-of-type {\n",
       "        vertical-align: middle;\n",
       "    }\n",
       "\n",
       "    .dataframe tbody tr th {\n",
       "        vertical-align: top;\n",
       "    }\n",
       "\n",
       "    .dataframe thead th {\n",
       "        text-align: right;\n",
       "    }\n",
       "</style>\n",
       "<table border=\"1\" class=\"dataframe\">\n",
       "  <thead>\n",
       "    <tr style=\"text-align: right;\">\n",
       "      <th></th>\n",
       "      <th>labels</th>\n",
       "      <th>user</th>\n",
       "    </tr>\n",
       "  </thead>\n",
       "  <tbody>\n",
       "    <tr>\n",
       "      <th>3602502</th>\n",
       "      <td>11830 1732105 588923 1157882 884502 1182614 87...</td>\n",
       "      <td>11098528</td>\n",
       "    </tr>\n",
       "    <tr>\n",
       "      <th>3602503</th>\n",
       "      <td>1105029 1049489 53004 1694360 628708 459126 13...</td>\n",
       "      <td>11098529</td>\n",
       "    </tr>\n",
       "    <tr>\n",
       "      <th>3602504</th>\n",
       "      <td>409236 264500 1603001 963957 254154 364155 583...</td>\n",
       "      <td>11098530</td>\n",
       "    </tr>\n",
       "    <tr>\n",
       "      <th>3602505</th>\n",
       "      <td>396199 1271998 452188 1728212 1365569 624163 1...</td>\n",
       "      <td>11098531</td>\n",
       "    </tr>\n",
       "    <tr>\n",
       "      <th>3602506</th>\n",
       "      <td>876469 7651 1159379 476681 669555 1202618 1081...</td>\n",
       "      <td>11098532</td>\n",
       "    </tr>\n",
       "  </tbody>\n",
       "</table>\n",
       "</div>"
      ],
      "text/plain": [
       "                                                    labels      user\n",
       "3602502  11830 1732105 588923 1157882 884502 1182614 87...  11098528\n",
       "3602503  1105029 1049489 53004 1694360 628708 459126 13...  11098529\n",
       "3602504  409236 264500 1603001 963957 254154 364155 583...  11098530\n",
       "3602505  396199 1271998 452188 1728212 1365569 624163 1...  11098531\n",
       "3602506  876469 7651 1159379 476681 669555 1202618 1081...  11098532"
      ]
     },
     "execution_count": 5,
     "metadata": {},
     "output_type": "execute_result"
    }
   ],
   "source": [
    "df['user'] = df.session_type.str.partition('_')[0].astype('int32')\n",
    "df = df.drop('session_type',axis=1)\n",
    "df.head()"
   ]
  },
  {
   "cell_type": "code",
   "execution_count": 6,
   "id": "7d0d8b69",
   "metadata": {},
   "outputs": [
    {
     "data": {
      "text/html": [
       "<div>\n",
       "<style scoped>\n",
       "    .dataframe tbody tr th:only-of-type {\n",
       "        vertical-align: middle;\n",
       "    }\n",
       "\n",
       "    .dataframe tbody tr th {\n",
       "        vertical-align: top;\n",
       "    }\n",
       "\n",
       "    .dataframe thead th {\n",
       "        text-align: right;\n",
       "    }\n",
       "</style>\n",
       "<table border=\"1\" class=\"dataframe\">\n",
       "  <thead>\n",
       "    <tr style=\"text-align: right;\">\n",
       "      <th></th>\n",
       "      <th>labels</th>\n",
       "      <th>user</th>\n",
       "    </tr>\n",
       "  </thead>\n",
       "  <tbody>\n",
       "    <tr>\n",
       "      <th>3602502</th>\n",
       "      <td>-1 36.65 35.15 29.149999999999995 28.950000000...</td>\n",
       "      <td>11098528</td>\n",
       "    </tr>\n",
       "    <tr>\n",
       "      <th>3602503</th>\n",
       "      <td>-1 19.275 13.125 12.174999999999999 10.55 10.3...</td>\n",
       "      <td>11098529</td>\n",
       "    </tr>\n",
       "    <tr>\n",
       "      <th>3602504</th>\n",
       "      <td>-1 -1 48.825 33.375 33.025 30.175 28.325000000...</td>\n",
       "      <td>11098530</td>\n",
       "    </tr>\n",
       "    <tr>\n",
       "      <th>3602505</th>\n",
       "      <td>-1 -1 -1 -1 -1 -1 -1 -1 -1 -1 -1 22.0272727272...</td>\n",
       "      <td>11098531</td>\n",
       "    </tr>\n",
       "    <tr>\n",
       "      <th>3602506</th>\n",
       "      <td>-1 -1 25.575 25.275000000000002 23.50000000000...</td>\n",
       "      <td>11098532</td>\n",
       "    </tr>\n",
       "  </tbody>\n",
       "</table>\n",
       "</div>"
      ],
      "text/plain": [
       "                                                    labels      user\n",
       "3602502  -1 36.65 35.15 29.149999999999995 28.950000000...  11098528\n",
       "3602503  -1 19.275 13.125 12.174999999999999 10.55 10.3...  11098529\n",
       "3602504  -1 -1 48.825 33.375 33.025 30.175 28.325000000...  11098530\n",
       "3602505  -1 -1 -1 -1 -1 -1 -1 -1 -1 -1 -1 22.0272727272...  11098531\n",
       "3602506  -1 -1 25.575 25.275000000000002 23.50000000000...  11098532"
      ]
     },
     "execution_count": 6,
     "metadata": {},
     "output_type": "execute_result"
    }
   ],
   "source": [
    "df2['user'] = df2.session_type.str.partition('_')[0].astype('int32')\n",
    "df2 = df2.drop('session_type',axis=1)\n",
    "df2.head()"
   ]
  },
  {
   "cell_type": "code",
   "execution_count": 7,
   "id": "86e7a999",
   "metadata": {},
   "outputs": [
    {
     "data": {
      "text/html": [
       "<div>\n",
       "<style scoped>\n",
       "    .dataframe tbody tr th:only-of-type {\n",
       "        vertical-align: middle;\n",
       "    }\n",
       "\n",
       "    .dataframe tbody tr th {\n",
       "        vertical-align: top;\n",
       "    }\n",
       "\n",
       "    .dataframe thead th {\n",
       "        text-align: right;\n",
       "    }\n",
       "</style>\n",
       "<table border=\"1\" class=\"dataframe\">\n",
       "  <thead>\n",
       "    <tr style=\"text-align: right;\">\n",
       "      <th></th>\n",
       "      <th>item</th>\n",
       "      <th>pos</th>\n",
       "    </tr>\n",
       "  </thead>\n",
       "  <tbody>\n",
       "    <tr>\n",
       "      <th>3602502</th>\n",
       "      <td>11830</td>\n",
       "      <td>0</td>\n",
       "    </tr>\n",
       "    <tr>\n",
       "      <th>3602502</th>\n",
       "      <td>1732105</td>\n",
       "      <td>1</td>\n",
       "    </tr>\n",
       "    <tr>\n",
       "      <th>3602502</th>\n",
       "      <td>588923</td>\n",
       "      <td>2</td>\n",
       "    </tr>\n",
       "    <tr>\n",
       "      <th>3602502</th>\n",
       "      <td>1157882</td>\n",
       "      <td>3</td>\n",
       "    </tr>\n",
       "    <tr>\n",
       "      <th>3602502</th>\n",
       "      <td>884502</td>\n",
       "      <td>4</td>\n",
       "    </tr>\n",
       "  </tbody>\n",
       "</table>\n",
       "</div>"
      ],
      "text/plain": [
       "            item  pos\n",
       "3602502    11830    0\n",
       "3602502  1732105    1\n",
       "3602502   588923    2\n",
       "3602502  1157882    3\n",
       "3602502   884502    4"
      ]
     },
     "execution_count": 7,
     "metadata": {},
     "output_type": "execute_result"
    }
   ],
   "source": [
    "tmp = df.labels.str.split(' ').explode().astype('int32').rename('item').to_frame()\n",
    "tmp['pos'] = np.tile( np.arange(100),tmp.shape[0]//100 ).astype('int32')\n",
    "tmp.head()"
   ]
  },
  {
   "cell_type": "code",
   "execution_count": 8,
   "id": "f87cc37c",
   "metadata": {},
   "outputs": [
    {
     "data": {
      "text/html": [
       "<div>\n",
       "<style scoped>\n",
       "    .dataframe tbody tr th:only-of-type {\n",
       "        vertical-align: middle;\n",
       "    }\n",
       "\n",
       "    .dataframe tbody tr th {\n",
       "        vertical-align: top;\n",
       "    }\n",
       "\n",
       "    .dataframe thead th {\n",
       "        text-align: right;\n",
       "    }\n",
       "</style>\n",
       "<table border=\"1\" class=\"dataframe\">\n",
       "  <thead>\n",
       "    <tr style=\"text-align: right;\">\n",
       "      <th></th>\n",
       "      <th>user</th>\n",
       "    </tr>\n",
       "  </thead>\n",
       "  <tbody>\n",
       "    <tr>\n",
       "      <th>3602502</th>\n",
       "      <td>11098528</td>\n",
       "    </tr>\n",
       "    <tr>\n",
       "      <th>3602503</th>\n",
       "      <td>11098529</td>\n",
       "    </tr>\n",
       "    <tr>\n",
       "      <th>3602504</th>\n",
       "      <td>11098530</td>\n",
       "    </tr>\n",
       "    <tr>\n",
       "      <th>3602505</th>\n",
       "      <td>11098531</td>\n",
       "    </tr>\n",
       "    <tr>\n",
       "      <th>3602506</th>\n",
       "      <td>11098532</td>\n",
       "    </tr>\n",
       "  </tbody>\n",
       "</table>\n",
       "</div>"
      ],
      "text/plain": [
       "             user\n",
       "3602502  11098528\n",
       "3602503  11098529\n",
       "3602504  11098530\n",
       "3602505  11098531\n",
       "3602506  11098532"
      ]
     },
     "execution_count": 8,
     "metadata": {},
     "output_type": "execute_result"
    }
   ],
   "source": [
    "users = df[['user']].copy()\n",
    "users.head()"
   ]
  },
  {
   "cell_type": "code",
   "execution_count": 9,
   "id": "429975e4",
   "metadata": {},
   "outputs": [],
   "source": [
    "users = users.merge(tmp, left_index=True, right_index=True)"
   ]
  },
  {
   "cell_type": "code",
   "execution_count": 10,
   "id": "61a4d738",
   "metadata": {},
   "outputs": [
    {
     "data": {
      "text/plain": [
       "43"
      ]
     },
     "execution_count": 10,
     "metadata": {},
     "output_type": "execute_result"
    }
   ],
   "source": [
    "del df,tmp\n",
    "gc.collect()"
   ]
  },
  {
   "cell_type": "code",
   "execution_count": 11,
   "id": "9b104529",
   "metadata": {},
   "outputs": [
    {
     "data": {
      "text/html": [
       "<div>\n",
       "<style scoped>\n",
       "    .dataframe tbody tr th:only-of-type {\n",
       "        vertical-align: middle;\n",
       "    }\n",
       "\n",
       "    .dataframe tbody tr th {\n",
       "        vertical-align: top;\n",
       "    }\n",
       "\n",
       "    .dataframe thead th {\n",
       "        text-align: right;\n",
       "    }\n",
       "</style>\n",
       "<table border=\"1\" class=\"dataframe\">\n",
       "  <thead>\n",
       "    <tr style=\"text-align: right;\">\n",
       "      <th></th>\n",
       "      <th>user</th>\n",
       "      <th>item</th>\n",
       "      <th>pos</th>\n",
       "    </tr>\n",
       "  </thead>\n",
       "  <tbody>\n",
       "    <tr>\n",
       "      <th>3602619</th>\n",
       "      <td>11098645</td>\n",
       "      <td>598073</td>\n",
       "      <td>44</td>\n",
       "    </tr>\n",
       "    <tr>\n",
       "      <th>3602619</th>\n",
       "      <td>11098645</td>\n",
       "      <td>1511252</td>\n",
       "      <td>45</td>\n",
       "    </tr>\n",
       "    <tr>\n",
       "      <th>3602619</th>\n",
       "      <td>11098645</td>\n",
       "      <td>661338</td>\n",
       "      <td>46</td>\n",
       "    </tr>\n",
       "    <tr>\n",
       "      <th>3602619</th>\n",
       "      <td>11098645</td>\n",
       "      <td>1315302</td>\n",
       "      <td>47</td>\n",
       "    </tr>\n",
       "    <tr>\n",
       "      <th>3602619</th>\n",
       "      <td>11098645</td>\n",
       "      <td>1278983</td>\n",
       "      <td>48</td>\n",
       "    </tr>\n",
       "  </tbody>\n",
       "</table>\n",
       "</div>"
      ],
      "text/plain": [
       "             user     item  pos\n",
       "3602619  11098645   598073   44\n",
       "3602619  11098645  1511252   45\n",
       "3602619  11098645   661338   46\n",
       "3602619  11098645  1315302   47\n",
       "3602619  11098645  1278983   48"
      ]
     },
     "execution_count": 11,
     "metadata": {},
     "output_type": "execute_result"
    }
   ],
   "source": [
    "users.head()"
   ]
  },
  {
   "cell_type": "code",
   "execution_count": 12,
   "id": "1614c199",
   "metadata": {},
   "outputs": [
    {
     "data": {
      "text/plain": [
       "user    int32\n",
       "item    int32\n",
       "pos     int32\n",
       "dtype: object"
      ]
     },
     "execution_count": 12,
     "metadata": {},
     "output_type": "execute_result"
    }
   ],
   "source": [
    "users.dtypes"
   ]
  },
  {
   "cell_type": "code",
   "execution_count": 13,
   "id": "0455f7c3",
   "metadata": {},
   "outputs": [
    {
     "data": {
      "text/html": [
       "<div>\n",
       "<style scoped>\n",
       "    .dataframe tbody tr th:only-of-type {\n",
       "        vertical-align: middle;\n",
       "    }\n",
       "\n",
       "    .dataframe tbody tr th {\n",
       "        vertical-align: top;\n",
       "    }\n",
       "\n",
       "    .dataframe thead th {\n",
       "        text-align: right;\n",
       "    }\n",
       "</style>\n",
       "<table border=\"1\" class=\"dataframe\">\n",
       "  <thead>\n",
       "    <tr style=\"text-align: right;\">\n",
       "      <th></th>\n",
       "      <th>wgt</th>\n",
       "      <th>pos</th>\n",
       "    </tr>\n",
       "  </thead>\n",
       "  <tbody>\n",
       "    <tr>\n",
       "      <th>3602502</th>\n",
       "      <td>-1.000000</td>\n",
       "      <td>0</td>\n",
       "    </tr>\n",
       "    <tr>\n",
       "      <th>3602502</th>\n",
       "      <td>36.650002</td>\n",
       "      <td>1</td>\n",
       "    </tr>\n",
       "    <tr>\n",
       "      <th>3602502</th>\n",
       "      <td>35.150002</td>\n",
       "      <td>2</td>\n",
       "    </tr>\n",
       "    <tr>\n",
       "      <th>3602502</th>\n",
       "      <td>29.150000</td>\n",
       "      <td>3</td>\n",
       "    </tr>\n",
       "    <tr>\n",
       "      <th>3602502</th>\n",
       "      <td>28.950001</td>\n",
       "      <td>4</td>\n",
       "    </tr>\n",
       "  </tbody>\n",
       "</table>\n",
       "</div>"
      ],
      "text/plain": [
       "               wgt  pos\n",
       "3602502  -1.000000    0\n",
       "3602502  36.650002    1\n",
       "3602502  35.150002    2\n",
       "3602502  29.150000    3\n",
       "3602502  28.950001    4"
      ]
     },
     "execution_count": 13,
     "metadata": {},
     "output_type": "execute_result"
    }
   ],
   "source": [
    "tmp = df2.labels.str.split(' ').explode().astype('float32').rename('wgt').to_frame()\n",
    "tmp['pos'] = np.tile( np.arange(100),tmp.shape[0]//100 ).astype('int32')\n",
    "tmp.head()"
   ]
  },
  {
   "cell_type": "code",
   "execution_count": 14,
   "id": "dfdfd852",
   "metadata": {},
   "outputs": [
    {
     "data": {
      "text/html": [
       "<div>\n",
       "<style scoped>\n",
       "    .dataframe tbody tr th:only-of-type {\n",
       "        vertical-align: middle;\n",
       "    }\n",
       "\n",
       "    .dataframe tbody tr th {\n",
       "        vertical-align: top;\n",
       "    }\n",
       "\n",
       "    .dataframe thead th {\n",
       "        text-align: right;\n",
       "    }\n",
       "</style>\n",
       "<table border=\"1\" class=\"dataframe\">\n",
       "  <thead>\n",
       "    <tr style=\"text-align: right;\">\n",
       "      <th></th>\n",
       "      <th>user</th>\n",
       "    </tr>\n",
       "  </thead>\n",
       "  <tbody>\n",
       "    <tr>\n",
       "      <th>3602502</th>\n",
       "      <td>11098528</td>\n",
       "    </tr>\n",
       "    <tr>\n",
       "      <th>3602503</th>\n",
       "      <td>11098529</td>\n",
       "    </tr>\n",
       "    <tr>\n",
       "      <th>3602504</th>\n",
       "      <td>11098530</td>\n",
       "    </tr>\n",
       "    <tr>\n",
       "      <th>3602505</th>\n",
       "      <td>11098531</td>\n",
       "    </tr>\n",
       "    <tr>\n",
       "      <th>3602506</th>\n",
       "      <td>11098532</td>\n",
       "    </tr>\n",
       "  </tbody>\n",
       "</table>\n",
       "</div>"
      ],
      "text/plain": [
       "             user\n",
       "3602502  11098528\n",
       "3602503  11098529\n",
       "3602504  11098530\n",
       "3602505  11098531\n",
       "3602506  11098532"
      ]
     },
     "execution_count": 14,
     "metadata": {},
     "output_type": "execute_result"
    }
   ],
   "source": [
    "users2 = df2[['user']].copy()#.reset_index()\n",
    "users2.head()"
   ]
  },
  {
   "cell_type": "code",
   "execution_count": 15,
   "id": "28509f90",
   "metadata": {},
   "outputs": [
    {
     "data": {
      "text/plain": [
       "22"
      ]
     },
     "execution_count": 15,
     "metadata": {},
     "output_type": "execute_result"
    }
   ],
   "source": [
    "del df2\n",
    "gc.collect()"
   ]
  },
  {
   "cell_type": "code",
   "execution_count": 16,
   "id": "858fd83b",
   "metadata": {},
   "outputs": [],
   "source": [
    "users2 = users2.merge(tmp, left_index=True, right_index=True)"
   ]
  },
  {
   "cell_type": "code",
   "execution_count": 17,
   "id": "8017c7f7",
   "metadata": {},
   "outputs": [
    {
     "data": {
      "text/html": [
       "<div>\n",
       "<style scoped>\n",
       "    .dataframe tbody tr th:only-of-type {\n",
       "        vertical-align: middle;\n",
       "    }\n",
       "\n",
       "    .dataframe tbody tr th {\n",
       "        vertical-align: top;\n",
       "    }\n",
       "\n",
       "    .dataframe thead th {\n",
       "        text-align: right;\n",
       "    }\n",
       "</style>\n",
       "<table border=\"1\" class=\"dataframe\">\n",
       "  <thead>\n",
       "    <tr style=\"text-align: right;\">\n",
       "      <th></th>\n",
       "      <th>user</th>\n",
       "      <th>wgt</th>\n",
       "      <th>pos</th>\n",
       "    </tr>\n",
       "  </thead>\n",
       "  <tbody>\n",
       "    <tr>\n",
       "      <th>3602619</th>\n",
       "      <td>11098645</td>\n",
       "      <td>2.150</td>\n",
       "      <td>44</td>\n",
       "    </tr>\n",
       "    <tr>\n",
       "      <th>3602619</th>\n",
       "      <td>11098645</td>\n",
       "      <td>2.125</td>\n",
       "      <td>45</td>\n",
       "    </tr>\n",
       "    <tr>\n",
       "      <th>3602619</th>\n",
       "      <td>11098645</td>\n",
       "      <td>2.000</td>\n",
       "      <td>46</td>\n",
       "    </tr>\n",
       "    <tr>\n",
       "      <th>3602619</th>\n",
       "      <td>11098645</td>\n",
       "      <td>2.000</td>\n",
       "      <td>47</td>\n",
       "    </tr>\n",
       "    <tr>\n",
       "      <th>3602619</th>\n",
       "      <td>11098645</td>\n",
       "      <td>2.000</td>\n",
       "      <td>48</td>\n",
       "    </tr>\n",
       "  </tbody>\n",
       "</table>\n",
       "</div>"
      ],
      "text/plain": [
       "             user    wgt  pos\n",
       "3602619  11098645  2.150   44\n",
       "3602619  11098645  2.125   45\n",
       "3602619  11098645  2.000   46\n",
       "3602619  11098645  2.000   47\n",
       "3602619  11098645  2.000   48"
      ]
     },
     "execution_count": 17,
     "metadata": {},
     "output_type": "execute_result"
    }
   ],
   "source": [
    "users2.head()"
   ]
  },
  {
   "cell_type": "code",
   "execution_count": 18,
   "id": "564f6f09",
   "metadata": {},
   "outputs": [],
   "source": [
    "users = users.merge(users2,on=['user','pos'],how='left')"
   ]
  },
  {
   "cell_type": "code",
   "execution_count": 19,
   "id": "81ceb09f",
   "metadata": {},
   "outputs": [
    {
     "data": {
      "text/html": [
       "<div>\n",
       "<style scoped>\n",
       "    .dataframe tbody tr th:only-of-type {\n",
       "        vertical-align: middle;\n",
       "    }\n",
       "\n",
       "    .dataframe tbody tr th {\n",
       "        vertical-align: top;\n",
       "    }\n",
       "\n",
       "    .dataframe thead th {\n",
       "        text-align: right;\n",
       "    }\n",
       "</style>\n",
       "<table border=\"1\" class=\"dataframe\">\n",
       "  <thead>\n",
       "    <tr style=\"text-align: right;\">\n",
       "      <th></th>\n",
       "      <th>user</th>\n",
       "      <th>item</th>\n",
       "      <th>pos</th>\n",
       "      <th>wgt</th>\n",
       "    </tr>\n",
       "  </thead>\n",
       "  <tbody>\n",
       "    <tr>\n",
       "      <th>0</th>\n",
       "      <td>11098530</td>\n",
       "      <td>124606</td>\n",
       "      <td>88</td>\n",
       "      <td>1.0</td>\n",
       "    </tr>\n",
       "    <tr>\n",
       "      <th>1</th>\n",
       "      <td>11098530</td>\n",
       "      <td>876017</td>\n",
       "      <td>89</td>\n",
       "      <td>1.0</td>\n",
       "    </tr>\n",
       "    <tr>\n",
       "      <th>2</th>\n",
       "      <td>11098530</td>\n",
       "      <td>718069</td>\n",
       "      <td>90</td>\n",
       "      <td>1.0</td>\n",
       "    </tr>\n",
       "    <tr>\n",
       "      <th>3</th>\n",
       "      <td>11098530</td>\n",
       "      <td>685123</td>\n",
       "      <td>91</td>\n",
       "      <td>1.0</td>\n",
       "    </tr>\n",
       "    <tr>\n",
       "      <th>4</th>\n",
       "      <td>11098530</td>\n",
       "      <td>524335</td>\n",
       "      <td>92</td>\n",
       "      <td>1.0</td>\n",
       "    </tr>\n",
       "  </tbody>\n",
       "</table>\n",
       "</div>"
      ],
      "text/plain": [
       "       user    item  pos  wgt\n",
       "0  11098530  124606   88  1.0\n",
       "1  11098530  876017   89  1.0\n",
       "2  11098530  718069   90  1.0\n",
       "3  11098530  685123   91  1.0\n",
       "4  11098530  524335   92  1.0"
      ]
     },
     "execution_count": 19,
     "metadata": {},
     "output_type": "execute_result"
    }
   ],
   "source": [
    "users.head()"
   ]
  },
  {
   "cell_type": "code",
   "execution_count": 20,
   "id": "ee60302f",
   "metadata": {},
   "outputs": [
    {
     "data": {
      "text/plain": [
       "79"
      ]
     },
     "execution_count": 20,
     "metadata": {},
     "output_type": "execute_result"
    }
   ],
   "source": [
    "del users2, tmp\n",
    "gc.collect()"
   ]
  },
  {
   "cell_type": "code",
   "execution_count": 21,
   "id": "1ad14f04",
   "metadata": {},
   "outputs": [
    {
     "data": {
      "text/plain": [
       "(180125100, 4)"
      ]
     },
     "execution_count": 21,
     "metadata": {},
     "output_type": "execute_result"
    }
   ],
   "source": [
    "users.shape"
   ]
  },
  {
   "cell_type": "markdown",
   "id": "9d06ab60",
   "metadata": {},
   "source": [
    "# Add Targets"
   ]
  },
  {
   "cell_type": "code",
   "execution_count": 22,
   "id": "65ded0d8",
   "metadata": {},
   "outputs": [
    {
     "name": "stdout",
     "output_type": "stream",
     "text": [
      "(306341, 3)\n"
     ]
    },
    {
     "data": {
      "text/html": [
       "<div>\n",
       "<style scoped>\n",
       "    .dataframe tbody tr th:only-of-type {\n",
       "        vertical-align: middle;\n",
       "    }\n",
       "\n",
       "    .dataframe tbody tr th {\n",
       "        vertical-align: top;\n",
       "    }\n",
       "\n",
       "    .dataframe thead th {\n",
       "        text-align: right;\n",
       "    }\n",
       "</style>\n",
       "<table border=\"1\" class=\"dataframe\">\n",
       "  <thead>\n",
       "    <tr style=\"text-align: right;\">\n",
       "      <th></th>\n",
       "      <th>session</th>\n",
       "      <th>type</th>\n",
       "      <th>ground_truth</th>\n",
       "    </tr>\n",
       "  </thead>\n",
       "  <tbody>\n",
       "    <tr>\n",
       "      <th>1</th>\n",
       "      <td>11098528</td>\n",
       "      <td>carts</td>\n",
       "      <td>[1199737]</td>\n",
       "    </tr>\n",
       "    <tr>\n",
       "      <th>8</th>\n",
       "      <td>11098533</td>\n",
       "      <td>carts</td>\n",
       "      <td>[108676, 1406660, 988295, 1118792, 1366413, 15...</td>\n",
       "    </tr>\n",
       "    <tr>\n",
       "      <th>11</th>\n",
       "      <td>11098534</td>\n",
       "      <td>carts</td>\n",
       "      <td>[223062]</td>\n",
       "    </tr>\n",
       "    <tr>\n",
       "      <th>15</th>\n",
       "      <td>11098536</td>\n",
       "      <td>carts</td>\n",
       "      <td>[649909]</td>\n",
       "    </tr>\n",
       "    <tr>\n",
       "      <th>18</th>\n",
       "      <td>11098538</td>\n",
       "      <td>carts</td>\n",
       "      <td>[1263747, 668757, 1550143]</td>\n",
       "    </tr>\n",
       "  </tbody>\n",
       "</table>\n",
       "</div>"
      ],
      "text/plain": [
       "     session   type                                       ground_truth\n",
       "1   11098528  carts                                          [1199737]\n",
       "8   11098533  carts  [108676, 1406660, 988295, 1118792, 1366413, 15...\n",
       "11  11098534  carts                                           [223062]\n",
       "15  11098536  carts                                           [649909]\n",
       "18  11098538  carts                         [1263747, 668757, 1550143]"
      ]
     },
     "execution_count": 22,
     "metadata": {},
     "output_type": "execute_result"
    }
   ],
   "source": [
    "test_labels = cudf.read_parquet('../../data/train_data/test_labels.parquet')\n",
    "test_labels = test_labels.loc[test_labels['type']==USE]\n",
    "print( test_labels.shape )\n",
    "test_labels.head()"
   ]
  },
  {
   "cell_type": "code",
   "execution_count": 23,
   "id": "5e893554",
   "metadata": {},
   "outputs": [
    {
     "data": {
      "text/plain": [
       "1    1199737\n",
       "8     108676\n",
       "8    1406660\n",
       "8     988295\n",
       "8    1118792\n",
       "Name: item, dtype: int32"
      ]
     },
     "execution_count": 23,
     "metadata": {},
     "output_type": "execute_result"
    }
   ],
   "source": [
    "tmp = test_labels.ground_truth.explode().astype('int32').rename('item')\n",
    "tmp.head()"
   ]
  },
  {
   "cell_type": "code",
   "execution_count": 24,
   "id": "b6587859",
   "metadata": {},
   "outputs": [],
   "source": [
    "test_users = test_labels[['session']].astype('int32').copy()\n",
    "test_users.columns = ['user']"
   ]
  },
  {
   "cell_type": "code",
   "execution_count": 25,
   "id": "19076272",
   "metadata": {},
   "outputs": [],
   "source": [
    "test_users = test_users.merge(tmp,left_index=True,right_index=True)"
   ]
  },
  {
   "cell_type": "code",
   "execution_count": 26,
   "id": "d0c39cf2",
   "metadata": {},
   "outputs": [
    {
     "data": {
      "text/plain": [
       "50"
      ]
     },
     "execution_count": 26,
     "metadata": {},
     "output_type": "execute_result"
    }
   ],
   "source": [
    "del test_labels, tmp\n",
    "gc.collect()"
   ]
  },
  {
   "cell_type": "code",
   "execution_count": 27,
   "id": "780ecc70",
   "metadata": {},
   "outputs": [],
   "source": [
    "test_users[USE] = np.int8(1)"
   ]
  },
  {
   "cell_type": "code",
   "execution_count": 28,
   "id": "5f7da405",
   "metadata": {},
   "outputs": [
    {
     "data": {
      "text/plain": [
       "user     int32\n",
       "item     int32\n",
       "carts     int8\n",
       "dtype: object"
      ]
     },
     "execution_count": 28,
     "metadata": {},
     "output_type": "execute_result"
    }
   ],
   "source": [
    "test_users.dtypes"
   ]
  },
  {
   "cell_type": "code",
   "execution_count": 29,
   "id": "b003575c",
   "metadata": {},
   "outputs": [
    {
     "data": {
      "text/html": [
       "<div>\n",
       "<style scoped>\n",
       "    .dataframe tbody tr th:only-of-type {\n",
       "        vertical-align: middle;\n",
       "    }\n",
       "\n",
       "    .dataframe tbody tr th {\n",
       "        vertical-align: top;\n",
       "    }\n",
       "\n",
       "    .dataframe thead th {\n",
       "        text-align: right;\n",
       "    }\n",
       "</style>\n",
       "<table border=\"1\" class=\"dataframe\">\n",
       "  <thead>\n",
       "    <tr style=\"text-align: right;\">\n",
       "      <th></th>\n",
       "      <th>user</th>\n",
       "      <th>item</th>\n",
       "      <th>carts</th>\n",
       "    </tr>\n",
       "  </thead>\n",
       "  <tbody>\n",
       "    <tr>\n",
       "      <th>4247</th>\n",
       "      <td>11101813</td>\n",
       "      <td>98676</td>\n",
       "      <td>1</td>\n",
       "    </tr>\n",
       "    <tr>\n",
       "      <th>4247</th>\n",
       "      <td>11101813</td>\n",
       "      <td>667733</td>\n",
       "      <td>1</td>\n",
       "    </tr>\n",
       "    <tr>\n",
       "      <th>4247</th>\n",
       "      <td>11101813</td>\n",
       "      <td>1524654</td>\n",
       "      <td>1</td>\n",
       "    </tr>\n",
       "    <tr>\n",
       "      <th>4247</th>\n",
       "      <td>11101813</td>\n",
       "      <td>1506701</td>\n",
       "      <td>1</td>\n",
       "    </tr>\n",
       "    <tr>\n",
       "      <th>4250</th>\n",
       "      <td>11101815</td>\n",
       "      <td>1668042</td>\n",
       "      <td>1</td>\n",
       "    </tr>\n",
       "  </tbody>\n",
       "</table>\n",
       "</div>"
      ],
      "text/plain": [
       "          user     item  carts\n",
       "4247  11101813    98676      1\n",
       "4247  11101813   667733      1\n",
       "4247  11101813  1524654      1\n",
       "4247  11101813  1506701      1\n",
       "4250  11101815  1668042      1"
      ]
     },
     "execution_count": 29,
     "metadata": {},
     "output_type": "execute_result"
    }
   ],
   "source": [
    "test_users.head()"
   ]
  },
  {
   "cell_type": "code",
   "execution_count": 30,
   "id": "b648e510",
   "metadata": {},
   "outputs": [],
   "source": [
    "users = users.merge(test_users, on=['user','item'], how='left').fillna(0)"
   ]
  },
  {
   "cell_type": "code",
   "execution_count": 31,
   "id": "1327f7d4",
   "metadata": {},
   "outputs": [
    {
     "data": {
      "text/plain": [
       "40"
      ]
     },
     "execution_count": 31,
     "metadata": {},
     "output_type": "execute_result"
    }
   ],
   "source": [
    "del test_users\n",
    "gc.collect()"
   ]
  },
  {
   "cell_type": "code",
   "execution_count": 32,
   "id": "6dbe86b7",
   "metadata": {},
   "outputs": [
    {
     "data": {
      "text/html": [
       "<div>\n",
       "<style scoped>\n",
       "    .dataframe tbody tr th:only-of-type {\n",
       "        vertical-align: middle;\n",
       "    }\n",
       "\n",
       "    .dataframe tbody tr th {\n",
       "        vertical-align: top;\n",
       "    }\n",
       "\n",
       "    .dataframe thead th {\n",
       "        text-align: right;\n",
       "    }\n",
       "</style>\n",
       "<table border=\"1\" class=\"dataframe\">\n",
       "  <thead>\n",
       "    <tr style=\"text-align: right;\">\n",
       "      <th></th>\n",
       "      <th>user</th>\n",
       "      <th>item</th>\n",
       "      <th>pos</th>\n",
       "      <th>wgt</th>\n",
       "      <th>carts</th>\n",
       "    </tr>\n",
       "  </thead>\n",
       "  <tbody>\n",
       "    <tr>\n",
       "      <th>0</th>\n",
       "      <td>11098723</td>\n",
       "      <td>1812412</td>\n",
       "      <td>52</td>\n",
       "      <td>0.658074</td>\n",
       "      <td>0</td>\n",
       "    </tr>\n",
       "    <tr>\n",
       "      <th>1</th>\n",
       "      <td>11098723</td>\n",
       "      <td>1825691</td>\n",
       "      <td>53</td>\n",
       "      <td>0.651297</td>\n",
       "      <td>0</td>\n",
       "    </tr>\n",
       "    <tr>\n",
       "      <th>2</th>\n",
       "      <td>11098723</td>\n",
       "      <td>1263108</td>\n",
       "      <td>54</td>\n",
       "      <td>0.640000</td>\n",
       "      <td>0</td>\n",
       "    </tr>\n",
       "    <tr>\n",
       "      <th>3</th>\n",
       "      <td>11098723</td>\n",
       "      <td>510056</td>\n",
       "      <td>55</td>\n",
       "      <td>0.625000</td>\n",
       "      <td>0</td>\n",
       "    </tr>\n",
       "    <tr>\n",
       "      <th>4</th>\n",
       "      <td>11098723</td>\n",
       "      <td>90800</td>\n",
       "      <td>56</td>\n",
       "      <td>0.614964</td>\n",
       "      <td>0</td>\n",
       "    </tr>\n",
       "  </tbody>\n",
       "</table>\n",
       "</div>"
      ],
      "text/plain": [
       "       user     item  pos       wgt  carts\n",
       "0  11098723  1812412   52  0.658074      0\n",
       "1  11098723  1825691   53  0.651297      0\n",
       "2  11098723  1263108   54  0.640000      0\n",
       "3  11098723   510056   55  0.625000      0\n",
       "4  11098723    90800   56  0.614964      0"
      ]
     },
     "execution_count": 32,
     "metadata": {},
     "output_type": "execute_result"
    }
   ],
   "source": [
    "users.head()"
   ]
  },
  {
   "cell_type": "code",
   "execution_count": 33,
   "id": "196b353a",
   "metadata": {},
   "outputs": [
    {
     "name": "stdout",
     "output_type": "stream",
     "text": [
      "(180125100, 5) user       int32\n",
      "item       int32\n",
      "pos        int32\n",
      "wgt      float32\n",
      "carts       int8\n",
      "dtype: object\n"
     ]
    }
   ],
   "source": [
    "print(users.shape, users.dtypes)"
   ]
  },
  {
   "cell_type": "code",
   "execution_count": 34,
   "id": "367bf18c",
   "metadata": {},
   "outputs": [],
   "source": [
    "users = users.to_pandas()"
   ]
  },
  {
   "cell_type": "markdown",
   "id": "1f7608df",
   "metadata": {},
   "source": [
    "# Filter Rows"
   ]
  },
  {
   "cell_type": "code",
   "execution_count": 35,
   "id": "f6641278",
   "metadata": {},
   "outputs": [
    {
     "name": "stdout",
     "output_type": "stream",
     "text": [
      "1801251\n",
      "233887 0.1298469785721146\n",
      "CPU times: user 3.6 s, sys: 680 ms, total: 4.28 s\n",
      "Wall time: 4.28 s\n"
     ]
    },
    {
     "data": {
      "text/plain": [
       "29"
      ]
     },
     "execution_count": 35,
     "metadata": {},
     "output_type": "execute_result"
    }
   ],
   "source": [
    "%%time\n",
    "tmp = users.groupby('user')[USE].agg('sum')\n",
    "print( len(tmp) )\n",
    "KEEP = tmp.loc[tmp>0].index.values\n",
    "print( len(KEEP), len(KEEP)/len(tmp) )\n",
    "del tmp\n",
    "gc.collect()"
   ]
  },
  {
   "cell_type": "code",
   "execution_count": 36,
   "id": "ffb443f2",
   "metadata": {},
   "outputs": [
    {
     "name": "stdout",
     "output_type": "stream",
     "text": [
      "(23388700, 5)\n"
     ]
    },
    {
     "data": {
      "text/plain": [
       "0"
      ]
     },
     "execution_count": 36,
     "metadata": {},
     "output_type": "execute_result"
    }
   ],
   "source": [
    "users = users.loc[users.user.isin(KEEP)].reset_index(drop=True)\n",
    "print( users.shape )\n",
    "gc.collect()"
   ]
  },
  {
   "cell_type": "code",
   "execution_count": 37,
   "id": "79668e58",
   "metadata": {},
   "outputs": [
    {
     "data": {
      "text/plain": [
       "(0.012984176119237068, 77.01682346394101)"
      ]
     },
     "execution_count": 37,
     "metadata": {},
     "output_type": "execute_result"
    }
   ],
   "source": [
    "users[USE].mean(), 1/users[USE].mean()"
   ]
  },
  {
   "cell_type": "markdown",
   "id": "4dfbbbe3",
   "metadata": {},
   "source": [
    "# Save"
   ]
  },
  {
   "cell_type": "code",
   "execution_count": 38,
   "id": "412ef0bf",
   "metadata": {},
   "outputs": [
    {
     "data": {
      "text/plain": [
       "user       int32\n",
       "item       int32\n",
       "pos        int32\n",
       "wgt      float32\n",
       "carts       int8\n",
       "dtype: object"
      ]
     },
     "execution_count": 38,
     "metadata": {},
     "output_type": "execute_result"
    }
   ],
   "source": [
    "users.dtypes"
   ]
  },
  {
   "cell_type": "code",
   "execution_count": 39,
   "id": "d5d95e72",
   "metadata": {},
   "outputs": [],
   "source": [
    "users[USE] = users[USE].astype('int8')"
   ]
  },
  {
   "cell_type": "code",
   "execution_count": 40,
   "id": "d95a33d7",
   "metadata": {},
   "outputs": [],
   "source": [
    "users.to_parquet(f'../../data/train_with_features/train_v{VER}.pqt',index=False)"
   ]
  }
 ],
 "metadata": {
  "kernelspec": {
   "display_name": "Python 3 (ipykernel)",
   "language": "python",
   "name": "python3"
  },
  "language_info": {
   "codemirror_mode": {
    "name": "ipython",
    "version": 3
   },
   "file_extension": ".py",
   "mimetype": "text/x-python",
   "name": "python",
   "nbconvert_exporter": "python",
   "pygments_lexer": "ipython3",
   "version": "3.8.13"
  }
 },
 "nbformat": 4,
 "nbformat_minor": 5
}
