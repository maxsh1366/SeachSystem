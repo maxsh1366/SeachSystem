{
 "cells": [
  {
   "cell_type": "code",
   "execution_count": null,
   "id": "5df84f27",
   "metadata": {},
   "outputs": [],
   "source": []
  },
  {
   "cell_type": "code",
   "execution_count": null,
   "id": "17c893d2",
   "metadata": {},
   "outputs": [],
   "source": [
    "%reset -f\n",
    "%run Make-172-A.ipynb"
   ]
  },
  {
   "cell_type": "code",
   "execution_count": null,
   "id": "be99e1d3",
   "metadata": {},
   "outputs": [],
   "source": [
    "%reset -f\n",
    "%run Make-172-B.ipynb"
   ]
  },
  {
   "cell_type": "code",
   "execution_count": null,
   "id": "fa1c15cf",
   "metadata": {},
   "outputs": [],
   "source": [
    "%reset -f\n",
    "%run Make-172-C.ipynb"
   ]
  },
  {
   "cell_type": "code",
   "execution_count": null,
   "id": "df7eac63",
   "metadata": {
    "scrolled": true
   },
   "outputs": [],
   "source": [
    "%reset -f\n",
    "%run Make-172-D.ipynb"
   ]
  },
  {
   "cell_type": "code",
   "execution_count": null,
   "id": "cd06b538",
   "metadata": {
    "scrolled": true
   },
   "outputs": [],
   "source": [
    "%reset -f\n",
    "%run Make-172-E.ipynb"
   ]
  },
  {
   "cell_type": "code",
   "execution_count": null,
   "id": "3cd8a329",
   "metadata": {},
   "outputs": [],
   "source": [
    "%reset -f\n",
    "%run Make-172-F.ipynb"
   ]
  },
  {
   "cell_type": "code",
   "execution_count": null,
   "id": "d1772ee4",
   "metadata": {},
   "outputs": [],
   "source": [
    "%reset -f\n",
    "%run Make-172-G.ipynb"
   ]
  },
  {
   "cell_type": "code",
   "execution_count": null,
   "id": "a36e979a",
   "metadata": {},
   "outputs": [],
   "source": [
    "%reset -f\n",
    "%run Make-172-H.ipynb"
   ]
  },
  {
   "cell_type": "code",
   "execution_count": null,
   "id": "2be87593",
   "metadata": {},
   "outputs": [],
   "source": []
  },
  {
   "cell_type": "code",
   "execution_count": null,
   "id": "5b906ec1",
   "metadata": {},
   "outputs": [],
   "source": []
  },
  {
   "cell_type": "code",
   "execution_count": null,
   "id": "3456faed",
   "metadata": {},
   "outputs": [],
   "source": [
    "%reset -f\n",
    "%run Make-174-A.ipynb"
   ]
  },
  {
   "cell_type": "code",
   "execution_count": null,
   "id": "61cc8ca3",
   "metadata": {},
   "outputs": [],
   "source": [
    "%reset -f\n",
    "%run Make-174-B.ipynb"
   ]
  },
  {
   "cell_type": "code",
   "execution_count": null,
   "id": "b2d088ff",
   "metadata": {},
   "outputs": [],
   "source": [
    "%reset -f\n",
    "%run Make-174-C.ipynb"
   ]
  },
  {
   "cell_type": "code",
   "execution_count": null,
   "id": "aa2ecb6d",
   "metadata": {},
   "outputs": [],
   "source": [
    "%reset -f\n",
    "%run Make-174-D.ipynb"
   ]
  },
  {
   "cell_type": "code",
   "execution_count": null,
   "id": "ac68137d",
   "metadata": {},
   "outputs": [],
   "source": [
    "%reset -f\n",
    "%run Make-174-E.ipynb"
   ]
  },
  {
   "cell_type": "code",
   "execution_count": null,
   "id": "d620bc14",
   "metadata": {},
   "outputs": [],
   "source": [
    "%reset -f\n",
    "%run Make-174-F.ipynb"
   ]
  },
  {
   "cell_type": "code",
   "execution_count": null,
   "id": "2ee6fdf6",
   "metadata": {},
   "outputs": [],
   "source": [
    "%reset -f\n",
    "%run Make-174-G.ipynb"
   ]
  },
  {
   "cell_type": "code",
   "execution_count": null,
   "id": "37704253",
   "metadata": {},
   "outputs": [],
   "source": [
    "%reset -f\n",
    "%run Make-174-H.ipynb"
   ]
  },
  {
   "cell_type": "code",
   "execution_count": null,
   "id": "a9cfa72b",
   "metadata": {},
   "outputs": [],
   "source": []
  }
 ],
 "metadata": {
  "kernelspec": {
   "display_name": "Python 3 (ipykernel)",
   "language": "python",
   "name": "python3"
  },
  "language_info": {
   "codemirror_mode": {
    "name": "ipython",
    "version": 3
   },
   "file_extension": ".py",
   "mimetype": "text/x-python",
   "name": "python",
   "nbconvert_exporter": "python",
   "pygments_lexer": "ipython3",
   "version": "3.8.13"
  }
 },
 "nbformat": 4,
 "nbformat_minor": 5
}
