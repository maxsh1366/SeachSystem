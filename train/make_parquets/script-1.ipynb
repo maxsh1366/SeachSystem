{
 "cells": [
  {
   "cell_type": "code",
   "execution_count": null,
   "id": "5df84f27",
   "metadata": {},
   "outputs": [],
   "source": []
  },
  {
   "cell_type": "code",
   "execution_count": null,
   "id": "7a4fd3cc",
   "metadata": {},
   "outputs": [],
   "source": [
    "%reset -f\n",
    "%run Make-152-split-users.ipynb"
   ]
  },
  {
   "cell_type": "code",
   "execution_count": null,
   "id": "4decf22c",
   "metadata": {},
   "outputs": [],
   "source": [
    "%reset -f\n",
    "%run Make-152-A.ipynb"
   ]
  },
  {
   "cell_type": "code",
   "execution_count": null,
   "id": "6df91158",
   "metadata": {},
   "outputs": [],
   "source": [
    "%reset -f\n",
    "%run Make-152-B.ipynb"
   ]
  },
  {
   "cell_type": "code",
   "execution_count": null,
   "id": "ce99e7cd",
   "metadata": {},
   "outputs": [],
   "source": [
    "%reset -f\n",
    "%run Make-152-C.ipynb"
   ]
  },
  {
   "cell_type": "code",
   "execution_count": null,
   "id": "aee0e712",
   "metadata": {},
   "outputs": [],
   "source": [
    "%reset -f\n",
    "%run Make-152-D.ipynb"
   ]
  },
  {
   "cell_type": "code",
   "execution_count": null,
   "id": "47783f0d",
   "metadata": {},
   "outputs": [],
   "source": [
    "%reset -f\n",
    "%run Make-152-E.ipynb"
   ]
  },
  {
   "cell_type": "code",
   "execution_count": null,
   "id": "b18ecb06",
   "metadata": {},
   "outputs": [],
   "source": []
  },
  {
   "cell_type": "code",
   "execution_count": null,
   "id": "758e833f",
   "metadata": {},
   "outputs": [],
   "source": [
    "%reset -f\n",
    "%run Make-152-A2.ipynb"
   ]
  },
  {
   "cell_type": "code",
   "execution_count": null,
   "id": "0bcd7faf",
   "metadata": {},
   "outputs": [],
   "source": [
    "%reset -f\n",
    "%run Make-152-B2.ipynb"
   ]
  },
  {
   "cell_type": "code",
   "execution_count": null,
   "id": "c6a0bad7",
   "metadata": {},
   "outputs": [],
   "source": [
    "%reset -f\n",
    "%run Make-152-C2.ipynb"
   ]
  },
  {
   "cell_type": "code",
   "execution_count": null,
   "id": "06199155",
   "metadata": {},
   "outputs": [],
   "source": [
    "%reset -f\n",
    "%run Make-152-D2.ipynb"
   ]
  },
  {
   "cell_type": "code",
   "execution_count": null,
   "id": "5eea989b",
   "metadata": {},
   "outputs": [],
   "source": [
    "%reset -f\n",
    "%run Make-152-E2.ipynb"
   ]
  },
  {
   "cell_type": "code",
   "execution_count": null,
   "id": "3ddf01ed",
   "metadata": {},
   "outputs": [],
   "source": []
  }
 ],
 "metadata": {
  "kernelspec": {
   "display_name": "Python 3 (ipykernel)",
   "language": "python",
   "name": "python3"
  },
  "language_info": {
   "codemirror_mode": {
    "name": "ipython",
    "version": 3
   },
   "file_extension": ".py",
   "mimetype": "text/x-python",
   "name": "python",
   "nbconvert_exporter": "python",
   "pygments_lexer": "ipython3",
   "version": "3.8.13"
  }
 },
 "nbformat": 4,
 "nbformat_minor": 5
}
