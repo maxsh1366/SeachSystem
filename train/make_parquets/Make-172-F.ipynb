{
 "cells": [
  {
   "cell_type": "code",
   "execution_count": null,
   "id": "d0d39a4f",
   "metadata": {},
   "outputs": [],
   "source": [
    "import os\n",
    "os.environ[\"CUDA_VISIBLE_DEVICES\"]=\"0\"\n",
    "\n",
    "VER = 172\n",
    "POSTFIX = ''\n",
    "\n",
    "USE = 'orders'\n",
    "\n",
    "CT=50"
   ]
  },
  {
   "cell_type": "code",
   "execution_count": null,
   "id": "829a2f39",
   "metadata": {},
   "outputs": [],
   "source": [
    "import pandas as pd, cudf, numpy as np, gc\n",
    "pd.set_option('display.max_columns', 500)\n",
    "import matplotlib.pyplot as plt"
   ]
  },
  {
   "cell_type": "code",
   "execution_count": null,
   "id": "df3730ea",
   "metadata": {},
   "outputs": [],
   "source": [
    "df = cudf.read_parquet('../../data/train_data/test.parquet')\n",
    "df = df.sort_values(['session','ts'])\n",
    "df = df.groupby('session').agg('last').reset_index()\n",
    "df = df[['session','aid']]\n",
    "df.columns = ['user','last']\n",
    "print( df.shape )\n",
    "df.head()"
   ]
  },
  {
   "cell_type": "code",
   "execution_count": null,
   "id": "bf8c30fe",
   "metadata": {},
   "outputs": [],
   "source": []
  },
  {
   "cell_type": "code",
   "execution_count": null,
   "id": "cfc8cb2a",
   "metadata": {},
   "outputs": [],
   "source": [
    "users = pd.read_parquet(f'../../data/train_with_features/train_v{VER}{POSTFIX}.pqt')\n",
    "print( users.shape )\n",
    "users.head()"
   ]
  },
  {
   "cell_type": "code",
   "execution_count": null,
   "id": "2e4b5bac",
   "metadata": {},
   "outputs": [],
   "source": [
    "%%time\n",
    "users2 = users[['user','item']].copy()\n",
    "users2 = users2.merge(df.to_pandas(),on='user',how='left')\n",
    "print( users2.shape )\n",
    "users2.head()"
   ]
  },
  {
   "cell_type": "code",
   "execution_count": null,
   "id": "2dac5899",
   "metadata": {},
   "outputs": [],
   "source": [
    "df = cudf.read_parquet('../../data/train_data/test.parquet')\n",
    "df = df.sort_values(['session','ts'])\n",
    "df = df.groupby('session').agg('first').reset_index()\n",
    "df = df[['session','aid']]\n",
    "df.columns = ['user','first']\n",
    "print( df.shape )\n",
    "df.head()"
   ]
  },
  {
   "cell_type": "code",
   "execution_count": null,
   "id": "d2594102",
   "metadata": {},
   "outputs": [],
   "source": [
    "%%time\n",
    "users2 = users2.merge(df.to_pandas(),on='user',how='left')\n",
    "print( users2.shape )\n",
    "users2.head()"
   ]
  },
  {
   "cell_type": "code",
   "execution_count": null,
   "id": "cb8c267b",
   "metadata": {},
   "outputs": [],
   "source": [
    "df = cudf.read_parquet('../../data/train_data/test.parquet')\n",
    "df = df.sort_values(['session','ts']).reset_index(drop=True)\n",
    "\n",
    "df['mx'] = df.groupby('session').ts.transform('max')\n",
    "df['mx'] = df.mx - df.ts\n",
    "df = df.loc[df.mx > 60*60*24]\n",
    "\n",
    "df = df.groupby('session').agg('last').reset_index()\n",
    "df = df[['session','aid']]\n",
    "df.columns = ['user','last2']\n",
    "print( df.shape )\n",
    "df.head()"
   ]
  },
  {
   "cell_type": "code",
   "execution_count": null,
   "id": "47e745de",
   "metadata": {},
   "outputs": [],
   "source": [
    "%%time\n",
    "users2 = users2.merge(df.to_pandas(),on='user',how='left')\n",
    "users2['last2'] = users2['last2'].fillna(users2['last']).astype('int32')\n",
    "print( users2.shape )\n",
    "users2.head()"
   ]
  },
  {
   "cell_type": "code",
   "execution_count": null,
   "id": "abcb726e",
   "metadata": {},
   "outputs": [],
   "source": []
  },
  {
   "cell_type": "code",
   "execution_count": null,
   "id": "951ae8df",
   "metadata": {},
   "outputs": [],
   "source": [
    "users2['last'].isna().sum()"
   ]
  },
  {
   "cell_type": "code",
   "execution_count": null,
   "id": "346ea58d",
   "metadata": {},
   "outputs": [],
   "source": [
    "users2['last2'].isna().sum()"
   ]
  },
  {
   "cell_type": "code",
   "execution_count": null,
   "id": "ee7b8d90",
   "metadata": {},
   "outputs": [],
   "source": [
    "users2['first'].isna().sum()"
   ]
  },
  {
   "cell_type": "markdown",
   "id": "abbb8110",
   "metadata": {},
   "source": [
    "# Matrix Factorization"
   ]
  },
  {
   "cell_type": "code",
   "execution_count": null,
   "id": "e9647010",
   "metadata": {},
   "outputs": [],
   "source": [
    "%%time\n",
    "x = users2['first'].values\n",
    "y = users2['last'].values"
   ]
  },
  {
   "cell_type": "code",
   "execution_count": null,
   "id": "b46896db",
   "metadata": {},
   "outputs": [],
   "source": [
    "embed = np.load('../../data/item_user_features/item_embed_32.npy')\n",
    "z = np.sqrt( np.sum(embed * embed,axis=1) )\n",
    "embed = embed/ np.reshape(z,(-1,1))\n",
    "embed.shape\n",
    "#(1855603, 32)"
   ]
  },
  {
   "cell_type": "code",
   "execution_count": null,
   "id": "c65602fb",
   "metadata": {},
   "outputs": [],
   "source": [
    "%%time\n",
    "e1 = embed[x,]\n",
    "e2 = embed[y,]"
   ]
  },
  {
   "cell_type": "code",
   "execution_count": null,
   "id": "60334366",
   "metadata": {},
   "outputs": [],
   "source": [
    "%%time\n",
    "z = np.sum( e1*e2,axis=1 )"
   ]
  },
  {
   "cell_type": "code",
   "execution_count": null,
   "id": "c0ef4ed6",
   "metadata": {},
   "outputs": [],
   "source": [
    "users2['z10'] = z"
   ]
  },
  {
   "cell_type": "code",
   "execution_count": null,
   "id": "cc1a5718",
   "metadata": {},
   "outputs": [],
   "source": [
    "%%time\n",
    "x = users2['last2'].values\n",
    "#y = users2['last'].values"
   ]
  },
  {
   "cell_type": "code",
   "execution_count": null,
   "id": "ec59094a",
   "metadata": {},
   "outputs": [],
   "source": [
    "%%time\n",
    "e1 = embed[x,]\n",
    "#e2 = embed[y,]"
   ]
  },
  {
   "cell_type": "code",
   "execution_count": null,
   "id": "cc674ed0",
   "metadata": {},
   "outputs": [],
   "source": [
    "%%time\n",
    "z = np.sum( e1*e2,axis=1 )"
   ]
  },
  {
   "cell_type": "code",
   "execution_count": null,
   "id": "f5b10151",
   "metadata": {},
   "outputs": [],
   "source": [
    "users2['z11'] = z"
   ]
  },
  {
   "cell_type": "markdown",
   "id": "b69f7e35",
   "metadata": {},
   "source": [
    "# Add Item Features"
   ]
  },
  {
   "cell_type": "code",
   "execution_count": null,
   "id": "9e69ddfe",
   "metadata": {},
   "outputs": [],
   "source": [
    "df = pd.read_parquet('../../data/item_user_features/item40.pqt')\n",
    "for c in df.columns:\n",
    "    if str(df[c].dtype)=='int32':\n",
    "        print(c, df[c].dtype)\n",
    "        df[c] = df[c].astype('float32')\n",
    "df.head()"
   ]
  },
  {
   "cell_type": "code",
   "execution_count": null,
   "id": "131edea1",
   "metadata": {},
   "outputs": [],
   "source": [
    "%%time\n",
    "users2 = users2.merge(df, left_on='item', right_index=True, how='left')\n",
    "print( users2.shape )\n",
    "users2.head()"
   ]
  },
  {
   "cell_type": "code",
   "execution_count": null,
   "id": "6ac50c27",
   "metadata": {},
   "outputs": [],
   "source": [
    "df = pd.read_parquet('../../data/item_user_features/item41.pqt')\n",
    "for c in df.columns:\n",
    "    if str(df[c].dtype)=='int32':\n",
    "        print(c, df[c].dtype)\n",
    "        df[c] = df[c].astype('float32')\n",
    "df.head()"
   ]
  },
  {
   "cell_type": "code",
   "execution_count": null,
   "id": "68a7fe88",
   "metadata": {},
   "outputs": [],
   "source": [
    "%%time\n",
    "users2 = users2.merge(df, left_on='item', right_index=True, how='left')\n",
    "print( users2.shape )\n",
    "users2.head()"
   ]
  },
  {
   "cell_type": "code",
   "execution_count": null,
   "id": "fb483954",
   "metadata": {},
   "outputs": [],
   "source": [
    "COLS = [f'{x.replace(\"12\",\"13\")}' for x in df.columns]\n",
    "df.columns = COLS\n",
    "print( COLS )"
   ]
  },
  {
   "cell_type": "code",
   "execution_count": null,
   "id": "a2d9ffa6",
   "metadata": {},
   "outputs": [],
   "source": [
    "%%time\n",
    "users2 = users2.merge(df, left_on='last', right_index=True, how='left')\n",
    "print( users2.shape )\n",
    "users2.head()"
   ]
  },
  {
   "cell_type": "markdown",
   "id": "5c26d234",
   "metadata": {},
   "source": [
    "# Add User Features"
   ]
  },
  {
   "cell_type": "code",
   "execution_count": null,
   "id": "1659def1",
   "metadata": {},
   "outputs": [],
   "source": [
    "df = pd.read_parquet('../../data/item_user_features/user20.pqt')\n",
    "for c in df.columns:\n",
    "    if str(df[c].dtype)=='int32':\n",
    "        print(c, df[c].dtype)\n",
    "        df[c] = df[c].astype('float32')\n",
    "df.head()"
   ]
  },
  {
   "cell_type": "code",
   "execution_count": null,
   "id": "3ae022ab",
   "metadata": {},
   "outputs": [],
   "source": [
    "%%time\n",
    "users2 = users2.merge(df, left_on='user', right_index=True, how='left')\n",
    "print( users2.shape )\n",
    "users2.head()"
   ]
  },
  {
   "cell_type": "code",
   "execution_count": null,
   "id": "2e2352f7",
   "metadata": {},
   "outputs": [],
   "source": [
    "df = pd.read_parquet('../../data/item_user_features/user21.pqt')\n",
    "for c in df.columns:\n",
    "    if str(df[c].dtype)=='int32':\n",
    "        print(c, df[c].dtype)\n",
    "        df[c] = df[c].astype('float32')\n",
    "df.head()"
   ]
  },
  {
   "cell_type": "code",
   "execution_count": null,
   "id": "ce5c6ccd",
   "metadata": {},
   "outputs": [],
   "source": [
    "%%time\n",
    "users2 = users2.merge(df, left_on='user', right_index=True, how='left')\n",
    "print( users2.shape )\n",
    "users2.head()"
   ]
  },
  {
   "cell_type": "markdown",
   "id": "949c8e84",
   "metadata": {},
   "source": [
    "# EDA Columns"
   ]
  },
  {
   "cell_type": "code",
   "execution_count": null,
   "id": "1f0c18e1",
   "metadata": {
    "scrolled": true
   },
   "outputs": [],
   "source": [
    "for c in users2.columns:\n",
    "    print(c,users2[c].dtype)"
   ]
  },
  {
   "cell_type": "code",
   "execution_count": null,
   "id": "e8cde711",
   "metadata": {},
   "outputs": [],
   "source": [
    "for c in users2.columns[:5]:\n",
    "    print(c,', ',end='')"
   ]
  },
  {
   "cell_type": "code",
   "execution_count": null,
   "id": "48d11cfe",
   "metadata": {},
   "outputs": [],
   "source": [
    "for c in users2.columns[5:]:\n",
    "    print(c,', ',end='')\n",
    "    users[c] = users2[c].values\n",
    "del users2\n",
    "gc.collect()"
   ]
  },
  {
   "cell_type": "code",
   "execution_count": null,
   "id": "14f51540",
   "metadata": {},
   "outputs": [],
   "source": [
    "for c in users.columns:\n",
    "    t = str(users[c].dtype)\n",
    "    if (t=='int64'): \n",
    "        users[c] = users[c].astype('int32')\n",
    "        print('convert',c,'to int32')\n",
    "    if (t=='float64')|(t=='Int32')|(t=='Float32'):\n",
    "        users[c] = users[c].astype('float32')\n",
    "        print('convert',c,'to float32')"
   ]
  },
  {
   "cell_type": "code",
   "execution_count": null,
   "id": "37692f6b",
   "metadata": {},
   "outputs": [],
   "source": [
    "print( users.shape )\n",
    "users.head()"
   ]
  },
  {
   "cell_type": "code",
   "execution_count": null,
   "id": "674f9039",
   "metadata": {},
   "outputs": [],
   "source": [
    "%%time\n",
    "users.to_parquet(f'../../data/train_with_features/train_v{VER}.pqt',index=False)"
   ]
  }
 ],
 "metadata": {
  "kernelspec": {
   "display_name": "Python 3 (ipykernel)",
   "language": "python",
   "name": "python3"
  },
  "language_info": {
   "codemirror_mode": {
    "name": "ipython",
    "version": 3
   },
   "file_extension": ".py",
   "mimetype": "text/x-python",
   "name": "python",
   "nbconvert_exporter": "python",
   "pygments_lexer": "ipython3",
   "version": "3.8.13"
  }
 },
 "nbformat": 4,
 "nbformat_minor": 5
}
