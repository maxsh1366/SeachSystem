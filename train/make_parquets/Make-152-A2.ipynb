{
 "cells": [
  {
   "cell_type": "code",
   "execution_count": null,
   "id": "d0d39a4f",
   "metadata": {},
   "outputs": [],
   "source": [
    "import os\n",
    "os.environ[\"CUDA_VISIBLE_DEVICES\"]=\"0\"\n",
    "\n",
    "VER = 152\n",
    "USE = 'clicks'\n",
    "\n",
    "PART = 'B'"
   ]
  },
  {
   "cell_type": "code",
   "execution_count": null,
   "id": "829a2f39",
   "metadata": {},
   "outputs": [],
   "source": [
    "import pandas as pd, cudf, numpy as np, gc\n",
    "pd.set_option('display.max_columns', 500)\n",
    "import matplotlib.pyplot as plt"
   ]
  },
  {
   "cell_type": "code",
   "execution_count": null,
   "id": "38f769c1",
   "metadata": {},
   "outputs": [],
   "source": [
    "USR = np.load(f'test_user_{PART}.npy')\n",
    "len( USR )"
   ]
  },
  {
   "cell_type": "code",
   "execution_count": null,
   "id": "cfc8cb2a",
   "metadata": {},
   "outputs": [],
   "source": [
    "LOAD = 709\n",
    "OFFSET = ''\n",
    "\n",
    "df = pd.read_csv(f\"../../data/candidate_scores/submission_v{LOAD}{OFFSET}.csv\")\n",
    "df = df.loc[df.session_type.str.contains(USE)]\n",
    "df = cudf.DataFrame(df)\n",
    "print( df.shape )\n",
    "df.head()"
   ]
  },
  {
   "cell_type": "code",
   "execution_count": null,
   "id": "5730c92b",
   "metadata": {},
   "outputs": [],
   "source": [
    "OFFSET = '_wgt'\n",
    "\n",
    "df2 = pd.read_csv(f\"../../data/candidate_scores/submission_v{LOAD}{OFFSET}.csv\")\n",
    "df2 = df2.loc[df2.session_type.str.contains(USE)]\n",
    "df2 = cudf.DataFrame(df2)\n",
    "print( df2.shape )\n",
    "df2.head()"
   ]
  },
  {
   "cell_type": "code",
   "execution_count": null,
   "id": "7bd10119",
   "metadata": {},
   "outputs": [],
   "source": [
    "df['user'] = df.session_type.str.partition('_')[0].astype('int32')\n",
    "df = df.loc[df.user.isin(USR)].reset_index(drop=True)\n",
    "df = df.drop('session_type',axis=1)\n",
    "df.head()"
   ]
  },
  {
   "cell_type": "code",
   "execution_count": null,
   "id": "7d0d8b69",
   "metadata": {},
   "outputs": [],
   "source": [
    "df2['user'] = df2.session_type.str.partition('_')[0].astype('int32')\n",
    "df2 = df2.loc[df2.user.isin(USR)].reset_index(drop=True)\n",
    "df2 = df2.drop('session_type',axis=1)\n",
    "df2.head()"
   ]
  },
  {
   "cell_type": "code",
   "execution_count": null,
   "id": "86e7a999",
   "metadata": {},
   "outputs": [],
   "source": [
    "tmp = df.labels.str.split(' ').explode().astype('int32').rename('item').to_frame()\n",
    "tmp['pos'] = np.tile( np.arange(100),tmp.shape[0]//100 ).astype('int32')\n",
    "tmp.head()"
   ]
  },
  {
   "cell_type": "code",
   "execution_count": null,
   "id": "f87cc37c",
   "metadata": {},
   "outputs": [],
   "source": [
    "users = df[['user']].copy()\n",
    "users.head()"
   ]
  },
  {
   "cell_type": "code",
   "execution_count": null,
   "id": "429975e4",
   "metadata": {},
   "outputs": [],
   "source": [
    "users = users.merge(tmp, left_index=True, right_index=True)"
   ]
  },
  {
   "cell_type": "code",
   "execution_count": null,
   "id": "61a4d738",
   "metadata": {},
   "outputs": [],
   "source": [
    "del df, tmp\n",
    "gc.collect()"
   ]
  },
  {
   "cell_type": "code",
   "execution_count": null,
   "id": "9b104529",
   "metadata": {},
   "outputs": [],
   "source": [
    "users.head()"
   ]
  },
  {
   "cell_type": "code",
   "execution_count": null,
   "id": "1614c199",
   "metadata": {},
   "outputs": [],
   "source": [
    "users.dtypes"
   ]
  },
  {
   "cell_type": "code",
   "execution_count": null,
   "id": "0455f7c3",
   "metadata": {},
   "outputs": [],
   "source": [
    "tmp = df2.labels.str.split(' ').explode().astype('float32').rename('wgt').to_frame()\n",
    "tmp['pos'] = np.tile( np.arange(100),tmp.shape[0]//100 ).astype('int32')\n",
    "tmp.head()"
   ]
  },
  {
   "cell_type": "code",
   "execution_count": null,
   "id": "dfdfd852",
   "metadata": {},
   "outputs": [],
   "source": [
    "users2 = df2[['user']].copy()#.reset_index()\n",
    "users2.head()"
   ]
  },
  {
   "cell_type": "code",
   "execution_count": null,
   "id": "16ce1f0a",
   "metadata": {},
   "outputs": [],
   "source": [
    "del df2\n",
    "gc.collect()"
   ]
  },
  {
   "cell_type": "code",
   "execution_count": null,
   "id": "858fd83b",
   "metadata": {},
   "outputs": [],
   "source": [
    "users2 = users2.merge(tmp, left_index=True, right_index=True)"
   ]
  },
  {
   "cell_type": "code",
   "execution_count": null,
   "id": "8017c7f7",
   "metadata": {},
   "outputs": [],
   "source": [
    "users2.head()"
   ]
  },
  {
   "cell_type": "code",
   "execution_count": null,
   "id": "564f6f09",
   "metadata": {},
   "outputs": [],
   "source": [
    "users = users.merge(users2,on=['user','pos'],how='left')"
   ]
  },
  {
   "cell_type": "code",
   "execution_count": null,
   "id": "81ceb09f",
   "metadata": {},
   "outputs": [],
   "source": [
    "users.head()"
   ]
  },
  {
   "cell_type": "code",
   "execution_count": null,
   "id": "ee60302f",
   "metadata": {},
   "outputs": [],
   "source": [
    "del users2, tmp\n",
    "gc.collect()"
   ]
  },
  {
   "cell_type": "code",
   "execution_count": null,
   "id": "1ad14f04",
   "metadata": {},
   "outputs": [],
   "source": [
    "users.shape"
   ]
  },
  {
   "cell_type": "markdown",
   "id": "ac1a1b53",
   "metadata": {},
   "source": [
    "# Add Targets"
   ]
  },
  {
   "cell_type": "code",
   "execution_count": null,
   "id": "bb8cc81a",
   "metadata": {},
   "outputs": [],
   "source": [
    "test_labels = cudf.read_parquet('../../data/train_data/test_labels.parquet')\n",
    "test_labels = test_labels.loc[test_labels['type']==USE]\n",
    "print( test_labels.shape )\n",
    "test_labels.head()"
   ]
  },
  {
   "cell_type": "code",
   "execution_count": null,
   "id": "cc74a001",
   "metadata": {},
   "outputs": [],
   "source": [
    "tmp = test_labels.ground_truth.explode().astype('int32').rename('item')\n",
    "tmp.head()"
   ]
  },
  {
   "cell_type": "code",
   "execution_count": null,
   "id": "4c0fa401",
   "metadata": {},
   "outputs": [],
   "source": [
    "test_users = test_labels[['session']].astype('int32').copy()\n",
    "test_users.columns = ['user']"
   ]
  },
  {
   "cell_type": "code",
   "execution_count": null,
   "id": "f5d93807",
   "metadata": {},
   "outputs": [],
   "source": [
    "test_users = test_users.merge(tmp,left_index=True,right_index=True)"
   ]
  },
  {
   "cell_type": "code",
   "execution_count": null,
   "id": "064b8104",
   "metadata": {},
   "outputs": [],
   "source": [
    "del test_labels, tmp\n",
    "gc.collect()"
   ]
  },
  {
   "cell_type": "code",
   "execution_count": null,
   "id": "41735b26",
   "metadata": {},
   "outputs": [],
   "source": [
    "test_users[USE] = np.int8(1)"
   ]
  },
  {
   "cell_type": "code",
   "execution_count": null,
   "id": "810b5d36",
   "metadata": {},
   "outputs": [],
   "source": [
    "test_users.dtypes"
   ]
  },
  {
   "cell_type": "code",
   "execution_count": null,
   "id": "b8c574e0",
   "metadata": {},
   "outputs": [],
   "source": [
    "test_users.head()"
   ]
  },
  {
   "cell_type": "code",
   "execution_count": null,
   "id": "5ab0f19c",
   "metadata": {},
   "outputs": [],
   "source": [
    "users = users.merge(test_users, on=['user','item'], how='left').fillna(0)"
   ]
  },
  {
   "cell_type": "code",
   "execution_count": null,
   "id": "f4526021",
   "metadata": {},
   "outputs": [],
   "source": [
    "del test_users\n",
    "gc.collect()"
   ]
  },
  {
   "cell_type": "code",
   "execution_count": null,
   "id": "1632546b",
   "metadata": {},
   "outputs": [],
   "source": [
    "users.head()"
   ]
  },
  {
   "cell_type": "code",
   "execution_count": null,
   "id": "b1ea4bff",
   "metadata": {},
   "outputs": [],
   "source": [
    "print(users.shape, users.dtypes)"
   ]
  },
  {
   "cell_type": "code",
   "execution_count": null,
   "id": "1703d324",
   "metadata": {},
   "outputs": [],
   "source": [
    "users = users.to_pandas()"
   ]
  },
  {
   "cell_type": "markdown",
   "id": "1d34bd29",
   "metadata": {},
   "source": [
    "# Save"
   ]
  },
  {
   "cell_type": "code",
   "execution_count": null,
   "id": "bb99ce1e",
   "metadata": {},
   "outputs": [],
   "source": [
    "users.dtypes"
   ]
  },
  {
   "cell_type": "code",
   "execution_count": null,
   "id": "4e8b8e6a",
   "metadata": {},
   "outputs": [],
   "source": [
    "users[USE] = users[USE].astype('int8')"
   ]
  },
  {
   "cell_type": "code",
   "execution_count": null,
   "id": "556805a6",
   "metadata": {},
   "outputs": [],
   "source": [
    "users.to_parquet(f'../../data/train_with_features/train_v{VER}_{PART}.pqt',index=False)"
   ]
  }
 ],
 "metadata": {
  "kernelspec": {
   "display_name": "Python 3 (ipykernel)",
   "language": "python",
   "name": "python3"
  },
  "language_info": {
   "codemirror_mode": {
    "name": "ipython",
    "version": 3
   },
   "file_extension": ".py",
   "mimetype": "text/x-python",
   "name": "python",
   "nbconvert_exporter": "python",
   "pygments_lexer": "ipython3",
   "version": "3.8.13"
  }
 },
 "nbformat": 4,
 "nbformat_minor": 5
}
