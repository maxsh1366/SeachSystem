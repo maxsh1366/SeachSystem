{
 "cells": [
  {
   "cell_type": "code",
   "execution_count": null,
   "id": "5c74b78e",
   "metadata": {},
   "outputs": [],
   "source": [
    "import pandas as pd\n",
    "pd.set_option('display.max_columns', 500)\n",
    "\n",
    "VER = 152\n",
    "PART = 'B'"
   ]
  },
  {
   "cell_type": "code",
   "execution_count": null,
   "id": "cad10492",
   "metadata": {},
   "outputs": [],
   "source": [
    "df = pd.read_parquet(f'../../data/train_with_features/train_v{VER}_{PART}.pqt')\n",
    "print( df.shape )\n",
    "df.head()"
   ]
  },
  {
   "cell_type": "code",
   "execution_count": null,
   "id": "07e896a9",
   "metadata": {},
   "outputs": [],
   "source": [
    "user = pd.read_parquet('../../data/item_user_features/user7.pqt')\n",
    "print( user.shape )\n",
    "user.head()"
   ]
  },
  {
   "cell_type": "code",
   "execution_count": null,
   "id": "c3318ede",
   "metadata": {},
   "outputs": [],
   "source": [
    "df = df.merge(user, left_on='user', right_index=True, how='left')\n",
    "print( df.shape )\n",
    "df.head()"
   ]
  },
  {
   "cell_type": "code",
   "execution_count": null,
   "id": "0ca8557e",
   "metadata": {},
   "outputs": [],
   "source": [
    "df.ts_diff7.isna().sum()"
   ]
  },
  {
   "cell_type": "code",
   "execution_count": null,
   "id": "41eb5bfc",
   "metadata": {},
   "outputs": [],
   "source": [
    "%%time\n",
    "df = df.sort_values(['user','pos']).reset_index(drop=True)"
   ]
  },
  {
   "cell_type": "code",
   "execution_count": null,
   "id": "5a17b1d1",
   "metadata": {},
   "outputs": [],
   "source": [
    "df.to_parquet(f'../../data/train_with_features/train_v{VER}_{PART}.pqt',index=False)"
   ]
  },
  {
   "cell_type": "code",
   "execution_count": null,
   "id": "6014eac0",
   "metadata": {},
   "outputs": [],
   "source": [
    "df.head()"
   ]
  },
  {
   "cell_type": "code",
   "execution_count": null,
   "id": "5aa2b0d5",
   "metadata": {},
   "outputs": [],
   "source": [
    "df.tail()"
   ]
  }
 ],
 "metadata": {
  "kernelspec": {
   "display_name": "Python 3 (ipykernel)",
   "language": "python",
   "name": "python3"
  },
  "language_info": {
   "codemirror_mode": {
    "name": "ipython",
    "version": 3
   },
   "file_extension": ".py",
   "mimetype": "text/x-python",
   "name": "python",
   "nbconvert_exporter": "python",
   "pygments_lexer": "ipython3",
   "version": "3.8.13"
  }
 },
 "nbformat": 4,
 "nbformat_minor": 5
}
