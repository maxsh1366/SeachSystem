{
 "cells": [
  {
   "cell_type": "code",
   "execution_count": null,
   "id": "d0d39a4f",
   "metadata": {},
   "outputs": [],
   "source": [
    "import os\n",
    "os.environ[\"CUDA_VISIBLE_DEVICES\"]=\"0\"\n",
    "\n",
    "VER = 152\n",
    "USE = 'clicks'\n",
    "\n",
    "PART = 'B'"
   ]
  },
  {
   "cell_type": "code",
   "execution_count": null,
   "id": "829a2f39",
   "metadata": {},
   "outputs": [],
   "source": [
    "import pandas as pd, cudf, numpy as np, gc\n",
    "pd.set_option('display.max_columns', 500)\n",
    "import matplotlib.pyplot as plt"
   ]
  },
  {
   "cell_type": "code",
   "execution_count": null,
   "id": "c87c13ba",
   "metadata": {},
   "outputs": [],
   "source": [
    "USR = np.load(f'test_user_{PART}.npy')\n",
    "len( USR )"
   ]
  },
  {
   "cell_type": "code",
   "execution_count": null,
   "id": "cfc8cb2a",
   "metadata": {},
   "outputs": [],
   "source": [
    "LOAD = 709\n",
    "OFFSET = ''"
   ]
  },
  {
   "cell_type": "code",
   "execution_count": null,
   "id": "9126942e",
   "metadata": {},
   "outputs": [],
   "source": [
    "users = cudf.read_parquet(f'../../data/train_with_features/train_v{VER}_{PART}.pqt')\n",
    "print( users.shape )\n",
    "users.head()"
   ]
  },
  {
   "cell_type": "markdown",
   "id": "a55623f1",
   "metadata": {},
   "source": [
    "# Add Weights"
   ]
  },
  {
   "cell_type": "code",
   "execution_count": null,
   "id": "ede49fc0",
   "metadata": {},
   "outputs": [],
   "source": [
    "for k in [1,3,4,5,6,7]:\n",
    "\n",
    "    dfA = cudf.read_csv(f'../../data/candidate_scores/submission_v564_v{k}.csv')\n",
    "    dfA['user'] = dfA.session_type.str.partition('_')[0].astype('int32')\n",
    "    dfA = dfA.drop('session_type',axis=1)\n",
    "\n",
    "    tmpA = dfA.labels.str.split(' ').explode().astype('int32').rename('item').to_frame()\n",
    "    tmpA['pos'] = np.tile( np.arange(50),tmpA.shape[0]//50 ).astype('int32')\n",
    "\n",
    "    dfA = dfA[['user']]\n",
    "    dfA = dfA.merge(tmpA, left_index=True, right_index=True)\n",
    "    del tmpA\n",
    "\n",
    "    dfB = cudf.read_csv(f'../../data/candidate_scores/submission_v564_wgt_v{k}.csv')\n",
    "    dfB['user'] = dfB.session_type.str.partition('_')[0].astype('int32')\n",
    "    dfB = dfB.drop('session_type',axis=1)\n",
    "\n",
    "    tmpB = dfB.labels.str.split(' ').explode().astype('float32').rename('item').to_frame()\n",
    "    tmpB['pos'] = np.tile( np.arange(50),tmpB.shape[0]//50 ).astype('int32')\n",
    "\n",
    "    dfB = dfB[['user']]\n",
    "    dfB = dfB.merge(tmpB, left_index=True, right_index=True)\n",
    "    dfB.columns = ['user',f'score_{k}','pos']\n",
    "    del tmpB\n",
    "\n",
    "    dfA = dfA.merge(dfB, on=['user','pos'], how='left').drop('pos',axis=1)\n",
    "    dfA = dfA.loc[dfA[f'score_{k}']!=-2]\n",
    "    del dfB\n",
    "      \n",
    "    #dfA = dfA.rename({'pos':f'pos_{k}'},axis=1)\n",
    "    users = users.merge(dfA,on=['user','item'],how='left').fillna(-3)\n",
    "    del dfA\n",
    "    \n",
    "    gc.collect()\n",
    "    \n",
    "    print(k,users.shape)"
   ]
  },
  {
   "cell_type": "code",
   "execution_count": null,
   "id": "884e17d0",
   "metadata": {},
   "outputs": [],
   "source": [
    "#import gc\n",
    "#users = users.to_pandas()\n",
    "#gc.collect()"
   ]
  },
  {
   "cell_type": "code",
   "execution_count": null,
   "id": "cfb0df01",
   "metadata": {
    "scrolled": true
   },
   "outputs": [],
   "source": [
    "USE2 = 'orders'\n",
    "OFFSET = 10\n",
    "for j,k in enumerate(['../../data/candidate_scores/submission_v564_F',\n",
    "                      '../../data/candidate_scores/submission_v612']):\n",
    "\n",
    "    dfA = cudf.read_csv(f'{k}.csv')\n",
    "    dfA = dfA.loc[dfA.session_type.str.contains(USE2)]\n",
    "    dfA['user'] = dfA.session_type.str.partition('_')[0].astype('int32')\n",
    "    dfA = dfA.drop('session_type',axis=1)\n",
    "\n",
    "    tmpA = dfA.labels.str.split(' ').explode().astype('int32').rename('item').to_frame()\n",
    "    tmpA['pos'] = np.tile( np.arange(50),tmpA.shape[0]//50 ).astype('int32')\n",
    "\n",
    "    dfA = dfA[['user']]\n",
    "    dfA = dfA.merge(tmpA, left_index=True, right_index=True)\n",
    "    del tmpA\n",
    "\n",
    "    dfB = cudf.read_csv(f'{k}_wgt.csv')\n",
    "    dfB = dfB.loc[dfB.session_type.str.contains(USE2)]\n",
    "    dfB['user'] = dfB.session_type.str.partition('_')[0].astype('int32')\n",
    "    dfB = dfB.drop('session_type',axis=1)\n",
    "\n",
    "    tmpB = dfB.labels.str.split(' ').explode().astype('float32').rename('item').to_frame()\n",
    "    tmpB['pos'] = np.tile( np.arange(50),tmpB.shape[0]//50 ).astype('int32')\n",
    "\n",
    "    dfB = dfB[['user']]\n",
    "    dfB = dfB.merge(tmpB, left_index=True, right_index=True)\n",
    "    dfB.columns = ['user',f'score_{j+OFFSET}','pos']\n",
    "    del tmpB\n",
    "\n",
    "    dfA = dfA.merge(dfB, on=['user','pos'], how='left').drop('pos',axis=1)\n",
    "    dfA = dfA.loc[dfA[f'score_{j+OFFSET}']!=-2]\n",
    "    del dfB\n",
    "      \n",
    "    #dfA = dfA.rename({'pos':f'pos_{k}'},axis=1)\n",
    "    users = users.merge(dfA,on=['user','item'],how='left').fillna(-3)\n",
    "    del dfA\n",
    "    \n",
    "    gc.collect()\n",
    "    \n",
    "    print(k,users.shape)"
   ]
  },
  {
   "cell_type": "code",
   "execution_count": null,
   "id": "22b51655",
   "metadata": {},
   "outputs": [],
   "source": [
    "USE2 = 'clicks'\n",
    "OFFSET = 12\n",
    "for j,k in enumerate(['../../data/candidate_scores/submission_v564_F',\n",
    "                      '../../data/candidate_scores/submission_v612']):\n",
    "\n",
    "    dfA = cudf.read_csv(f'{k}.csv')\n",
    "    dfA = dfA.loc[dfA.session_type.str.contains(USE2)]\n",
    "    dfA['user'] = dfA.session_type.str.partition('_')[0].astype('int32')\n",
    "    dfA = dfA.drop('session_type',axis=1)\n",
    "\n",
    "    tmpA = dfA.labels.str.split(' ').explode().astype('int32').rename('item').to_frame()\n",
    "    tmpA['pos'] = np.tile( np.arange(50),tmpA.shape[0]//50 ).astype('int32')\n",
    "\n",
    "    dfA = dfA[['user']]\n",
    "    dfA = dfA.merge(tmpA, left_index=True, right_index=True)\n",
    "    del tmpA\n",
    "\n",
    "    dfB = cudf.read_csv(f'{k}_wgt.csv')\n",
    "    dfB = dfB.loc[dfB.session_type.str.contains(USE2)]\n",
    "    dfB['user'] = dfB.session_type.str.partition('_')[0].astype('int32')\n",
    "    dfB = dfB.drop('session_type',axis=1)\n",
    "\n",
    "    tmpB = dfB.labels.str.split(' ').explode().astype('float32').rename('item').to_frame()\n",
    "    tmpB['pos'] = np.tile( np.arange(50),tmpB.shape[0]//50 ).astype('int32')\n",
    "\n",
    "    dfB = dfB[['user']]\n",
    "    dfB = dfB.merge(tmpB, left_index=True, right_index=True)\n",
    "    dfB.columns = ['user',f'score_{j+OFFSET}','pos']\n",
    "    del tmpB\n",
    "\n",
    "    dfA = dfA.merge(dfB, on=['user','pos'], how='left').drop('pos',axis=1)\n",
    "    dfA = dfA.loc[dfA[f'score_{j+OFFSET}']!=-2]\n",
    "    del dfB\n",
    "      \n",
    "    #dfA = dfA.rename({'pos':f'pos_{k}'},axis=1)\n",
    "    users = users.merge(dfA,on=['user','item'],how='left').fillna(-3)\n",
    "    del dfA\n",
    "    \n",
    "    gc.collect()\n",
    "    \n",
    "    print(k,users.shape)"
   ]
  },
  {
   "cell_type": "code",
   "execution_count": null,
   "id": "17ec2971",
   "metadata": {},
   "outputs": [],
   "source": []
  },
  {
   "cell_type": "code",
   "execution_count": null,
   "id": "459dba11",
   "metadata": {},
   "outputs": [],
   "source": [
    "#users = users.to_pandas()\n",
    "#gc.collect()"
   ]
  },
  {
   "cell_type": "code",
   "execution_count": null,
   "id": "cd44daff",
   "metadata": {
    "scrolled": true
   },
   "outputs": [],
   "source": [
    "if USE=='clicks': USE2 = 'orders'\n",
    "else: USE2 = 'clicks'\n",
    "    \n",
    "OFFSET = 30\n",
    "for j,k in enumerate(['../../data/candidate_scores/submission_v709']):\n",
    "\n",
    "    dfA = pd.read_csv(f'{k}.csv')\n",
    "    dfA = dfA.loc[dfA.session_type.str.contains(USE2)]\n",
    "    dfA['user'] = dfA.session_type.str.partition('_')[0].astype('int32')\n",
    "    dfA = dfA.loc[dfA.user.isin(USR)].reset_index(drop=True)\n",
    "    dfA = dfA.drop('session_type',axis=1)\n",
    "    dfA = cudf.DataFrame(dfA)\n",
    "\n",
    "    tmpA = dfA.labels.str.split(' ').explode().astype('int32').rename('item').to_frame()\n",
    "    tmpA['pos'] = np.tile( np.arange(100),tmpA.shape[0]//100 ).astype('int32')\n",
    "\n",
    "    dfA = dfA[['user']]\n",
    "    dfA = dfA.merge(tmpA, left_index=True, right_index=True)\n",
    "    del tmpA\n",
    "\n",
    "    dfB = pd.read_csv(f'{k}_wgt.csv')\n",
    "    dfB = dfB.loc[dfB.session_type.str.contains(USE2)]\n",
    "    dfB['user'] = dfB.session_type.str.partition('_')[0].astype('int32')\n",
    "    dfB = dfB.loc[dfB.user.isin(USR)].reset_index(drop=True)\n",
    "    dfB = dfB.drop('session_type',axis=1)\n",
    "    dfB = cudf.DataFrame(dfB)\n",
    "\n",
    "    tmpB = dfB.labels.str.split(' ').explode().astype('float32').rename('item').to_frame()\n",
    "    tmpB['pos'] = np.tile( np.arange(100),tmpB.shape[0]//100 ).astype('int32')\n",
    "\n",
    "    dfB = dfB[['user']]\n",
    "    dfB = dfB.merge(tmpB, left_index=True, right_index=True)\n",
    "    dfB.columns = ['user',f'score_{j+OFFSET}','pos']\n",
    "    del tmpB\n",
    "\n",
    "    dfA = dfA.merge(dfB, on=['user','pos'], how='left').drop('pos',axis=1)\n",
    "    dfA = dfA.loc[dfA[f'score_{j+OFFSET}']!=-2]\n",
    "    del dfB\n",
    "      \n",
    "    #dfA = dfA.rename({'pos':f'pos_{k}'},axis=1)\n",
    "    users = users.merge(dfA,on=['user','item'],how='left').fillna(-3)\n",
    "    del dfA\n",
    "    \n",
    "    gc.collect()\n",
    "    \n",
    "    print(k,users.shape)"
   ]
  },
  {
   "cell_type": "code",
   "execution_count": null,
   "id": "84e48fa4",
   "metadata": {
    "scrolled": true
   },
   "outputs": [],
   "source": [
    "USE2 = 'orders'\n",
    "OFFSET = 14\n",
    "\n",
    "for j,k in enumerate( range(20,28) ):\n",
    "\n",
    "    dfA = cudf.read_csv(f'../../data/candidate_scores/submission_v564_v{k}.csv')\n",
    "    dfA = dfA.loc[dfA.session_type.str.contains(USE2)]\n",
    "    dfA['user'] = dfA.session_type.str.partition('_')[0].astype('int32')\n",
    "    dfA = dfA.drop('session_type',axis=1)\n",
    "\n",
    "    tmpA = dfA.labels.str.split(' ').explode().astype('int32').rename('item').to_frame()\n",
    "    tmpA['pos'] = np.tile( np.arange(50),tmpA.shape[0]//50 ).astype('int32')\n",
    "\n",
    "    dfA = dfA[['user']]\n",
    "    dfA = dfA.merge(tmpA, left_index=True, right_index=True)\n",
    "    del tmpA\n",
    "\n",
    "    dfB = cudf.read_csv(f'../../data/candidate_scores/submission_v564_wgt_v{k}.csv')\n",
    "    dfB = dfB.loc[dfB.session_type.str.contains(USE2)]\n",
    "    dfB['user'] = dfB.session_type.str.partition('_')[0].astype('int32')\n",
    "    dfB = dfB.drop('session_type',axis=1)\n",
    "\n",
    "    tmpB = dfB.labels.str.split(' ').explode().astype('float32').rename('item').to_frame()\n",
    "    tmpB['pos'] = np.tile( np.arange(50),tmpB.shape[0]//50 ).astype('int32')\n",
    "\n",
    "    dfB = dfB[['user']]\n",
    "    dfB = dfB.merge(tmpB, left_index=True, right_index=True)\n",
    "    dfB.columns = ['user',f'score_{j+OFFSET}','pos']\n",
    "    del tmpB\n",
    "\n",
    "    dfA = dfA.merge(dfB, on=['user','pos'], how='left').drop('pos',axis=1)\n",
    "    dfA = dfA.loc[dfA[f'score_{j+OFFSET}']!=-2]\n",
    "    del dfB\n",
    "      \n",
    "    #dfA = dfA.rename({'pos':f'pos_{k}'},axis=1)\n",
    "    users = users.merge(dfA,on=['user','item'],how='left').fillna(-3)\n",
    "    del dfA\n",
    "    \n",
    "    gc.collect()\n",
    "    \n",
    "    print(k,users.shape)"
   ]
  },
  {
   "cell_type": "code",
   "execution_count": null,
   "id": "085108c7",
   "metadata": {},
   "outputs": [],
   "source": [
    "users = users.to_pandas()\n",
    "gc.collect()"
   ]
  },
  {
   "cell_type": "code",
   "execution_count": null,
   "id": "c342c3ad",
   "metadata": {},
   "outputs": [],
   "source": [
    "USE2 = 'orders'\n",
    "OFFSET = 22\n",
    "for j,k in enumerate(['../../data/candidate_scores/submission_v614']):\n",
    "\n",
    "    dfA = cudf.read_csv(f'{k}.csv')\n",
    "    dfA = dfA.loc[dfA.session_type.str.contains(USE2)]\n",
    "    dfA['user'] = dfA.session_type.str.partition('_')[0].astype('int32')\n",
    "    dfA = dfA.drop('session_type',axis=1)\n",
    "\n",
    "    tmpA = dfA.labels.str.split(' ').explode().astype('int32').rename('item').to_frame()\n",
    "    tmpA['pos'] = np.tile( np.arange(50),tmpA.shape[0]//50 ).astype('int32')\n",
    "\n",
    "    dfA = dfA[['user']]\n",
    "    dfA = dfA.merge(tmpA, left_index=True, right_index=True)\n",
    "    del tmpA\n",
    "\n",
    "    dfB = cudf.read_csv(f'{k}_wgt.csv')\n",
    "    dfB = dfB.loc[dfB.session_type.str.contains(USE2)]\n",
    "    dfB['user'] = dfB.session_type.str.partition('_')[0].astype('int32')\n",
    "    dfB = dfB.drop('session_type',axis=1)\n",
    "\n",
    "    tmpB = dfB.labels.str.split(' ').explode().astype('float32').rename('item').to_frame()\n",
    "    tmpB['pos'] = np.tile( np.arange(50),tmpB.shape[0]//50 ).astype('int32')\n",
    "\n",
    "    dfB = dfB[['user']]\n",
    "    dfB = dfB.merge(tmpB, left_index=True, right_index=True)\n",
    "    dfB.columns = ['user',f'score_{j+OFFSET}','pos']\n",
    "    del tmpB\n",
    "\n",
    "    dfA = dfA.merge(dfB, on=['user','pos'], how='left').drop('pos',axis=1)\n",
    "    dfA = dfA.loc[dfA[f'score_{j+OFFSET}']!=-2]\n",
    "    del dfB\n",
    "      \n",
    "    users = users.merge(dfA.to_pandas(),on=['user','item'],how='left').fillna(-3)\n",
    "    del dfA\n",
    "    \n",
    "    gc.collect()\n",
    "    \n",
    "    print(k,users.shape)"
   ]
  },
  {
   "cell_type": "code",
   "execution_count": null,
   "id": "3887556c",
   "metadata": {},
   "outputs": [],
   "source": [
    "USE2 = 'clicks'\n",
    "OFFSET = 23\n",
    "for j,k in enumerate(['../../data/candidate_scores/submission_v614']):\n",
    "\n",
    "    dfA = cudf.read_csv(f'{k}.csv')\n",
    "    dfA = dfA.loc[dfA.session_type.str.contains(USE2)]\n",
    "    dfA['user'] = dfA.session_type.str.partition('_')[0].astype('int32')\n",
    "    dfA = dfA.drop('session_type',axis=1)\n",
    "\n",
    "    tmpA = dfA.labels.str.split(' ').explode().astype('int32').rename('item').to_frame()\n",
    "    tmpA['pos'] = np.tile( np.arange(50),tmpA.shape[0]//50 ).astype('int32')\n",
    "\n",
    "    dfA = dfA[['user']]\n",
    "    dfA = dfA.merge(tmpA, left_index=True, right_index=True)\n",
    "    del tmpA\n",
    "\n",
    "    dfB = cudf.read_csv(f'{k}_wgt.csv')\n",
    "    dfB = dfB.loc[dfB.session_type.str.contains(USE2)]\n",
    "    dfB['user'] = dfB.session_type.str.partition('_')[0].astype('int32')\n",
    "    dfB = dfB.drop('session_type',axis=1)\n",
    "\n",
    "    tmpB = dfB.labels.str.split(' ').explode().astype('float32').rename('item').to_frame()\n",
    "    tmpB['pos'] = np.tile( np.arange(50),tmpB.shape[0]//50 ).astype('int32')\n",
    "\n",
    "    dfB = dfB[['user']]\n",
    "    dfB = dfB.merge(tmpB, left_index=True, right_index=True)\n",
    "    dfB.columns = ['user',f'score_{j+OFFSET}','pos']\n",
    "    del tmpB\n",
    "\n",
    "    dfA = dfA.merge(dfB, on=['user','pos'], how='left').drop('pos',axis=1)\n",
    "    dfA = dfA.loc[dfA[f'score_{j+OFFSET}']!=-2]\n",
    "    del dfB\n",
    "      \n",
    "    users = users.merge(dfA.to_pandas(),on=['user','item'],how='left').fillna(-3)\n",
    "    del dfA\n",
    "    \n",
    "    gc.collect()\n",
    "    \n",
    "    print(k,users.shape)"
   ]
  },
  {
   "cell_type": "code",
   "execution_count": null,
   "id": "ed66605f",
   "metadata": {},
   "outputs": [],
   "source": [
    "#USE2 = 'orders'\n",
    "OFFSET = 24\n",
    "\n",
    "for j,(k,USE2) in enumerate( zip( range(31,34),['orders','orders','clicks'] ) ):\n",
    "\n",
    "    dfA = cudf.read_csv(f'../../data/candidate_scores/submission_v564_v{k}.csv')\n",
    "    dfA = dfA.loc[dfA.session_type.str.contains(USE2)]\n",
    "    dfA['user'] = dfA.session_type.str.partition('_')[0].astype('int32')\n",
    "    dfA = dfA.drop('session_type',axis=1)\n",
    "\n",
    "    tmpA = dfA.labels.str.split(' ').explode().astype('int32').rename('item').to_frame()\n",
    "    tmpA['pos'] = np.tile( np.arange(50),tmpA.shape[0]//50 ).astype('int32')\n",
    "\n",
    "    dfA = dfA[['user']]\n",
    "    dfA = dfA.merge(tmpA, left_index=True, right_index=True)\n",
    "    del tmpA\n",
    "\n",
    "    dfB = cudf.read_csv(f'../../data/candidate_scores/submission_v564_wgt_v{k}.csv')\n",
    "    dfB = dfB.loc[dfB.session_type.str.contains(USE2)]\n",
    "    dfB['user'] = dfB.session_type.str.partition('_')[0].astype('int32')\n",
    "    dfB = dfB.drop('session_type',axis=1)\n",
    "\n",
    "    tmpB = dfB.labels.str.split(' ').explode().astype('float32').rename('item').to_frame()\n",
    "    tmpB['pos'] = np.tile( np.arange(50),tmpB.shape[0]//50 ).astype('int32')\n",
    "\n",
    "    dfB = dfB[['user']]\n",
    "    dfB = dfB.merge(tmpB, left_index=True, right_index=True)\n",
    "    dfB.columns = ['user',f'score_{j+OFFSET}','pos']\n",
    "    del tmpB\n",
    "\n",
    "    dfA = dfA.merge(dfB, on=['user','pos'], how='left').drop('pos',axis=1)\n",
    "    dfA = dfA.loc[dfA[f'score_{j+OFFSET}']!=-2]\n",
    "    del dfB\n",
    "      \n",
    "    #dfA = dfA.rename({'pos':f'pos_{k}'},axis=1)\n",
    "    users = users.merge(dfA.to_pandas(),on=['user','item'],how='left').fillna(-3)\n",
    "    del dfA\n",
    "    \n",
    "    gc.collect()\n",
    "    \n",
    "    print(k,users.shape)"
   ]
  },
  {
   "cell_type": "code",
   "execution_count": null,
   "id": "dee0ace6",
   "metadata": {},
   "outputs": [],
   "source": []
  },
  {
   "cell_type": "code",
   "execution_count": null,
   "id": "12de6781",
   "metadata": {},
   "outputs": [],
   "source": []
  },
  {
   "cell_type": "code",
   "execution_count": null,
   "id": "bd79517f",
   "metadata": {},
   "outputs": [],
   "source": [
    "#users = users.to_pandas()\n",
    "#gc.collect()"
   ]
  },
  {
   "cell_type": "code",
   "execution_count": null,
   "id": "e2acd6f6",
   "metadata": {},
   "outputs": [],
   "source": [
    "users.head()"
   ]
  },
  {
   "cell_type": "markdown",
   "id": "fdc01075",
   "metadata": {},
   "source": [
    "# User and Item Features"
   ]
  },
  {
   "cell_type": "code",
   "execution_count": null,
   "id": "dfc8b23b",
   "metadata": {},
   "outputs": [],
   "source": [
    "item_features = pd.read_parquet('../../data/item_user_features/item12.pqt')\n",
    "for c in item_features.columns:\n",
    "    if str(item_features[c].dtype)=='int32':\n",
    "        print(c, item_features[c].dtype)\n",
    "        item_features[c] = item_features[c].astype('float32')\n",
    "print( item_features.shape )\n",
    "item_features.head()"
   ]
  },
  {
   "cell_type": "code",
   "execution_count": null,
   "id": "5219870b",
   "metadata": {},
   "outputs": [],
   "source": [
    "users = users.merge(item_features, left_on='item', right_index=True, how='left')\n",
    "del item_features\n",
    "gc.collect()\n",
    "users.head()"
   ]
  },
  {
   "cell_type": "code",
   "execution_count": null,
   "id": "7a73d90a",
   "metadata": {},
   "outputs": [],
   "source": []
  },
  {
   "cell_type": "code",
   "execution_count": null,
   "id": "2ece37bd",
   "metadata": {},
   "outputs": [],
   "source": [
    "item_features = pd.read_parquet('../../data/item_user_features/item13.pqt')\n",
    "for c in item_features.columns:\n",
    "    if str(item_features[c].dtype)=='int32':\n",
    "        print(c, item_features[c].dtype)\n",
    "        item_features[c] = item_features[c].astype('float32')\n",
    "print( item_features.shape )\n",
    "item_features.head()"
   ]
  },
  {
   "cell_type": "code",
   "execution_count": null,
   "id": "f8d1834d",
   "metadata": {},
   "outputs": [],
   "source": [
    "users = users.merge(item_features, left_on='item', right_index=True, how='left')\n",
    "del item_features\n",
    "gc.collect()\n",
    "users.head()"
   ]
  },
  {
   "cell_type": "code",
   "execution_count": null,
   "id": "88a633ac",
   "metadata": {},
   "outputs": [],
   "source": []
  },
  {
   "cell_type": "code",
   "execution_count": null,
   "id": "6d642aa9",
   "metadata": {},
   "outputs": [],
   "source": []
  },
  {
   "cell_type": "code",
   "execution_count": null,
   "id": "a7957aad",
   "metadata": {},
   "outputs": [],
   "source": []
  },
  {
   "cell_type": "code",
   "execution_count": null,
   "id": "0e6d1f95",
   "metadata": {
    "scrolled": true
   },
   "outputs": [],
   "source": [
    "item_features = pd.read_parquet('../../data/item_user_features/item4.pqt')\n",
    "for c in item_features.columns:\n",
    "    if str(item_features[c].dtype)=='int32':\n",
    "        print(c, item_features[c].dtype)\n",
    "        item_features[c] = item_features[c].astype('float32')\n",
    "print( item_features.shape )\n",
    "item_features.head()"
   ]
  },
  {
   "cell_type": "code",
   "execution_count": null,
   "id": "c4769c4a",
   "metadata": {},
   "outputs": [],
   "source": [
    "#users = users.to_pandas()"
   ]
  },
  {
   "cell_type": "code",
   "execution_count": null,
   "id": "1d7fff5d",
   "metadata": {
    "scrolled": true
   },
   "outputs": [],
   "source": [
    "users = users.merge(item_features, left_on='item', right_index=True, how='left')"
   ]
  },
  {
   "cell_type": "code",
   "execution_count": null,
   "id": "d28a7063",
   "metadata": {},
   "outputs": [],
   "source": [
    "users.head()"
   ]
  },
  {
   "cell_type": "code",
   "execution_count": null,
   "id": "26fc5f27",
   "metadata": {},
   "outputs": [],
   "source": [
    "del item_features\n",
    "gc.collect()"
   ]
  },
  {
   "cell_type": "code",
   "execution_count": null,
   "id": "4c9a7d07",
   "metadata": {
    "scrolled": true
   },
   "outputs": [],
   "source": [
    "item_features = pd.read_parquet('../../data/item_user_features/item10.pqt')\n",
    "for c in item_features.columns:\n",
    "    if str(item_features[c].dtype)=='int32':\n",
    "        print(c, item_features[c].dtype)\n",
    "        item_features[c] = item_features[c].astype('float32')\n",
    "print( item_features.shape )\n",
    "users = users.merge(item_features, left_on='item', right_index=True, how='left')\n",
    "users.head()"
   ]
  },
  {
   "cell_type": "code",
   "execution_count": null,
   "id": "73d0b1db",
   "metadata": {},
   "outputs": [],
   "source": [
    "del item_features\n",
    "gc.collect()"
   ]
  },
  {
   "cell_type": "code",
   "execution_count": null,
   "id": "6aee1747",
   "metadata": {},
   "outputs": [],
   "source": []
  },
  {
   "cell_type": "code",
   "execution_count": null,
   "id": "c154e26b",
   "metadata": {},
   "outputs": [],
   "source": []
  },
  {
   "cell_type": "code",
   "execution_count": null,
   "id": "7e0a5729",
   "metadata": {},
   "outputs": [],
   "source": []
  },
  {
   "cell_type": "code",
   "execution_count": null,
   "id": "f2b97b0b",
   "metadata": {},
   "outputs": [],
   "source": [
    "user_features = pd.read_parquet('../../data/item_user_features/user4.pqt')\n",
    "for c in user_features.columns:\n",
    "    if str(user_features[c].dtype)=='int32':\n",
    "        print(c, user_features[c].dtype)\n",
    "        user_features[c] = user_features[c].astype('float32')\n",
    "print( user_features.shape )\n",
    "user_features.head()"
   ]
  },
  {
   "cell_type": "code",
   "execution_count": null,
   "id": "adec474a",
   "metadata": {},
   "outputs": [],
   "source": [
    "users = users.merge(user_features, left_on='user', right_index=True, how='left')"
   ]
  },
  {
   "cell_type": "code",
   "execution_count": null,
   "id": "67a3d8a9",
   "metadata": {},
   "outputs": [],
   "source": [
    "del user_features\n",
    "gc.collect()"
   ]
  },
  {
   "cell_type": "code",
   "execution_count": null,
   "id": "28e46df9",
   "metadata": {},
   "outputs": [],
   "source": [
    "users.head()"
   ]
  },
  {
   "cell_type": "code",
   "execution_count": null,
   "id": "1826309e",
   "metadata": {},
   "outputs": [],
   "source": [
    "for c in users.columns:\n",
    "    print(c,users[c].dtype)"
   ]
  },
  {
   "cell_type": "code",
   "execution_count": null,
   "id": "14f51540",
   "metadata": {},
   "outputs": [],
   "source": [
    "for c in users.columns:\n",
    "    t = str(users[c].dtype)\n",
    "    if (t=='int64'): \n",
    "        users[c] = users[c].astype('int32')\n",
    "        print('convert',c,'to int32')\n",
    "    if (t=='float64')|(t=='Int32')|(t=='Float32'):\n",
    "        users[c] = users[c].astype('float32')\n",
    "        print('convert',c,'to float32')"
   ]
  },
  {
   "cell_type": "code",
   "execution_count": null,
   "id": "4607130b",
   "metadata": {
    "scrolled": true
   },
   "outputs": [],
   "source": [
    "#%%time\n",
    "#users = users.sort_values(['user','pos']).reset_index(drop=True)"
   ]
  },
  {
   "cell_type": "code",
   "execution_count": null,
   "id": "c4a5467e",
   "metadata": {},
   "outputs": [],
   "source": [
    "#users = users.reset_index(drop=True)\n",
    "#users = users.to_pandas()\n",
    "#gc.collect()"
   ]
  },
  {
   "cell_type": "code",
   "execution_count": null,
   "id": "37692f6b",
   "metadata": {},
   "outputs": [],
   "source": [
    "users.head()"
   ]
  },
  {
   "cell_type": "code",
   "execution_count": null,
   "id": "674f9039",
   "metadata": {},
   "outputs": [],
   "source": [
    "users.to_parquet(f'../../data/train_with_features/train_v{VER}_{PART}.pqt',index=False)"
   ]
  }
 ],
 "metadata": {
  "kernelspec": {
   "display_name": "Python 3 (ipykernel)",
   "language": "python",
   "name": "python3"
  },
  "language_info": {
   "codemirror_mode": {
    "name": "ipython",
    "version": 3
   },
   "file_extension": ".py",
   "mimetype": "text/x-python",
   "name": "python",
   "nbconvert_exporter": "python",
   "pygments_lexer": "ipython3",
   "version": "3.8.13"
  }
 },
 "nbformat": 4,
 "nbformat_minor": 5
}
