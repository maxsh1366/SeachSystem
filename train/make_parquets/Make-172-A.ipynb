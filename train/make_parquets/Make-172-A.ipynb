{
 "cells": [
  {
   "cell_type": "code",
   "execution_count": 1,
   "id": "d0d39a4f",
   "metadata": {},
   "outputs": [],
   "source": [
    "import os\n",
    "os.environ[\"CUDA_VISIBLE_DEVICES\"]=\"0\"\n",
    "\n",
    "VER = 172\n",
    "USE = 'orders'"
   ]
  },
  {
   "cell_type": "code",
   "execution_count": 2,
   "id": "829a2f39",
   "metadata": {},
   "outputs": [],
   "source": [
    "import pandas as pd, cudf, numpy as np, gc\n",
    "pd.set_option('display.max_columns', 500)\n",
    "import matplotlib.pyplot as plt"
   ]
  },
  {
   "cell_type": "code",
   "execution_count": 3,
   "id": "cfc8cb2a",
   "metadata": {},
   "outputs": [
    {
     "name": "stdout",
     "output_type": "stream",
     "text": [
      "(1801251, 2)\n"
     ]
    },
    {
     "data": {
      "text/html": [
       "<div>\n",
       "<style scoped>\n",
       "    .dataframe tbody tr th:only-of-type {\n",
       "        vertical-align: middle;\n",
       "    }\n",
       "\n",
       "    .dataframe tbody tr th {\n",
       "        vertical-align: top;\n",
       "    }\n",
       "\n",
       "    .dataframe thead th {\n",
       "        text-align: right;\n",
       "    }\n",
       "</style>\n",
       "<table border=\"1\" class=\"dataframe\">\n",
       "  <thead>\n",
       "    <tr style=\"text-align: right;\">\n",
       "      <th></th>\n",
       "      <th>session_type</th>\n",
       "      <th>labels</th>\n",
       "    </tr>\n",
       "  </thead>\n",
       "  <tbody>\n",
       "    <tr>\n",
       "      <th>1801251</th>\n",
       "      <td>11098528_orders</td>\n",
       "      <td>11830 1732105 588923 1157882 884502 1182614 87...</td>\n",
       "    </tr>\n",
       "    <tr>\n",
       "      <th>1801252</th>\n",
       "      <td>11098529_orders</td>\n",
       "      <td>1105029 1049489 53004 1694360 628708 459126 13...</td>\n",
       "    </tr>\n",
       "    <tr>\n",
       "      <th>1801253</th>\n",
       "      <td>11098530_orders</td>\n",
       "      <td>409236 264500 1603001 963957 254154 364155 583...</td>\n",
       "    </tr>\n",
       "    <tr>\n",
       "      <th>1801254</th>\n",
       "      <td>11098531_orders</td>\n",
       "      <td>396199 1271998 452188 1728212 1365569 624163 1...</td>\n",
       "    </tr>\n",
       "    <tr>\n",
       "      <th>1801255</th>\n",
       "      <td>11098532_orders</td>\n",
       "      <td>876469 7651 1159379 476681 669555 1202618 1081...</td>\n",
       "    </tr>\n",
       "  </tbody>\n",
       "</table>\n",
       "</div>"
      ],
      "text/plain": [
       "            session_type                                             labels\n",
       "1801251  11098528_orders  11830 1732105 588923 1157882 884502 1182614 87...\n",
       "1801252  11098529_orders  1105029 1049489 53004 1694360 628708 459126 13...\n",
       "1801253  11098530_orders  409236 264500 1603001 963957 254154 364155 583...\n",
       "1801254  11098531_orders  396199 1271998 452188 1728212 1365569 624163 1...\n",
       "1801255  11098532_orders  876469 7651 1159379 476681 669555 1202618 1081..."
      ]
     },
     "execution_count": 3,
     "metadata": {},
     "output_type": "execute_result"
    }
   ],
   "source": [
    "LOAD = 709\n",
    "OFFSET = ''\n",
    "\n",
    "df = pd.read_csv(f\"../../data/candidate_scores/submission_v{LOAD}{OFFSET}.csv\")\n",
    "df = df.loc[df.session_type.str.contains(USE)]\n",
    "df = cudf.DataFrame(df)\n",
    "print( df.shape )\n",
    "df.head()"
   ]
  },
  {
   "cell_type": "code",
   "execution_count": 4,
   "id": "5730c92b",
   "metadata": {},
   "outputs": [
    {
     "name": "stdout",
     "output_type": "stream",
     "text": [
      "(1801251, 2)\n"
     ]
    },
    {
     "data": {
      "text/html": [
       "<div>\n",
       "<style scoped>\n",
       "    .dataframe tbody tr th:only-of-type {\n",
       "        vertical-align: middle;\n",
       "    }\n",
       "\n",
       "    .dataframe tbody tr th {\n",
       "        vertical-align: top;\n",
       "    }\n",
       "\n",
       "    .dataframe thead th {\n",
       "        text-align: right;\n",
       "    }\n",
       "</style>\n",
       "<table border=\"1\" class=\"dataframe\">\n",
       "  <thead>\n",
       "    <tr style=\"text-align: right;\">\n",
       "      <th></th>\n",
       "      <th>session_type</th>\n",
       "      <th>labels</th>\n",
       "    </tr>\n",
       "  </thead>\n",
       "  <tbody>\n",
       "    <tr>\n",
       "      <th>1801251</th>\n",
       "      <td>11098528_orders</td>\n",
       "      <td>-1 36.65 35.15 29.149999999999995 28.950000000...</td>\n",
       "    </tr>\n",
       "    <tr>\n",
       "      <th>1801252</th>\n",
       "      <td>11098529_orders</td>\n",
       "      <td>-1 19.275 13.125 12.174999999999999 10.55 10.3...</td>\n",
       "    </tr>\n",
       "    <tr>\n",
       "      <th>1801253</th>\n",
       "      <td>11098530_orders</td>\n",
       "      <td>-1 -1 48.825 33.375 33.025 30.175 28.325000000...</td>\n",
       "    </tr>\n",
       "    <tr>\n",
       "      <th>1801254</th>\n",
       "      <td>11098531_orders</td>\n",
       "      <td>-1 -1 -1 -1 -1 -1 -1 -1 -1 -1 -1 22.0272727272...</td>\n",
       "    </tr>\n",
       "    <tr>\n",
       "      <th>1801255</th>\n",
       "      <td>11098532_orders</td>\n",
       "      <td>-1 -1 25.575 25.275000000000002 23.50000000000...</td>\n",
       "    </tr>\n",
       "  </tbody>\n",
       "</table>\n",
       "</div>"
      ],
      "text/plain": [
       "            session_type                                             labels\n",
       "1801251  11098528_orders  -1 36.65 35.15 29.149999999999995 28.950000000...\n",
       "1801252  11098529_orders  -1 19.275 13.125 12.174999999999999 10.55 10.3...\n",
       "1801253  11098530_orders  -1 -1 48.825 33.375 33.025 30.175 28.325000000...\n",
       "1801254  11098531_orders  -1 -1 -1 -1 -1 -1 -1 -1 -1 -1 -1 22.0272727272...\n",
       "1801255  11098532_orders  -1 -1 25.575 25.275000000000002 23.50000000000..."
      ]
     },
     "execution_count": 4,
     "metadata": {},
     "output_type": "execute_result"
    }
   ],
   "source": [
    "OFFSET = '_wgt'\n",
    "\n",
    "df2 = pd.read_csv(f\"../../data/candidate_scores/submission_v{LOAD}{OFFSET}.csv\")\n",
    "df2 = df2.loc[df2.session_type.str.contains(USE)]\n",
    "df2 = cudf.DataFrame(df2)\n",
    "print( df2.shape )\n",
    "df2.head()"
   ]
  },
  {
   "cell_type": "code",
   "execution_count": 5,
   "id": "7bd10119",
   "metadata": {},
   "outputs": [
    {
     "data": {
      "text/html": [
       "<div>\n",
       "<style scoped>\n",
       "    .dataframe tbody tr th:only-of-type {\n",
       "        vertical-align: middle;\n",
       "    }\n",
       "\n",
       "    .dataframe tbody tr th {\n",
       "        vertical-align: top;\n",
       "    }\n",
       "\n",
       "    .dataframe thead th {\n",
       "        text-align: right;\n",
       "    }\n",
       "</style>\n",
       "<table border=\"1\" class=\"dataframe\">\n",
       "  <thead>\n",
       "    <tr style=\"text-align: right;\">\n",
       "      <th></th>\n",
       "      <th>labels</th>\n",
       "      <th>user</th>\n",
       "    </tr>\n",
       "  </thead>\n",
       "  <tbody>\n",
       "    <tr>\n",
       "      <th>1801251</th>\n",
       "      <td>11830 1732105 588923 1157882 884502 1182614 87...</td>\n",
       "      <td>11098528</td>\n",
       "    </tr>\n",
       "    <tr>\n",
       "      <th>1801252</th>\n",
       "      <td>1105029 1049489 53004 1694360 628708 459126 13...</td>\n",
       "      <td>11098529</td>\n",
       "    </tr>\n",
       "    <tr>\n",
       "      <th>1801253</th>\n",
       "      <td>409236 264500 1603001 963957 254154 364155 583...</td>\n",
       "      <td>11098530</td>\n",
       "    </tr>\n",
       "    <tr>\n",
       "      <th>1801254</th>\n",
       "      <td>396199 1271998 452188 1728212 1365569 624163 1...</td>\n",
       "      <td>11098531</td>\n",
       "    </tr>\n",
       "    <tr>\n",
       "      <th>1801255</th>\n",
       "      <td>876469 7651 1159379 476681 669555 1202618 1081...</td>\n",
       "      <td>11098532</td>\n",
       "    </tr>\n",
       "  </tbody>\n",
       "</table>\n",
       "</div>"
      ],
      "text/plain": [
       "                                                    labels      user\n",
       "1801251  11830 1732105 588923 1157882 884502 1182614 87...  11098528\n",
       "1801252  1105029 1049489 53004 1694360 628708 459126 13...  11098529\n",
       "1801253  409236 264500 1603001 963957 254154 364155 583...  11098530\n",
       "1801254  396199 1271998 452188 1728212 1365569 624163 1...  11098531\n",
       "1801255  876469 7651 1159379 476681 669555 1202618 1081...  11098532"
      ]
     },
     "execution_count": 5,
     "metadata": {},
     "output_type": "execute_result"
    }
   ],
   "source": [
    "df['user'] = df.session_type.str.partition('_')[0].astype('int32')\n",
    "df = df.drop('session_type',axis=1)\n",
    "df.head()"
   ]
  },
  {
   "cell_type": "code",
   "execution_count": 6,
   "id": "7d0d8b69",
   "metadata": {},
   "outputs": [
    {
     "data": {
      "text/html": [
       "<div>\n",
       "<style scoped>\n",
       "    .dataframe tbody tr th:only-of-type {\n",
       "        vertical-align: middle;\n",
       "    }\n",
       "\n",
       "    .dataframe tbody tr th {\n",
       "        vertical-align: top;\n",
       "    }\n",
       "\n",
       "    .dataframe thead th {\n",
       "        text-align: right;\n",
       "    }\n",
       "</style>\n",
       "<table border=\"1\" class=\"dataframe\">\n",
       "  <thead>\n",
       "    <tr style=\"text-align: right;\">\n",
       "      <th></th>\n",
       "      <th>labels</th>\n",
       "      <th>user</th>\n",
       "    </tr>\n",
       "  </thead>\n",
       "  <tbody>\n",
       "    <tr>\n",
       "      <th>1801251</th>\n",
       "      <td>-1 36.65 35.15 29.149999999999995 28.950000000...</td>\n",
       "      <td>11098528</td>\n",
       "    </tr>\n",
       "    <tr>\n",
       "      <th>1801252</th>\n",
       "      <td>-1 19.275 13.125 12.174999999999999 10.55 10.3...</td>\n",
       "      <td>11098529</td>\n",
       "    </tr>\n",
       "    <tr>\n",
       "      <th>1801253</th>\n",
       "      <td>-1 -1 48.825 33.375 33.025 30.175 28.325000000...</td>\n",
       "      <td>11098530</td>\n",
       "    </tr>\n",
       "    <tr>\n",
       "      <th>1801254</th>\n",
       "      <td>-1 -1 -1 -1 -1 -1 -1 -1 -1 -1 -1 22.0272727272...</td>\n",
       "      <td>11098531</td>\n",
       "    </tr>\n",
       "    <tr>\n",
       "      <th>1801255</th>\n",
       "      <td>-1 -1 25.575 25.275000000000002 23.50000000000...</td>\n",
       "      <td>11098532</td>\n",
       "    </tr>\n",
       "  </tbody>\n",
       "</table>\n",
       "</div>"
      ],
      "text/plain": [
       "                                                    labels      user\n",
       "1801251  -1 36.65 35.15 29.149999999999995 28.950000000...  11098528\n",
       "1801252  -1 19.275 13.125 12.174999999999999 10.55 10.3...  11098529\n",
       "1801253  -1 -1 48.825 33.375 33.025 30.175 28.325000000...  11098530\n",
       "1801254  -1 -1 -1 -1 -1 -1 -1 -1 -1 -1 -1 22.0272727272...  11098531\n",
       "1801255  -1 -1 25.575 25.275000000000002 23.50000000000...  11098532"
      ]
     },
     "execution_count": 6,
     "metadata": {},
     "output_type": "execute_result"
    }
   ],
   "source": [
    "df2['user'] = df2.session_type.str.partition('_')[0].astype('int32')\n",
    "df2 = df2.drop('session_type',axis=1)\n",
    "df2.head()"
   ]
  },
  {
   "cell_type": "code",
   "execution_count": 7,
   "id": "86e7a999",
   "metadata": {},
   "outputs": [
    {
     "data": {
      "text/html": [
       "<div>\n",
       "<style scoped>\n",
       "    .dataframe tbody tr th:only-of-type {\n",
       "        vertical-align: middle;\n",
       "    }\n",
       "\n",
       "    .dataframe tbody tr th {\n",
       "        vertical-align: top;\n",
       "    }\n",
       "\n",
       "    .dataframe thead th {\n",
       "        text-align: right;\n",
       "    }\n",
       "</style>\n",
       "<table border=\"1\" class=\"dataframe\">\n",
       "  <thead>\n",
       "    <tr style=\"text-align: right;\">\n",
       "      <th></th>\n",
       "      <th>item</th>\n",
       "      <th>pos</th>\n",
       "    </tr>\n",
       "  </thead>\n",
       "  <tbody>\n",
       "    <tr>\n",
       "      <th>1801251</th>\n",
       "      <td>11830</td>\n",
       "      <td>0</td>\n",
       "    </tr>\n",
       "    <tr>\n",
       "      <th>1801251</th>\n",
       "      <td>1732105</td>\n",
       "      <td>1</td>\n",
       "    </tr>\n",
       "    <tr>\n",
       "      <th>1801251</th>\n",
       "      <td>588923</td>\n",
       "      <td>2</td>\n",
       "    </tr>\n",
       "    <tr>\n",
       "      <th>1801251</th>\n",
       "      <td>1157882</td>\n",
       "      <td>3</td>\n",
       "    </tr>\n",
       "    <tr>\n",
       "      <th>1801251</th>\n",
       "      <td>884502</td>\n",
       "      <td>4</td>\n",
       "    </tr>\n",
       "  </tbody>\n",
       "</table>\n",
       "</div>"
      ],
      "text/plain": [
       "            item  pos\n",
       "1801251    11830    0\n",
       "1801251  1732105    1\n",
       "1801251   588923    2\n",
       "1801251  1157882    3\n",
       "1801251   884502    4"
      ]
     },
     "execution_count": 7,
     "metadata": {},
     "output_type": "execute_result"
    }
   ],
   "source": [
    "tmp = df.labels.str.split(' ').explode().astype('int32').rename('item').to_frame()\n",
    "tmp['pos'] = np.tile( np.arange(100),tmp.shape[0]//100 ).astype('int32')\n",
    "tmp.head()"
   ]
  },
  {
   "cell_type": "code",
   "execution_count": 8,
   "id": "f87cc37c",
   "metadata": {},
   "outputs": [
    {
     "data": {
      "text/html": [
       "<div>\n",
       "<style scoped>\n",
       "    .dataframe tbody tr th:only-of-type {\n",
       "        vertical-align: middle;\n",
       "    }\n",
       "\n",
       "    .dataframe tbody tr th {\n",
       "        vertical-align: top;\n",
       "    }\n",
       "\n",
       "    .dataframe thead th {\n",
       "        text-align: right;\n",
       "    }\n",
       "</style>\n",
       "<table border=\"1\" class=\"dataframe\">\n",
       "  <thead>\n",
       "    <tr style=\"text-align: right;\">\n",
       "      <th></th>\n",
       "      <th>user</th>\n",
       "    </tr>\n",
       "  </thead>\n",
       "  <tbody>\n",
       "    <tr>\n",
       "      <th>1801251</th>\n",
       "      <td>11098528</td>\n",
       "    </tr>\n",
       "    <tr>\n",
       "      <th>1801252</th>\n",
       "      <td>11098529</td>\n",
       "    </tr>\n",
       "    <tr>\n",
       "      <th>1801253</th>\n",
       "      <td>11098530</td>\n",
       "    </tr>\n",
       "    <tr>\n",
       "      <th>1801254</th>\n",
       "      <td>11098531</td>\n",
       "    </tr>\n",
       "    <tr>\n",
       "      <th>1801255</th>\n",
       "      <td>11098532</td>\n",
       "    </tr>\n",
       "  </tbody>\n",
       "</table>\n",
       "</div>"
      ],
      "text/plain": [
       "             user\n",
       "1801251  11098528\n",
       "1801252  11098529\n",
       "1801253  11098530\n",
       "1801254  11098531\n",
       "1801255  11098532"
      ]
     },
     "execution_count": 8,
     "metadata": {},
     "output_type": "execute_result"
    }
   ],
   "source": [
    "users = df[['user']].copy()\n",
    "users.head()"
   ]
  },
  {
   "cell_type": "code",
   "execution_count": 9,
   "id": "429975e4",
   "metadata": {},
   "outputs": [],
   "source": [
    "users = users.merge(tmp, left_index=True, right_index=True)"
   ]
  },
  {
   "cell_type": "code",
   "execution_count": 10,
   "id": "61a4d738",
   "metadata": {},
   "outputs": [
    {
     "data": {
      "text/plain": [
       "43"
      ]
     },
     "execution_count": 10,
     "metadata": {},
     "output_type": "execute_result"
    }
   ],
   "source": [
    "del df, tmp\n",
    "gc.collect()"
   ]
  },
  {
   "cell_type": "code",
   "execution_count": 11,
   "id": "9b104529",
   "metadata": {},
   "outputs": [
    {
     "data": {
      "text/html": [
       "<div>\n",
       "<style scoped>\n",
       "    .dataframe tbody tr th:only-of-type {\n",
       "        vertical-align: middle;\n",
       "    }\n",
       "\n",
       "    .dataframe tbody tr th {\n",
       "        vertical-align: top;\n",
       "    }\n",
       "\n",
       "    .dataframe thead th {\n",
       "        text-align: right;\n",
       "    }\n",
       "</style>\n",
       "<table border=\"1\" class=\"dataframe\">\n",
       "  <thead>\n",
       "    <tr style=\"text-align: right;\">\n",
       "      <th></th>\n",
       "      <th>user</th>\n",
       "      <th>item</th>\n",
       "      <th>pos</th>\n",
       "    </tr>\n",
       "  </thead>\n",
       "  <tbody>\n",
       "    <tr>\n",
       "      <th>1801368</th>\n",
       "      <td>11098645</td>\n",
       "      <td>503292</td>\n",
       "      <td>60</td>\n",
       "    </tr>\n",
       "    <tr>\n",
       "      <th>1801368</th>\n",
       "      <td>11098645</td>\n",
       "      <td>675295</td>\n",
       "      <td>61</td>\n",
       "    </tr>\n",
       "    <tr>\n",
       "      <th>1801368</th>\n",
       "      <td>11098645</td>\n",
       "      <td>702285</td>\n",
       "      <td>62</td>\n",
       "    </tr>\n",
       "    <tr>\n",
       "      <th>1801368</th>\n",
       "      <td>11098645</td>\n",
       "      <td>334964</td>\n",
       "      <td>63</td>\n",
       "    </tr>\n",
       "    <tr>\n",
       "      <th>1801368</th>\n",
       "      <td>11098645</td>\n",
       "      <td>1312535</td>\n",
       "      <td>64</td>\n",
       "    </tr>\n",
       "  </tbody>\n",
       "</table>\n",
       "</div>"
      ],
      "text/plain": [
       "             user     item  pos\n",
       "1801368  11098645   503292   60\n",
       "1801368  11098645   675295   61\n",
       "1801368  11098645   702285   62\n",
       "1801368  11098645   334964   63\n",
       "1801368  11098645  1312535   64"
      ]
     },
     "execution_count": 11,
     "metadata": {},
     "output_type": "execute_result"
    }
   ],
   "source": [
    "users.head()"
   ]
  },
  {
   "cell_type": "code",
   "execution_count": 12,
   "id": "1614c199",
   "metadata": {},
   "outputs": [
    {
     "data": {
      "text/plain": [
       "user    int32\n",
       "item    int32\n",
       "pos     int32\n",
       "dtype: object"
      ]
     },
     "execution_count": 12,
     "metadata": {},
     "output_type": "execute_result"
    }
   ],
   "source": [
    "users.dtypes"
   ]
  },
  {
   "cell_type": "code",
   "execution_count": 13,
   "id": "0455f7c3",
   "metadata": {},
   "outputs": [
    {
     "data": {
      "text/html": [
       "<div>\n",
       "<style scoped>\n",
       "    .dataframe tbody tr th:only-of-type {\n",
       "        vertical-align: middle;\n",
       "    }\n",
       "\n",
       "    .dataframe tbody tr th {\n",
       "        vertical-align: top;\n",
       "    }\n",
       "\n",
       "    .dataframe thead th {\n",
       "        text-align: right;\n",
       "    }\n",
       "</style>\n",
       "<table border=\"1\" class=\"dataframe\">\n",
       "  <thead>\n",
       "    <tr style=\"text-align: right;\">\n",
       "      <th></th>\n",
       "      <th>wgt</th>\n",
       "      <th>pos</th>\n",
       "    </tr>\n",
       "  </thead>\n",
       "  <tbody>\n",
       "    <tr>\n",
       "      <th>1801251</th>\n",
       "      <td>-1.000000</td>\n",
       "      <td>0</td>\n",
       "    </tr>\n",
       "    <tr>\n",
       "      <th>1801251</th>\n",
       "      <td>36.650002</td>\n",
       "      <td>1</td>\n",
       "    </tr>\n",
       "    <tr>\n",
       "      <th>1801251</th>\n",
       "      <td>35.150002</td>\n",
       "      <td>2</td>\n",
       "    </tr>\n",
       "    <tr>\n",
       "      <th>1801251</th>\n",
       "      <td>29.150000</td>\n",
       "      <td>3</td>\n",
       "    </tr>\n",
       "    <tr>\n",
       "      <th>1801251</th>\n",
       "      <td>28.950001</td>\n",
       "      <td>4</td>\n",
       "    </tr>\n",
       "  </tbody>\n",
       "</table>\n",
       "</div>"
      ],
      "text/plain": [
       "               wgt  pos\n",
       "1801251  -1.000000    0\n",
       "1801251  36.650002    1\n",
       "1801251  35.150002    2\n",
       "1801251  29.150000    3\n",
       "1801251  28.950001    4"
      ]
     },
     "execution_count": 13,
     "metadata": {},
     "output_type": "execute_result"
    }
   ],
   "source": [
    "tmp = df2.labels.str.split(' ').explode().astype('float32').rename('wgt').to_frame()\n",
    "tmp['pos'] = np.tile( np.arange(100),tmp.shape[0]//100 ).astype('int32')\n",
    "tmp.head()"
   ]
  },
  {
   "cell_type": "code",
   "execution_count": 14,
   "id": "dfdfd852",
   "metadata": {},
   "outputs": [
    {
     "data": {
      "text/html": [
       "<div>\n",
       "<style scoped>\n",
       "    .dataframe tbody tr th:only-of-type {\n",
       "        vertical-align: middle;\n",
       "    }\n",
       "\n",
       "    .dataframe tbody tr th {\n",
       "        vertical-align: top;\n",
       "    }\n",
       "\n",
       "    .dataframe thead th {\n",
       "        text-align: right;\n",
       "    }\n",
       "</style>\n",
       "<table border=\"1\" class=\"dataframe\">\n",
       "  <thead>\n",
       "    <tr style=\"text-align: right;\">\n",
       "      <th></th>\n",
       "      <th>user</th>\n",
       "    </tr>\n",
       "  </thead>\n",
       "  <tbody>\n",
       "    <tr>\n",
       "      <th>1801251</th>\n",
       "      <td>11098528</td>\n",
       "    </tr>\n",
       "    <tr>\n",
       "      <th>1801252</th>\n",
       "      <td>11098529</td>\n",
       "    </tr>\n",
       "    <tr>\n",
       "      <th>1801253</th>\n",
       "      <td>11098530</td>\n",
       "    </tr>\n",
       "    <tr>\n",
       "      <th>1801254</th>\n",
       "      <td>11098531</td>\n",
       "    </tr>\n",
       "    <tr>\n",
       "      <th>1801255</th>\n",
       "      <td>11098532</td>\n",
       "    </tr>\n",
       "  </tbody>\n",
       "</table>\n",
       "</div>"
      ],
      "text/plain": [
       "             user\n",
       "1801251  11098528\n",
       "1801252  11098529\n",
       "1801253  11098530\n",
       "1801254  11098531\n",
       "1801255  11098532"
      ]
     },
     "execution_count": 14,
     "metadata": {},
     "output_type": "execute_result"
    }
   ],
   "source": [
    "users2 = df2[['user']].copy()#.reset_index()\n",
    "users2.head()"
   ]
  },
  {
   "cell_type": "code",
   "execution_count": 15,
   "id": "16ce1f0a",
   "metadata": {},
   "outputs": [
    {
     "data": {
      "text/plain": [
       "22"
      ]
     },
     "execution_count": 15,
     "metadata": {},
     "output_type": "execute_result"
    }
   ],
   "source": [
    "del df2\n",
    "gc.collect()"
   ]
  },
  {
   "cell_type": "code",
   "execution_count": 16,
   "id": "858fd83b",
   "metadata": {},
   "outputs": [],
   "source": [
    "users2 = users2.merge(tmp, left_index=True, right_index=True)"
   ]
  },
  {
   "cell_type": "code",
   "execution_count": 17,
   "id": "8017c7f7",
   "metadata": {},
   "outputs": [
    {
     "data": {
      "text/html": [
       "<div>\n",
       "<style scoped>\n",
       "    .dataframe tbody tr th:only-of-type {\n",
       "        vertical-align: middle;\n",
       "    }\n",
       "\n",
       "    .dataframe tbody tr th {\n",
       "        vertical-align: top;\n",
       "    }\n",
       "\n",
       "    .dataframe thead th {\n",
       "        text-align: right;\n",
       "    }\n",
       "</style>\n",
       "<table border=\"1\" class=\"dataframe\">\n",
       "  <thead>\n",
       "    <tr style=\"text-align: right;\">\n",
       "      <th></th>\n",
       "      <th>user</th>\n",
       "      <th>wgt</th>\n",
       "      <th>pos</th>\n",
       "    </tr>\n",
       "  </thead>\n",
       "  <tbody>\n",
       "    <tr>\n",
       "      <th>1801304</th>\n",
       "      <td>11098581</td>\n",
       "      <td>3.000</td>\n",
       "      <td>44</td>\n",
       "    </tr>\n",
       "    <tr>\n",
       "      <th>1801304</th>\n",
       "      <td>11098581</td>\n",
       "      <td>3.000</td>\n",
       "      <td>45</td>\n",
       "    </tr>\n",
       "    <tr>\n",
       "      <th>1801304</th>\n",
       "      <td>11098581</td>\n",
       "      <td>2.950</td>\n",
       "      <td>46</td>\n",
       "    </tr>\n",
       "    <tr>\n",
       "      <th>1801304</th>\n",
       "      <td>11098581</td>\n",
       "      <td>2.700</td>\n",
       "      <td>47</td>\n",
       "    </tr>\n",
       "    <tr>\n",
       "      <th>1801304</th>\n",
       "      <td>11098581</td>\n",
       "      <td>2.625</td>\n",
       "      <td>48</td>\n",
       "    </tr>\n",
       "  </tbody>\n",
       "</table>\n",
       "</div>"
      ],
      "text/plain": [
       "             user    wgt  pos\n",
       "1801304  11098581  3.000   44\n",
       "1801304  11098581  3.000   45\n",
       "1801304  11098581  2.950   46\n",
       "1801304  11098581  2.700   47\n",
       "1801304  11098581  2.625   48"
      ]
     },
     "execution_count": 17,
     "metadata": {},
     "output_type": "execute_result"
    }
   ],
   "source": [
    "users2.head()"
   ]
  },
  {
   "cell_type": "code",
   "execution_count": 18,
   "id": "564f6f09",
   "metadata": {},
   "outputs": [],
   "source": [
    "users = users.merge(users2,on=['user','pos'],how='left')"
   ]
  },
  {
   "cell_type": "code",
   "execution_count": 19,
   "id": "81ceb09f",
   "metadata": {},
   "outputs": [
    {
     "data": {
      "text/html": [
       "<div>\n",
       "<style scoped>\n",
       "    .dataframe tbody tr th:only-of-type {\n",
       "        vertical-align: middle;\n",
       "    }\n",
       "\n",
       "    .dataframe tbody tr th {\n",
       "        vertical-align: top;\n",
       "    }\n",
       "\n",
       "    .dataframe thead th {\n",
       "        text-align: right;\n",
       "    }\n",
       "</style>\n",
       "<table border=\"1\" class=\"dataframe\">\n",
       "  <thead>\n",
       "    <tr style=\"text-align: right;\">\n",
       "      <th></th>\n",
       "      <th>user</th>\n",
       "      <th>item</th>\n",
       "      <th>pos</th>\n",
       "      <th>wgt</th>\n",
       "    </tr>\n",
       "  </thead>\n",
       "  <tbody>\n",
       "    <tr>\n",
       "      <th>0</th>\n",
       "      <td>11098602</td>\n",
       "      <td>147733</td>\n",
       "      <td>88</td>\n",
       "      <td>3.0</td>\n",
       "    </tr>\n",
       "    <tr>\n",
       "      <th>1</th>\n",
       "      <td>11098602</td>\n",
       "      <td>58690</td>\n",
       "      <td>89</td>\n",
       "      <td>3.0</td>\n",
       "    </tr>\n",
       "    <tr>\n",
       "      <th>2</th>\n",
       "      <td>11098602</td>\n",
       "      <td>42030</td>\n",
       "      <td>90</td>\n",
       "      <td>3.0</td>\n",
       "    </tr>\n",
       "    <tr>\n",
       "      <th>3</th>\n",
       "      <td>11098602</td>\n",
       "      <td>1678813</td>\n",
       "      <td>91</td>\n",
       "      <td>3.0</td>\n",
       "    </tr>\n",
       "    <tr>\n",
       "      <th>4</th>\n",
       "      <td>11098602</td>\n",
       "      <td>1362839</td>\n",
       "      <td>92</td>\n",
       "      <td>3.0</td>\n",
       "    </tr>\n",
       "  </tbody>\n",
       "</table>\n",
       "</div>"
      ],
      "text/plain": [
       "       user     item  pos  wgt\n",
       "0  11098602   147733   88  3.0\n",
       "1  11098602    58690   89  3.0\n",
       "2  11098602    42030   90  3.0\n",
       "3  11098602  1678813   91  3.0\n",
       "4  11098602  1362839   92  3.0"
      ]
     },
     "execution_count": 19,
     "metadata": {},
     "output_type": "execute_result"
    }
   ],
   "source": [
    "users.head()"
   ]
  },
  {
   "cell_type": "code",
   "execution_count": 20,
   "id": "ee60302f",
   "metadata": {},
   "outputs": [
    {
     "data": {
      "text/plain": [
       "79"
      ]
     },
     "execution_count": 20,
     "metadata": {},
     "output_type": "execute_result"
    }
   ],
   "source": [
    "del users2, tmp\n",
    "gc.collect()"
   ]
  },
  {
   "cell_type": "code",
   "execution_count": 21,
   "id": "1ad14f04",
   "metadata": {},
   "outputs": [
    {
     "data": {
      "text/plain": [
       "(180125100, 4)"
      ]
     },
     "execution_count": 21,
     "metadata": {},
     "output_type": "execute_result"
    }
   ],
   "source": [
    "users.shape"
   ]
  },
  {
   "cell_type": "markdown",
   "id": "ac1a1b53",
   "metadata": {},
   "source": [
    "# Add Targets"
   ]
  },
  {
   "cell_type": "code",
   "execution_count": 22,
   "id": "bb8cc81a",
   "metadata": {},
   "outputs": [
    {
     "name": "stdout",
     "output_type": "stream",
     "text": [
      "(150817, 3)\n"
     ]
    },
    {
     "data": {
      "text/html": [
       "<div>\n",
       "<style scoped>\n",
       "    .dataframe tbody tr th:only-of-type {\n",
       "        vertical-align: middle;\n",
       "    }\n",
       "\n",
       "    .dataframe tbody tr th {\n",
       "        vertical-align: top;\n",
       "    }\n",
       "\n",
       "    .dataframe thead th {\n",
       "        text-align: right;\n",
       "    }\n",
       "</style>\n",
       "<table border=\"1\" class=\"dataframe\">\n",
       "  <thead>\n",
       "    <tr style=\"text-align: right;\">\n",
       "      <th></th>\n",
       "      <th>session</th>\n",
       "      <th>type</th>\n",
       "      <th>ground_truth</th>\n",
       "    </tr>\n",
       "  </thead>\n",
       "  <tbody>\n",
       "    <tr>\n",
       "      <th>2</th>\n",
       "      <td>11098528</td>\n",
       "      <td>orders</td>\n",
       "      <td>[990658, 950341, 1462506, 1561739, 907564, 369...</td>\n",
       "    </tr>\n",
       "    <tr>\n",
       "      <th>4</th>\n",
       "      <td>11098530</td>\n",
       "      <td>orders</td>\n",
       "      <td>[409236]</td>\n",
       "    </tr>\n",
       "    <tr>\n",
       "      <th>5</th>\n",
       "      <td>11098531</td>\n",
       "      <td>orders</td>\n",
       "      <td>[1365569]</td>\n",
       "    </tr>\n",
       "    <tr>\n",
       "      <th>9</th>\n",
       "      <td>11098533</td>\n",
       "      <td>orders</td>\n",
       "      <td>[935297, 652916, 334581, 1233050, 1366413, 118...</td>\n",
       "    </tr>\n",
       "    <tr>\n",
       "      <th>12</th>\n",
       "      <td>11098534</td>\n",
       "      <td>orders</td>\n",
       "      <td>[223062]</td>\n",
       "    </tr>\n",
       "  </tbody>\n",
       "</table>\n",
       "</div>"
      ],
      "text/plain": [
       "     session    type                                       ground_truth\n",
       "2   11098528  orders  [990658, 950341, 1462506, 1561739, 907564, 369...\n",
       "4   11098530  orders                                           [409236]\n",
       "5   11098531  orders                                          [1365569]\n",
       "9   11098533  orders  [935297, 652916, 334581, 1233050, 1366413, 118...\n",
       "12  11098534  orders                                           [223062]"
      ]
     },
     "execution_count": 22,
     "metadata": {},
     "output_type": "execute_result"
    }
   ],
   "source": [
    "test_labels = cudf.read_parquet('../../data/train_data/test_labels.parquet')\n",
    "test_labels = test_labels.loc[test_labels['type']==USE]\n",
    "print( test_labels.shape )\n",
    "test_labels.head()"
   ]
  },
  {
   "cell_type": "code",
   "execution_count": 23,
   "id": "cc74a001",
   "metadata": {},
   "outputs": [
    {
     "data": {
      "text/plain": [
       "2     990658\n",
       "2     950341\n",
       "2    1462506\n",
       "2    1561739\n",
       "2     907564\n",
       "Name: item, dtype: int32"
      ]
     },
     "execution_count": 23,
     "metadata": {},
     "output_type": "execute_result"
    }
   ],
   "source": [
    "tmp = test_labels.ground_truth.explode().astype('int32').rename('item')\n",
    "tmp.head()"
   ]
  },
  {
   "cell_type": "code",
   "execution_count": 24,
   "id": "4c0fa401",
   "metadata": {},
   "outputs": [],
   "source": [
    "test_users = test_labels[['session']].astype('int32').copy()\n",
    "test_users.columns = ['user']"
   ]
  },
  {
   "cell_type": "code",
   "execution_count": 25,
   "id": "f5d93807",
   "metadata": {},
   "outputs": [],
   "source": [
    "test_users = test_users.merge(tmp,left_index=True,right_index=True)"
   ]
  },
  {
   "cell_type": "code",
   "execution_count": 26,
   "id": "064b8104",
   "metadata": {},
   "outputs": [
    {
     "data": {
      "text/plain": [
       "50"
      ]
     },
     "execution_count": 26,
     "metadata": {},
     "output_type": "execute_result"
    }
   ],
   "source": [
    "del test_labels, tmp\n",
    "gc.collect()"
   ]
  },
  {
   "cell_type": "code",
   "execution_count": 27,
   "id": "41735b26",
   "metadata": {},
   "outputs": [],
   "source": [
    "test_users[USE] = np.int8(1)"
   ]
  },
  {
   "cell_type": "code",
   "execution_count": 28,
   "id": "810b5d36",
   "metadata": {},
   "outputs": [
    {
     "data": {
      "text/plain": [
       "user      int32\n",
       "item      int32\n",
       "orders    int32\n",
       "dtype: object"
      ]
     },
     "execution_count": 28,
     "metadata": {},
     "output_type": "execute_result"
    }
   ],
   "source": [
    "test_users.dtypes"
   ]
  },
  {
   "cell_type": "code",
   "execution_count": 29,
   "id": "b8c574e0",
   "metadata": {},
   "outputs": [
    {
     "data": {
      "text/html": [
       "<div>\n",
       "<style scoped>\n",
       "    .dataframe tbody tr th:only-of-type {\n",
       "        vertical-align: middle;\n",
       "    }\n",
       "\n",
       "    .dataframe tbody tr th {\n",
       "        vertical-align: top;\n",
       "    }\n",
       "\n",
       "    .dataframe thead th {\n",
       "        text-align: right;\n",
       "    }\n",
       "</style>\n",
       "<table border=\"1\" class=\"dataframe\">\n",
       "  <thead>\n",
       "    <tr style=\"text-align: right;\">\n",
       "      <th></th>\n",
       "      <th>user</th>\n",
       "      <th>item</th>\n",
       "      <th>orders</th>\n",
       "    </tr>\n",
       "  </thead>\n",
       "  <tbody>\n",
       "    <tr>\n",
       "      <th>151131</th>\n",
       "      <td>11218884</td>\n",
       "      <td>1060768</td>\n",
       "      <td>1</td>\n",
       "    </tr>\n",
       "    <tr>\n",
       "      <th>151131</th>\n",
       "      <td>11218884</td>\n",
       "      <td>75232</td>\n",
       "      <td>1</td>\n",
       "    </tr>\n",
       "    <tr>\n",
       "      <th>151131</th>\n",
       "      <td>11218884</td>\n",
       "      <td>73547</td>\n",
       "      <td>1</td>\n",
       "    </tr>\n",
       "    <tr>\n",
       "      <th>151131</th>\n",
       "      <td>11218884</td>\n",
       "      <td>1805003</td>\n",
       "      <td>1</td>\n",
       "    </tr>\n",
       "    <tr>\n",
       "      <th>151131</th>\n",
       "      <td>11218884</td>\n",
       "      <td>394861</td>\n",
       "      <td>1</td>\n",
       "    </tr>\n",
       "  </tbody>\n",
       "</table>\n",
       "</div>"
      ],
      "text/plain": [
       "            user     item  orders\n",
       "151131  11218884  1060768       1\n",
       "151131  11218884    75232       1\n",
       "151131  11218884    73547       1\n",
       "151131  11218884  1805003       1\n",
       "151131  11218884   394861       1"
      ]
     },
     "execution_count": 29,
     "metadata": {},
     "output_type": "execute_result"
    }
   ],
   "source": [
    "test_users.head()"
   ]
  },
  {
   "cell_type": "code",
   "execution_count": 30,
   "id": "5ab0f19c",
   "metadata": {},
   "outputs": [],
   "source": [
    "users = users.merge(test_users, on=['user','item'], how='left').fillna(0)"
   ]
  },
  {
   "cell_type": "code",
   "execution_count": 31,
   "id": "f4526021",
   "metadata": {},
   "outputs": [
    {
     "data": {
      "text/plain": [
       "40"
      ]
     },
     "execution_count": 31,
     "metadata": {},
     "output_type": "execute_result"
    }
   ],
   "source": [
    "del test_users\n",
    "gc.collect()"
   ]
  },
  {
   "cell_type": "code",
   "execution_count": 32,
   "id": "1632546b",
   "metadata": {},
   "outputs": [
    {
     "data": {
      "text/html": [
       "<div>\n",
       "<style scoped>\n",
       "    .dataframe tbody tr th:only-of-type {\n",
       "        vertical-align: middle;\n",
       "    }\n",
       "\n",
       "    .dataframe tbody tr th {\n",
       "        vertical-align: top;\n",
       "    }\n",
       "\n",
       "    .dataframe thead th {\n",
       "        text-align: right;\n",
       "    }\n",
       "</style>\n",
       "<table border=\"1\" class=\"dataframe\">\n",
       "  <thead>\n",
       "    <tr style=\"text-align: right;\">\n",
       "      <th></th>\n",
       "      <th>user</th>\n",
       "      <th>item</th>\n",
       "      <th>pos</th>\n",
       "      <th>wgt</th>\n",
       "      <th>orders</th>\n",
       "    </tr>\n",
       "  </thead>\n",
       "  <tbody>\n",
       "    <tr>\n",
       "      <th>0</th>\n",
       "      <td>11098618</td>\n",
       "      <td>968679</td>\n",
       "      <td>40</td>\n",
       "      <td>3.400000</td>\n",
       "      <td>0</td>\n",
       "    </tr>\n",
       "    <tr>\n",
       "      <th>1</th>\n",
       "      <td>11098618</td>\n",
       "      <td>845051</td>\n",
       "      <td>41</td>\n",
       "      <td>3.200000</td>\n",
       "      <td>0</td>\n",
       "    </tr>\n",
       "    <tr>\n",
       "      <th>2</th>\n",
       "      <td>11098618</td>\n",
       "      <td>1413290</td>\n",
       "      <td>42</td>\n",
       "      <td>3.175000</td>\n",
       "      <td>0</td>\n",
       "    </tr>\n",
       "    <tr>\n",
       "      <th>3</th>\n",
       "      <td>11098618</td>\n",
       "      <td>1082657</td>\n",
       "      <td>43</td>\n",
       "      <td>3.166667</td>\n",
       "      <td>0</td>\n",
       "    </tr>\n",
       "    <tr>\n",
       "      <th>4</th>\n",
       "      <td>11098618</td>\n",
       "      <td>1053428</td>\n",
       "      <td>44</td>\n",
       "      <td>3.025000</td>\n",
       "      <td>0</td>\n",
       "    </tr>\n",
       "  </tbody>\n",
       "</table>\n",
       "</div>"
      ],
      "text/plain": [
       "       user     item  pos       wgt  orders\n",
       "0  11098618   968679   40  3.400000       0\n",
       "1  11098618   845051   41  3.200000       0\n",
       "2  11098618  1413290   42  3.175000       0\n",
       "3  11098618  1082657   43  3.166667       0\n",
       "4  11098618  1053428   44  3.025000       0"
      ]
     },
     "execution_count": 32,
     "metadata": {},
     "output_type": "execute_result"
    }
   ],
   "source": [
    "users.head()"
   ]
  },
  {
   "cell_type": "code",
   "execution_count": 33,
   "id": "b1ea4bff",
   "metadata": {},
   "outputs": [
    {
     "name": "stdout",
     "output_type": "stream",
     "text": [
      "(180125100, 5) user        int32\n",
      "item        int32\n",
      "pos         int32\n",
      "wgt       float32\n",
      "orders      int32\n",
      "dtype: object\n"
     ]
    }
   ],
   "source": [
    "print(users.shape, users.dtypes)"
   ]
  },
  {
   "cell_type": "code",
   "execution_count": 34,
   "id": "1703d324",
   "metadata": {},
   "outputs": [],
   "source": [
    "users = users.to_pandas()"
   ]
  },
  {
   "cell_type": "markdown",
   "id": "7acbaec8",
   "metadata": {},
   "source": [
    "# Filter Rows"
   ]
  },
  {
   "cell_type": "code",
   "execution_count": 35,
   "id": "910c4d6c",
   "metadata": {},
   "outputs": [
    {
     "name": "stdout",
     "output_type": "stream",
     "text": [
      "1801251\n",
      "134656 0.07475693282057859\n",
      "CPU times: user 3.52 s, sys: 664 ms, total: 4.18 s\n",
      "Wall time: 4.18 s\n"
     ]
    },
    {
     "data": {
      "text/plain": [
       "29"
      ]
     },
     "execution_count": 35,
     "metadata": {},
     "output_type": "execute_result"
    }
   ],
   "source": [
    "%%time\n",
    "tmp = users.groupby('user')[USE].agg('sum')\n",
    "print( len(tmp) )\n",
    "KEEP = tmp.loc[tmp>0].index.values\n",
    "print( len(KEEP), len(KEEP)/len(tmp) )\n",
    "del tmp\n",
    "gc.collect()"
   ]
  },
  {
   "cell_type": "code",
   "execution_count": 36,
   "id": "b3ac6fa5",
   "metadata": {
    "scrolled": true
   },
   "outputs": [
    {
     "name": "stdout",
     "output_type": "stream",
     "text": [
      "(13465600, 5)\n"
     ]
    },
    {
     "data": {
      "text/plain": [
       "0"
      ]
     },
     "execution_count": 36,
     "metadata": {},
     "output_type": "execute_result"
    }
   ],
   "source": [
    "users = users.loc[users.user.isin(KEEP)].reset_index(drop=True)\n",
    "print( users.shape )\n",
    "gc.collect()"
   ]
  },
  {
   "cell_type": "code",
   "execution_count": 37,
   "id": "98884343",
   "metadata": {},
   "outputs": [
    {
     "data": {
      "text/plain": [
       "(0.016749940589353612, 59.70170429354284)"
      ]
     },
     "execution_count": 37,
     "metadata": {},
     "output_type": "execute_result"
    }
   ],
   "source": [
    "users[USE].mean(), 1/users[USE].mean()"
   ]
  },
  {
   "cell_type": "markdown",
   "id": "1d34bd29",
   "metadata": {},
   "source": [
    "# Save"
   ]
  },
  {
   "cell_type": "code",
   "execution_count": 39,
   "id": "bb99ce1e",
   "metadata": {},
   "outputs": [
    {
     "data": {
      "text/plain": [
       "user        int32\n",
       "item        int32\n",
       "pos         int32\n",
       "wgt       float32\n",
       "orders      int32\n",
       "dtype: object"
      ]
     },
     "execution_count": 39,
     "metadata": {},
     "output_type": "execute_result"
    }
   ],
   "source": [
    "users.dtypes"
   ]
  },
  {
   "cell_type": "code",
   "execution_count": 41,
   "id": "4e8b8e6a",
   "metadata": {},
   "outputs": [],
   "source": [
    "users[USE] = users[USE].astype('int8')"
   ]
  },
  {
   "cell_type": "code",
   "execution_count": 42,
   "id": "556805a6",
   "metadata": {},
   "outputs": [],
   "source": [
    "users.to_parquet(f'../../data/train_with_features/train_v{VER}.pqt',index=False)"
   ]
  }
 ],
 "metadata": {
  "kernelspec": {
   "display_name": "Python 3 (ipykernel)",
   "language": "python",
   "name": "python3"
  },
  "language_info": {
   "codemirror_mode": {
    "name": "ipython",
    "version": 3
   },
   "file_extension": ".py",
   "mimetype": "text/x-python",
   "name": "python",
   "nbconvert_exporter": "python",
   "pygments_lexer": "ipython3",
   "version": "3.8.13"
  }
 },
 "nbformat": 4,
 "nbformat_minor": 5
}
