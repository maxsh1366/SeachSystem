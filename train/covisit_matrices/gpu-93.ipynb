{
 "cells": [
  {
   "cell_type": "code",
   "execution_count": 1,
   "id": "5a450860",
   "metadata": {},
   "outputs": [],
   "source": [
    "import cudf, glob, gc, os\n",
    "os.environ[\"CUDA_VISIBLE_DEVICES\"]=\"0\"\n",
    "\n",
    "VER = 93"
   ]
  },
  {
   "cell_type": "code",
   "execution_count": 2,
   "id": "13f71e48",
   "metadata": {},
   "outputs": [],
   "source": [
    "files = glob.glob('../../data/train_data/*_parquet/*')"
   ]
  },
  {
   "cell_type": "code",
   "execution_count": 3,
   "id": "6eadb35b",
   "metadata": {},
   "outputs": [
    {
     "data": {
      "text/plain": [
       "['/raid/Kaggle/otto/valid/test_parquet/004.parquet',\n",
       " '/raid/Kaggle/otto/valid/test_parquet/019.parquet',\n",
       " '/raid/Kaggle/otto/valid/test_parquet/008.parquet',\n",
       " '/raid/Kaggle/otto/valid/test_parquet/011.parquet']"
      ]
     },
     "execution_count": 3,
     "metadata": {},
     "output_type": "execute_result"
    }
   ],
   "source": [
    "files[:4]"
   ]
  },
  {
   "cell_type": "code",
   "execution_count": 4,
   "id": "8be254ed",
   "metadata": {},
   "outputs": [
    {
     "name": "stdout",
     "output_type": "stream",
     "text": [
      "Processing 20 files...\n",
      "0 , 1 , 2 , 3 , 4 , 5 , 6 , 7 , 8 , 9 , 10 , 11 , 12 , 13 , 14 , 15 , 16 , 17 , 18 , 19 , \n",
      "Processing 20 files...\n",
      "20 , 21 , 22 , 23 , 24 , 25 , 26 , 27 , 28 , 29 , 30 , 31 , 32 , 33 , 34 , 35 , 36 , 37 , 38 , 39 , \n",
      "Processing 20 files...\n",
      "40 , 41 , 42 , 43 , 44 , 45 , 46 , 47 , 48 , 49 , 50 , 51 , 52 , 53 , 54 , 55 , 56 , 57 , 58 , 59 , \n",
      "Processing 20 files...\n",
      "60 , 61 , 62 , 63 , 64 , 65 , 66 , 67 , 68 , 69 , 70 , 71 , 72 , 73 , 74 , 75 , 76 , 77 , 78 , 79 , \n",
      "Processing 20 files...\n",
      "80 , 81 , 82 , 83 , 84 , 85 , 86 , 87 , 88 , 89 , 90 , 91 , 92 , 93 , 94 , 95 , 96 , 97 , 98 , 99 , \n",
      "Processing 20 files...\n",
      "100 , 101 , 102 , 103 , 104 , 105 , 106 , 107 , 108 , 109 , 110 , 111 , 112 , 113 , 114 , 115 , 116 , 117 , 118 , 119 , \n",
      "CPU times: user 55.5 s, sys: 41.1 s, total: 1min 36s\n",
      "Wall time: 1min 40s\n"
     ]
    }
   ],
   "source": [
    "%%time\n",
    "for a,b in [(0,20),(20,40),(40,60),(60,80),(80,100),(100,120)]:\n",
    "    print(f'Processing {b-a} files...')\n",
    "    for k in range(a,b):\n",
    "        df = cudf.read_parquet(files[k])\n",
    "        df = df.sort_values(['session','ts'],ascending=[True,False])\n",
    "        df = df.reset_index(drop=True)\n",
    "        df['n'] = df.groupby('session').cumcount()\n",
    "        df = df.loc[df.n<30].drop('n',axis=1)\n",
    "        df = df.merge(df,on='session')\n",
    "        df = df.loc[ ((df.ts_x - df.ts_y).abs()< 24 * 60 * 60) & (df.aid_x != df.aid_y) ]\n",
    "        df = df[['session', 'aid_x', 'aid_y','ts_x','ts_y']].drop_duplicates(['session', 'aid_x', 'aid_y'])\n",
    "        df['wgt'] = 1 + 3*(df.ts_x - 1659304800)/(1662328791-1659304800)\n",
    "        df['wgt'] = df['wgt'] * ((1/2)**( (df.ts_x - df.ts_y).abs() /60/60))\n",
    "        df = df[['aid_x','aid_y','wgt']]\n",
    "        df.wgt = df.wgt.astype('float32')\n",
    "        df = df.groupby(['aid_x','aid_y']).wgt.sum()\n",
    "        if k==a: tmp2 = df\n",
    "        else: tmp2 = tmp2.add(df, fill_value=0)\n",
    "        print(k,', ',end='')\n",
    "    print()\n",
    "    if a==0: tmp = tmp2\n",
    "    else: tmp = tmp.add(tmp2, fill_value=0)\n",
    "    del tmp2, df\n",
    "    gc.collect()"
   ]
  },
  {
   "cell_type": "code",
   "execution_count": 5,
   "id": "3aea4884",
   "metadata": {},
   "outputs": [],
   "source": [
    "tmp = tmp.reset_index()"
   ]
  },
  {
   "cell_type": "code",
   "execution_count": 6,
   "id": "9ebea370",
   "metadata": {},
   "outputs": [],
   "source": [
    "tmp = tmp.sort_values(['aid_x','wgt'],ascending=[True,False])\n",
    "tmp = tmp.reset_index(drop=True)\n",
    "tmp['n'] = tmp.groupby('aid_x').aid_y.cumcount()\n",
    "tmp = tmp.loc[tmp.n<80].drop('n',axis=1)"
   ]
  },
  {
   "cell_type": "code",
   "execution_count": 7,
   "id": "d31d1f54",
   "metadata": {},
   "outputs": [
    {
     "name": "stdout",
     "output_type": "stream",
     "text": [
      "(95124522, 3)\n"
     ]
    },
    {
     "data": {
      "text/html": [
       "<div>\n",
       "<style scoped>\n",
       "    .dataframe tbody tr th:only-of-type {\n",
       "        vertical-align: middle;\n",
       "    }\n",
       "\n",
       "    .dataframe tbody tr th {\n",
       "        vertical-align: top;\n",
       "    }\n",
       "\n",
       "    .dataframe thead th {\n",
       "        text-align: right;\n",
       "    }\n",
       "</style>\n",
       "<table border=\"1\" class=\"dataframe\">\n",
       "  <thead>\n",
       "    <tr style=\"text-align: right;\">\n",
       "      <th></th>\n",
       "      <th>aid_x</th>\n",
       "      <th>aid_y</th>\n",
       "      <th>wgt</th>\n",
       "    </tr>\n",
       "  </thead>\n",
       "  <tbody>\n",
       "    <tr>\n",
       "      <th>0</th>\n",
       "      <td>0</td>\n",
       "      <td>532042</td>\n",
       "      <td>13.643975</td>\n",
       "    </tr>\n",
       "    <tr>\n",
       "      <th>1</th>\n",
       "      <td>0</td>\n",
       "      <td>643097</td>\n",
       "      <td>12.432261</td>\n",
       "    </tr>\n",
       "    <tr>\n",
       "      <th>2</th>\n",
       "      <td>0</td>\n",
       "      <td>1848174</td>\n",
       "      <td>10.191021</td>\n",
       "    </tr>\n",
       "    <tr>\n",
       "      <th>3</th>\n",
       "      <td>0</td>\n",
       "      <td>1735605</td>\n",
       "      <td>7.988760</td>\n",
       "    </tr>\n",
       "    <tr>\n",
       "      <th>4</th>\n",
       "      <td>0</td>\n",
       "      <td>1363081</td>\n",
       "      <td>5.683196</td>\n",
       "    </tr>\n",
       "  </tbody>\n",
       "</table>\n",
       "</div>"
      ],
      "text/plain": [
       "   aid_x    aid_y        wgt\n",
       "0      0   532042  13.643975\n",
       "1      0   643097  12.432261\n",
       "2      0  1848174  10.191021\n",
       "3      0  1735605   7.988760\n",
       "4      0  1363081   5.683196"
      ]
     },
     "execution_count": 7,
     "metadata": {},
     "output_type": "execute_result"
    }
   ],
   "source": [
    "print( tmp.shape )\n",
    "tmp.head()"
   ]
  },
  {
   "cell_type": "code",
   "execution_count": 8,
   "id": "ef3a6755",
   "metadata": {},
   "outputs": [
    {
     "name": "stdout",
     "output_type": "stream",
     "text": [
      "CPU times: user 43 s, sys: 2.78 s, total: 45.8 s\n",
      "Wall time: 45.8 s\n"
     ]
    }
   ],
   "source": [
    "%%time\n",
    "df = tmp.to_pandas().groupby('aid_x').aid_y.apply(list)"
   ]
  },
  {
   "cell_type": "code",
   "execution_count": 10,
   "id": "c0c5aa13",
   "metadata": {},
   "outputs": [
    {
     "name": "stdout",
     "output_type": "stream",
     "text": [
      "CPU times: user 3.71 s, sys: 676 ms, total: 4.39 s\n",
      "Wall time: 4.49 s\n"
     ]
    }
   ],
   "source": [
    "%%time\n",
    "import pickle\n",
    "with open(f'../../data/covisit_matrices/top_80_aids_v{VER}.pkl', 'wb') as f:\n",
    "    pickle.dump(df.to_dict(), f)"
   ]
  }
 ],
 "metadata": {
  "kernelspec": {
   "display_name": "Python 3 (ipykernel)",
   "language": "python",
   "name": "python3"
  },
  "language_info": {
   "codemirror_mode": {
    "name": "ipython",
    "version": 3
   },
   "file_extension": ".py",
   "mimetype": "text/x-python",
   "name": "python",
   "nbconvert_exporter": "python",
   "pygments_lexer": "ipython3",
   "version": "3.8.13"
  }
 },
 "nbformat": 4,
 "nbformat_minor": 5
}
