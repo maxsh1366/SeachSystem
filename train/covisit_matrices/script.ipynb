{
 "cells": [
  {
   "cell_type": "code",
   "execution_count": null,
   "id": "9c7105ab",
   "metadata": {},
   "outputs": [],
   "source": []
  },
  {
   "cell_type": "code",
   "execution_count": null,
   "id": "5b41a6a0",
   "metadata": {},
   "outputs": [],
   "source": [
    "%reset -f\n",
    "%run gpu-115.ipynb"
   ]
  },
  {
   "cell_type": "code",
   "execution_count": null,
   "id": "d65033dc",
   "metadata": {},
   "outputs": [],
   "source": [
    "%reset -f\n",
    "%run gpu-116.ipynb"
   ]
  },
  {
   "cell_type": "code",
   "execution_count": null,
   "id": "561f95da",
   "metadata": {},
   "outputs": [],
   "source": [
    "%reset -f\n",
    "%run gpu-155.ipynb"
   ]
  },
  {
   "cell_type": "code",
   "execution_count": null,
   "id": "8324a85d",
   "metadata": {},
   "outputs": [],
   "source": [
    "%reset -f\n",
    "%run gpu-157.ipynb"
   ]
  },
  {
   "cell_type": "code",
   "execution_count": null,
   "id": "d0a5d3eb",
   "metadata": {},
   "outputs": [],
   "source": [
    "%reset -f\n",
    "%run gpu-165.ipynb"
   ]
  },
  {
   "cell_type": "code",
   "execution_count": null,
   "id": "86cbb693",
   "metadata": {},
   "outputs": [],
   "source": [
    "%reset -f\n",
    "%run gpu-166.ipynb"
   ]
  },
  {
   "cell_type": "code",
   "execution_count": null,
   "id": "c109f6c1",
   "metadata": {},
   "outputs": [],
   "source": [
    "%reset -f\n",
    "%run gpu-167.ipynb"
   ]
  },
  {
   "cell_type": "code",
   "execution_count": null,
   "id": "df86be30",
   "metadata": {},
   "outputs": [],
   "source": [
    "%reset -f\n",
    "%run gpu-168.ipynb"
   ]
  },
  {
   "cell_type": "code",
   "execution_count": null,
   "id": "eaf06902",
   "metadata": {},
   "outputs": [],
   "source": [
    "%reset -f\n",
    "%run gpu-217.ipynb"
   ]
  },
  {
   "cell_type": "code",
   "execution_count": null,
   "id": "4b8a4860",
   "metadata": {},
   "outputs": [],
   "source": [
    "%reset -f\n",
    "%run gpu-220.ipynb"
   ]
  },
  {
   "cell_type": "code",
   "execution_count": null,
   "id": "e91dfae4",
   "metadata": {},
   "outputs": [],
   "source": [
    "%reset -f\n",
    "%run gpu-226.ipynb"
   ]
  },
  {
   "cell_type": "code",
   "execution_count": null,
   "id": "e61fab4c",
   "metadata": {},
   "outputs": [],
   "source": [
    "%reset -f\n",
    "%run gpu-232.ipynb"
   ]
  },
  {
   "cell_type": "code",
   "execution_count": null,
   "id": "11c872fd",
   "metadata": {},
   "outputs": [],
   "source": [
    "%reset -f\n",
    "%run gpu-235.ipynb"
   ]
  },
  {
   "cell_type": "code",
   "execution_count": null,
   "id": "2980f1b4",
   "metadata": {},
   "outputs": [],
   "source": [
    "%reset -f\n",
    "%run gpu-239.ipynb"
   ]
  },
  {
   "cell_type": "code",
   "execution_count": null,
   "id": "ebbcefd0",
   "metadata": {},
   "outputs": [],
   "source": [
    "%reset -f\n",
    "%run gpu-700.ipynb"
   ]
  },
  {
   "cell_type": "code",
   "execution_count": null,
   "id": "00f16b5e",
   "metadata": {},
   "outputs": [],
   "source": [
    "%reset -f\n",
    "%run gpu-701.ipynb"
   ]
  },
  {
   "cell_type": "code",
   "execution_count": null,
   "id": "4cefa9e1",
   "metadata": {},
   "outputs": [],
   "source": [
    "%reset -f\n",
    "%run gpu-93.ipynb"
   ]
  },
  {
   "cell_type": "code",
   "execution_count": null,
   "id": "dd157a95",
   "metadata": {},
   "outputs": [],
   "source": []
  },
  {
   "cell_type": "code",
   "execution_count": null,
   "id": "1c7a723c",
   "metadata": {},
   "outputs": [],
   "source": [
    "%reset -f\n",
    "%run cpu-90.ipynb"
   ]
  },
  {
   "cell_type": "code",
   "execution_count": null,
   "id": "4e164c2c",
   "metadata": {},
   "outputs": [],
   "source": [
    "%reset -f\n",
    "%run cpu-95.ipynb"
   ]
  },
  {
   "cell_type": "code",
   "execution_count": null,
   "id": "488abe7a",
   "metadata": {},
   "outputs": [],
   "source": [
    "%reset -f\n",
    "%run cpu-99.ipynb"
   ]
  },
  {
   "cell_type": "code",
   "execution_count": null,
   "id": "5cd59289",
   "metadata": {},
   "outputs": [],
   "source": []
  }
 ],
 "metadata": {
  "kernelspec": {
   "display_name": "Python 3 (ipykernel)",
   "language": "python",
   "name": "python3"
  },
  "language_info": {
   "codemirror_mode": {
    "name": "ipython",
    "version": 3
   },
   "file_extension": ".py",
   "mimetype": "text/x-python",
   "name": "python",
   "nbconvert_exporter": "python",
   "pygments_lexer": "ipython3",
   "version": "3.8.13"
  }
 },
 "nbformat": 4,
 "nbformat_minor": 5
}
