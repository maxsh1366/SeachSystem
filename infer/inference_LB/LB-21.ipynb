{
 "cells": [
  {
   "cell_type": "code",
   "execution_count": 1,
   "id": "d0d39a4f",
   "metadata": {},
   "outputs": [],
   "source": [
    "import os\n",
    "os.environ[\"CUDA_VISIBLE_DEVICES\"]=\"0\"\n",
    "\n",
    "X_VER = 186\n",
    "\n",
    "L_VER = 514\n",
    "USE = 'clicks'\n",
    "\n",
    "# USE 0,1,2,3\n",
    "PART = 0"
   ]
  },
  {
   "cell_type": "code",
   "execution_count": 2,
   "id": "829a2f39",
   "metadata": {},
   "outputs": [],
   "source": [
    "import pandas as pd, cudf, numpy as np, gc\n",
    "import matplotlib.pyplot as plt"
   ]
  },
  {
   "cell_type": "code",
   "execution_count": 3,
   "id": "674f9039",
   "metadata": {},
   "outputs": [],
   "source": [
    "users = pd.read_parquet(f'../../data/infer_with_features/train_v161_LB_{PART}.pqt')"
   ]
  },
  {
   "cell_type": "markdown",
   "id": "e99077ff",
   "metadata": {},
   "source": [
    "# XGBoost"
   ]
  },
  {
   "cell_type": "code",
   "execution_count": 4,
   "id": "0fdc52cb",
   "metadata": {},
   "outputs": [
    {
     "name": "stdout",
     "output_type": "stream",
     "text": [
      "152\n",
      "['pos', 'wgt', 'score_1', 'score_3', 'score_4', 'score_5', 'score_6', 'score_7', 'score_10', 'score_11', 'score_12', 'score_13', 'score_30', 'score_14', 'score_15', 'score_16', 'score_17', 'score_18', 'score_19', 'score_20', 'score_21', 'score_22', 'score_23', 'score_24', 'score_25', 'score_26', 'buy_ratio_5', 'count_item_5', 'count_user_5', 'repeat_5', 'buy_ratio_std_5', 'item_day_std_5', 'user_day_std_5', 'buy_ratio_0_6', 'buy_ratio_1_6', 'buy_ratio_2_6', 'buy_ratio_3_6', 'buy_ratio_4_6', 'buy_ratio_5_6', 'buy_ratio_6_6', 'count_item_0_6', 'count_item_1_6', 'count_item_2_6', 'count_item_3_6', 'count_item_4_6', 'count_item_5_6', 'count_item_6_6', 'count_user_0_6', 'count_user_1_6', 'count_user_2_6', 'count_user_3_6', 'count_user_4_6', 'count_user_5_6', 'count_user_6_6', 'item_day_std_6', 'user_day_std_6', 'buy_ratio', 'count_item', 'count_user', 'hour_mean', 'day_mean', 'repeat', 'buy_ratio_std', 'hour_std', 'day_std', 'buy_ratio3', 'count_item3', 'count_user3', 'hour_mean3', 'day_mean3', 'repeat3', 'buy_ratio_std3', 'hour_std3', 'day_std3', 'prev3', 'next3', 'orders3', 'carts3', 'order_repeat3', 'cart_repeat3', 'buy_ratio2', 'count_item2', 'unique_item2', 'hour_mean2', 'day_mean2', 'repeat2', 'buy_ratio_std2', 'hour_std2', 'day_std2', 'ts_max7', 'ts_min7', 'ts_diff7', 'z1', 'z2', 'z3', 'z4', 'z5', 'z6', 'buy_ratio7', 'count_item7', 'count_user7', 'hour_mean7', 'day_mean7', 'repeat7', 'buy_ratio_std7', 'hour_std7', 'day_std7', 'prev7', 'next7', 'orders7', 'carts7', 'order_repeat7', 'cart_repeat7', 'buy_ratio8', 'count_item8', 'count_user8', 'hour_mean8', 'day_mean8', 'repeat8', 'buy_ratio_std8', 'hour_std8', 'day_std8', 'prev8', 'next8', 'orders8', 'carts8', 'order_repeat8', 'cart_repeat8', 'buy_ratio9', 'count_item9', 'count_user9', 'hour_mean9', 'day_mean9', 'repeat9', 'buy_ratio_std9', 'hour_std9', 'day_std9', 'prev9', 'next9', 'orders9', 'carts9', 'order_repeat9', 'cart_repeat9', 'buy_ratio10', 'count_item10', 'unique_item10', 'hour_mean10', 'day_mean10', 'repeat10', 'buy_ratio_std10', 'hour_std10', 'day_std10']\n",
      "['clicks']\n"
     ]
    }
   ],
   "source": [
    "FEATURES = users.columns[2:]\n",
    "TARS = [USE]\n",
    "FEATURES = [f for f in FEATURES if f not in TARS]\n",
    "print(len(FEATURES))\n",
    "print( FEATURES)\n",
    "print(TARS)"
   ]
  },
  {
   "cell_type": "code",
   "execution_count": 5,
   "id": "a2f7fda7",
   "metadata": {},
   "outputs": [
    {
     "name": "stdout",
     "output_type": "stream",
     "text": [
      "BEFORE (41795000, 154)\n",
      "AFTER (41795000, 154)\n",
      "CPU times: user 12.6 s, sys: 9.99 s, total: 22.6 s\n",
      "Wall time: 19.3 s\n"
     ]
    }
   ],
   "source": [
    "%%time\n",
    "print('BEFORE', users.shape )\n",
    "users = users.sort_values('user').reset_index(drop=True)\n",
    "print('AFTER', users.shape )"
   ]
  },
  {
   "cell_type": "code",
   "execution_count": 6,
   "id": "dc3235b3",
   "metadata": {},
   "outputs": [],
   "source": [
    "oof = np.zeros(len(users))"
   ]
  },
  {
   "cell_type": "code",
   "execution_count": 28,
   "id": "c66594f9",
   "metadata": {
    "scrolled": true
   },
   "outputs": [
    {
     "name": "stdout",
     "output_type": "stream",
     "text": [
      "#########################\n",
      "### Fold 1\n",
      "#########################\n",
      "=> predicting XGB 186...\n",
      "inferring first half...\n",
      "inferring second half...\n",
      "#########################\n",
      "### Fold 2\n",
      "#########################\n",
      "=> predicting XGB 186...\n",
      "inferring first half...\n",
      "inferring second half...\n",
      "#########################\n",
      "### Fold 3\n",
      "#########################\n",
      "=> predicting XGB 186...\n",
      "inferring first half...\n",
      "inferring second half...\n",
      "#########################\n",
      "### Fold 4\n",
      "#########################\n",
      "=> predicting XGB 186...\n",
      "inferring first half...\n",
      "inferring second half...\n",
      "CPU times: user 1min 58s, sys: 1min 1s, total: 2min 59s\n",
      "Wall time: 2min 58s\n"
     ]
    }
   ],
   "source": [
    "%%time\n",
    "from cuml import ForestInference\n",
    "FOLDS = 5\n",
    "\n",
    "for fold in range(FOLDS):\n",
    "    print('#'*25)\n",
    "    print('### Fold',fold+1)\n",
    "    print('#'*25)\n",
    "    \n",
    "    print(f'=> predicting XGB {X_VER}...')\n",
    "    #model = xgb.Booster()\n",
    "    #model.load_model(f'../../data/models/XGB_fold{fold}_{USE}_v{X_VER}.xgb')\n",
    "    #model.set_param({'predictor': 'gpu_predictor'})\n",
    "    #model.set_param({'gpu_id': 0})\n",
    "    model = ForestInference.load(f'../../data/models/XGB_fold{fold}_{USE}_v{X_VER}.xgb')\n",
    "    \n",
    "    # INFER OOF FOLD K\n",
    "    print('inferring 1of4...')\n",
    "    X_valid = users[FEATURES].iloc[:len(users)//4]\n",
    "    #dvalid = xgb.DMatrix(data=X_valid) \n",
    "    oof_preds = model.predict(X_valid)\n",
    "    oof[:len(users)//4] += oof_preds/FOLDS\n",
    "    del X_valid#, dvalid\n",
    "    gc.collect()\n",
    "    \n",
    "    # INFER OOF FOLD K\n",
    "    print('inferring 2of4...')\n",
    "    X_valid = users[FEATURES].iloc[len(users)//4:(2*len(users))//4]\n",
    "    #dvalid = xgb.DMatrix(data=X_valid) \n",
    "    oof_preds = model.predict(X_valid)\n",
    "    oof[len(users)//4:(2*len(users))//4] += oof_preds/FOLDS\n",
    "    del X_valid#, dvalid\n",
    "    gc.collect()\n",
    "    \n",
    "    # INFER OOF FOLD K\n",
    "    print('inferring 3of4...')\n",
    "    X_valid = users[FEATURES].iloc[(2*len(users))//4:(3*len(users))//4]\n",
    "    #dvalid = xgb.DMatrix(data=X_valid) \n",
    "    oof_preds = model.predict(X_valid)\n",
    "    oof[(2*len(users))//4:(3*len(users))//4] += oof_preds/FOLDS\n",
    "    del X_valid#, dvalid\n",
    "    gc.collect()\n",
    "    \n",
    "    print('inferring 4of4...')\n",
    "    X_valid = users[FEATURES].iloc[(3*len(users))//4:]\n",
    "    #dvalid = xgb.DMatrix(data=X_valid) \n",
    "    oof_preds = model.predict(X_valid)\n",
    "    oof[(3*len(users))//4:] += oof_preds/FOLDS\n",
    "\n",
    "    del X_valid, model#, dvalid \n",
    "    gc.collect()"
   ]
  },
  {
   "cell_type": "code",
   "execution_count": 29,
   "id": "4a9eddb9",
   "metadata": {},
   "outputs": [
    {
     "name": "stdout",
     "output_type": "stream",
     "text": [
      "CPU times: user 5 µs, sys: 2 µs, total: 7 µs\n",
      "Wall time: 14.8 µs\n"
     ]
    }
   ],
   "source": [
    "%%time\n",
    "if 0:\n",
    "    for c in users.columns[2:]:\n",
    "        print(c,', ',end='')\n",
    "        if str(users[c].dtype)=='float32':\n",
    "            users[c] = users[c].astype('float16')\n",
    "        if str(users[c].dtype)=='int32':\n",
    "            users[c] = users[c].astype('int16')"
   ]
  },
  {
   "cell_type": "code",
   "execution_count": 30,
   "id": "fcbb3ba1",
   "metadata": {
    "scrolled": false
   },
   "outputs": [
    {
     "name": "stdout",
     "output_type": "stream",
     "text": [
      "CPU times: user 227 µs, sys: 95 µs, total: 322 µs\n",
      "Wall time: 273 µs\n"
     ]
    }
   ],
   "source": [
    "%%time\n",
    "oof2 = np.zeros(len(users))\n",
    "\n",
    "if 0:\n",
    "    for fold in range(5):\n",
    "        print('#'*25)\n",
    "        print('### Fold',fold+1)\n",
    "        print('#'*25)\n",
    "\n",
    "        print(f'=> predicting LGB {L_VER}...')\n",
    "        model = lgb.Booster( model_file=f'../../jan-22-23-otto/ranker_models/LGB_fold{fold}_{USE}_v{L_VER}.lgb' )\n",
    "        oof_preds = model.predict(users[FEATURES2])\n",
    "        oof2 += oof_preds/FOLDS\n",
    "\n",
    "        del model\n",
    "        gc.collect()"
   ]
  },
  {
   "cell_type": "markdown",
   "id": "95cad39b",
   "metadata": {},
   "source": [
    "# Load Preds"
   ]
  },
  {
   "cell_type": "code",
   "execution_count": 31,
   "id": "b3aedca5",
   "metadata": {},
   "outputs": [],
   "source": [
    "if 0:\n",
    "    oof = np.load(f'/raid/Kaggle/otto/pred10/pred{X_VER}_v{PART}.npy')\n",
    "    oof2 = np.load(f'/raid/Kaggle/otto/pred10/pred{L_VER}_v{PART}.npy')"
   ]
  },
  {
   "cell_type": "markdown",
   "id": "57ee0cc0",
   "metadata": {},
   "source": [
    "# Make Sub"
   ]
  },
  {
   "cell_type": "code",
   "execution_count": 32,
   "id": "c42e926a",
   "metadata": {},
   "outputs": [
    {
     "name": "stdout",
     "output_type": "stream",
     "text": [
      "(41795000, 3)\n"
     ]
    },
    {
     "data": {
      "text/html": [
       "<div>\n",
       "<style scoped>\n",
       "    .dataframe tbody tr th:only-of-type {\n",
       "        vertical-align: middle;\n",
       "    }\n",
       "\n",
       "    .dataframe tbody tr th {\n",
       "        vertical-align: top;\n",
       "    }\n",
       "\n",
       "    .dataframe thead th {\n",
       "        text-align: right;\n",
       "    }\n",
       "</style>\n",
       "<table border=\"1\" class=\"dataframe\">\n",
       "  <thead>\n",
       "    <tr style=\"text-align: right;\">\n",
       "      <th></th>\n",
       "      <th>user</th>\n",
       "      <th>item</th>\n",
       "      <th>p1</th>\n",
       "    </tr>\n",
       "  </thead>\n",
       "  <tbody>\n",
       "    <tr>\n",
       "      <th>0</th>\n",
       "      <td>12899779</td>\n",
       "      <td>59625</td>\n",
       "      <td>0.828945</td>\n",
       "    </tr>\n",
       "    <tr>\n",
       "      <th>1</th>\n",
       "      <td>12899779</td>\n",
       "      <td>1400007</td>\n",
       "      <td>0.009453</td>\n",
       "    </tr>\n",
       "    <tr>\n",
       "      <th>2</th>\n",
       "      <td>12899779</td>\n",
       "      <td>1628974</td>\n",
       "      <td>0.018735</td>\n",
       "    </tr>\n",
       "    <tr>\n",
       "      <th>3</th>\n",
       "      <td>12899779</td>\n",
       "      <td>1104389</td>\n",
       "      <td>0.009164</td>\n",
       "    </tr>\n",
       "    <tr>\n",
       "      <th>4</th>\n",
       "      <td>12899779</td>\n",
       "      <td>642225</td>\n",
       "      <td>0.023598</td>\n",
       "    </tr>\n",
       "  </tbody>\n",
       "</table>\n",
       "</div>"
      ],
      "text/plain": [
       "       user     item        p1\n",
       "0  12899779    59625  0.828945\n",
       "1  12899779  1400007  0.009453\n",
       "2  12899779  1628974  0.018735\n",
       "3  12899779  1104389  0.009164\n",
       "4  12899779   642225  0.023598"
      ]
     },
     "execution_count": 32,
     "metadata": {},
     "output_type": "execute_result"
    }
   ],
   "source": [
    "sub = users[['user','item']].copy()\n",
    "\n",
    "sub['p1'] = oof\n",
    "#sub['p2'] = oof2\n",
    "\n",
    "print( sub.shape )\n",
    "sub.head()"
   ]
  },
  {
   "cell_type": "code",
   "execution_count": 33,
   "id": "dc1859a8",
   "metadata": {},
   "outputs": [
    {
     "name": "stdout",
     "output_type": "stream",
     "text": [
      "CPU times: user 6 µs, sys: 2 µs, total: 8 µs\n",
      "Wall time: 15.7 µs\n"
     ]
    }
   ],
   "source": [
    "%%time\n",
    "if 0:\n",
    "    sub['p1'] = sub.groupby('user').p1.rank()\n",
    "    #sub['p2'] = sub.groupby('user').p2.rank()"
   ]
  },
  {
   "cell_type": "code",
   "execution_count": 34,
   "id": "62bd5a73",
   "metadata": {},
   "outputs": [
    {
     "name": "stdout",
     "output_type": "stream",
     "text": [
      "(41795000, 4)\n",
      "CPU times: user 41.6 s, sys: 3 s, total: 44.6 s\n",
      "Wall time: 44.6 s\n"
     ]
    },
    {
     "data": {
      "text/html": [
       "<div>\n",
       "<style scoped>\n",
       "    .dataframe tbody tr th:only-of-type {\n",
       "        vertical-align: middle;\n",
       "    }\n",
       "\n",
       "    .dataframe tbody tr th {\n",
       "        vertical-align: top;\n",
       "    }\n",
       "\n",
       "    .dataframe thead th {\n",
       "        text-align: right;\n",
       "    }\n",
       "</style>\n",
       "<table border=\"1\" class=\"dataframe\">\n",
       "  <thead>\n",
       "    <tr style=\"text-align: right;\">\n",
       "      <th></th>\n",
       "      <th>user</th>\n",
       "      <th>item</th>\n",
       "      <th>p1</th>\n",
       "      <th>p</th>\n",
       "    </tr>\n",
       "  </thead>\n",
       "  <tbody>\n",
       "    <tr>\n",
       "      <th>0</th>\n",
       "      <td>12899779</td>\n",
       "      <td>59625</td>\n",
       "      <td>0.828945</td>\n",
       "      <td>0.828945</td>\n",
       "    </tr>\n",
       "    <tr>\n",
       "      <th>76</th>\n",
       "      <td>12899779</td>\n",
       "      <td>737445</td>\n",
       "      <td>0.535822</td>\n",
       "      <td>0.535822</td>\n",
       "    </tr>\n",
       "    <tr>\n",
       "      <th>71</th>\n",
       "      <td>12899779</td>\n",
       "      <td>731692</td>\n",
       "      <td>0.248380</td>\n",
       "      <td>0.248380</td>\n",
       "    </tr>\n",
       "    <tr>\n",
       "      <th>72</th>\n",
       "      <td>12899779</td>\n",
       "      <td>1253524</td>\n",
       "      <td>0.175566</td>\n",
       "      <td>0.175566</td>\n",
       "    </tr>\n",
       "    <tr>\n",
       "      <th>67</th>\n",
       "      <td>12899779</td>\n",
       "      <td>1790770</td>\n",
       "      <td>0.168614</td>\n",
       "      <td>0.168614</td>\n",
       "    </tr>\n",
       "  </tbody>\n",
       "</table>\n",
       "</div>"
      ],
      "text/plain": [
       "        user     item        p1         p\n",
       "0   12899779    59625  0.828945  0.828945\n",
       "76  12899779   737445  0.535822  0.535822\n",
       "71  12899779   731692  0.248380  0.248380\n",
       "72  12899779  1253524  0.175566  0.175566\n",
       "67  12899779  1790770  0.168614  0.168614"
      ]
     },
     "execution_count": 34,
     "metadata": {},
     "output_type": "execute_result"
    }
   ],
   "source": [
    "%%time\n",
    "sub['p'] = sub.p1\n",
    "\n",
    "sub = sub.sort_values(['user','p'],ascending=[True,False])\n",
    "print( sub.shape )\n",
    "sub.head()"
   ]
  },
  {
   "cell_type": "code",
   "execution_count": 35,
   "id": "470b3fef",
   "metadata": {},
   "outputs": [],
   "source": [
    "sub = sub.reset_index(drop=True)"
   ]
  },
  {
   "cell_type": "code",
   "execution_count": 36,
   "id": "283e3720",
   "metadata": {},
   "outputs": [],
   "source": [
    "sub['n'] = sub.groupby('user').item.cumcount().astype('int8')"
   ]
  },
  {
   "cell_type": "code",
   "execution_count": 37,
   "id": "60f76a3f",
   "metadata": {},
   "outputs": [
    {
     "data": {
      "text/html": [
       "<div>\n",
       "<style scoped>\n",
       "    .dataframe tbody tr th:only-of-type {\n",
       "        vertical-align: middle;\n",
       "    }\n",
       "\n",
       "    .dataframe tbody tr th {\n",
       "        vertical-align: top;\n",
       "    }\n",
       "\n",
       "    .dataframe thead th {\n",
       "        text-align: right;\n",
       "    }\n",
       "</style>\n",
       "<table border=\"1\" class=\"dataframe\">\n",
       "  <thead>\n",
       "    <tr style=\"text-align: right;\">\n",
       "      <th></th>\n",
       "      <th>user</th>\n",
       "      <th>item</th>\n",
       "      <th>p1</th>\n",
       "      <th>p</th>\n",
       "      <th>n</th>\n",
       "    </tr>\n",
       "  </thead>\n",
       "  <tbody>\n",
       "    <tr>\n",
       "      <th>0</th>\n",
       "      <td>12899779</td>\n",
       "      <td>59625</td>\n",
       "      <td>0.828945</td>\n",
       "      <td>0.828945</td>\n",
       "      <td>0</td>\n",
       "    </tr>\n",
       "    <tr>\n",
       "      <th>1</th>\n",
       "      <td>12899779</td>\n",
       "      <td>737445</td>\n",
       "      <td>0.535822</td>\n",
       "      <td>0.535822</td>\n",
       "      <td>1</td>\n",
       "    </tr>\n",
       "    <tr>\n",
       "      <th>2</th>\n",
       "      <td>12899779</td>\n",
       "      <td>731692</td>\n",
       "      <td>0.248380</td>\n",
       "      <td>0.248380</td>\n",
       "      <td>2</td>\n",
       "    </tr>\n",
       "    <tr>\n",
       "      <th>3</th>\n",
       "      <td>12899779</td>\n",
       "      <td>1253524</td>\n",
       "      <td>0.175566</td>\n",
       "      <td>0.175566</td>\n",
       "      <td>3</td>\n",
       "    </tr>\n",
       "    <tr>\n",
       "      <th>4</th>\n",
       "      <td>12899779</td>\n",
       "      <td>1790770</td>\n",
       "      <td>0.168614</td>\n",
       "      <td>0.168614</td>\n",
       "      <td>4</td>\n",
       "    </tr>\n",
       "  </tbody>\n",
       "</table>\n",
       "</div>"
      ],
      "text/plain": [
       "       user     item        p1         p  n\n",
       "0  12899779    59625  0.828945  0.828945  0\n",
       "1  12899779   737445  0.535822  0.535822  1\n",
       "2  12899779   731692  0.248380  0.248380  2\n",
       "3  12899779  1253524  0.175566  0.175566  3\n",
       "4  12899779  1790770  0.168614  0.168614  4"
      ]
     },
     "execution_count": 37,
     "metadata": {},
     "output_type": "execute_result"
    }
   ],
   "source": [
    "sub.head()"
   ]
  },
  {
   "cell_type": "code",
   "execution_count": 38,
   "id": "555d9993",
   "metadata": {},
   "outputs": [
    {
     "name": "stdout",
     "output_type": "stream",
     "text": [
      "(8359000, 5)\n"
     ]
    }
   ],
   "source": [
    "sub = sub.loc[sub.n<20]\n",
    "print( sub.shape )"
   ]
  },
  {
   "cell_type": "code",
   "execution_count": 39,
   "id": "877d68ed",
   "metadata": {},
   "outputs": [
    {
     "name": "stdout",
     "output_type": "stream",
     "text": [
      "CPU times: user 7.12 s, sys: 193 ms, total: 7.31 s\n",
      "Wall time: 7.3 s\n"
     ]
    }
   ],
   "source": [
    "%%time\n",
    "sub2 = sub.groupby('user').item.apply(list)"
   ]
  },
  {
   "cell_type": "code",
   "execution_count": 40,
   "id": "7a2e3a17",
   "metadata": {},
   "outputs": [],
   "source": [
    "sub2 = sub2.to_frame().reset_index()"
   ]
  },
  {
   "cell_type": "code",
   "execution_count": 41,
   "id": "c658180d",
   "metadata": {},
   "outputs": [
    {
     "name": "stdout",
     "output_type": "stream",
     "text": [
      "CPU times: user 1.59 s, sys: 64.8 ms, total: 1.65 s\n",
      "Wall time: 1.65 s\n"
     ]
    }
   ],
   "source": [
    "%%time\n",
    "sub2.item = sub2.item.apply(lambda x: \" \".join(map(str,x)))"
   ]
  },
  {
   "cell_type": "code",
   "execution_count": 42,
   "id": "39c99346",
   "metadata": {},
   "outputs": [],
   "source": [
    "sub2.columns = ['session_type','labels']"
   ]
  },
  {
   "cell_type": "code",
   "execution_count": 43,
   "id": "f9842e6c",
   "metadata": {},
   "outputs": [],
   "source": [
    "sub2.session_type = sub2.session_type.astype('str')+ f'_{USE}'"
   ]
  },
  {
   "cell_type": "code",
   "execution_count": 44,
   "id": "e3e6d064",
   "metadata": {},
   "outputs": [
    {
     "data": {
      "text/html": [
       "<div>\n",
       "<style scoped>\n",
       "    .dataframe tbody tr th:only-of-type {\n",
       "        vertical-align: middle;\n",
       "    }\n",
       "\n",
       "    .dataframe tbody tr th {\n",
       "        vertical-align: top;\n",
       "    }\n",
       "\n",
       "    .dataframe thead th {\n",
       "        text-align: right;\n",
       "    }\n",
       "</style>\n",
       "<table border=\"1\" class=\"dataframe\">\n",
       "  <thead>\n",
       "    <tr style=\"text-align: right;\">\n",
       "      <th></th>\n",
       "      <th>session_type</th>\n",
       "      <th>labels</th>\n",
       "    </tr>\n",
       "  </thead>\n",
       "  <tbody>\n",
       "    <tr>\n",
       "      <th>0</th>\n",
       "      <td>12899779_clicks</td>\n",
       "      <td>59625 737445 731692 1253524 1790770 475447 134...</td>\n",
       "    </tr>\n",
       "    <tr>\n",
       "      <th>1</th>\n",
       "      <td>12899780_clicks</td>\n",
       "      <td>1142000 736515 582732 1502122 889686 487136 97...</td>\n",
       "    </tr>\n",
       "    <tr>\n",
       "      <th>2</th>\n",
       "      <td>12899781_clicks</td>\n",
       "      <td>199008 918667 1836671 528496 1681537 1422724 1...</td>\n",
       "    </tr>\n",
       "    <tr>\n",
       "      <th>3</th>\n",
       "      <td>12899782_clicks</td>\n",
       "      <td>1007613 834354 595994 1669402 740494 1033148 3...</td>\n",
       "    </tr>\n",
       "    <tr>\n",
       "      <th>4</th>\n",
       "      <td>12899783_clicks</td>\n",
       "      <td>1817895 408787 1476106 1811433 58861 573058 60...</td>\n",
       "    </tr>\n",
       "  </tbody>\n",
       "</table>\n",
       "</div>"
      ],
      "text/plain": [
       "      session_type                                             labels\n",
       "0  12899779_clicks  59625 737445 731692 1253524 1790770 475447 134...\n",
       "1  12899780_clicks  1142000 736515 582732 1502122 889686 487136 97...\n",
       "2  12899781_clicks  199008 918667 1836671 528496 1681537 1422724 1...\n",
       "3  12899782_clicks  1007613 834354 595994 1669402 740494 1033148 3...\n",
       "4  12899783_clicks  1817895 408787 1476106 1811433 58861 573058 60..."
      ]
     },
     "execution_count": 44,
     "metadata": {},
     "output_type": "execute_result"
    }
   ],
   "source": [
    "sub2.head()"
   ]
  },
  {
   "cell_type": "code",
   "execution_count": 45,
   "id": "fa54573d",
   "metadata": {},
   "outputs": [],
   "source": [
    "sub2.to_csv(f'../../data/submission_parts/submission_{USE}_v{PART}.csv',index=False)"
   ]
  },
  {
   "cell_type": "code",
   "execution_count": 46,
   "id": "b002d63e",
   "metadata": {},
   "outputs": [],
   "source": [
    "#np.save(f'/raid/Kaggle/otto/pred15/pred{X_VER}_v{PART}',oof)\n",
    "#np.save(f'/raid/Kaggle/otto/pred15/pred{L_VER}_v{PART}',oof2)"
   ]
  },
  {
   "cell_type": "code",
   "execution_count": 47,
   "id": "1ce286b6",
   "metadata": {},
   "outputs": [
    {
     "data": {
      "text/html": [
       "<div>\n",
       "<style scoped>\n",
       "    .dataframe tbody tr th:only-of-type {\n",
       "        vertical-align: middle;\n",
       "    }\n",
       "\n",
       "    .dataframe tbody tr th {\n",
       "        vertical-align: top;\n",
       "    }\n",
       "\n",
       "    .dataframe thead th {\n",
       "        text-align: right;\n",
       "    }\n",
       "</style>\n",
       "<table border=\"1\" class=\"dataframe\">\n",
       "  <thead>\n",
       "    <tr style=\"text-align: right;\">\n",
       "      <th></th>\n",
       "      <th>session_type</th>\n",
       "      <th>labels</th>\n",
       "    </tr>\n",
       "  </thead>\n",
       "  <tbody>\n",
       "    <tr>\n",
       "      <th>0</th>\n",
       "      <td>12899779_clicks</td>\n",
       "      <td>59625 737445 731692 1253524 1790770 475447 134...</td>\n",
       "    </tr>\n",
       "    <tr>\n",
       "      <th>1</th>\n",
       "      <td>12899780_clicks</td>\n",
       "      <td>1142000 736515 582732 1502122 889686 487136 97...</td>\n",
       "    </tr>\n",
       "    <tr>\n",
       "      <th>2</th>\n",
       "      <td>12899781_clicks</td>\n",
       "      <td>199008 918667 1836671 528496 1681537 1422724 1...</td>\n",
       "    </tr>\n",
       "    <tr>\n",
       "      <th>3</th>\n",
       "      <td>12899782_clicks</td>\n",
       "      <td>1007613 834354 595994 1669402 740494 1033148 3...</td>\n",
       "    </tr>\n",
       "    <tr>\n",
       "      <th>4</th>\n",
       "      <td>12899783_clicks</td>\n",
       "      <td>1817895 408787 1476106 1811433 58861 573058 60...</td>\n",
       "    </tr>\n",
       "  </tbody>\n",
       "</table>\n",
       "</div>"
      ],
      "text/plain": [
       "      session_type                                             labels\n",
       "0  12899779_clicks  59625 737445 731692 1253524 1790770 475447 134...\n",
       "1  12899780_clicks  1142000 736515 582732 1502122 889686 487136 97...\n",
       "2  12899781_clicks  199008 918667 1836671 528496 1681537 1422724 1...\n",
       "3  12899782_clicks  1007613 834354 595994 1669402 740494 1033148 3...\n",
       "4  12899783_clicks  1817895 408787 1476106 1811433 58861 573058 60..."
      ]
     },
     "execution_count": 47,
     "metadata": {},
     "output_type": "execute_result"
    }
   ],
   "source": [
    "sub2.head()"
   ]
  }
 ],
 "metadata": {
  "kernelspec": {
   "display_name": "Python 3 (ipykernel)",
   "language": "python",
   "name": "python3"
  },
  "language_info": {
   "codemirror_mode": {
    "name": "ipython",
    "version": 3
   },
   "file_extension": ".py",
   "mimetype": "text/x-python",
   "name": "python",
   "nbconvert_exporter": "python",
   "pygments_lexer": "ipython3",
   "version": "3.8.13"
  }
 },
 "nbformat": 4,
 "nbformat_minor": 5
}
