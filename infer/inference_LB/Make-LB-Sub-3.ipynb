{
 "cells": [
  {
   "cell_type": "code",
   "execution_count": null,
   "id": "2d6d803d",
   "metadata": {},
   "outputs": [],
   "source": [
    "import pandas as pd, numpy as np"
   ]
  },
  {
   "cell_type": "code",
   "execution_count": null,
   "id": "1ac21848",
   "metadata": {},
   "outputs": [],
   "source": [
    "PATH = '../../data/submission_parts/'"
   ]
  },
  {
   "cell_type": "code",
   "execution_count": null,
   "id": "9cf24dc4",
   "metadata": {},
   "outputs": [],
   "source": [
    "dfs = []\n",
    "ff = [f'submission_orders_v{x}.csv' for x in range(4)]\n",
    "ff += [f'submission_carts_v{x}.csv' for x in range(4)]\n",
    "ff += [f'submission_clicks_v{x}.csv' for x in range(4)]\n",
    "for f in ff:\n",
    "    dfs.append( pd.read_csv(PATH+f) )\n",
    "            \n",
    "dfs = pd.concat(dfs)\n",
    "print(dfs.shape)\n",
    "dfs.head()\n",
    "# (5015409, 2)"
   ]
  },
  {
   "cell_type": "code",
   "execution_count": null,
   "id": "0d910e60",
   "metadata": {},
   "outputs": [],
   "source": [
    "dfs = dfs.sort_values('session_type').reset_index(drop=True)\n",
    "print( dfs.shape )\n",
    "dfs.head()\n",
    "# (5015409, 2)"
   ]
  },
  {
   "cell_type": "code",
   "execution_count": null,
   "id": "8b96e3fc",
   "metadata": {},
   "outputs": [],
   "source": [
    "dfs.to_csv('../../data/submission_final/submission_chris_v186v406v412.csv',index=False)"
   ]
  },
  {
   "cell_type": "code",
   "execution_count": null,
   "id": "c9f6f772",
   "metadata": {},
   "outputs": [],
   "source": [
    "dfs.session_type.nunique()"
   ]
  }
 ],
 "metadata": {
  "kernelspec": {
   "display_name": "Python 3 (ipykernel)",
   "language": "python",
   "name": "python3"
  },
  "language_info": {
   "codemirror_mode": {
    "name": "ipython",
    "version": 3
   },
   "file_extension": ".py",
   "mimetype": "text/x-python",
   "name": "python",
   "nbconvert_exporter": "python",
   "pygments_lexer": "ipython3",
   "version": "3.8.13"
  }
 },
 "nbformat": 4,
 "nbformat_minor": 5
}
