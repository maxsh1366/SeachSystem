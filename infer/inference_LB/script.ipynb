{
 "cells": [
  {
   "cell_type": "code",
   "execution_count": null,
   "id": "19432975",
   "metadata": {},
   "outputs": [],
   "source": []
  },
  {
   "cell_type": "code",
   "execution_count": null,
   "id": "ef1df490",
   "metadata": {},
   "outputs": [],
   "source": [
    "%reset -f\n",
    "%run LB-1.ipynb"
   ]
  },
  {
   "cell_type": "code",
   "execution_count": null,
   "id": "d9910d4e",
   "metadata": {
    "scrolled": true
   },
   "outputs": [],
   "source": [
    "%reset -f\n",
    "%run LB-1-Copy1.ipynb"
   ]
  },
  {
   "cell_type": "code",
   "execution_count": null,
   "id": "0fc6dab5",
   "metadata": {
    "scrolled": true
   },
   "outputs": [],
   "source": [
    "%reset -f\n",
    "%run LB-1-Copy2.ipynb"
   ]
  },
  {
   "cell_type": "code",
   "execution_count": null,
   "id": "8252b984",
   "metadata": {
    "scrolled": true
   },
   "outputs": [],
   "source": [
    "%reset -f\n",
    "%run LB-1-Copy3.ipynb"
   ]
  },
  {
   "cell_type": "code",
   "execution_count": null,
   "id": "a21831bb",
   "metadata": {},
   "outputs": [],
   "source": []
  },
  {
   "cell_type": "code",
   "execution_count": null,
   "id": "3f4fa921",
   "metadata": {},
   "outputs": [],
   "source": [
    "%reset -f\n",
    "%run LB-11.ipynb"
   ]
  },
  {
   "cell_type": "code",
   "execution_count": null,
   "id": "c3bddfda",
   "metadata": {},
   "outputs": [],
   "source": [
    "%reset -f\n",
    "%run LB-11-Copy1.ipynb"
   ]
  },
  {
   "cell_type": "code",
   "execution_count": null,
   "id": "dbdd93ed",
   "metadata": {},
   "outputs": [],
   "source": [
    "%reset -f\n",
    "%run LB-11-Copy2.ipynb"
   ]
  },
  {
   "cell_type": "code",
   "execution_count": null,
   "id": "62ea395e",
   "metadata": {},
   "outputs": [],
   "source": [
    "%reset -f\n",
    "%run LB-11-Copy3.ipynb"
   ]
  },
  {
   "cell_type": "code",
   "execution_count": null,
   "id": "48fb0994",
   "metadata": {},
   "outputs": [],
   "source": []
  },
  {
   "cell_type": "code",
   "execution_count": null,
   "id": "67cf680a",
   "metadata": {},
   "outputs": [],
   "source": [
    "%reset -f\n",
    "%run LB-21.ipynb"
   ]
  },
  {
   "cell_type": "code",
   "execution_count": null,
   "id": "235e3bde",
   "metadata": {},
   "outputs": [],
   "source": [
    "%reset -f\n",
    "%run LB-21-Copy1.ipynb"
   ]
  },
  {
   "cell_type": "code",
   "execution_count": null,
   "id": "799b1d8f",
   "metadata": {},
   "outputs": [],
   "source": [
    "%reset -f\n",
    "%run LB-21-Copy2.ipynb"
   ]
  },
  {
   "cell_type": "code",
   "execution_count": null,
   "id": "6797053b",
   "metadata": {},
   "outputs": [],
   "source": [
    "%reset -f\n",
    "%run LB-21-Copy3.ipynb"
   ]
  },
  {
   "cell_type": "code",
   "execution_count": null,
   "id": "d3b2215f",
   "metadata": {},
   "outputs": [],
   "source": []
  },
  {
   "cell_type": "code",
   "execution_count": null,
   "id": "c3eb6058",
   "metadata": {},
   "outputs": [],
   "source": [
    "%reset -f\n",
    "%run Make-LB-Sub-3.ipynb"
   ]
  },
  {
   "cell_type": "code",
   "execution_count": null,
   "id": "a69618fc",
   "metadata": {},
   "outputs": [],
   "source": []
  }
 ],
 "metadata": {
  "kernelspec": {
   "display_name": "Python 3 (ipykernel)",
   "language": "python",
   "name": "python3"
  },
  "language_info": {
   "codemirror_mode": {
    "name": "ipython",
    "version": 3
   },
   "file_extension": ".py",
   "mimetype": "text/x-python",
   "name": "python",
   "nbconvert_exporter": "python",
   "pygments_lexer": "ipython3",
   "version": "3.8.13"
  }
 },
 "nbformat": 4,
 "nbformat_minor": 5
}
