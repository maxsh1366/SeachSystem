{
 "cells": [
  {
   "cell_type": "markdown",
   "id": "403d7742",
   "metadata": {
    "papermill": {
     "duration": 0.005829,
     "end_time": "2022-11-03T16:49:27.399833",
     "exception": false,
     "start_time": "2022-11-03T16:49:27.394004",
     "status": "completed"
    },
    "tags": []
   },
   "source": [
    "# OTTO: Co-visitation Matrix\n",
    "\n",
    "There exist products that are frequently viewed and bought together. Here we leverage this idea by computing a co-visitation matrix of products. It's done in the following way:\n",
    "\n",
    "1. First we look at all pairs of events within the same session that are close to each other in time (< 1 day). We compute co-visitation matrix $M_{aid1,aid2}$ by counting global number of event pairs for each pair across all sessions.\n",
    "2. For each $aid1$ we find top 20 most frequent aid2:  `aid2=argsort(M[aid])[-20:]`\n",
    "3. We produce test results by concatenating `tail(20)` of test session events (see https://www.kaggle.com/code/simamumu/old-test-data-last-20-aid-get-lb0-947) with the most likely recommendations from co-visitation matrix. These recommendations are generated from session AIDs and `aid2` from the step 2\n",
    "\n",
    "\n",
    "**Please, smash that thumbs up button and subscribe if you like this notebook!**"
   ]
  },
  {
   "cell_type": "markdown",
   "id": "a3347d85",
   "metadata": {
    "papermill": {
     "duration": 0.003667,
     "end_time": "2022-11-03T16:49:27.407651",
     "exception": false,
     "start_time": "2022-11-03T16:49:27.403984",
     "status": "completed"
    },
    "tags": []
   },
   "source": [
    "## Utils, imports"
   ]
  },
  {
   "cell_type": "code",
   "execution_count": 1,
   "id": "1983ae84",
   "metadata": {},
   "outputs": [],
   "source": [
    "VER = '620'\n",
    "POSTFIX = '_LB'\n",
    "\n",
    "OFFSET = ''\n",
    "\n",
    "ITEM_CT2 = 50\n",
    "ITEM_CT = 50"
   ]
  },
  {
   "cell_type": "code",
   "execution_count": 2,
   "id": "aa81e9ef",
   "metadata": {
    "execution": {
     "iopub.execute_input": "2022-11-03T16:49:27.417898Z",
     "iopub.status.busy": "2022-11-03T16:49:27.417269Z",
     "iopub.status.idle": "2022-11-03T16:49:27.535479Z",
     "shell.execute_reply": "2022-11-03T16:49:27.534395Z"
    },
    "papermill": {
     "duration": 0.126841,
     "end_time": "2022-11-03T16:49:27.538248",
     "exception": false,
     "start_time": "2022-11-03T16:49:27.411407",
     "status": "completed"
    },
    "tags": []
   },
   "outputs": [],
   "source": [
    "### import numpy as np\n",
    "from collections import defaultdict\n",
    "import pandas as pd\n",
    "from tqdm.notebook import tqdm\n",
    "import glob\n",
    "import numpy as np, gc\n",
    "import multiprocessing\n",
    "import os\n",
    "import pickle\n",
    "\n",
    "import glob\n",
    "from collections import Counter"
   ]
  },
  {
   "cell_type": "markdown",
   "id": "e7d8e7d0",
   "metadata": {
    "papermill": {
     "duration": 0.006685,
     "end_time": "2022-11-03T16:50:19.618761",
     "exception": false,
     "start_time": "2022-11-03T16:50:19.612076",
     "status": "completed"
    },
    "tags": []
   },
   "source": [
    "## Test set inference"
   ]
  },
  {
   "cell_type": "code",
   "execution_count": 8,
   "id": "7c308b08",
   "metadata": {},
   "outputs": [],
   "source": [
    "# COMPUTED FROM TEST DATA\n",
    "top_orders = [ 986164, 1460571,  329725, 1043508,  332654,  688602,   29735,\n",
    "       1495817,  579690, 1022566, 1006198,  471073,  832192,  544144,\n",
    "       1825743,  836852,  147526, 1236775,  166037, 1030009, 1609228,\n",
    "        508883,  923948, 1462420,  892871,  554660, 1457846,  258353,\n",
    "       1734475,  480314,  145332,  108125, 1286213, 1336175, 1359971,\n",
    "        137514,  714524,  558573,  172856,  585186,  352192, 1176975,\n",
    "       1146575,  954951, 1496287,  823143, 1699089,   25964, 1257293,\n",
    "        399315, 1441266, 1196256, 1294924, 1603001, 1274545,  414968,\n",
    "       1581568,  247240, 1116095,  383437,  530377,  272744, 1445562,\n",
    "        269257,  791627, 1140985, 1708326,  631899,  670066,  122983,\n",
    "        223273,  165160,  881286, 1768724,  868327, 1604220,  406358,\n",
    "       1722991, 1568011, 1025795, 1647563,  835431, 1531805,  714968,\n",
    "        500609, 1217083, 1668343, 1159757, 1610239, 1647157, 1264313,\n",
    "       1798916,  423558,  752652,  184976, 1255910, 1413049,  801774,\n",
    "        615566, 1034578]\n",
    "top_carts = [ 485256,   33343, 1460571,  986164,  554660,  660655, 1116095,\n",
    "        152547, 1022566,  544144,  832192,  579690,  329725, 1043508,\n",
    "       1006198,  558573,  471073,  332654,  688602,   29735,  508883,\n",
    "        258353, 1736857, 1462420,  166037, 1609228, 1778843,  108125,\n",
    "       1495817, 1604220, 1825743, 1562705,  147526,  836852, 1286213,\n",
    "         25964, 1236775,  923948, 1281615, 1257293,  917587,  835431,\n",
    "       1439409,  892871,  125957,  122983, 1097061, 1449873, 1568011,\n",
    "       1030727, 1146575, 1731920,  326904, 1196256,  714524, 1768724,\n",
    "        480314, 1800674, 1662401, 1359971,  455191,  496180,  145332,\n",
    "        616283, 1708326, 1294924, 1270528,  944778, 1223508,  881286,\n",
    "        165160,  272744,  670066,  868327, 1734475,  137514,  172856,\n",
    "       1122221,  442293, 1685214,  823143, 1413049, 1722991, 1647157,\n",
    "        406358, 1733943,  700995, 1025795,  754412,  530377,  102416,\n",
    "        184976, 1445562, 1565495, 1019736, 1274545, 1083665,  667563,\n",
    "       1264313,  563117]\n",
    "top_clicks = [1460571,  485256,  108125,  986164, 1551213,  754412,  554660,\n",
    "        832192,  579690,   33343, 1006198,  688602,   29735,  329725,\n",
    "        184976, 1019736,  496180,  861401,  944778,  659399, 1043508,\n",
    "       1022566,  811371, 1604220,  836852,  471073,  819288, 1264313,\n",
    "        508883, 1751274,  620545,  959208,  717965,  332654, 1731920,\n",
    "        544144,  147526, 1116095, 1294924,  102345, 1645990, 1497089,\n",
    "        558573,   95488, 1196256,  199409, 1110150, 1146575, 1236775,\n",
    "        137514, 1030009,  435253, 1800674,  881286, 1609228, 1286213,\n",
    "        337471,  670066,  831165, 1685214, 1673641,  909449, 1260564,\n",
    "       1099100,  995962,  612920, 1647563, 1462420, 1741695, 1281615,\n",
    "       1603001, 1722991,  442293,  206735, 1219503,  166037,  799923,\n",
    "       1469891,  557072, 1156699,  111891, 1624436, 1782099, 1639229,\n",
    "        530377, 1197632, 1140985,  152547,  247240, 1449873, 1825743,\n",
    "        901817, 1420240, 1733943,  542343,  680375,  406358,  147278,\n",
    "       1627951,  836707]"
   ]
  },
  {
   "cell_type": "code",
   "execution_count": 10,
   "id": "3dbbd7d2",
   "metadata": {},
   "outputs": [
    {
     "name": "stdout",
     "output_type": "stream",
     "text": [
      "CPU times: user 5min 29s, sys: 13.2 s, total: 5min 43s\n",
      "Wall time: 5min 42s\n"
     ]
    }
   ],
   "source": [
    "%%time\n",
    "\n",
    "top_20 = pickle.load(open('../../data/covisit_matrices/top_40_aids_v104.pkl', 'rb')) #23\n",
    "for k,v in top_20.items():\n",
    "    top_20[k] = [np.int32(x) for x in v[:80]]\n",
    "\n",
    "top_20b = pickle.load(open('../../data/covisit_matrices/top_40_aids_v23.pkl', 'rb')) #23\n",
    "for k,v in top_20b.items():\n",
    "    top_20b[k] = [np.int32(x) for x in v[:30]]\n",
    "top_20c = pickle.load(open('../../data/covisit_matrices/top_80_aids_v24.pkl', 'rb')) #55\n",
    "for k,v in top_20c.items():\n",
    "    top_20c[k] = [np.int32(x) for x in v[:55]]\n",
    "top_20d = pickle.load(open('../../data/covisit_matrices/top_30_aids_v28.pkl', 'rb')) #20\n",
    "for k,v in top_20d.items():\n",
    "    top_20d[k] = [np.int32(x) for x in v[:20]]\n",
    "    \n",
    "top_20e = pickle.load(open('../../data/covisit_matrices/top_80_aids_v130.pkl', 'rb')) #55 #UPGRADED\n",
    "for k,v in top_20e.items():\n",
    "    top_20e[k] = [np.int32(x) for x in v[:55]]\n",
    "    \n",
    "top_20f = pickle.load(open('../../data/covisit_matrices/top_80_aids_v132.pkl', 'rb')) #10 #NEW\n",
    "for k,v in top_20f.items():\n",
    "    top_20f[k] = [np.int32(x) for x in v[:20]]\n",
    "    \n",
    "top_20_test2 = pickle.load(open('../../data/covisit_matrices/top_40_aids_v34.pkl', 'rb')) #23\n",
    "for k,v in top_20_test2.items():\n",
    "    top_20_test2[k] = [np.int32(x) for x in v[:40]]"
   ]
  },
  {
   "cell_type": "code",
   "execution_count": 12,
   "id": "dc7254d4",
   "metadata": {},
   "outputs": [],
   "source": [
    "%%time\n",
    "top_20_new2 = pickle.load(open('../../data/covisit_matrices/top_40_aids_v801_0.pkl', 'rb'))\n",
    "for k,v in top_20_new2.items():\n",
    "    top_20_new2[k] = [np.int32(x) for x in v[:30]]"
   ]
  },
  {
   "cell_type": "code",
   "execution_count": null,
   "id": "ad5b97d0",
   "metadata": {},
   "outputs": [],
   "source": []
  },
  {
   "cell_type": "code",
   "execution_count": 14,
   "id": "6d13651e",
   "metadata": {},
   "outputs": [
    {
     "data": {
      "text/plain": [
       "1837262"
      ]
     },
     "execution_count": 14,
     "metadata": {},
     "output_type": "execute_result"
    }
   ],
   "source": [
    "len( top_20)"
   ]
  },
  {
   "cell_type": "code",
   "execution_count": 15,
   "id": "b5c27d8c",
   "metadata": {
    "execution": {
     "iopub.execute_input": "2022-11-03T16:50:23.017400Z",
     "iopub.status.busy": "2022-11-03T16:50:23.016737Z",
     "iopub.status.idle": "2022-11-03T16:50:23.024104Z",
     "shell.execute_reply": "2022-11-03T16:50:23.022920Z"
    },
    "papermill": {
     "duration": 0.019192,
     "end_time": "2022-11-03T16:50:23.026501",
     "exception": false,
     "start_time": "2022-11-03T16:50:23.007309",
     "status": "completed"
    },
    "tags": []
   },
   "outputs": [],
   "source": [
    "import itertools\n",
    "\n",
    "type_weight_multipliers = {0: 1, 1: 6, 2: 3}\n",
    "\n",
    "def suggest_aids(df):\n",
    "    \n",
    "    #aids=df.aid.tolist()\n",
    "    #types = df.type.tolist()\n",
    "    session = df[0]\n",
    "    aids = df[1]\n",
    "    types = df[2]\n",
    "    ds = df[4]\n",
    "    ds2 = df[6]\n",
    "    \n",
    "    unique_aids = list(dict.fromkeys(aids[::-1] ))\n",
    "    \n",
    "    #df2 = df.sort_values('ts',ascending=False).drop_duplicates('d')\n",
    "    #aids2 = df2.aid.tolist()\n",
    "    #unique_aids3 = list(dict.fromkeys(aids2[::-1] )) #last of each session\n",
    "    unique_aids3 = list(dict.fromkeys( [f for i, f in enumerate(aids) if ds2[i] == 1][::-1] ))\n",
    "    \n",
    "    #mx = df.d.max()\n",
    "    #aids2 = df.loc[df.d==mx].aid.tolist()\n",
    "    #unique_aids4 = list(dict.fromkeys(aids2[::-1] ))\n",
    "    mx = np.max(ds)\n",
    "    unique_aids4 = list(dict.fromkeys( [f for i, f in enumerate(aids) if ds[i] == mx][::-1] ))\n",
    "     \n",
    "    #df = df.loc[ df['type'].isin([1,2]) ]\n",
    "    #unique_buys = list(dict.fromkeys( df.aid.tolist()[::-1] ))\n",
    "    unique_buys = list(dict.fromkeys( [f for i, f in enumerate(aids) if types[i] in [1, 2]][::-1] ))\n",
    "    \n",
    "    ln = len(unique_aids)\n",
    " \n",
    "    if len(unique_aids)>=15:\n",
    "        weights=np.logspace(0.1,1,len(aids),base=2, endpoint=True)-1\n",
    "        aids_temp = Counter() \n",
    "        for aid,w,t in zip(aids,weights,types): \n",
    "            aids_temp[aid] += w * type_weight_multipliers[t]\n",
    "        aids3 = list(itertools.chain(*[top_20c[aid][:20] for aid in unique_aids[:2] if aid in top_20c]))\n",
    "        for i,aid in enumerate(aids3):\n",
    "            aids_temp[aid] += 0.6\n",
    "        aids3 = list(itertools.chain(*[top_20b[aid][:15] for aid in unique_aids3 if aid in top_20b]))\n",
    "        for i,aid in enumerate(aids3):\n",
    "            aids_temp[aid] += 0.3\n",
    "        aids3 = list(itertools.chain(*[top_20_test2[aid][:20] for aid in unique_aids[:2] if aid in top_20_test2]))\n",
    "        for i,aid in enumerate(aids3):\n",
    "            aids_temp[aid] += 0.6\n",
    "                \n",
    "        result = [k for k,v in aids_temp.most_common(ITEM_CT2) if k not in unique_aids]\n",
    "        return session,(result + top_clicks[:ITEM_CT2-len(result)])[:ITEM_CT2]\n",
    "    \n",
    "    aids_temp = Counter() \n",
    "    \n",
    "    weights3 = [2,2] + [1]*28 \n",
    "    if len(unique_aids)==1:\n",
    "        aids5 = list(itertools.chain(*[top_20_new2[aid][:30] for aid in unique_aids[-1:] if aid in top_20_new2]))\n",
    "        w5 = weights3* int(len(aids5)//30)\n",
    "        for aid,w in zip(aids5,w5):\n",
    "            aids_temp[aid] += w\n",
    "    \n",
    "    aids2 = list(itertools.chain(*[top_20[aid][:20] for aid in unique_aids if aid in top_20]))\n",
    "    for i,aid in enumerate(aids2):\n",
    "        m = 0.1 + 0.9*(ln-(i//(20)))/ln\n",
    "        aids_temp[aid] += m\n",
    "        if i%(20)==0: aids_temp[aid] += m\n",
    "            \n",
    "    aids3 = list(itertools.chain(*[top_20b[aid][:20] for aid in unique_aids[:2] if aid in top_20b]))\n",
    "    for i,aid in enumerate(aids3):\n",
    "        aids_temp[aid] += 1\n",
    "        if i%(20)==0: aids_temp[aid] += 1\n",
    "            \n",
    "    aids3 = list(itertools.chain(*[top_20_test2[aid][:20] for aid in unique_aids[:2] if aid in top_20_test2]))\n",
    "    for i,aid in enumerate(aids3):\n",
    "        aids_temp[aid] += 1\n",
    "        if i%(20)==0: aids_temp[aid] += 1\n",
    "            \n",
    "    aids4 = list(itertools.chain(*[top_20f[aid][:10] for aid in unique_aids4 if aid in top_20f]))\n",
    "    for i,aid in enumerate(aids4):\n",
    "        w = i//(10)\n",
    "        aids_temp[aid] += 1 -w*0.1\n",
    "        if i%(10)==0: aids_temp[aid] += 1 -w*0.1\n",
    "            \n",
    "    aids5 = list(itertools.chain(*[top_20e[aid][:20] for aid in unique_aids3 if aid in top_20e]))\n",
    "    for i,aid in enumerate(aids5):\n",
    "        aids_temp[aid] += 1\n",
    "        if i%(20)==0: aids_temp[aid] += 1\n",
    "    top_aids2 = [k for k,v in aids_temp.most_common(1) if k not in unique_aids]\n",
    "    \n",
    "    aids3 = list(itertools.chain(*[top_20c[aid][:10] for aid in top_aids2 if aid in top_20c]))\n",
    "    for i,aid in enumerate(aids3):\n",
    "        aids_temp[aid] += 1\n",
    "        if i%(10)==0: aids_temp[aid] += 1\n",
    "    top_aids2 = [k for k,v in aids_temp.most_common(ITEM_CT2) if k not in unique_aids]\n",
    "    \n",
    "    result = top_aids2\n",
    "    return session,(result + top_clicks[:ITEM_CT2-len(result)])[:ITEM_CT2]"
   ]
  },
  {
   "cell_type": "code",
   "execution_count": null,
   "id": "6f99212c",
   "metadata": {},
   "outputs": [],
   "source": []
  },
  {
   "cell_type": "code",
   "execution_count": 16,
   "id": "57631f95",
   "metadata": {},
   "outputs": [
    {
     "name": "stdout",
     "output_type": "stream",
     "text": [
      "N Cores : 40\n"
     ]
    }
   ],
   "source": [
    "import psutil\n",
    "N_CORES = psutil.cpu_count()     \n",
    "print(f\"N Cores : {N_CORES}\")\n",
    "from multiprocessing import Pool"
   ]
  },
  {
   "cell_type": "code",
   "execution_count": 17,
   "id": "4aec5d1e",
   "metadata": {},
   "outputs": [],
   "source": [
    "N_CORES = 20\n",
    "def df_parallelize_run(func, t_split):\n",
    "    \n",
    "    num_cores = np.min([N_CORES, len(t_split)])\n",
    "    pool = Pool(num_cores)\n",
    "    df = pool.map(func, t_split)\n",
    "    pool.close()\n",
    "    pool.join()\n",
    "    \n",
    "    return df"
   ]
  },
  {
   "cell_type": "code",
   "execution_count": 18,
   "id": "cd0ff182",
   "metadata": {},
   "outputs": [
    {
     "name": "stdout",
     "output_type": "stream",
     "text": [
      "1671803\n",
      "CPU times: user 47.2 s, sys: 67.8 ms, total: 47.3 s\n",
      "Wall time: 47.2 s\n"
     ]
    }
   ],
   "source": [
    "%%time\n",
    "PIECES = 10\n",
    "valid_bysession_list = []\n",
    "for PART in range(PIECES):\n",
    "    with open(f'../../data/infer_data/lists/test_group_tolist_{PART}_1.pkl', 'rb') as f:\n",
    "        valid_bysession_list.extend(pickle.load(f))\n",
    "print(len(valid_bysession_list))"
   ]
  },
  {
   "cell_type": "code",
   "execution_count": null,
   "id": "bb66f6af",
   "metadata": {},
   "outputs": [],
   "source": []
  },
  {
   "cell_type": "code",
   "execution_count": 19,
   "id": "e4cd2ba9",
   "metadata": {},
   "outputs": [
    {
     "name": "stdout",
     "output_type": "stream",
     "text": [
      "CPU times: user 56.3 s, sys: 14.8 s, total: 1min 11s\n",
      "Wall time: 1min 26s\n"
     ]
    }
   ],
   "source": [
    "%%time\n",
    "temp = df_parallelize_run(suggest_aids, valid_bysession_list)\n",
    "val_clicks = pd.Series([f[1]  for f in temp], index=[f[0] for f in temp])"
   ]
  },
  {
   "cell_type": "code",
   "execution_count": 20,
   "id": "1b1e4eb7",
   "metadata": {},
   "outputs": [
    {
     "name": "stdout",
     "output_type": "stream",
     "text": [
      "CPU times: user 1.37 s, sys: 8.07 ms, total: 1.38 s\n",
      "Wall time: 1.37 s\n"
     ]
    }
   ],
   "source": [
    "%%time\n",
    "click_df = val_clicks.to_dict()"
   ]
  },
  {
   "cell_type": "code",
   "execution_count": 21,
   "id": "cede38ae",
   "metadata": {},
   "outputs": [],
   "source": [
    "import pickle\n",
    "with open(f'../../data/candidate_scores/clicks_v{VER}{POSTFIX}.pkl', 'wb') as f:\n",
    "    pickle.dump(click_df, f)"
   ]
  }
 ],
 "metadata": {
  "kernelspec": {
   "display_name": "Python 3 (ipykernel)",
   "language": "python",
   "name": "python3"
  },
  "language_info": {
   "codemirror_mode": {
    "name": "ipython",
    "version": 3
   },
   "file_extension": ".py",
   "mimetype": "text/x-python",
   "name": "python",
   "nbconvert_exporter": "python",
   "pygments_lexer": "ipython3",
   "version": "3.8.13"
  },
  "papermill": {
   "default_parameters": {},
   "duration": 510.728298,
   "end_time": "2022-11-03T16:57:49.871924",
   "environment_variables": {},
   "exception": null,
   "input_path": "__notebook__.ipynb",
   "output_path": "__notebook__.ipynb",
   "parameters": {},
   "start_time": "2022-11-03T16:49:19.143626",
   "version": "2.3.4"
  },
  "widgets": {
   "application/vnd.jupyter.widget-state+json": {
    "state": {
     "031ee36fafb743fabfdbe2c52e404acf": {
      "model_module": "@jupyter-widgets/controls",
      "model_module_version": "1.5.0",
      "model_name": "FloatProgressModel",
      "state": {
       "_dom_classes": [],
       "_model_module": "@jupyter-widgets/controls",
       "_model_module_version": "1.5.0",
       "_model_name": "FloatProgressModel",
       "_view_count": null,
       "_view_module": "@jupyter-widgets/controls",
       "_view_module_version": "1.5.0",
       "_view_name": "ProgressView",
       "bar_style": "success",
       "description": "",
       "description_tooltip": null,
       "layout": "IPY_MODEL_c60d5b27c7104ff4b66221703612c2c8",
       "max": 17,
       "min": 0,
       "orientation": "horizontal",
       "style": "IPY_MODEL_c2ba884d4d0d4732937e2a78645d78e2",
       "value": 17
      }
     },
     "0760aa58dc6a449ebb44554c24ed2bd3": {
      "model_module": "@jupyter-widgets/controls",
      "model_module_version": "1.5.0",
      "model_name": "HTMLModel",
      "state": {
       "_dom_classes": [],
       "_model_module": "@jupyter-widgets/controls",
       "_model_module_version": "1.5.0",
       "_model_name": "HTMLModel",
       "_view_count": null,
       "_view_module": "@jupyter-widgets/controls",
       "_view_module_version": "1.5.0",
       "_view_name": "HTMLView",
       "description": "",
       "description_tooltip": null,
       "layout": "IPY_MODEL_1064b0bdf3bd4a3ea3020740104e0e92",
       "placeholder": "​",
       "style": "IPY_MODEL_be5e1ae69d7045e5a0033d98222fba08",
       "value": " 17/17 [00:02&lt;00:00,  9.56it/s]"
      }
     },
     "1064b0bdf3bd4a3ea3020740104e0e92": {
      "model_module": "@jupyter-widgets/base",
      "model_module_version": "1.2.0",
      "model_name": "LayoutModel",
      "state": {
       "_model_module": "@jupyter-widgets/base",
       "_model_module_version": "1.2.0",
       "_model_name": "LayoutModel",
       "_view_count": null,
       "_view_module": "@jupyter-widgets/base",
       "_view_module_version": "1.2.0",
       "_view_name": "LayoutView",
       "align_content": null,
       "align_items": null,
       "align_self": null,
       "border": null,
       "bottom": null,
       "display": null,
       "flex": null,
       "flex_flow": null,
       "grid_area": null,
       "grid_auto_columns": null,
       "grid_auto_flow": null,
       "grid_auto_rows": null,
       "grid_column": null,
       "grid_gap": null,
       "grid_row": null,
       "grid_template_areas": null,
       "grid_template_columns": null,
       "grid_template_rows": null,
       "height": null,
       "justify_content": null,
       "justify_items": null,
       "left": null,
       "margin": null,
       "max_height": null,
       "max_width": null,
       "min_height": null,
       "min_width": null,
       "object_fit": null,
       "object_position": null,
       "order": null,
       "overflow": null,
       "overflow_x": null,
       "overflow_y": null,
       "padding": null,
       "right": null,
       "top": null,
       "visibility": null,
       "width": null
      }
     },
     "1889ea3d74b44b2aa0aceaccc954093c": {
      "model_module": "@jupyter-widgets/controls",
      "model_module_version": "1.5.0",
      "model_name": "HBoxModel",
      "state": {
       "_dom_classes": [],
       "_model_module": "@jupyter-widgets/controls",
       "_model_module_version": "1.5.0",
       "_model_name": "HBoxModel",
       "_view_count": null,
       "_view_module": "@jupyter-widgets/controls",
       "_view_module_version": "1.5.0",
       "_view_name": "HBoxView",
       "box_style": "",
       "children": [
        "IPY_MODEL_2cdd3effa7b64da88f84b3752c118240",
        "IPY_MODEL_031ee36fafb743fabfdbe2c52e404acf",
        "IPY_MODEL_0760aa58dc6a449ebb44554c24ed2bd3"
       ],
       "layout": "IPY_MODEL_4f3ccc97bf9f42928feb4598055d7027"
      }
     },
     "2cdd3effa7b64da88f84b3752c118240": {
      "model_module": "@jupyter-widgets/controls",
      "model_module_version": "1.5.0",
      "model_name": "HTMLModel",
      "state": {
       "_dom_classes": [],
       "_model_module": "@jupyter-widgets/controls",
       "_model_module_version": "1.5.0",
       "_model_name": "HTMLModel",
       "_view_count": null,
       "_view_module": "@jupyter-widgets/controls",
       "_view_module_version": "1.5.0",
       "_view_name": "HTMLView",
       "description": "",
       "description_tooltip": null,
       "layout": "IPY_MODEL_e4c36f74dc844ee3b94f548e941d7207",
       "placeholder": "​",
       "style": "IPY_MODEL_9a77629b692844c6bac59e052d77b9d2",
       "value": "100%"
      }
     },
     "4f3ccc97bf9f42928feb4598055d7027": {
      "model_module": "@jupyter-widgets/base",
      "model_module_version": "1.2.0",
      "model_name": "LayoutModel",
      "state": {
       "_model_module": "@jupyter-widgets/base",
       "_model_module_version": "1.2.0",
       "_model_name": "LayoutModel",
       "_view_count": null,
       "_view_module": "@jupyter-widgets/base",
       "_view_module_version": "1.2.0",
       "_view_name": "LayoutView",
       "align_content": null,
       "align_items": null,
       "align_self": null,
       "border": null,
       "bottom": null,
       "display": null,
       "flex": null,
       "flex_flow": null,
       "grid_area": null,
       "grid_auto_columns": null,
       "grid_auto_flow": null,
       "grid_auto_rows": null,
       "grid_column": null,
       "grid_gap": null,
       "grid_row": null,
       "grid_template_areas": null,
       "grid_template_columns": null,
       "grid_template_rows": null,
       "height": null,
       "justify_content": null,
       "justify_items": null,
       "left": null,
       "margin": null,
       "max_height": null,
       "max_width": null,
       "min_height": null,
       "min_width": null,
       "object_fit": null,
       "object_position": null,
       "order": null,
       "overflow": null,
       "overflow_x": null,
       "overflow_y": null,
       "padding": null,
       "right": null,
       "top": null,
       "visibility": null,
       "width": null
      }
     },
     "9a77629b692844c6bac59e052d77b9d2": {
      "model_module": "@jupyter-widgets/controls",
      "model_module_version": "1.5.0",
      "model_name": "DescriptionStyleModel",
      "state": {
       "_model_module": "@jupyter-widgets/controls",
       "_model_module_version": "1.5.0",
       "_model_name": "DescriptionStyleModel",
       "_view_count": null,
       "_view_module": "@jupyter-widgets/base",
       "_view_module_version": "1.2.0",
       "_view_name": "StyleView",
       "description_width": ""
      }
     },
     "be5e1ae69d7045e5a0033d98222fba08": {
      "model_module": "@jupyter-widgets/controls",
      "model_module_version": "1.5.0",
      "model_name": "DescriptionStyleModel",
      "state": {
       "_model_module": "@jupyter-widgets/controls",
       "_model_module_version": "1.5.0",
       "_model_name": "DescriptionStyleModel",
       "_view_count": null,
       "_view_module": "@jupyter-widgets/base",
       "_view_module_version": "1.2.0",
       "_view_name": "StyleView",
       "description_width": ""
      }
     },
     "c2ba884d4d0d4732937e2a78645d78e2": {
      "model_module": "@jupyter-widgets/controls",
      "model_module_version": "1.5.0",
      "model_name": "ProgressStyleModel",
      "state": {
       "_model_module": "@jupyter-widgets/controls",
       "_model_module_version": "1.5.0",
       "_model_name": "ProgressStyleModel",
       "_view_count": null,
       "_view_module": "@jupyter-widgets/base",
       "_view_module_version": "1.2.0",
       "_view_name": "StyleView",
       "bar_color": null,
       "description_width": ""
      }
     },
     "c60d5b27c7104ff4b66221703612c2c8": {
      "model_module": "@jupyter-widgets/base",
      "model_module_version": "1.2.0",
      "model_name": "LayoutModel",
      "state": {
       "_model_module": "@jupyter-widgets/base",
       "_model_module_version": "1.2.0",
       "_model_name": "LayoutModel",
       "_view_count": null,
       "_view_module": "@jupyter-widgets/base",
       "_view_module_version": "1.2.0",
       "_view_name": "LayoutView",
       "align_content": null,
       "align_items": null,
       "align_self": null,
       "border": null,
       "bottom": null,
       "display": null,
       "flex": null,
       "flex_flow": null,
       "grid_area": null,
       "grid_auto_columns": null,
       "grid_auto_flow": null,
       "grid_auto_rows": null,
       "grid_column": null,
       "grid_gap": null,
       "grid_row": null,
       "grid_template_areas": null,
       "grid_template_columns": null,
       "grid_template_rows": null,
       "height": null,
       "justify_content": null,
       "justify_items": null,
       "left": null,
       "margin": null,
       "max_height": null,
       "max_width": null,
       "min_height": null,
       "min_width": null,
       "object_fit": null,
       "object_position": null,
       "order": null,
       "overflow": null,
       "overflow_x": null,
       "overflow_y": null,
       "padding": null,
       "right": null,
       "top": null,
       "visibility": null,
       "width": null
      }
     },
     "e4c36f74dc844ee3b94f548e941d7207": {
      "model_module": "@jupyter-widgets/base",
      "model_module_version": "1.2.0",
      "model_name": "LayoutModel",
      "state": {
       "_model_module": "@jupyter-widgets/base",
       "_model_module_version": "1.2.0",
       "_model_name": "LayoutModel",
       "_view_count": null,
       "_view_module": "@jupyter-widgets/base",
       "_view_module_version": "1.2.0",
       "_view_name": "LayoutView",
       "align_content": null,
       "align_items": null,
       "align_self": null,
       "border": null,
       "bottom": null,
       "display": null,
       "flex": null,
       "flex_flow": null,
       "grid_area": null,
       "grid_auto_columns": null,
       "grid_auto_flow": null,
       "grid_auto_rows": null,
       "grid_column": null,
       "grid_gap": null,
       "grid_row": null,
       "grid_template_areas": null,
       "grid_template_columns": null,
       "grid_template_rows": null,
       "height": null,
       "justify_content": null,
       "justify_items": null,
       "left": null,
       "margin": null,
       "max_height": null,
       "max_width": null,
       "min_height": null,
       "min_width": null,
       "object_fit": null,
       "object_position": null,
       "order": null,
       "overflow": null,
       "overflow_x": null,
       "overflow_y": null,
       "padding": null,
       "right": null,
       "top": null,
       "visibility": null,
       "width": null
      }
     }
    },
    "version_major": 2,
    "version_minor": 0
   }
  }
 },
 "nbformat": 4,
 "nbformat_minor": 5
}
