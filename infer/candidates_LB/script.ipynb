{
 "cells": [
  {
   "cell_type": "code",
   "execution_count": null,
   "id": "a9817405",
   "metadata": {},
   "outputs": [],
   "source": []
  },
  {
   "cell_type": "code",
   "execution_count": null,
   "id": "f3c5a839",
   "metadata": {},
   "outputs": [],
   "source": [
    "# ADD COLUMN OF REAL USER SESSION\n",
    "%reset -f\n",
    "%run make-test-with-d.ipynb"
   ]
  },
  {
   "cell_type": "code",
   "execution_count": null,
   "id": "9ea3715a",
   "metadata": {},
   "outputs": [],
   "source": []
  },
  {
   "cell_type": "code",
   "execution_count": null,
   "id": "ed48875f",
   "metadata": {},
   "outputs": [],
   "source": [
    "%reset -f\n",
    "%run model-11-1-LB.ipynb"
   ]
  },
  {
   "cell_type": "code",
   "execution_count": null,
   "id": "5168344d",
   "metadata": {},
   "outputs": [],
   "source": [
    "%reset -f\n",
    "%run model-11-1-LB-wgt.ipynb"
   ]
  },
  {
   "cell_type": "code",
   "execution_count": null,
   "id": "f61d9162",
   "metadata": {},
   "outputs": [],
   "source": []
  },
  {
   "cell_type": "code",
   "execution_count": null,
   "id": "93b23b2d",
   "metadata": {},
   "outputs": [],
   "source": [
    "%reset -f\n",
    "%run model-11-20-LB.ipynb"
   ]
  },
  {
   "cell_type": "code",
   "execution_count": null,
   "id": "66b70932",
   "metadata": {},
   "outputs": [],
   "source": [
    "%reset -f\n",
    "%run model-11-20-LB-wgt.ipynb"
   ]
  },
  {
   "cell_type": "code",
   "execution_count": null,
   "id": "cea43296",
   "metadata": {},
   "outputs": [],
   "source": []
  },
  {
   "cell_type": "code",
   "execution_count": null,
   "id": "bfa13b0f",
   "metadata": {},
   "outputs": [],
   "source": [
    "%reset -f\n",
    "%run model-11-21-LB.ipynb"
   ]
  },
  {
   "cell_type": "code",
   "execution_count": null,
   "id": "927f6d29",
   "metadata": {},
   "outputs": [],
   "source": [
    "%reset -f\n",
    "%run model-11-21-LB-wgt.ipynb"
   ]
  },
  {
   "cell_type": "code",
   "execution_count": null,
   "id": "0bf29ca5",
   "metadata": {},
   "outputs": [],
   "source": []
  },
  {
   "cell_type": "code",
   "execution_count": null,
   "id": "ec76c3dd",
   "metadata": {},
   "outputs": [],
   "source": [
    "%reset -f\n",
    "%run model-11-22-LB.ipynb"
   ]
  },
  {
   "cell_type": "code",
   "execution_count": null,
   "id": "5b4795a9",
   "metadata": {},
   "outputs": [],
   "source": [
    "%reset -f\n",
    "%run model-11-22-LB-wgt.ipynb"
   ]
  },
  {
   "cell_type": "code",
   "execution_count": null,
   "id": "14e47943",
   "metadata": {},
   "outputs": [],
   "source": []
  },
  {
   "cell_type": "code",
   "execution_count": null,
   "id": "9c778b7c",
   "metadata": {},
   "outputs": [],
   "source": [
    "%reset -f\n",
    "%run model-11-23-LB.ipynb"
   ]
  },
  {
   "cell_type": "code",
   "execution_count": null,
   "id": "a259a8b5",
   "metadata": {},
   "outputs": [],
   "source": [
    "%reset -f\n",
    "%run model-11-23-LB-wgt.ipynb"
   ]
  },
  {
   "cell_type": "code",
   "execution_count": null,
   "id": "84be21af",
   "metadata": {},
   "outputs": [],
   "source": []
  },
  {
   "cell_type": "code",
   "execution_count": null,
   "id": "d9d3b009",
   "metadata": {},
   "outputs": [],
   "source": [
    "%reset -f\n",
    "%run model-11-1-LB.ipynb"
   ]
  },
  {
   "cell_type": "code",
   "execution_count": null,
   "id": "181bfcc6",
   "metadata": {},
   "outputs": [],
   "source": [
    "%reset -f\n",
    "%run model-11-1-LB-wgt.ipynb"
   ]
  },
  {
   "cell_type": "code",
   "execution_count": null,
   "id": "588bbd68",
   "metadata": {},
   "outputs": [],
   "source": []
  },
  {
   "cell_type": "code",
   "execution_count": null,
   "id": "b9980ba3",
   "metadata": {},
   "outputs": [],
   "source": [
    "%reset -f\n",
    "%run model-11-24-LB.ipynb"
   ]
  },
  {
   "cell_type": "code",
   "execution_count": null,
   "id": "4ee778b6",
   "metadata": {},
   "outputs": [],
   "source": [
    "%reset -f\n",
    "%run model-11-24-LB-wgt.ipynb"
   ]
  },
  {
   "cell_type": "code",
   "execution_count": null,
   "id": "46d97d8b",
   "metadata": {},
   "outputs": [],
   "source": []
  },
  {
   "cell_type": "code",
   "execution_count": null,
   "id": "2a530389",
   "metadata": {},
   "outputs": [],
   "source": [
    "%reset -f\n",
    "%run model-11-25-LB.ipynb"
   ]
  },
  {
   "cell_type": "code",
   "execution_count": null,
   "id": "e979c1c4",
   "metadata": {},
   "outputs": [],
   "source": [
    "%reset -f\n",
    "%run model-11-25-LB-wgt.ipynb"
   ]
  },
  {
   "cell_type": "code",
   "execution_count": null,
   "id": "1055aa34",
   "metadata": {},
   "outputs": [],
   "source": []
  },
  {
   "cell_type": "code",
   "execution_count": null,
   "id": "0197418d",
   "metadata": {},
   "outputs": [],
   "source": [
    "%reset -f\n",
    "%run model-11-26-LB.ipynb"
   ]
  },
  {
   "cell_type": "code",
   "execution_count": null,
   "id": "13ab9f7f",
   "metadata": {},
   "outputs": [],
   "source": [
    "%reset -f\n",
    "%run model-11-26-LB-wgt.ipynb"
   ]
  },
  {
   "cell_type": "code",
   "execution_count": null,
   "id": "a0c8f148",
   "metadata": {},
   "outputs": [],
   "source": []
  },
  {
   "cell_type": "code",
   "execution_count": null,
   "id": "4e52b9c0",
   "metadata": {},
   "outputs": [],
   "source": [
    "%reset -f\n",
    "%run model-11-27-LB.ipynb"
   ]
  },
  {
   "cell_type": "code",
   "execution_count": null,
   "id": "1228379e",
   "metadata": {},
   "outputs": [],
   "source": [
    "%reset -f\n",
    "%run model-11-27-LB-wgt.ipynb"
   ]
  },
  {
   "cell_type": "code",
   "execution_count": null,
   "id": "4381b7ec",
   "metadata": {},
   "outputs": [],
   "source": []
  },
  {
   "cell_type": "code",
   "execution_count": null,
   "id": "bb7b59ba",
   "metadata": {},
   "outputs": [],
   "source": [
    "%reset -f\n",
    "%run model-11-3-LB.ipynb"
   ]
  },
  {
   "cell_type": "code",
   "execution_count": null,
   "id": "11aa6cb7",
   "metadata": {},
   "outputs": [],
   "source": [
    "%reset -f\n",
    "%run model-11-3-LB-wgt.ipynb"
   ]
  },
  {
   "cell_type": "code",
   "execution_count": null,
   "id": "c22b6569",
   "metadata": {},
   "outputs": [],
   "source": []
  },
  {
   "cell_type": "code",
   "execution_count": null,
   "id": "d2422b31",
   "metadata": {},
   "outputs": [],
   "source": [
    "%reset -f\n",
    "%run model-11-31-LB.ipynb"
   ]
  },
  {
   "cell_type": "code",
   "execution_count": null,
   "id": "181a74cd",
   "metadata": {},
   "outputs": [],
   "source": [
    "%reset -f\n",
    "%run model-11-31-LB-wgt.ipynb"
   ]
  },
  {
   "cell_type": "code",
   "execution_count": null,
   "id": "14d2be2b",
   "metadata": {},
   "outputs": [],
   "source": []
  },
  {
   "cell_type": "code",
   "execution_count": null,
   "id": "b8cc4909",
   "metadata": {},
   "outputs": [],
   "source": [
    "%reset -f\n",
    "%run model-11-32-LB.ipynb"
   ]
  },
  {
   "cell_type": "code",
   "execution_count": null,
   "id": "e62a7b78",
   "metadata": {},
   "outputs": [],
   "source": [
    "%reset -f\n",
    "%run model-11-32-LB-wgt.ipynb"
   ]
  },
  {
   "cell_type": "code",
   "execution_count": null,
   "id": "9c5ce751",
   "metadata": {},
   "outputs": [],
   "source": []
  },
  {
   "cell_type": "code",
   "execution_count": null,
   "id": "11d17750",
   "metadata": {},
   "outputs": [],
   "source": [
    "%reset -f\n",
    "%run model-11-33-LB.ipynb"
   ]
  },
  {
   "cell_type": "code",
   "execution_count": null,
   "id": "2cb16da2",
   "metadata": {},
   "outputs": [],
   "source": [
    "%reset -f\n",
    "%run model-11-33-LB-wgt.ipynb"
   ]
  },
  {
   "cell_type": "code",
   "execution_count": null,
   "id": "c401777d",
   "metadata": {},
   "outputs": [],
   "source": []
  },
  {
   "cell_type": "code",
   "execution_count": null,
   "id": "b1ef8e83",
   "metadata": {},
   "outputs": [],
   "source": [
    "%reset -f\n",
    "%run model-11-4-LB.ipynb"
   ]
  },
  {
   "cell_type": "code",
   "execution_count": null,
   "id": "81dde28c",
   "metadata": {},
   "outputs": [],
   "source": [
    "%reset -f\n",
    "%run model-11-4-LB-wgt.ipynb"
   ]
  },
  {
   "cell_type": "code",
   "execution_count": null,
   "id": "152bb692",
   "metadata": {},
   "outputs": [],
   "source": []
  },
  {
   "cell_type": "code",
   "execution_count": null,
   "id": "3b613350",
   "metadata": {},
   "outputs": [],
   "source": [
    "%reset -f\n",
    "%run model-11-5-LB.ipynb"
   ]
  },
  {
   "cell_type": "code",
   "execution_count": null,
   "id": "182bd13f",
   "metadata": {},
   "outputs": [],
   "source": [
    "%reset -f\n",
    "%run model-11-5-LB-wgt.ipynb"
   ]
  },
  {
   "cell_type": "code",
   "execution_count": null,
   "id": "c5614851",
   "metadata": {},
   "outputs": [],
   "source": []
  },
  {
   "cell_type": "code",
   "execution_count": null,
   "id": "e95dade1",
   "metadata": {},
   "outputs": [],
   "source": [
    "%reset -f\n",
    "%run model-11-6-LB.ipynb"
   ]
  },
  {
   "cell_type": "code",
   "execution_count": null,
   "id": "ce3c0a98",
   "metadata": {},
   "outputs": [],
   "source": [
    "%reset -f\n",
    "%run model-11-6-LB-wgt.ipynb"
   ]
  },
  {
   "cell_type": "code",
   "execution_count": null,
   "id": "e737fda0",
   "metadata": {},
   "outputs": [],
   "source": []
  },
  {
   "cell_type": "code",
   "execution_count": null,
   "id": "3bf5285d",
   "metadata": {},
   "outputs": [],
   "source": [
    "%reset -f\n",
    "%run model-11-7-LB.ipynb"
   ]
  },
  {
   "cell_type": "code",
   "execution_count": null,
   "id": "26a84070",
   "metadata": {},
   "outputs": [],
   "source": [
    "%reset -f\n",
    "%run model-11-7-LB-wgt.ipynb"
   ]
  },
  {
   "cell_type": "code",
   "execution_count": null,
   "id": "4f62440c",
   "metadata": {},
   "outputs": [],
   "source": []
  },
  {
   "cell_type": "code",
   "execution_count": null,
   "id": "cca61a44",
   "metadata": {},
   "outputs": [],
   "source": [
    "%reset -f\n",
    "%run model-11-B-LB.ipynb"
   ]
  },
  {
   "cell_type": "code",
   "execution_count": null,
   "id": "dfb4befa",
   "metadata": {},
   "outputs": [],
   "source": [
    "%reset -f\n",
    "%run model-11-B-LB-wgt.ipynb"
   ]
  },
  {
   "cell_type": "code",
   "execution_count": null,
   "id": "34b2438c",
   "metadata": {},
   "outputs": [],
   "source": []
  },
  {
   "cell_type": "code",
   "execution_count": null,
   "id": "33c73899",
   "metadata": {},
   "outputs": [],
   "source": [
    "%reset -f\n",
    "%run model-13-LB.ipynb"
   ]
  },
  {
   "cell_type": "code",
   "execution_count": null,
   "id": "7f76da2e",
   "metadata": {},
   "outputs": [],
   "source": [
    "%reset -f\n",
    "%run model-13-LB-wgt.ipynb"
   ]
  },
  {
   "cell_type": "code",
   "execution_count": null,
   "id": "12347ce3",
   "metadata": {},
   "outputs": [],
   "source": []
  },
  {
   "cell_type": "code",
   "execution_count": null,
   "id": "320d1795",
   "metadata": {},
   "outputs": [],
   "source": [
    "%reset -f\n",
    "%run model-14-LB.ipynb"
   ]
  },
  {
   "cell_type": "code",
   "execution_count": null,
   "id": "a304c3c6",
   "metadata": {},
   "outputs": [],
   "source": [
    "%reset -f\n",
    "%run model-14-LB-wgt.ipynb"
   ]
  },
  {
   "cell_type": "code",
   "execution_count": null,
   "id": "40336a2e",
   "metadata": {},
   "outputs": [],
   "source": []
  },
  {
   "cell_type": "code",
   "execution_count": null,
   "id": "e1e3d5a2",
   "metadata": {},
   "outputs": [],
   "source": [
    "# CONVERT TEST DATA INTO PYTHON LISTS\n",
    "%reset -f\n",
    "%run make-test-lists.ipynb"
   ]
  },
  {
   "cell_type": "code",
   "execution_count": null,
   "id": "603ae89a",
   "metadata": {},
   "outputs": [],
   "source": [
    "%reset -f\n",
    "%run model-620-LB.ipynb"
   ]
  },
  {
   "cell_type": "code",
   "execution_count": null,
   "id": "ad4348ec",
   "metadata": {},
   "outputs": [],
   "source": []
  },
  {
   "cell_type": "code",
   "execution_count": null,
   "id": "cb0294e4",
   "metadata": {},
   "outputs": [],
   "source": [
    "%reset -f\n",
    "%run model-711-LB.ipynb"
   ]
  },
  {
   "cell_type": "code",
   "execution_count": null,
   "id": "5406fc28",
   "metadata": {},
   "outputs": [],
   "source": [
    "%reset -f\n",
    "%run model-711-LB-wgt.ipynb"
   ]
  },
  {
   "cell_type": "code",
   "execution_count": null,
   "id": "a242436e",
   "metadata": {},
   "outputs": [],
   "source": []
  }
 ],
 "metadata": {
  "kernelspec": {
   "display_name": "Python 3 (ipykernel)",
   "language": "python",
   "name": "python3"
  },
  "language_info": {
   "codemirror_mode": {
    "name": "ipython",
    "version": 3
   },
   "file_extension": ".py",
   "mimetype": "text/x-python",
   "name": "python",
   "nbconvert_exporter": "python",
   "pygments_lexer": "ipython3",
   "version": "3.8.13"
  }
 },
 "nbformat": 4,
 "nbformat_minor": 5
}
