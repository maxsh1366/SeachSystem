{
 "cells": [
  {
   "cell_type": "code",
   "execution_count": 1,
   "id": "ed440f74",
   "metadata": {},
   "outputs": [],
   "source": [
    "VER = 1\n",
    "import pandas as pd, numpy as np\n",
    "import pickle, glob, gc"
   ]
  },
  {
   "cell_type": "code",
   "execution_count": 2,
   "id": "72683f89",
   "metadata": {
    "scrolled": true
   },
   "outputs": [
    {
     "data": {
      "text/html": [
       "<div>\n",
       "<style scoped>\n",
       "    .dataframe tbody tr th:only-of-type {\n",
       "        vertical-align: middle;\n",
       "    }\n",
       "\n",
       "    .dataframe tbody tr th {\n",
       "        vertical-align: top;\n",
       "    }\n",
       "\n",
       "    .dataframe thead th {\n",
       "        text-align: right;\n",
       "    }\n",
       "</style>\n",
       "<table border=\"1\" class=\"dataframe\">\n",
       "  <thead>\n",
       "    <tr style=\"text-align: right;\">\n",
       "      <th></th>\n",
       "      <th>session</th>\n",
       "      <th>aid</th>\n",
       "      <th>ts</th>\n",
       "      <th>type</th>\n",
       "      <th>d</th>\n",
       "    </tr>\n",
       "  </thead>\n",
       "  <tbody>\n",
       "    <tr>\n",
       "      <th>0</th>\n",
       "      <td>12899779</td>\n",
       "      <td>59625</td>\n",
       "      <td>1661724000</td>\n",
       "      <td>0</td>\n",
       "      <td>0</td>\n",
       "    </tr>\n",
       "    <tr>\n",
       "      <th>1</th>\n",
       "      <td>12899780</td>\n",
       "      <td>1142000</td>\n",
       "      <td>1661724000</td>\n",
       "      <td>0</td>\n",
       "      <td>0</td>\n",
       "    </tr>\n",
       "    <tr>\n",
       "      <th>2</th>\n",
       "      <td>12899780</td>\n",
       "      <td>582732</td>\n",
       "      <td>1661724058</td>\n",
       "      <td>0</td>\n",
       "      <td>0</td>\n",
       "    </tr>\n",
       "    <tr>\n",
       "      <th>3</th>\n",
       "      <td>12899780</td>\n",
       "      <td>973453</td>\n",
       "      <td>1661724109</td>\n",
       "      <td>0</td>\n",
       "      <td>0</td>\n",
       "    </tr>\n",
       "    <tr>\n",
       "      <th>4</th>\n",
       "      <td>12899780</td>\n",
       "      <td>736515</td>\n",
       "      <td>1661724136</td>\n",
       "      <td>0</td>\n",
       "      <td>0</td>\n",
       "    </tr>\n",
       "  </tbody>\n",
       "</table>\n",
       "</div>"
      ],
      "text/plain": [
       "    session      aid          ts  type  d\n",
       "0  12899779    59625  1661724000     0  0\n",
       "1  12899780  1142000  1661724000     0  0\n",
       "2  12899780   582732  1661724058     0  0\n",
       "3  12899780   973453  1661724109     0  0\n",
       "4  12899780   736515  1661724136     0  0"
      ]
     },
     "execution_count": 2,
     "metadata": {},
     "output_type": "execute_result"
    }
   ],
   "source": [
    "valid = pd.read_parquet('test_LB.pqt')\n",
    "valid.head()"
   ]
  },
  {
   "cell_type": "code",
   "execution_count": 3,
   "id": "06ac612a",
   "metadata": {},
   "outputs": [
    {
     "data": {
      "text/plain": [
       "1661724000"
      ]
     },
     "execution_count": 3,
     "metadata": {},
     "output_type": "execute_result"
    }
   ],
   "source": [
    "MN = valid.ts.min()\n",
    "MN"
   ]
  },
  {
   "cell_type": "code",
   "execution_count": 4,
   "id": "d7a2b4a4",
   "metadata": {},
   "outputs": [
    {
     "data": {
      "text/plain": [
       "7.0"
      ]
     },
     "execution_count": 4,
     "metadata": {},
     "output_type": "execute_result"
    }
   ],
   "source": [
    "(MN - 1661119200) / (60*60*24)"
   ]
  },
  {
   "cell_type": "code",
   "execution_count": 5,
   "id": "dfe08c3a",
   "metadata": {},
   "outputs": [],
   "source": [
    "#MN = 1661119200\n",
    "valid['day'] = (valid.ts - MN) // (60*60*24)"
   ]
  },
  {
   "cell_type": "code",
   "execution_count": 6,
   "id": "89d14a2d",
   "metadata": {},
   "outputs": [
    {
     "data": {
      "text/html": [
       "<div>\n",
       "<style scoped>\n",
       "    .dataframe tbody tr th:only-of-type {\n",
       "        vertical-align: middle;\n",
       "    }\n",
       "\n",
       "    .dataframe tbody tr th {\n",
       "        vertical-align: top;\n",
       "    }\n",
       "\n",
       "    .dataframe thead th {\n",
       "        text-align: right;\n",
       "    }\n",
       "</style>\n",
       "<table border=\"1\" class=\"dataframe\">\n",
       "  <thead>\n",
       "    <tr style=\"text-align: right;\">\n",
       "      <th></th>\n",
       "      <th>session</th>\n",
       "      <th>aid</th>\n",
       "      <th>ts</th>\n",
       "      <th>type</th>\n",
       "      <th>d</th>\n",
       "      <th>day</th>\n",
       "    </tr>\n",
       "  </thead>\n",
       "  <tbody>\n",
       "    <tr>\n",
       "      <th>0</th>\n",
       "      <td>12899779</td>\n",
       "      <td>59625</td>\n",
       "      <td>1661724000</td>\n",
       "      <td>0</td>\n",
       "      <td>0</td>\n",
       "      <td>0</td>\n",
       "    </tr>\n",
       "    <tr>\n",
       "      <th>1</th>\n",
       "      <td>12899780</td>\n",
       "      <td>1142000</td>\n",
       "      <td>1661724000</td>\n",
       "      <td>0</td>\n",
       "      <td>0</td>\n",
       "      <td>0</td>\n",
       "    </tr>\n",
       "    <tr>\n",
       "      <th>2</th>\n",
       "      <td>12899780</td>\n",
       "      <td>582732</td>\n",
       "      <td>1661724058</td>\n",
       "      <td>0</td>\n",
       "      <td>0</td>\n",
       "      <td>0</td>\n",
       "    </tr>\n",
       "    <tr>\n",
       "      <th>3</th>\n",
       "      <td>12899780</td>\n",
       "      <td>973453</td>\n",
       "      <td>1661724109</td>\n",
       "      <td>0</td>\n",
       "      <td>0</td>\n",
       "      <td>0</td>\n",
       "    </tr>\n",
       "    <tr>\n",
       "      <th>4</th>\n",
       "      <td>12899780</td>\n",
       "      <td>736515</td>\n",
       "      <td>1661724136</td>\n",
       "      <td>0</td>\n",
       "      <td>0</td>\n",
       "      <td>0</td>\n",
       "    </tr>\n",
       "  </tbody>\n",
       "</table>\n",
       "</div>"
      ],
      "text/plain": [
       "    session      aid          ts  type  d  day\n",
       "0  12899779    59625  1661724000     0  0    0\n",
       "1  12899780  1142000  1661724000     0  0    0\n",
       "2  12899780   582732  1661724058     0  0    0\n",
       "3  12899780   973453  1661724109     0  0    0\n",
       "4  12899780   736515  1661724136     0  0    0"
      ]
     },
     "execution_count": 6,
     "metadata": {},
     "output_type": "execute_result"
    }
   ],
   "source": [
    "valid.head()"
   ]
  },
  {
   "cell_type": "code",
   "execution_count": 7,
   "id": "74e8f486",
   "metadata": {},
   "outputs": [],
   "source": [
    "valid = valid.sort_values(['session','ts'])"
   ]
  },
  {
   "cell_type": "code",
   "execution_count": 8,
   "id": "99b42c9a",
   "metadata": {},
   "outputs": [],
   "source": [
    "valid['x'] = valid.groupby(['session','d']).d.cumcount()"
   ]
  },
  {
   "cell_type": "code",
   "execution_count": 9,
   "id": "c89e4113",
   "metadata": {},
   "outputs": [],
   "source": [
    "valid['a'] = 0\n",
    "valid.loc[valid.x==0,'a'] = 1"
   ]
  },
  {
   "cell_type": "code",
   "execution_count": 10,
   "id": "d4d9ff61",
   "metadata": {},
   "outputs": [],
   "source": [
    "valid = valid.sort_values(['session','ts'],ascending=[True,False])"
   ]
  },
  {
   "cell_type": "code",
   "execution_count": 11,
   "id": "9dda3bd9",
   "metadata": {},
   "outputs": [],
   "source": [
    "valid['x'] = valid.groupby(['session','d']).d.cumcount()"
   ]
  },
  {
   "cell_type": "code",
   "execution_count": 12,
   "id": "ca864e68",
   "metadata": {},
   "outputs": [],
   "source": [
    "valid['b'] = 0\n",
    "valid.loc[valid.x==0,'b'] = 1"
   ]
  },
  {
   "cell_type": "code",
   "execution_count": 13,
   "id": "90847b3b",
   "metadata": {
    "scrolled": true
   },
   "outputs": [],
   "source": [
    "valid = valid.sort_values(['session','ts'])"
   ]
  },
  {
   "cell_type": "code",
   "execution_count": 14,
   "id": "ae14c4fc",
   "metadata": {},
   "outputs": [],
   "source": [
    "valid = valid.drop('x',axis=1)"
   ]
  },
  {
   "cell_type": "code",
   "execution_count": 15,
   "id": "3f5a4044",
   "metadata": {},
   "outputs": [
    {
     "data": {
      "text/html": [
       "<div>\n",
       "<style scoped>\n",
       "    .dataframe tbody tr th:only-of-type {\n",
       "        vertical-align: middle;\n",
       "    }\n",
       "\n",
       "    .dataframe tbody tr th {\n",
       "        vertical-align: top;\n",
       "    }\n",
       "\n",
       "    .dataframe thead th {\n",
       "        text-align: right;\n",
       "    }\n",
       "</style>\n",
       "<table border=\"1\" class=\"dataframe\">\n",
       "  <thead>\n",
       "    <tr style=\"text-align: right;\">\n",
       "      <th></th>\n",
       "      <th>session</th>\n",
       "      <th>aid</th>\n",
       "      <th>ts</th>\n",
       "      <th>type</th>\n",
       "      <th>d</th>\n",
       "      <th>day</th>\n",
       "      <th>a</th>\n",
       "      <th>b</th>\n",
       "    </tr>\n",
       "  </thead>\n",
       "  <tbody>\n",
       "    <tr>\n",
       "      <th>0</th>\n",
       "      <td>12899779</td>\n",
       "      <td>59625</td>\n",
       "      <td>1661724000</td>\n",
       "      <td>0</td>\n",
       "      <td>0</td>\n",
       "      <td>0</td>\n",
       "      <td>1</td>\n",
       "      <td>1</td>\n",
       "    </tr>\n",
       "    <tr>\n",
       "      <th>1</th>\n",
       "      <td>12899780</td>\n",
       "      <td>1142000</td>\n",
       "      <td>1661724000</td>\n",
       "      <td>0</td>\n",
       "      <td>0</td>\n",
       "      <td>0</td>\n",
       "      <td>1</td>\n",
       "      <td>0</td>\n",
       "    </tr>\n",
       "    <tr>\n",
       "      <th>2</th>\n",
       "      <td>12899780</td>\n",
       "      <td>582732</td>\n",
       "      <td>1661724058</td>\n",
       "      <td>0</td>\n",
       "      <td>0</td>\n",
       "      <td>0</td>\n",
       "      <td>0</td>\n",
       "      <td>0</td>\n",
       "    </tr>\n",
       "    <tr>\n",
       "      <th>3</th>\n",
       "      <td>12899780</td>\n",
       "      <td>973453</td>\n",
       "      <td>1661724109</td>\n",
       "      <td>0</td>\n",
       "      <td>0</td>\n",
       "      <td>0</td>\n",
       "      <td>0</td>\n",
       "      <td>0</td>\n",
       "    </tr>\n",
       "    <tr>\n",
       "      <th>4</th>\n",
       "      <td>12899780</td>\n",
       "      <td>736515</td>\n",
       "      <td>1661724136</td>\n",
       "      <td>0</td>\n",
       "      <td>0</td>\n",
       "      <td>0</td>\n",
       "      <td>0</td>\n",
       "      <td>0</td>\n",
       "    </tr>\n",
       "  </tbody>\n",
       "</table>\n",
       "</div>"
      ],
      "text/plain": [
       "    session      aid          ts  type  d  day  a  b\n",
       "0  12899779    59625  1661724000     0  0    0  1  1\n",
       "1  12899780  1142000  1661724000     0  0    0  1  0\n",
       "2  12899780   582732  1661724058     0  0    0  0  0\n",
       "3  12899780   973453  1661724109     0  0    0  0  0\n",
       "4  12899780   736515  1661724136     0  0    0  0  0"
      ]
     },
     "execution_count": 15,
     "metadata": {},
     "output_type": "execute_result"
    }
   ],
   "source": [
    "valid.head()"
   ]
  },
  {
   "cell_type": "code",
   "execution_count": 16,
   "id": "eec4a337",
   "metadata": {},
   "outputs": [
    {
     "name": "stdout",
     "output_type": "stream",
     "text": [
      "1671803\n",
      "CPU times: user 36.4 s, sys: 1.73 s, total: 38.2 s\n",
      "Wall time: 38.2 s\n"
     ]
    }
   ],
   "source": [
    "%%time\n",
    "temp = [group for name, group in valid.sort_values([\"session\", \"ts\"]).groupby([\"session\"])]\n",
    "print(len(temp))\n",
    "# 1801251"
   ]
  },
  {
   "cell_type": "code",
   "execution_count": 17,
   "id": "c2c37034",
   "metadata": {},
   "outputs": [
    {
     "name": "stdout",
     "output_type": "stream",
     "text": [
      "0\n",
      "### PART 1 - from 0 to 167180\n",
      "1\n",
      "### PART 2 - from 167180 to 334360\n",
      "2\n",
      "### PART 3 - from 334360 to 501540\n",
      "3\n",
      "### PART 4 - from 501540 to 668721\n",
      "4\n",
      "### PART 5 - from 668721 to 835901\n",
      "5\n",
      "### PART 6 - from 835901 to 1003081\n",
      "6\n",
      "### PART 7 - from 1003081 to 1170262\n",
      "7\n",
      "### PART 8 - from 1170262 to 1337442\n",
      "8\n",
      "### PART 9 - from 1337442 to 1504622\n",
      "9\n",
      "### PART 10 - from 1504622 to 1671803\n",
      "CPU times: user 13min 10s, sys: 10.8 s, total: 13min 21s\n",
      "Wall time: 13min 20s\n"
     ]
    }
   ],
   "source": [
    "%%time\n",
    "PIECES = 10\n",
    "\n",
    "for PART in range(PIECES):\n",
    "    print(PART)\n",
    "    \n",
    "    print('### PART {} - from {} to {}'.format(PART + 1, PART * len(temp)//PIECES, (PART+1) * len(temp) // PIECES))\n",
    "    \n",
    "    mylist = [[h.session.iloc[0], h.aid.to_list(), h.type.to_list(), h.ts.to_list(), h.d.to_list(), \n",
    "               h.a.to_list(), h.b.to_list(), h.day.to_list() ] \n",
    "              for h in temp[PART * len(temp)//PIECES:(PART+1) * len(temp) // PIECES]]\n",
    "    \n",
    "    with open(f'../../data/infer_data/lists/test_group_tolist_{PART}_{VER}.pkl', 'wb') as f:\n",
    "        pickle.dump(mylist, f) "
   ]
  }
 ],
 "metadata": {
  "kernelspec": {
   "display_name": "Python 3 (ipykernel)",
   "language": "python",
   "name": "python3"
  },
  "language_info": {
   "codemirror_mode": {
    "name": "ipython",
    "version": 3
   },
   "file_extension": ".py",
   "mimetype": "text/x-python",
   "name": "python",
   "nbconvert_exporter": "python",
   "pygments_lexer": "ipython3",
   "version": "3.8.13"
  }
 },
 "nbformat": 4,
 "nbformat_minor": 5
}
