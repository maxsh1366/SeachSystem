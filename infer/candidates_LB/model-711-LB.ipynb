{
 "cells": [
  {
   "cell_type": "markdown",
   "id": "403d7742",
   "metadata": {
    "papermill": {
     "duration": 0.005829,
     "end_time": "2022-11-03T16:49:27.399833",
     "exception": false,
     "start_time": "2022-11-03T16:49:27.394004",
     "status": "completed"
    },
    "tags": []
   },
   "source": [
    "# OTTO: Co-visitation Matrix\n",
    "\n",
    "There exist products that are frequently viewed and bought together. Here we leverage this idea by computing a co-visitation matrix of products. It's done in the following way:\n",
    "\n",
    "1. First we look at all pairs of events within the same session that are close to each other in time (< 1 day). We compute co-visitation matrix $M_{aid1,aid2}$ by counting global number of event pairs for each pair across all sessions.\n",
    "2. For each $aid1$ we find top 20 most frequent aid2:  `aid2=argsort(M[aid])[-20:]`\n",
    "3. We produce test results by concatenating `tail(20)` of test session events (see https://www.kaggle.com/code/simamumu/old-test-data-last-20-aid-get-lb0-947) with the most likely recommendations from co-visitation matrix. These recommendations are generated from session AIDs and `aid2` from the step 2\n",
    "\n",
    "\n",
    "**Please, smash that thumbs up button and subscribe if you like this notebook!**"
   ]
  },
  {
   "cell_type": "markdown",
   "id": "a3347d85",
   "metadata": {
    "papermill": {
     "duration": 0.003667,
     "end_time": "2022-11-03T16:49:27.407651",
     "exception": false,
     "start_time": "2022-11-03T16:49:27.403984",
     "status": "completed"
    },
    "tags": []
   },
   "source": [
    "## Utils, imports"
   ]
  },
  {
   "cell_type": "code",
   "execution_count": 1,
   "id": "1983ae84",
   "metadata": {},
   "outputs": [],
   "source": [
    "VER = 711\n",
    "POSTFIX = '_LB'\n",
    "\n",
    "OFFSET = ''\n",
    "\n",
    "ITEM_CT = 100\n",
    "ITEM_CT2 = 100\n",
    "ITEM_CT3 = 10"
   ]
  },
  {
   "cell_type": "code",
   "execution_count": 2,
   "id": "aa81e9ef",
   "metadata": {
    "execution": {
     "iopub.execute_input": "2022-11-03T16:49:27.417898Z",
     "iopub.status.busy": "2022-11-03T16:49:27.417269Z",
     "iopub.status.idle": "2022-11-03T16:49:27.535479Z",
     "shell.execute_reply": "2022-11-03T16:49:27.534395Z"
    },
    "papermill": {
     "duration": 0.126841,
     "end_time": "2022-11-03T16:49:27.538248",
     "exception": false,
     "start_time": "2022-11-03T16:49:27.411407",
     "status": "completed"
    },
    "tags": []
   },
   "outputs": [],
   "source": [
    "### import numpy as np\n",
    "from collections import defaultdict\n",
    "import pandas as pd\n",
    "from tqdm.notebook import tqdm\n",
    "import glob\n",
    "import numpy as np, gc\n",
    "import multiprocessing\n",
    "import os\n",
    "import pickle\n",
    "\n",
    "import glob\n",
    "from collections import Counter"
   ]
  },
  {
   "cell_type": "markdown",
   "id": "e7d8e7d0",
   "metadata": {
    "papermill": {
     "duration": 0.006685,
     "end_time": "2022-11-03T16:50:19.618761",
     "exception": false,
     "start_time": "2022-11-03T16:50:19.612076",
     "status": "completed"
    },
    "tags": []
   },
   "source": [
    "## Test set inference"
   ]
  },
  {
   "cell_type": "code",
   "execution_count": 10,
   "id": "7c308b08",
   "metadata": {},
   "outputs": [],
   "source": [
    "# COMPUTED FROM TEST DATA\n",
    "top_orders = [ 986164, 1460571,  329725, 1043508,  332654,  688602,   29735,\n",
    "       1495817,  579690, 1022566, 1006198,  471073,  832192,  544144,\n",
    "       1825743,  836852,  147526, 1236775,  166037, 1030009, 1609228,\n",
    "        508883,  923948, 1462420,  892871,  554660, 1457846,  258353,\n",
    "       1734475,  480314,  145332,  108125, 1286213, 1336175, 1359971,\n",
    "        137514,  714524,  558573,  172856,  585186,  352192, 1176975,\n",
    "       1146575,  954951, 1496287,  823143, 1699089,   25964, 1257293,\n",
    "        399315, 1441266, 1196256, 1294924, 1603001, 1274545,  414968,\n",
    "       1581568,  247240, 1116095,  383437,  530377,  272744, 1445562,\n",
    "        269257,  791627, 1140985, 1708326,  631899,  670066,  122983,\n",
    "        223273,  165160,  881286, 1768724,  868327, 1604220,  406358,\n",
    "       1722991, 1568011, 1025795, 1647563,  835431, 1531805,  714968,\n",
    "        500609, 1217083, 1668343, 1159757, 1610239, 1647157, 1264313,\n",
    "       1798916,  423558,  752652,  184976, 1255910, 1413049,  801774,\n",
    "        615566, 1034578]\n",
    "top_carts = [ 485256,   33343, 1460571,  986164,  554660,  660655, 1116095,\n",
    "        152547, 1022566,  544144,  832192,  579690,  329725, 1043508,\n",
    "       1006198,  558573,  471073,  332654,  688602,   29735,  508883,\n",
    "        258353, 1736857, 1462420,  166037, 1609228, 1778843,  108125,\n",
    "       1495817, 1604220, 1825743, 1562705,  147526,  836852, 1286213,\n",
    "         25964, 1236775,  923948, 1281615, 1257293,  917587,  835431,\n",
    "       1439409,  892871,  125957,  122983, 1097061, 1449873, 1568011,\n",
    "       1030727, 1146575, 1731920,  326904, 1196256,  714524, 1768724,\n",
    "        480314, 1800674, 1662401, 1359971,  455191,  496180,  145332,\n",
    "        616283, 1708326, 1294924, 1270528,  944778, 1223508,  881286,\n",
    "        165160,  272744,  670066,  868327, 1734475,  137514,  172856,\n",
    "       1122221,  442293, 1685214,  823143, 1413049, 1722991, 1647157,\n",
    "        406358, 1733943,  700995, 1025795,  754412,  530377,  102416,\n",
    "        184976, 1445562, 1565495, 1019736, 1274545, 1083665,  667563,\n",
    "       1264313,  563117]\n",
    "top_clicks = [1460571,  485256,  108125,  986164, 1551213,  754412,  554660,\n",
    "        832192,  579690,   33343, 1006198,  688602,   29735,  329725,\n",
    "        184976, 1019736,  496180,  861401,  944778,  659399, 1043508,\n",
    "       1022566,  811371, 1604220,  836852,  471073,  819288, 1264313,\n",
    "        508883, 1751274,  620545,  959208,  717965,  332654, 1731920,\n",
    "        544144,  147526, 1116095, 1294924,  102345, 1645990, 1497089,\n",
    "        558573,   95488, 1196256,  199409, 1110150, 1146575, 1236775,\n",
    "        137514, 1030009,  435253, 1800674,  881286, 1609228, 1286213,\n",
    "        337471,  670066,  831165, 1685214, 1673641,  909449, 1260564,\n",
    "       1099100,  995962,  612920, 1647563, 1462420, 1741695, 1281615,\n",
    "       1603001, 1722991,  442293,  206735, 1219503,  166037,  799923,\n",
    "       1469891,  557072, 1156699,  111891, 1624436, 1782099, 1639229,\n",
    "        530377, 1197632, 1140985,  152547,  247240, 1449873, 1825743,\n",
    "        901817, 1420240, 1733943,  542343,  680375,  406358,  147278,\n",
    "       1627951,  836707]"
   ]
  },
  {
   "cell_type": "code",
   "execution_count": 12,
   "id": "3dbbd7d2",
   "metadata": {},
   "outputs": [
    {
     "name": "stdout",
     "output_type": "stream",
     "text": [
      "CPU times: user 5min 30s, sys: 13.7 s, total: 5min 44s\n",
      "Wall time: 5min 44s\n"
     ]
    }
   ],
   "source": [
    "%%time\n",
    "\n",
    "top_20 = pickle.load(open('../../data/covisit_matrices/top_40_aids_v104.pkl', 'rb')) #23\n",
    "for k,v in top_20.items():\n",
    "    top_20[k] = [np.int32(x) for x in v[:80]]\n",
    "\n",
    "top_20b = pickle.load(open('../../data/covisit_matrices/top_40_aids_v23.pkl', 'rb')) #23\n",
    "for k,v in top_20b.items():\n",
    "    top_20b[k] = [np.int32(x) for x in v[:30]]\n",
    "top_20c = pickle.load(open('../../data/covisit_matrices/top_80_aids_v24.pkl', 'rb')) #55\n",
    "for k,v in top_20c.items():\n",
    "    top_20c[k] = [np.int32(x) for x in v[:55]]\n",
    "top_20d = pickle.load(open('../../data/covisit_matrices/top_30_aids_v28.pkl', 'rb')) #20\n",
    "for k,v in top_20d.items():\n",
    "    top_20d[k] = [np.int32(x) for x in v[:20]]\n",
    "    \n",
    "top_20e = pickle.load(open('../../data/covisit_matrices/top_80_aids_v130.pkl', 'rb')) #55 #UPGRADED\n",
    "for k,v in top_20e.items():\n",
    "    top_20e[k] = [np.int32(x) for x in v[:55]]\n",
    "    \n",
    "top_20f = pickle.load(open('../../data/covisit_matrices/top_80_aids_v132.pkl', 'rb')) #10 #NEW\n",
    "for k,v in top_20f.items():\n",
    "    top_20f[k] = [np.int32(x) for x in v[:20]]\n",
    "    \n",
    "top_20_test2 = pickle.load(open('../../data/covisit_matrices/top_40_aids_v34.pkl', 'rb')) #23\n",
    "for k,v in top_20_test2.items():\n",
    "    top_20_test2[k] = [np.int32(x) for x in v[:40]]"
   ]
  },
  {
   "cell_type": "code",
   "execution_count": 13,
   "id": "7d3cf03a",
   "metadata": {},
   "outputs": [
    {
     "name": "stdout",
     "output_type": "stream",
     "text": [
      "CPU times: user 1min 4s, sys: 1.14 s, total: 1min 5s\n",
      "Wall time: 1min 5s\n"
     ]
    }
   ],
   "source": [
    "%%time\n",
    "top_20_test2 = pickle.load(open('../../data/covisit_matrices/top_40_aids_v34.pkl', 'rb')) #23\n",
    "for k,v in top_20_test2.items():\n",
    "    top_20_test2[k] = [np.int32(x) for x in v[:40]]"
   ]
  },
  {
   "cell_type": "code",
   "execution_count": 14,
   "id": "dc7254d4",
   "metadata": {},
   "outputs": [
    {
     "name": "stdout",
     "output_type": "stream",
     "text": [
      "CPU times: user 18.5 s, sys: 12.2 ms, total: 18.5 s\n",
      "Wall time: 18.5 s\n"
     ]
    }
   ],
   "source": [
    "%%time\n",
    "top_20_new2 = pickle.load(open('../../data/covisit_matrices/top_40_aids_v801_0.pkl', 'rb'))\n",
    "for k,v in top_20_new2.items():\n",
    "    top_20_new2[k] = [np.int32(x) for x in v[:30]]"
   ]
  },
  {
   "cell_type": "code",
   "execution_count": 15,
   "id": "ad5b97d0",
   "metadata": {},
   "outputs": [
    {
     "name": "stdout",
     "output_type": "stream",
     "text": [
      "CPU times: user 1.83 s, sys: 19.8 ms, total: 1.85 s\n",
      "Wall time: 1.85 s\n"
     ]
    }
   ],
   "source": [
    "%%time\n",
    "top_40_day = pickle.load(open(f'../../data/covisit_matrices/top_40_aids_v162_d0_0_LB.pkl', 'rb'))\n",
    "for k,v in top_40_day.items():\n",
    "    top_40_day[k] = [np.int32(x) for x in v[:40]]"
   ]
  },
  {
   "cell_type": "code",
   "execution_count": 16,
   "id": "229f1f3a",
   "metadata": {},
   "outputs": [
    {
     "name": "stdout",
     "output_type": "stream",
     "text": [
      "CPU times: user 8.33 s, sys: 27.9 ms, total: 8.36 s\n",
      "Wall time: 8.37 s\n"
     ]
    }
   ],
   "source": [
    "%%time\n",
    "top_40_day2 = pickle.load(open(f'../../data/covisit_matrices/top_80_aids_v163_d0_0_LB.pkl', 'rb'))\n",
    "for k,v in top_40_day2.items():\n",
    "    top_40_day2[k] = [np.int32(x) for x in v[:40]]"
   ]
  },
  {
   "cell_type": "code",
   "execution_count": 17,
   "id": "6d13651e",
   "metadata": {},
   "outputs": [
    {
     "data": {
      "text/plain": [
       "1837262"
      ]
     },
     "execution_count": 17,
     "metadata": {},
     "output_type": "execute_result"
    }
   ],
   "source": [
    "len( top_20) #, len( top_20_orders ), len( top_20_buy2buy )"
   ]
  },
  {
   "cell_type": "code",
   "execution_count": 18,
   "id": "b5c27d8c",
   "metadata": {
    "execution": {
     "iopub.execute_input": "2022-11-03T16:50:23.017400Z",
     "iopub.status.busy": "2022-11-03T16:50:23.016737Z",
     "iopub.status.idle": "2022-11-03T16:50:23.024104Z",
     "shell.execute_reply": "2022-11-03T16:50:23.022920Z"
    },
    "papermill": {
     "duration": 0.019192,
     "end_time": "2022-11-03T16:50:23.026501",
     "exception": false,
     "start_time": "2022-11-03T16:50:23.007309",
     "status": "completed"
    },
    "tags": []
   },
   "outputs": [],
   "source": [
    "import itertools\n",
    "\n",
    "type_weight_multipliers = {0: 1, 1: 6, 2: 3}\n",
    "\n",
    "def suggest_aids(df):\n",
    "    \n",
    "    #aids=df.aid.tolist()\n",
    "    #types = df.type.tolist()\n",
    "    \n",
    "    session = df[0]\n",
    "    aids = df[1]\n",
    "    types = df[2]\n",
    "    tss = df[3]\n",
    "    ds = df[4]\n",
    "    ds2 = df[6]\n",
    "    #days = df[7]\n",
    "    \n",
    "    top_day = top_40_day2\n",
    "    click_aids = click_df[session][:ITEM_CT3]\n",
    "    \n",
    "    unique_aids = list(dict.fromkeys(aids[::-1] ))\n",
    "    \n",
    "    #df2 = df.sort_values('ts',ascending=False).drop_duplicates('d')\n",
    "    #aids2 = df2.aid.tolist()\n",
    "    #unique_aids3 = list(dict.fromkeys(aids2[::-1] )) #last of each session\n",
    "    unique_aids3 = list(dict.fromkeys( [f for i, f in enumerate(aids) if ds2[i] == 1][::-1] ))\n",
    "    \n",
    "    #mx = df.d.max()\n",
    "    #aids2 = df.loc[df.d==mx].aid.tolist()\n",
    "    #unique_aids4 = list(dict.fromkeys(aids2[::-1] ))\n",
    "    mx = np.max(ds)\n",
    "    unique_aids4 = list(dict.fromkeys( [f for i, f in enumerate(aids) if ds[i] == mx][::-1] ))\n",
    "    \n",
    "    #aids2 = df.loc[df.ts >= mx - 60*60*24].aid.tolist()\n",
    "    #unique_aids6 = list(dict.fromkeys(aids2[::-1] )) #recent 1 day \n",
    "    mx = np.max(tss)\n",
    "    unique_aids6 = list(dict.fromkeys( [f for i, f in enumerate(aids) if tss[i] >= mx - 60*60*24 ][::-1] ))\n",
    "    \n",
    "    #df = df.loc[ df['type'].isin([1,2]) ]\n",
    "    #unique_buys = list(dict.fromkeys( df.aid.tolist()[::-1] ))\n",
    "    unique_buys = list(dict.fromkeys( [f for i, f in enumerate(aids) if types[i] in [1, 2]][::-1] ))\n",
    "    \n",
    "    ln = len(unique_aids)\n",
    " \n",
    "    if len(unique_aids)>=15:\n",
    "        weights=np.logspace(0.1,1,len(aids),base=2, endpoint=True)-1\n",
    "        aids_temp = Counter() \n",
    "        for aid,w,t in zip(aids,weights,types): \n",
    "            aids_temp[aid] += w * type_weight_multipliers[t]\n",
    "        aids3 = list(itertools.chain(*[top_20c[aid][:20*2] for aid in unique_aids[:2] if aid in top_20c]))\n",
    "        for i,aid in enumerate(aids3):\n",
    "            aids_temp[aid] += 0.6\n",
    "        aids3 = list(itertools.chain(*[top_20b[aid][:15*2] for aid in unique_aids3 if aid in top_20b]))\n",
    "        for i,aid in enumerate(aids3):\n",
    "            aids_temp[aid] += 0.3\n",
    "        aids3 = list(itertools.chain(*[top_20_test2[aid][:20*2] for aid in unique_aids[:2] if aid in top_20_test2]))\n",
    "        for i,aid in enumerate(aids3):\n",
    "            aids_temp[aid] += 0.6\n",
    "            \n",
    "        #aids3 = list(itertools.chain(*[top_20[aid][:10] for aid in click_aids[:5] if aid in top_20]))\n",
    "        #for i,aid in enumerate(aids3):\n",
    "        #    aids_temp[aid] += 0.3\n",
    "                \n",
    "        result = [k for k,v in aids_temp.most_common(ITEM_CT)]\n",
    "        return session, (result + top_clicks[:ITEM_CT-len(result)])[:ITEM_CT]\n",
    "        #return sorted_aids \n",
    "    \n",
    "    aids_temp = Counter() \n",
    "    \n",
    "    # NEW\n",
    "    MM = 4\n",
    "    aids2 = list(itertools.chain(*[top_day[aid][:10*MM] for aid in unique_aids6 if aid in top_day]))     \n",
    "    for i,aid in enumerate( aids2 ):\n",
    "        aids_temp[aid] += 1  \n",
    "        \n",
    "    # NEW NEW\n",
    "    #ln0 = len(click_aids)\n",
    "    aids2 = list(itertools.chain(*[top_20[aid][:20] for aid in click_aids if aid in top_20]))\n",
    "    for i,aid in enumerate(aids2):\n",
    "        aids_temp[aid] += 0.5\n",
    "        #if i%20==0: aids_temp[aid] += 0.5 \n",
    "    \n",
    "    weights3 = [2,2] + [1]*28 \n",
    "    if len(unique_aids)==1:\n",
    "        aids5 = list(itertools.chain(*[top_20_new2[aid][:30] for aid in unique_aids[-1:] if aid in top_20_new2]))\n",
    "        w5 = weights3* int(len(aids5)//30)\n",
    "        for aid,w in zip(aids5,w5):\n",
    "            aids_temp[aid] += w\n",
    "            \n",
    "    #aids2 = list(itertools.chain(*[top_20[aid][:20*2] for aid in unique_aids if aid in top_20]))\n",
    "    #for i,aid in enumerate(aids2):\n",
    "    #    m = 0.1 + 0.9*(ln-(i//(20*2)))/ln\n",
    "    #    aids_temp[aid] += m\n",
    "    #    if i%(20*2)==0: aids_temp[aid] += m\n",
    "         \n",
    "    # FROM GIBA\n",
    "    for i, a in enumerate(unique_aids):\n",
    "        w0 = np.max([1 - (0.35 * i), 0.001]) #Weight aid order starting from the last one. \n",
    "        if a in top_20:\n",
    "            for j, aj in enumerate(top_20[a]):\n",
    "                w1 = np.max([1 - (0.005 * j), 0.01]) #Weight the candidate aid from the dict\n",
    "                aids_temp[aj] += (w0*w1)\n",
    "                            \n",
    "    aids3 = list(itertools.chain(*[top_20b[aid][:20*2] for aid in unique_aids[:2] if aid in top_20b]))\n",
    "    for i,aid in enumerate(aids3):\n",
    "        aids_temp[aid] += 1\n",
    "        if i%(20*2)==0: aids_temp[aid] += 1\n",
    "            \n",
    "    aids3 = list(itertools.chain(*[top_20_test2[aid][:20*2] for aid in unique_aids[:2] if aid in top_20_test2]))\n",
    "    for i,aid in enumerate(aids3):\n",
    "        aids_temp[aid] += 1\n",
    "        if i%(20*2)==0: aids_temp[aid] += 1\n",
    "            \n",
    "    # TRY GIBA HERE\n",
    "    aids4 = list(itertools.chain(*[top_20f[aid][:10*2] for aid in unique_aids4 if aid in top_20f]))\n",
    "    for i,aid in enumerate(aids4):\n",
    "        w = i//(10*2)\n",
    "        aids_temp[aid] += 1 -w*0.1\n",
    "        if i%(10*2)==0: aids_temp[aid] += 1 -w*0.1\n",
    "            \n",
    "    aids5 = list(itertools.chain(*[top_20e[aid][:20*2] for aid in unique_aids3 if aid in top_20e]))\n",
    "    for i,aid in enumerate(aids5):\n",
    "        aids_temp[aid] += 1\n",
    "        if i%(20*2)==0: aids_temp[aid] += 1\n",
    "    top_aids2 = [k for k,v in aids_temp.most_common(1) if k not in unique_aids]\n",
    "    \n",
    "    aids3 = list(itertools.chain(*[top_20c[aid][:10*2] for aid in top_aids2 if aid in top_20c]))\n",
    "    for i,aid in enumerate(aids3):\n",
    "        aids_temp[aid] += 1\n",
    "        if i%(10*2)==0: aids_temp[aid] += 1\n",
    "    top_aids2 = [k for k,v in aids_temp.most_common(ITEM_CT) if k not in unique_aids]\n",
    "    \n",
    "    result = unique_aids + top_aids2[:ITEM_CT - len(unique_aids)]\n",
    "    return session, (result + top_clicks[:ITEM_CT-len(result)])[:ITEM_CT]\n",
    "\n",
    "def suggest_orders(df):\n",
    "    \n",
    "    session = df[0]\n",
    "    aids = df[1]\n",
    "    aids9 = aids.copy()\n",
    "    types = df[2]\n",
    "    tss = df[3]\n",
    "    ds = df[4]\n",
    "    ds1 = df[5]\n",
    "    ds2 = df[6]\n",
    "    days = df[7]\n",
    "    \n",
    "    #top_day = top_40_day[ df.day.values[0] ]\n",
    "    top_day = top_40_day\n",
    "    #click_aids = click_df[df.session.values[0]][:ITEM_CT2]\n",
    "    click_aids = click_df[session][:ITEM_CT3]\n",
    "    \n",
    "    #aids = df.aid.tolist()\n",
    "    #types = df.type.tolist()\n",
    "    unique_aids = list(dict.fromkeys(aids[::-1] ))\n",
    "    \n",
    "    #mx = df.d.max()\n",
    "    #aids2 = df.loc[df.d==mx].aid.tolist()\n",
    "    #unique_aids4 = list(dict.fromkeys(aids2[::-1] )) # last session\n",
    "    mx = np.max(ds)\n",
    "    unique_aids4 = list(dict.fromkeys( [f for i, f in enumerate(aids) if ds[i] == mx][::-1] ))\n",
    "    \n",
    "    #mx = df.ts.max()\n",
    "    #aids2 = df.loc[df.ts >= mx - 60*60/2].aid.tolist()\n",
    "    #unique_aids5 = list(dict.fromkeys(aids2[::-1] )) #recent 1 hour  \n",
    "    mx = np.max(tss)\n",
    "    unique_aids5 = list(dict.fromkeys( [f for i, f in enumerate(aids) if tss[i] >= mx - 60*60/2 ][::-1] ))\n",
    "    \n",
    "    #aids2 = df.loc[df.ts >= mx - 60*60*24].aid.tolist()\n",
    "    #unique_aids6 = list(dict.fromkeys(aids2[::-1] )) #recent 1 day \n",
    "    unique_aids6 = list(dict.fromkeys( [f for i, f in enumerate(aids) if tss[i] >= mx - 60*60*24 ][::-1] ))\n",
    "    \n",
    "    #df2 = df.drop_duplicates('d')\n",
    "    #aids2 = df2.aid.tolist()\n",
    "    #unique_aids2 = list(dict.fromkeys(aids2[::-1] )) #first of each session\n",
    "    unique_aids2 = list(dict.fromkeys( [f for i, f in enumerate(aids) if ds1[i] == 1][::-1] ))\n",
    "    \n",
    "    #df2 = df.sort_values('ts',ascending=False).drop_duplicates('d')\n",
    "    #aids2 = df2.aid.tolist()\n",
    "    #unique_aids3 = list(dict.fromkeys(aids2 )) #last of each session\n",
    "    unique_aids3 = list(dict.fromkeys( [f for i, f in enumerate(aids) if ds2[i] == 1][::-1] ))\n",
    "    \n",
    "    #df = df.loc[ df['type'].isin([1,2]) ]\n",
    "    #unique_buys = list(dict.fromkeys( df.aid.tolist()[::-1] ))\n",
    "    unique_buys = list(dict.fromkeys( [f for i, f in enumerate(aids) if types[i] in [1, 2]][::-1] ))\n",
    "    \n",
    "    if len(unique_aids)>=20:\n",
    "\n",
    "        weights=np.logspace(0.5,1,len(aids),base=2, endpoint=True)-1\n",
    "        aids_temp = Counter() \n",
    "        for aid,w,t in zip(aids,weights,types): \n",
    "            aids_temp[aid] += w * type_weight_multipliers[t]\n",
    "        for aid in unique_aids2: \n",
    "            aids_temp[aid] += 0.5\n",
    "        for aid in unique_aids3: \n",
    "            aids_temp[aid] += 0.5\n",
    "            \n",
    "        aids3 = list(itertools.chain(*[top_20_buy2buy[aid][:40] for aid in unique_buys if aid in top_20_buy2buy]))\n",
    "        for i,aid in enumerate(aids3):\n",
    "            aids_temp[aid] += 0.05\n",
    "            if i%40==0: aids_temp[aid] += 0.05\n",
    "        aids3 = list(itertools.chain(*[top_20_buy2buy2[aid][:40] for aid in unique_buys if aid in top_20_buy2buy2]))\n",
    "        for i,aid in enumerate(aids3):\n",
    "            aids_temp[aid] += 0.1\n",
    "            if i%40==0: aids_temp[aid] += 0.1\n",
    "                \n",
    "        aids4 = list(itertools.chain(*[top_20_test[aid][:40] for aid in unique_aids if aid in top_20_test]))\n",
    "        for i,aid in enumerate(aids4):\n",
    "            aids_temp[aid] += 0.05\n",
    "            if i%40==0: aids_temp[aid] += 0.05\n",
    "        aids5 = list(itertools.chain(*[top_20c[aid][:20] for aid in unique_aids[:1] if aid in top_20c]))\n",
    "        for i,aid in enumerate(aids5):\n",
    "            aids_temp[aid] += 0.05\n",
    "            if i%20==0: aids_temp[aid] += 0.05\n",
    "        aids6 = list(itertools.chain(*[top_20d[aid][:20] for aid in unique_buys[:1] if aid in top_20d]))\n",
    "        for i,aid in enumerate(aids6):\n",
    "            aids_temp[aid] += 0.05\n",
    "            if i%20==0: aids_temp[aid] += 0.05\n",
    "                \n",
    "        aids7 = list(itertools.chain(*[top_20b[aid][:5] for aid in unique_aids3 if aid in top_20b]))\n",
    "        for i,aid in enumerate(aids7):\n",
    "            aids_temp[aid] += 0.25\n",
    "            if i%5==0: aids_temp[aid] += 0.25\n",
    "        aids7 = list(itertools.chain(*[top_20b[aid][:5] for aid in unique_aids2 if aid in top_20b]))\n",
    "        for i,aid in enumerate(aids7):\n",
    "            aids_temp[aid] += 0.125\n",
    "            if i%5==0: aids_temp[aid] += 0.125\n",
    "                \n",
    "           \n",
    "        aids4 = list(itertools.chain(*[top_day[aid][:40] for aid in unique_aids6 if aid in top_day]))\n",
    "        for i,aid in enumerate(aids4):\n",
    "            aids_temp[aid] += 0.05\n",
    "            if i%40==0: aids_temp[aid] += 0.05\n",
    "        aids4 = list(itertools.chain(*[top_20_test[aid][:20] for aid in click_aids if aid in top_20_test]))\n",
    "        for i,aid in enumerate(aids4):\n",
    "            aids_temp[aid] += 0.05\n",
    "            if i%20==0: aids_temp[aid] += 0.05\n",
    "        aids4 = list(itertools.chain(*[top_20_buy[aid][:20] for aid in click_aids if aid in top_20_buy]))\n",
    "        for i,aid in enumerate(aids4):\n",
    "            aids_temp[aid] += 0.05\n",
    "            if i%20==0: aids_temp[aid] += 0.05\n",
    "        for aid in click_aids:\n",
    "            aids_temp[aid] += 0.05\n",
    "            \n",
    "        # NEW STUFF \n",
    "        aids4 = list(itertools.chain(*[top_40_more[aid][:5] for aid in unique_aids if aid in top_40_more]))\n",
    "        for i,aid in enumerate(aids4):\n",
    "            aids_temp[aid] += 0.03\n",
    "            if i%5==0: aids_temp[aid] += 0.03\n",
    "        aids4 = list(itertools.chain(*[top_40_more2[aid][:5] for aid in unique_aids if aid in top_40_more2]))\n",
    "        for i,aid in enumerate(aids4):\n",
    "            aids_temp[aid] += 0.03\n",
    "            if i%5==0: aids_temp[aid] += 0.03\n",
    "        aids4 = list(itertools.chain(*[top_40_less[aid][:5] for aid in unique_aids if aid in top_40_less]))\n",
    "        for i,aid in enumerate(aids4):\n",
    "            aids_temp[aid] += 0.03\n",
    "            if i%5==0: aids_temp[aid] += 0.03\n",
    "        aids4 = list(itertools.chain(*[top_40_less2[aid][:5] for aid in unique_aids if aid in top_40_less2]))\n",
    "        for i,aid in enumerate(aids4):\n",
    "            aids_temp[aid] += 0.03\n",
    "            if i%5==0: aids_temp[aid] += 0.03\n",
    "            \n",
    "        result = [k for k,v in aids_temp.most_common(ITEM_CT)]\n",
    "        return session, (result + top_orders[:ITEM_CT-len(result)])[:ITEM_CT]\n",
    "        #return sorted_aids \n",
    "    \n",
    "    weights = [2,2] + [1]*8 #+ [0]*30\n",
    "    weights2 = [2,2] + [1]*53 #+ [0]*25\n",
    "    weights3 = [2,2] + [1]*18 #+ [0]*70\n",
    "    weights4 = [2,2] + [1]*38 #+ [0]*70\n",
    "    weights5 = [2,2] + [1]*28 #+ [0]*70\n",
    "    \n",
    "    ln = len(unique_aids)\n",
    "    \n",
    "    MM = 3\n",
    "    aids_temp = Counter() \n",
    "    aids2 = list(itertools.chain(*[top_20_orders[aid][:10*MM] for aid in unique_aids if aid in top_20_orders]))\n",
    "    w2 = weights5* int(len(aids2)//(10*MM))\n",
    "    aids3 = list(itertools.chain(*[top_20_buy2buy[aid][:10*MM] for aid in unique_buys if aid in top_20_buy2buy]))\n",
    "    w3 = weights5* int(len(aids3)//(10*MM))\n",
    "    aids4 = list(itertools.chain(*[top_20_test[aid][:10*MM] for aid in unique_aids if aid in top_20_test]))\n",
    "    w4 = weights5* int(len(aids4)//(10*MM))\n",
    "    aids5 = list(itertools.chain(*[top_20_buy2buy2[aid][:10*MM] for aid in unique_buys if aid in top_20_buy2buy2]))\n",
    "    w5 = weights5* int(len(aids5)//(10*MM))\n",
    "    for i,(aid,w) in enumerate(zip(aids2,w2)):\n",
    "        m = 0.25 + 0.75*(ln-(i//(10*MM)))/ln\n",
    "        aids_temp[aid] += w*m\n",
    "    for i,(aid,w) in enumerate(zip(aids3,w3)):\n",
    "        aids_temp[aid] += w/2\n",
    "    for i,(aid,w) in enumerate(zip(aids4,w4)):\n",
    "        m = 0.25 + 0.75*(ln-(i//(10*MM)))/ln\n",
    "        aids_temp[aid] += w*m\n",
    "    for i,(aid,w) in enumerate(zip(aids5,w5)):\n",
    "        aids_temp[aid] += w/2\n",
    "      \n",
    "    # NEW\n",
    "    MM = 1\n",
    "    top_40_use = top_40_more\n",
    "    aids2 = list(itertools.chain(*[top_40_use[aid][:10*MM] for aid in unique_aids if aid in top_40_use]))\n",
    "    w2 = weights* int(len(aids2)//(10*MM))\n",
    "    for i,(aid,w) in enumerate(zip(aids2,w2)):\n",
    "        m = 0.25 + 0.75*(ln-(i//(10*MM)))/ln\n",
    "        aids_temp[aid] += w*m\n",
    "    MM = 1\n",
    "    top_40_use = top_40_less\n",
    "    aids2 = list(itertools.chain(*[top_40_use[aid][:10*MM] for aid in unique_aids if aid in top_40_use]))\n",
    "    w2 = weights* int(len(aids2)//(10*MM))\n",
    "    for i,(aid,w) in enumerate(zip(aids2,w2)):\n",
    "        m = 0.25 + 0.75*(ln-(i//(10*MM)))/ln\n",
    "        aids_temp[aid] += w*m\n",
    "        \n",
    "    # NEW\n",
    "    MM = 1\n",
    "    top_40_use = top_40_more2\n",
    "    aids2 = list(itertools.chain(*[top_40_use[aid][:10*MM] for aid in unique_aids if aid in top_40_use]))\n",
    "    w2 = weights* int(len(aids2)//(10*MM))\n",
    "    for i,(aid,w) in enumerate(zip(aids2,w2)):\n",
    "        m = 0.25 + 0.75*(ln-(i//(10*MM)))/ln\n",
    "        aids_temp[aid] += w*m\n",
    "    MM = 1\n",
    "    top_40_use = top_40_less2\n",
    "    aids2 = list(itertools.chain(*[top_40_use[aid][:10*MM] for aid in unique_aids if aid in top_40_use]))\n",
    "    w2 = weights* int(len(aids2)//(10*MM))\n",
    "    for i,(aid,w) in enumerate(zip(aids2,w2)):\n",
    "        m = 0.25 + 0.75*(ln-(i//(10*MM)))/ln\n",
    "        aids_temp[aid] += w*m\n",
    "                      \n",
    "    MM = 4\n",
    "    aids2 = list(itertools.chain(*[top_day[aid][:10*MM] for aid in unique_aids6 if aid in top_day]))\n",
    "    w2 = weights4* int(len(aids2)//(10*MM))        \n",
    "    for i,(aid,w) in enumerate(zip(aids2,w2)):\n",
    "        m = 0.25 + 0.75*(ln-(i//(10*MM)))/ln\n",
    "        aids_temp[aid] += 1 #w*m     \n",
    "        \n",
    "    ln0 = len(click_aids)\n",
    "    aids4 = list(itertools.chain(*[top_20_test[aid][:20] for aid in click_aids if aid in top_20_test]))\n",
    "    w4 = weights3* int(len(aids4)//(20))\n",
    "    for i,(aid,w) in enumerate(zip(aids4,w4)):\n",
    "        m = 0.25 + 0.75*(ln0-(i//(20)))/ln0\n",
    "        aids_temp[aid] += w*m\n",
    "    aids4 = list(itertools.chain(*[top_20_buy[aid][:20] for aid in click_aids if aid in top_20_buy]))\n",
    "    w4 = weights3* int(len(aids4)//(20))\n",
    "    for i,(aid,w) in enumerate(zip(aids4,w4)):\n",
    "        m = 0.25 + 0.75*(ln0-(i//(20)))/ln0\n",
    "        aids_temp[aid] += w*m\n",
    "    for aid in click_aids:\n",
    "        aids_temp[aid] += 1\n",
    "        \n",
    "    aids5 = list(itertools.chain(*[top_20c[aid][:55] for aid in unique_aids[:1] if aid in top_20c]))\n",
    "    w5 = weights2* int(len(aids5)//55)\n",
    "    for aid,w in zip(aids5,w5):\n",
    "        aids_temp[aid] += w\n",
    "        \n",
    "    if len(unique_aids)==1:\n",
    "        aids5 = list(itertools.chain(*[top_20_new2[aid][:20] for aid in unique_aids[-1:] if aid in top_20_new2]))\n",
    "        w5 = weights3* int(len(aids5)//20)\n",
    "        for aid,w in zip(aids5,w5):\n",
    "            aids_temp[aid] += w\n",
    "        aids5 = list(itertools.chain(*[top_20_new[aid][:20] for aid in unique_aids[-1:] if aid in top_20_new]))\n",
    "        w5 = weights3* int(len(aids5)//20)\n",
    "        for aid,w in zip(aids5,w5):\n",
    "            aids_temp[aid] += w\n",
    "        \n",
    "    aids5 = list(itertools.chain(*[top_20d[aid][:20] for aid in unique_buys[:1] if aid in top_20d]))\n",
    "    w5 = weights3* int(len(aids5)//20)\n",
    "    for aid,w in zip(aids5,w5):\n",
    "        aids_temp[aid] += w\n",
    "        \n",
    "    ln2 = len(unique_aids5)\n",
    "    aids5 = list(itertools.chain(*[top_20_buy[aid][:20] for aid in unique_aids5 if aid in top_20_buy]))\n",
    "    w5 = weights3* int(len(aids5)//20)\n",
    "    for aid,w in zip(aids5,w5):\n",
    "        aids_temp[aid] += 2*w/ln2\n",
    "        \n",
    "    aids4 = list(itertools.chain(*[top_20f[aid][:5] for aid in unique_aids4 if aid in top_20f]))\n",
    "    for i,aid in enumerate(aids4):\n",
    "        w = i//5\n",
    "        aids_temp[aid] += 1/2 -w*0.05\n",
    "        if i%5==0: aids_temp[aid] += 1/2 -w*0.05\n",
    "    aids5 = list(itertools.chain(*[top_20e[aid][:55] for aid in unique_aids3 if aid in top_20e]))\n",
    "    w5 = weights2* int(len(aids5)//55)\n",
    "    for i,(aid,w) in enumerate(zip(aids5,w5)):\n",
    "        w2 = i//55\n",
    "        aids_temp[aid] += w -w2*0.1\n",
    "    aids5 = list(itertools.chain(*[top_20e[aid][:10] for aid in unique_aids2 if aid in top_20e]))\n",
    "    w5 = weights* int(len(aids5)//10)\n",
    "    for i,(aid,w) in enumerate(zip(aids5,w5)):\n",
    "        w2 = i//10\n",
    "        aids_temp[aid] += w/2. -w2*0.05\n",
    "                            \n",
    "    sorted_aids = [k for k,v in aids_temp.most_common(ITEM_CT) if k not in unique_aids]\n",
    "    \n",
    "    result = unique_aids + sorted_aids[:ITEM_CT - len(unique_aids)]\n",
    "    return session, (result + top_orders[:ITEM_CT-len(result)])[:ITEM_CT]"
   ]
  },
  {
   "cell_type": "code",
   "execution_count": null,
   "id": "d57e0844",
   "metadata": {},
   "outputs": [],
   "source": []
  },
  {
   "cell_type": "code",
   "execution_count": 19,
   "id": "b6f76f45",
   "metadata": {},
   "outputs": [
    {
     "name": "stdout",
     "output_type": "stream",
     "text": [
      "N Cores : 40\n"
     ]
    }
   ],
   "source": [
    "import psutil\n",
    "N_CORES = psutil.cpu_count()     \n",
    "print(f\"N Cores : {N_CORES}\")\n",
    "from multiprocessing import Pool"
   ]
  },
  {
   "cell_type": "code",
   "execution_count": 20,
   "id": "169b61fc",
   "metadata": {},
   "outputs": [],
   "source": [
    "N_CORES = 20\n",
    "def df_parallelize_run(func, t_split):\n",
    "    \n",
    "    num_cores = np.min([N_CORES, len(t_split)])\n",
    "    pool = Pool(num_cores)\n",
    "    df = pool.map(func, t_split)\n",
    "    pool.close()\n",
    "    pool.join()\n",
    "    \n",
    "    return df"
   ]
  },
  {
   "cell_type": "code",
   "execution_count": 21,
   "id": "7810e35c",
   "metadata": {},
   "outputs": [
    {
     "name": "stdout",
     "output_type": "stream",
     "text": [
      "1671803\n",
      "CPU times: user 50.2 s, sys: 140 ms, total: 50.4 s\n",
      "Wall time: 50.3 s\n"
     ]
    }
   ],
   "source": [
    "%%time\n",
    "PIECES = 10\n",
    "valid_bysession_list = []\n",
    "for PART in range(PIECES):\n",
    "    with open(f'../../data/infer_data/lists/test_group_tolist_{PART}_1.pkl', 'rb') as f:\n",
    "        valid_bysession_list.extend(pickle.load(f))\n",
    "print(len(valid_bysession_list))"
   ]
  },
  {
   "cell_type": "code",
   "execution_count": 22,
   "id": "8596e298",
   "metadata": {},
   "outputs": [
    {
     "name": "stdout",
     "output_type": "stream",
     "text": [
      "CPU times: user 17.1 s, sys: 1.72 s, total: 18.9 s\n",
      "Wall time: 18.9 s\n"
     ]
    }
   ],
   "source": [
    "%%time\n",
    "import pickle\n",
    "click_df = pickle.load(open('../../data/candidate_scores/clicks_v620_LB.pkl', 'rb'))"
   ]
  },
  {
   "cell_type": "code",
   "execution_count": 23,
   "id": "764e1b18",
   "metadata": {},
   "outputs": [
    {
     "name": "stdout",
     "output_type": "stream",
     "text": [
      "CPU times: user 59.7 s, sys: 14.7 s, total: 1min 14s\n",
      "Wall time: 3min\n"
     ]
    }
   ],
   "source": [
    "%%time\n",
    "temp = df_parallelize_run(suggest_aids, valid_bysession_list)\n",
    "val_clicks = pd.Series([f[1]  for f in temp], index=[f[0] for f in temp])"
   ]
  },
  {
   "cell_type": "code",
   "execution_count": 24,
   "id": "5a9d727a",
   "metadata": {},
   "outputs": [
    {
     "data": {
      "text/plain": [
       "0"
      ]
     },
     "execution_count": 24,
     "metadata": {},
     "output_type": "execute_result"
    }
   ],
   "source": [
    "del top_20\n",
    "gc.collect()"
   ]
  },
  {
   "cell_type": "code",
   "execution_count": 25,
   "id": "c6dee6ef",
   "metadata": {},
   "outputs": [
    {
     "name": "stdout",
     "output_type": "stream",
     "text": [
      "CPU times: user 3min 1s, sys: 3.87 s, total: 3min 5s\n",
      "Wall time: 3min 5s\n"
     ]
    },
    {
     "data": {
      "text/plain": [
       "0"
      ]
     },
     "execution_count": 25,
     "metadata": {},
     "output_type": "execute_result"
    }
   ],
   "source": [
    "%%time\n",
    "top_20_orders = pickle.load(open('../../data/covisit_matrices/top_40_orders_carts_v118.pkl', 'rb')) #13 #UPGRADED\n",
    "for k,v in top_20_orders.items():\n",
    "    top_20_orders[k] = [np.int32(x) for x in v[:30]]\n",
    "top_20_carts = top_20_orders \n",
    "\n",
    "top_20_buy2buy = pickle.load(open('../../data/covisit_matrices/top_40_buy2buy_v16.pkl', 'rb'))\n",
    "for k,v in top_20_buy2buy.items():\n",
    "    top_20_buy2buy[k] = [np.int32(x) for x in v]\n",
    "    \n",
    "top_20_buy2buy2 = pickle.load(open('../../data/covisit_matrices/top_40_buy2buy_v119.pkl', 'rb')) #NEW\n",
    "for k,v in top_20_buy2buy2.items():\n",
    "    top_20_buy2buy2[k] = [np.int32(x) for x in v]\n",
    "    \n",
    "top_20_test = pickle.load(open('../../data/covisit_matrices/top_40_aids_v35.pkl', 'rb'))\n",
    "for k,v in top_20_test.items():\n",
    "    top_20_test[k] = [np.int32(x) for x in v]\n",
    "\n",
    "top_20_buy = pickle.load(open('../../data/covisit_matrices/top_20_aids_v37.pkl', 'rb'))\n",
    "for k,v in top_20_buy.items():\n",
    "    top_20_buy[k] = [np.int32(x) for x in v[:20]]\n",
    "    \n",
    "top_20_new = pickle.load(open('../../data/covisit_matrices/top_40_aids_v800_0.pkl', 'rb'))\n",
    "for k,v in top_20_new.items():\n",
    "    top_20_new[k] = [np.int32(x) for x in v[:20]]\n",
    "    \n",
    "gc.collect()"
   ]
  },
  {
   "cell_type": "code",
   "execution_count": 30,
   "id": "9bb6e398",
   "metadata": {},
   "outputs": [
    {
     "name": "stdout",
     "output_type": "stream",
     "text": [
      "CPU times: user 11.1 s, sys: 1.04 s, total: 12.1 s\n",
      "Wall time: 12.1 s\n"
     ]
    }
   ],
   "source": [
    "%%time\n",
    "top_40_less = pickle.load(open(f'../../data/covisit_matrices/top_40_aids_v178_0.pkl', 'rb')) \n",
    "for k,v in top_40_less.items(): top_40_less[k] = [np.int32(x) for x in v[:10]]\n",
    "    \n",
    "top_40_more = pickle.load(open(f'../../data/covisit_matrices/top_40_aids_v179_0.pkl', 'rb'))\n",
    "top_40_more.update( pickle.load(open(f'../../data/covisit_matrices/top_40_aids_v179_1.pkl', 'rb')) )\n",
    "for k,v in top_40_more.items(): top_40_more[k] = [np.int32(x) for x in v[:10]]"
   ]
  },
  {
   "cell_type": "code",
   "execution_count": 31,
   "id": "494de969",
   "metadata": {},
   "outputs": [
    {
     "name": "stdout",
     "output_type": "stream",
     "text": [
      "CPU times: user 48.2 s, sys: 4.71 s, total: 52.9 s\n",
      "Wall time: 53.7 s\n"
     ]
    }
   ],
   "source": [
    "%%time\n",
    "top_40_less2 = pickle.load(open(f'../../data/covisit_matrices/top_40_aids_v180_0.pkl', 'rb')) \n",
    "for k,v in top_40_less2.items(): top_40_less2[k] = [np.int32(x) for x in v[:10]]\n",
    "    \n",
    "top_40_more2 = pickle.load(open(f'../../data/covisit_matrices/top_40_aids_v181_0.pkl', 'rb'))\n",
    "top_40_more2.update( pickle.load(open(f'../../data/covisit_matrices/top_40_aids_v181_1.pkl', 'rb')) )\n",
    "for k,v in top_40_more2.items(): top_40_more2[k] = [np.int32(x) for x in v[:10]]"
   ]
  },
  {
   "cell_type": "code",
   "execution_count": 32,
   "id": "f81772eb",
   "metadata": {},
   "outputs": [
    {
     "name": "stdout",
     "output_type": "stream",
     "text": [
      "CPU times: user 1min 3s, sys: 19.3 s, total: 1min 22s\n",
      "Wall time: 2min 47s\n"
     ]
    }
   ],
   "source": [
    "%%time\n",
    "temp = df_parallelize_run(suggest_orders, valid_bysession_list)\n",
    "val_buys = pd.Series([f[1]  for f in temp], index=[f[0] for f in temp])"
   ]
  },
  {
   "cell_type": "code",
   "execution_count": null,
   "id": "70a6902f",
   "metadata": {},
   "outputs": [],
   "source": []
  },
  {
   "cell_type": "code",
   "execution_count": null,
   "id": "096b5ba5",
   "metadata": {},
   "outputs": [],
   "source": []
  },
  {
   "cell_type": "markdown",
   "id": "15de56a2",
   "metadata": {},
   "source": [
    "# Create Submission File"
   ]
  },
  {
   "cell_type": "code",
   "execution_count": 33,
   "id": "54aaa667",
   "metadata": {},
   "outputs": [],
   "source": [
    "pred_df = val_clicks\n",
    "pred_df_orders = val_buys"
   ]
  },
  {
   "cell_type": "code",
   "execution_count": 34,
   "id": "e55af5b5",
   "metadata": {},
   "outputs": [],
   "source": [
    "clicks_pred_df = pd.DataFrame(pred_df.add_suffix(\"_clicks\"), columns=[\"labels\"]).reset_index()\n",
    "orders_pred_df = pd.DataFrame(pred_df_orders.add_suffix(\"_orders\"), columns=[\"labels\"]).reset_index()\n",
    "carts_pred_df = pd.DataFrame(pred_df_orders.add_suffix(\"_carts\"), columns=[\"labels\"]).reset_index()"
   ]
  },
  {
   "cell_type": "code",
   "execution_count": 35,
   "id": "c25402c7",
   "metadata": {},
   "outputs": [
    {
     "name": "stdout",
     "output_type": "stream",
     "text": [
      "CPU times: user 5min 48s, sys: 4.37 s, total: 5min 52s\n",
      "Wall time: 5min 53s\n"
     ]
    }
   ],
   "source": [
    "%%time\n",
    "pred_df = pd.concat(\n",
    "    [clicks_pred_df, orders_pred_df, carts_pred_df]\n",
    ")\n",
    "pred_df.columns = [\"session_type\", \"labels\"]\n",
    "pred_df[\"labels\"] = pred_df.labels.apply(lambda x: \" \".join(map(str,x)))\n",
    "pred_df.to_csv(f\"../../data/candidate_scores/submission_v{VER}{OFFSET}{POSTFIX}.csv\", index=False)"
   ]
  },
  {
   "cell_type": "code",
   "execution_count": null,
   "id": "d7b9d3e7",
   "metadata": {},
   "outputs": [],
   "source": []
  }
 ],
 "metadata": {
  "kernelspec": {
   "display_name": "Python 3 (ipykernel)",
   "language": "python",
   "name": "python3"
  },
  "language_info": {
   "codemirror_mode": {
    "name": "ipython",
    "version": 3
   },
   "file_extension": ".py",
   "mimetype": "text/x-python",
   "name": "python",
   "nbconvert_exporter": "python",
   "pygments_lexer": "ipython3",
   "version": "3.8.13"
  },
  "papermill": {
   "default_parameters": {},
   "duration": 510.728298,
   "end_time": "2022-11-03T16:57:49.871924",
   "environment_variables": {},
   "exception": null,
   "input_path": "__notebook__.ipynb",
   "output_path": "__notebook__.ipynb",
   "parameters": {},
   "start_time": "2022-11-03T16:49:19.143626",
   "version": "2.3.4"
  },
  "widgets": {
   "application/vnd.jupyter.widget-state+json": {
    "state": {
     "031ee36fafb743fabfdbe2c52e404acf": {
      "model_module": "@jupyter-widgets/controls",
      "model_module_version": "1.5.0",
      "model_name": "FloatProgressModel",
      "state": {
       "_dom_classes": [],
       "_model_module": "@jupyter-widgets/controls",
       "_model_module_version": "1.5.0",
       "_model_name": "FloatProgressModel",
       "_view_count": null,
       "_view_module": "@jupyter-widgets/controls",
       "_view_module_version": "1.5.0",
       "_view_name": "ProgressView",
       "bar_style": "success",
       "description": "",
       "description_tooltip": null,
       "layout": "IPY_MODEL_c60d5b27c7104ff4b66221703612c2c8",
       "max": 17,
       "min": 0,
       "orientation": "horizontal",
       "style": "IPY_MODEL_c2ba884d4d0d4732937e2a78645d78e2",
       "value": 17
      }
     },
     "0760aa58dc6a449ebb44554c24ed2bd3": {
      "model_module": "@jupyter-widgets/controls",
      "model_module_version": "1.5.0",
      "model_name": "HTMLModel",
      "state": {
       "_dom_classes": [],
       "_model_module": "@jupyter-widgets/controls",
       "_model_module_version": "1.5.0",
       "_model_name": "HTMLModel",
       "_view_count": null,
       "_view_module": "@jupyter-widgets/controls",
       "_view_module_version": "1.5.0",
       "_view_name": "HTMLView",
       "description": "",
       "description_tooltip": null,
       "layout": "IPY_MODEL_1064b0bdf3bd4a3ea3020740104e0e92",
       "placeholder": "​",
       "style": "IPY_MODEL_be5e1ae69d7045e5a0033d98222fba08",
       "value": " 17/17 [00:02&lt;00:00,  9.56it/s]"
      }
     },
     "1064b0bdf3bd4a3ea3020740104e0e92": {
      "model_module": "@jupyter-widgets/base",
      "model_module_version": "1.2.0",
      "model_name": "LayoutModel",
      "state": {
       "_model_module": "@jupyter-widgets/base",
       "_model_module_version": "1.2.0",
       "_model_name": "LayoutModel",
       "_view_count": null,
       "_view_module": "@jupyter-widgets/base",
       "_view_module_version": "1.2.0",
       "_view_name": "LayoutView",
       "align_content": null,
       "align_items": null,
       "align_self": null,
       "border": null,
       "bottom": null,
       "display": null,
       "flex": null,
       "flex_flow": null,
       "grid_area": null,
       "grid_auto_columns": null,
       "grid_auto_flow": null,
       "grid_auto_rows": null,
       "grid_column": null,
       "grid_gap": null,
       "grid_row": null,
       "grid_template_areas": null,
       "grid_template_columns": null,
       "grid_template_rows": null,
       "height": null,
       "justify_content": null,
       "justify_items": null,
       "left": null,
       "margin": null,
       "max_height": null,
       "max_width": null,
       "min_height": null,
       "min_width": null,
       "object_fit": null,
       "object_position": null,
       "order": null,
       "overflow": null,
       "overflow_x": null,
       "overflow_y": null,
       "padding": null,
       "right": null,
       "top": null,
       "visibility": null,
       "width": null
      }
     },
     "1889ea3d74b44b2aa0aceaccc954093c": {
      "model_module": "@jupyter-widgets/controls",
      "model_module_version": "1.5.0",
      "model_name": "HBoxModel",
      "state": {
       "_dom_classes": [],
       "_model_module": "@jupyter-widgets/controls",
       "_model_module_version": "1.5.0",
       "_model_name": "HBoxModel",
       "_view_count": null,
       "_view_module": "@jupyter-widgets/controls",
       "_view_module_version": "1.5.0",
       "_view_name": "HBoxView",
       "box_style": "",
       "children": [
        "IPY_MODEL_2cdd3effa7b64da88f84b3752c118240",
        "IPY_MODEL_031ee36fafb743fabfdbe2c52e404acf",
        "IPY_MODEL_0760aa58dc6a449ebb44554c24ed2bd3"
       ],
       "layout": "IPY_MODEL_4f3ccc97bf9f42928feb4598055d7027"
      }
     },
     "2cdd3effa7b64da88f84b3752c118240": {
      "model_module": "@jupyter-widgets/controls",
      "model_module_version": "1.5.0",
      "model_name": "HTMLModel",
      "state": {
       "_dom_classes": [],
       "_model_module": "@jupyter-widgets/controls",
       "_model_module_version": "1.5.0",
       "_model_name": "HTMLModel",
       "_view_count": null,
       "_view_module": "@jupyter-widgets/controls",
       "_view_module_version": "1.5.0",
       "_view_name": "HTMLView",
       "description": "",
       "description_tooltip": null,
       "layout": "IPY_MODEL_e4c36f74dc844ee3b94f548e941d7207",
       "placeholder": "​",
       "style": "IPY_MODEL_9a77629b692844c6bac59e052d77b9d2",
       "value": "100%"
      }
     },
     "4f3ccc97bf9f42928feb4598055d7027": {
      "model_module": "@jupyter-widgets/base",
      "model_module_version": "1.2.0",
      "model_name": "LayoutModel",
      "state": {
       "_model_module": "@jupyter-widgets/base",
       "_model_module_version": "1.2.0",
       "_model_name": "LayoutModel",
       "_view_count": null,
       "_view_module": "@jupyter-widgets/base",
       "_view_module_version": "1.2.0",
       "_view_name": "LayoutView",
       "align_content": null,
       "align_items": null,
       "align_self": null,
       "border": null,
       "bottom": null,
       "display": null,
       "flex": null,
       "flex_flow": null,
       "grid_area": null,
       "grid_auto_columns": null,
       "grid_auto_flow": null,
       "grid_auto_rows": null,
       "grid_column": null,
       "grid_gap": null,
       "grid_row": null,
       "grid_template_areas": null,
       "grid_template_columns": null,
       "grid_template_rows": null,
       "height": null,
       "justify_content": null,
       "justify_items": null,
       "left": null,
       "margin": null,
       "max_height": null,
       "max_width": null,
       "min_height": null,
       "min_width": null,
       "object_fit": null,
       "object_position": null,
       "order": null,
       "overflow": null,
       "overflow_x": null,
       "overflow_y": null,
       "padding": null,
       "right": null,
       "top": null,
       "visibility": null,
       "width": null
      }
     },
     "9a77629b692844c6bac59e052d77b9d2": {
      "model_module": "@jupyter-widgets/controls",
      "model_module_version": "1.5.0",
      "model_name": "DescriptionStyleModel",
      "state": {
       "_model_module": "@jupyter-widgets/controls",
       "_model_module_version": "1.5.0",
       "_model_name": "DescriptionStyleModel",
       "_view_count": null,
       "_view_module": "@jupyter-widgets/base",
       "_view_module_version": "1.2.0",
       "_view_name": "StyleView",
       "description_width": ""
      }
     },
     "be5e1ae69d7045e5a0033d98222fba08": {
      "model_module": "@jupyter-widgets/controls",
      "model_module_version": "1.5.0",
      "model_name": "DescriptionStyleModel",
      "state": {
       "_model_module": "@jupyter-widgets/controls",
       "_model_module_version": "1.5.0",
       "_model_name": "DescriptionStyleModel",
       "_view_count": null,
       "_view_module": "@jupyter-widgets/base",
       "_view_module_version": "1.2.0",
       "_view_name": "StyleView",
       "description_width": ""
      }
     },
     "c2ba884d4d0d4732937e2a78645d78e2": {
      "model_module": "@jupyter-widgets/controls",
      "model_module_version": "1.5.0",
      "model_name": "ProgressStyleModel",
      "state": {
       "_model_module": "@jupyter-widgets/controls",
       "_model_module_version": "1.5.0",
       "_model_name": "ProgressStyleModel",
       "_view_count": null,
       "_view_module": "@jupyter-widgets/base",
       "_view_module_version": "1.2.0",
       "_view_name": "StyleView",
       "bar_color": null,
       "description_width": ""
      }
     },
     "c60d5b27c7104ff4b66221703612c2c8": {
      "model_module": "@jupyter-widgets/base",
      "model_module_version": "1.2.0",
      "model_name": "LayoutModel",
      "state": {
       "_model_module": "@jupyter-widgets/base",
       "_model_module_version": "1.2.0",
       "_model_name": "LayoutModel",
       "_view_count": null,
       "_view_module": "@jupyter-widgets/base",
       "_view_module_version": "1.2.0",
       "_view_name": "LayoutView",
       "align_content": null,
       "align_items": null,
       "align_self": null,
       "border": null,
       "bottom": null,
       "display": null,
       "flex": null,
       "flex_flow": null,
       "grid_area": null,
       "grid_auto_columns": null,
       "grid_auto_flow": null,
       "grid_auto_rows": null,
       "grid_column": null,
       "grid_gap": null,
       "grid_row": null,
       "grid_template_areas": null,
       "grid_template_columns": null,
       "grid_template_rows": null,
       "height": null,
       "justify_content": null,
       "justify_items": null,
       "left": null,
       "margin": null,
       "max_height": null,
       "max_width": null,
       "min_height": null,
       "min_width": null,
       "object_fit": null,
       "object_position": null,
       "order": null,
       "overflow": null,
       "overflow_x": null,
       "overflow_y": null,
       "padding": null,
       "right": null,
       "top": null,
       "visibility": null,
       "width": null
      }
     },
     "e4c36f74dc844ee3b94f548e941d7207": {
      "model_module": "@jupyter-widgets/base",
      "model_module_version": "1.2.0",
      "model_name": "LayoutModel",
      "state": {
       "_model_module": "@jupyter-widgets/base",
       "_model_module_version": "1.2.0",
       "_model_name": "LayoutModel",
       "_view_count": null,
       "_view_module": "@jupyter-widgets/base",
       "_view_module_version": "1.2.0",
       "_view_name": "LayoutView",
       "align_content": null,
       "align_items": null,
       "align_self": null,
       "border": null,
       "bottom": null,
       "display": null,
       "flex": null,
       "flex_flow": null,
       "grid_area": null,
       "grid_auto_columns": null,
       "grid_auto_flow": null,
       "grid_auto_rows": null,
       "grid_column": null,
       "grid_gap": null,
       "grid_row": null,
       "grid_template_areas": null,
       "grid_template_columns": null,
       "grid_template_rows": null,
       "height": null,
       "justify_content": null,
       "justify_items": null,
       "left": null,
       "margin": null,
       "max_height": null,
       "max_width": null,
       "min_height": null,
       "min_width": null,
       "object_fit": null,
       "object_position": null,
       "order": null,
       "overflow": null,
       "overflow_x": null,
       "overflow_y": null,
       "padding": null,
       "right": null,
       "top": null,
       "visibility": null,
       "width": null
      }
     }
    },
    "version_major": 2,
    "version_minor": 0
   }
  }
 },
 "nbformat": 4,
 "nbformat_minor": 5
}
