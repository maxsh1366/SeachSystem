{
 "cells": [
  {
   "cell_type": "code",
   "execution_count": 1,
   "id": "2c42eca5",
   "metadata": {},
   "outputs": [],
   "source": [
    "import os\n",
    "os.environ[\"CUDA_VISIBLE_DEVICES\"]=\"0\"\n",
    "\n",
    "import cudf, pandas as pd"
   ]
  },
  {
   "cell_type": "code",
   "execution_count": 2,
   "id": "41610cfc",
   "metadata": {},
   "outputs": [
    {
     "name": "stdout",
     "output_type": "stream",
     "text": [
      "(6928123, 4)\n"
     ]
    },
    {
     "data": {
      "text/html": [
       "<div>\n",
       "<style scoped>\n",
       "    .dataframe tbody tr th:only-of-type {\n",
       "        vertical-align: middle;\n",
       "    }\n",
       "\n",
       "    .dataframe tbody tr th {\n",
       "        vertical-align: top;\n",
       "    }\n",
       "\n",
       "    .dataframe thead th {\n",
       "        text-align: right;\n",
       "    }\n",
       "</style>\n",
       "<table border=\"1\" class=\"dataframe\">\n",
       "  <thead>\n",
       "    <tr style=\"text-align: right;\">\n",
       "      <th></th>\n",
       "      <th>session</th>\n",
       "      <th>aid</th>\n",
       "      <th>ts</th>\n",
       "      <th>type</th>\n",
       "    </tr>\n",
       "  </thead>\n",
       "  <tbody>\n",
       "    <tr>\n",
       "      <th>0</th>\n",
       "      <td>12899779</td>\n",
       "      <td>59625</td>\n",
       "      <td>1661724000</td>\n",
       "      <td>0</td>\n",
       "    </tr>\n",
       "    <tr>\n",
       "      <th>1</th>\n",
       "      <td>12899780</td>\n",
       "      <td>1142000</td>\n",
       "      <td>1661724000</td>\n",
       "      <td>0</td>\n",
       "    </tr>\n",
       "    <tr>\n",
       "      <th>2</th>\n",
       "      <td>12899780</td>\n",
       "      <td>582732</td>\n",
       "      <td>1661724058</td>\n",
       "      <td>0</td>\n",
       "    </tr>\n",
       "    <tr>\n",
       "      <th>3</th>\n",
       "      <td>12899780</td>\n",
       "      <td>973453</td>\n",
       "      <td>1661724109</td>\n",
       "      <td>0</td>\n",
       "    </tr>\n",
       "    <tr>\n",
       "      <th>4</th>\n",
       "      <td>12899780</td>\n",
       "      <td>736515</td>\n",
       "      <td>1661724136</td>\n",
       "      <td>0</td>\n",
       "    </tr>\n",
       "  </tbody>\n",
       "</table>\n",
       "</div>"
      ],
      "text/plain": [
       "    session      aid          ts  type\n",
       "0  12899779    59625  1661724000     0\n",
       "1  12899780  1142000  1661724000     0\n",
       "2  12899780   582732  1661724058     0\n",
       "3  12899780   973453  1661724109     0\n",
       "4  12899780   736515  1661724136     0"
      ]
     },
     "execution_count": 2,
     "metadata": {},
     "output_type": "execute_result"
    }
   ],
   "source": [
    "df = cudf.read_parquet('../../data/infer_data/test.parquet')\n",
    "df.ts = (df.ts//1000).astype('int32')\n",
    "\n",
    "mn = df.ts.min()\n",
    "#df['hour'] = df.ts % (60*60*24)\n",
    "#df['day'] = df.ts % (60*60*24*7)\n",
    "#df['aid2'] = df.aid\n",
    "print( df.shape )\n",
    "df.head()"
   ]
  },
  {
   "cell_type": "code",
   "execution_count": 3,
   "id": "7117fe90",
   "metadata": {},
   "outputs": [],
   "source": [
    "user_features = df.groupby('session').agg({'ts':'max'})\n",
    "user_features.columns = ['ts_max7']"
   ]
  },
  {
   "cell_type": "code",
   "execution_count": 4,
   "id": "5707d1eb",
   "metadata": {},
   "outputs": [
    {
     "data": {
      "text/html": [
       "<div>\n",
       "<style scoped>\n",
       "    .dataframe tbody tr th:only-of-type {\n",
       "        vertical-align: middle;\n",
       "    }\n",
       "\n",
       "    .dataframe tbody tr th {\n",
       "        vertical-align: top;\n",
       "    }\n",
       "\n",
       "    .dataframe thead th {\n",
       "        text-align: right;\n",
       "    }\n",
       "</style>\n",
       "<table border=\"1\" class=\"dataframe\">\n",
       "  <thead>\n",
       "    <tr style=\"text-align: right;\">\n",
       "      <th></th>\n",
       "      <th>ts_max7</th>\n",
       "    </tr>\n",
       "    <tr>\n",
       "      <th>session</th>\n",
       "      <th></th>\n",
       "    </tr>\n",
       "  </thead>\n",
       "  <tbody>\n",
       "    <tr>\n",
       "      <th>13191107</th>\n",
       "      <td>1661829345</td>\n",
       "    </tr>\n",
       "    <tr>\n",
       "      <th>13419212</th>\n",
       "      <td>1662113401</td>\n",
       "    </tr>\n",
       "    <tr>\n",
       "      <th>13711008</th>\n",
       "      <td>1661981622</td>\n",
       "    </tr>\n",
       "    <tr>\n",
       "      <th>13750431</th>\n",
       "      <td>1662017929</td>\n",
       "    </tr>\n",
       "    <tr>\n",
       "      <th>13775993</th>\n",
       "      <td>1662026758</td>\n",
       "    </tr>\n",
       "  </tbody>\n",
       "</table>\n",
       "</div>"
      ],
      "text/plain": [
       "             ts_max7\n",
       "session             \n",
       "13191107  1661829345\n",
       "13419212  1662113401\n",
       "13711008  1661981622\n",
       "13750431  1662017929\n",
       "13775993  1662026758"
      ]
     },
     "execution_count": 4,
     "metadata": {},
     "output_type": "execute_result"
    }
   ],
   "source": [
    "user_features.head()"
   ]
  },
  {
   "cell_type": "code",
   "execution_count": 5,
   "id": "e7818f39",
   "metadata": {},
   "outputs": [],
   "source": [
    "user_features2 = df.groupby('session').agg({'ts':'min'})\n",
    "user_features2.columns = ['ts_min7']"
   ]
  },
  {
   "cell_type": "code",
   "execution_count": 6,
   "id": "cf254791",
   "metadata": {},
   "outputs": [
    {
     "data": {
      "text/html": [
       "<div>\n",
       "<style scoped>\n",
       "    .dataframe tbody tr th:only-of-type {\n",
       "        vertical-align: middle;\n",
       "    }\n",
       "\n",
       "    .dataframe tbody tr th {\n",
       "        vertical-align: top;\n",
       "    }\n",
       "\n",
       "    .dataframe thead th {\n",
       "        text-align: right;\n",
       "    }\n",
       "</style>\n",
       "<table border=\"1\" class=\"dataframe\">\n",
       "  <thead>\n",
       "    <tr style=\"text-align: right;\">\n",
       "      <th></th>\n",
       "      <th>ts_min7</th>\n",
       "    </tr>\n",
       "    <tr>\n",
       "      <th>session</th>\n",
       "      <th></th>\n",
       "    </tr>\n",
       "  </thead>\n",
       "  <tbody>\n",
       "    <tr>\n",
       "      <th>13191107</th>\n",
       "      <td>1661829277</td>\n",
       "    </tr>\n",
       "    <tr>\n",
       "      <th>13419212</th>\n",
       "      <td>1661888079</td>\n",
       "    </tr>\n",
       "    <tr>\n",
       "      <th>13711008</th>\n",
       "      <td>1661981622</td>\n",
       "    </tr>\n",
       "    <tr>\n",
       "      <th>13750431</th>\n",
       "      <td>1662017929</td>\n",
       "    </tr>\n",
       "    <tr>\n",
       "      <th>13775993</th>\n",
       "      <td>1662026687</td>\n",
       "    </tr>\n",
       "  </tbody>\n",
       "</table>\n",
       "</div>"
      ],
      "text/plain": [
       "             ts_min7\n",
       "session             \n",
       "13191107  1661829277\n",
       "13419212  1661888079\n",
       "13711008  1661981622\n",
       "13750431  1662017929\n",
       "13775993  1662026687"
      ]
     },
     "execution_count": 6,
     "metadata": {},
     "output_type": "execute_result"
    }
   ],
   "source": [
    "user_features2.head()"
   ]
  },
  {
   "cell_type": "code",
   "execution_count": 7,
   "id": "5c826403",
   "metadata": {},
   "outputs": [],
   "source": [
    "user_features = cudf.concat([user_features,user_features2],axis=1)"
   ]
  },
  {
   "cell_type": "code",
   "execution_count": null,
   "id": "0a0aa2b8",
   "metadata": {},
   "outputs": [],
   "source": []
  },
  {
   "cell_type": "code",
   "execution_count": 8,
   "id": "4218e2fb",
   "metadata": {},
   "outputs": [],
   "source": [
    "user_features['ts_diff7'] = user_features.ts_max7 - user_features.ts_min7"
   ]
  },
  {
   "cell_type": "code",
   "execution_count": 9,
   "id": "39c905a0",
   "metadata": {},
   "outputs": [],
   "source": [
    "for c in ['ts_max7','ts_min7']:\n",
    "    user_features[c] -= mn"
   ]
  },
  {
   "cell_type": "code",
   "execution_count": 10,
   "id": "d44f7068",
   "metadata": {},
   "outputs": [
    {
     "data": {
      "text/html": [
       "<div>\n",
       "<style scoped>\n",
       "    .dataframe tbody tr th:only-of-type {\n",
       "        vertical-align: middle;\n",
       "    }\n",
       "\n",
       "    .dataframe tbody tr th {\n",
       "        vertical-align: top;\n",
       "    }\n",
       "\n",
       "    .dataframe thead th {\n",
       "        text-align: right;\n",
       "    }\n",
       "</style>\n",
       "<table border=\"1\" class=\"dataframe\">\n",
       "  <thead>\n",
       "    <tr style=\"text-align: right;\">\n",
       "      <th></th>\n",
       "      <th>ts_max7</th>\n",
       "      <th>ts_min7</th>\n",
       "      <th>ts_diff7</th>\n",
       "    </tr>\n",
       "    <tr>\n",
       "      <th>session</th>\n",
       "      <th></th>\n",
       "      <th></th>\n",
       "      <th></th>\n",
       "    </tr>\n",
       "  </thead>\n",
       "  <tbody>\n",
       "    <tr>\n",
       "      <th>12899779</th>\n",
       "      <td>0</td>\n",
       "      <td>0</td>\n",
       "      <td>0</td>\n",
       "    </tr>\n",
       "    <tr>\n",
       "      <th>12899780</th>\n",
       "      <td>155</td>\n",
       "      <td>0</td>\n",
       "      <td>155</td>\n",
       "    </tr>\n",
       "    <tr>\n",
       "      <th>12899781</th>\n",
       "      <td>336160</td>\n",
       "      <td>0</td>\n",
       "      <td>336160</td>\n",
       "    </tr>\n",
       "    <tr>\n",
       "      <th>12899782</th>\n",
       "      <td>79953</td>\n",
       "      <td>0</td>\n",
       "      <td>79953</td>\n",
       "    </tr>\n",
       "    <tr>\n",
       "      <th>12899783</th>\n",
       "      <td>317140</td>\n",
       "      <td>0</td>\n",
       "      <td>317140</td>\n",
       "    </tr>\n",
       "  </tbody>\n",
       "</table>\n",
       "</div>"
      ],
      "text/plain": [
       "          ts_max7  ts_min7  ts_diff7\n",
       "session                             \n",
       "12899779        0        0         0\n",
       "12899780      155        0       155\n",
       "12899781   336160        0    336160\n",
       "12899782    79953        0     79953\n",
       "12899783   317140        0    317140"
      ]
     },
     "execution_count": 10,
     "metadata": {},
     "output_type": "execute_result"
    }
   ],
   "source": [
    "user_features.head()"
   ]
  },
  {
   "cell_type": "code",
   "execution_count": 11,
   "id": "7ab70d81",
   "metadata": {},
   "outputs": [],
   "source": [
    "user_features = user_features.astype('int32')"
   ]
  },
  {
   "cell_type": "code",
   "execution_count": 12,
   "id": "5b70464e",
   "metadata": {},
   "outputs": [],
   "source": [
    "user_features.to_parquet('../../data/item_user_features/user7_LB.pqt')"
   ]
  }
 ],
 "metadata": {
  "kernelspec": {
   "display_name": "Python 3 (ipykernel)",
   "language": "python",
   "name": "python3"
  },
  "language_info": {
   "codemirror_mode": {
    "name": "ipython",
    "version": 3
   },
   "file_extension": ".py",
   "mimetype": "text/x-python",
   "name": "python",
   "nbconvert_exporter": "python",
   "pygments_lexer": "ipython3",
   "version": "3.8.13"
  }
 },
 "nbformat": 4,
 "nbformat_minor": 5
}
