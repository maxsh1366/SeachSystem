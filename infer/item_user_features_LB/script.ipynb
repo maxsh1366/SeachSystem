{
 "cells": [
  {
   "cell_type": "code",
   "execution_count": null,
   "id": "a2648eb2",
   "metadata": {},
   "outputs": [],
   "source": []
  },
  {
   "cell_type": "code",
   "execution_count": null,
   "id": "b5b42b05",
   "metadata": {},
   "outputs": [],
   "source": [
    "%reset -f\n",
    "%run embeddings-for-test.ipynb"
   ]
  },
  {
   "cell_type": "code",
   "execution_count": null,
   "id": "f0218f36",
   "metadata": {},
   "outputs": [],
   "source": []
  },
  {
   "cell_type": "code",
   "execution_count": null,
   "id": "a0c513b5",
   "metadata": {},
   "outputs": [],
   "source": [
    "%reset -f\n",
    "%run item-features-10-LB.ipynb"
   ]
  },
  {
   "cell_type": "code",
   "execution_count": null,
   "id": "a85efbca",
   "metadata": {},
   "outputs": [],
   "source": [
    "%reset -f\n",
    "%run item-features-13-LB.ipynb"
   ]
  },
  {
   "cell_type": "code",
   "execution_count": null,
   "id": "730cc5a7",
   "metadata": {},
   "outputs": [],
   "source": [
    "%reset -f\n",
    "%run item-features-14b-LB.ipynb"
   ]
  },
  {
   "cell_type": "code",
   "execution_count": null,
   "id": "f37556eb",
   "metadata": {},
   "outputs": [],
   "source": [
    "%reset -f\n",
    "%run item-features-20-LB.ipynb"
   ]
  },
  {
   "cell_type": "code",
   "execution_count": null,
   "id": "0049cff8",
   "metadata": {},
   "outputs": [],
   "source": [
    "%reset -f\n",
    "%run item-features-21-LB.ipynb"
   ]
  },
  {
   "cell_type": "code",
   "execution_count": null,
   "id": "86163d69",
   "metadata": {},
   "outputs": [],
   "source": [
    "%reset -f\n",
    "%run item-features-22-LB.ipynb"
   ]
  },
  {
   "cell_type": "code",
   "execution_count": null,
   "id": "50188085",
   "metadata": {},
   "outputs": [],
   "source": [
    "%reset -f\n",
    "%run item-features-4-LB.ipynb"
   ]
  },
  {
   "cell_type": "code",
   "execution_count": null,
   "id": "d0ccb0f0",
   "metadata": {},
   "outputs": [],
   "source": [
    "%reset -f\n",
    "%run item-features-40-LB.ipynb"
   ]
  },
  {
   "cell_type": "code",
   "execution_count": null,
   "id": "c15455f7",
   "metadata": {},
   "outputs": [],
   "source": [
    "%reset -f\n",
    "%run item-features-41-LB.ipynb"
   ]
  },
  {
   "cell_type": "code",
   "execution_count": null,
   "id": "92999047",
   "metadata": {},
   "outputs": [],
   "source": []
  },
  {
   "cell_type": "code",
   "execution_count": null,
   "id": "34c3edf0",
   "metadata": {},
   "outputs": [],
   "source": [
    "%reset -f\n",
    "%run user-features-10-LB.ipynb"
   ]
  },
  {
   "cell_type": "code",
   "execution_count": null,
   "id": "3c3745b1",
   "metadata": {},
   "outputs": [],
   "source": [
    "%reset -f\n",
    "%run user-features-20-LB.ipynb"
   ]
  },
  {
   "cell_type": "code",
   "execution_count": null,
   "id": "d14fd858",
   "metadata": {},
   "outputs": [],
   "source": [
    "%reset -f\n",
    "%run user-features-21-LB.ipynb"
   ]
  },
  {
   "cell_type": "code",
   "execution_count": null,
   "id": "d1731608",
   "metadata": {},
   "outputs": [],
   "source": [
    "%reset -f\n",
    "%run user-features-4-LB.ipynb"
   ]
  },
  {
   "cell_type": "code",
   "execution_count": null,
   "id": "4e4cef50",
   "metadata": {},
   "outputs": [],
   "source": [
    "%reset -f\n",
    "%run user-features-7-LB.ipynb"
   ]
  },
  {
   "cell_type": "code",
   "execution_count": null,
   "id": "f15bd8f1",
   "metadata": {},
   "outputs": [],
   "source": []
  }
 ],
 "metadata": {
  "kernelspec": {
   "display_name": "Python 3 (ipykernel)",
   "language": "python",
   "name": "python3"
  },
  "language_info": {
   "codemirror_mode": {
    "name": "ipython",
    "version": 3
   },
   "file_extension": ".py",
   "mimetype": "text/x-python",
   "name": "python",
   "nbconvert_exporter": "python",
   "pygments_lexer": "ipython3",
   "version": "3.8.13"
  }
 },
 "nbformat": 4,
 "nbformat_minor": 5
}
