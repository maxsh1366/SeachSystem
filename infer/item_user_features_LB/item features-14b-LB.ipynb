{
 "cells": [
  {
   "cell_type": "code",
   "execution_count": 1,
   "id": "2c42eca5",
   "metadata": {},
   "outputs": [],
   "source": [
    "import os,gc\n",
    "os.environ[\"CUDA_VISIBLE_DEVICES\"]=\"0\"\n",
    "\n",
    "import cudf"
   ]
  },
  {
   "cell_type": "code",
   "execution_count": 2,
   "id": "41610cfc",
   "metadata": {},
   "outputs": [
    {
     "name": "stdout",
     "output_type": "stream",
     "text": [
      "(216716096, 4)\n",
      "(163555218, 4)\n"
     ]
    },
    {
     "data": {
      "text/html": [
       "<div>\n",
       "<style scoped>\n",
       "    .dataframe tbody tr th:only-of-type {\n",
       "        vertical-align: middle;\n",
       "    }\n",
       "\n",
       "    .dataframe tbody tr th {\n",
       "        vertical-align: top;\n",
       "    }\n",
       "\n",
       "    .dataframe thead th {\n",
       "        text-align: right;\n",
       "    }\n",
       "</style>\n",
       "<table border=\"1\" class=\"dataframe\">\n",
       "  <thead>\n",
       "    <tr style=\"text-align: right;\">\n",
       "      <th></th>\n",
       "      <th>session</th>\n",
       "      <th>aid</th>\n",
       "      <th>ts</th>\n",
       "      <th>type</th>\n",
       "    </tr>\n",
       "  </thead>\n",
       "  <tbody>\n",
       "    <tr>\n",
       "      <th>0</th>\n",
       "      <td>0</td>\n",
       "      <td>1629651</td>\n",
       "      <td>1659964140</td>\n",
       "      <td>0</td>\n",
       "    </tr>\n",
       "    <tr>\n",
       "      <th>1</th>\n",
       "      <td>0</td>\n",
       "      <td>1768568</td>\n",
       "      <td>1660015113</td>\n",
       "      <td>0</td>\n",
       "    </tr>\n",
       "    <tr>\n",
       "      <th>2</th>\n",
       "      <td>0</td>\n",
       "      <td>1318324</td>\n",
       "      <td>1660015128</td>\n",
       "      <td>0</td>\n",
       "    </tr>\n",
       "    <tr>\n",
       "      <th>3</th>\n",
       "      <td>0</td>\n",
       "      <td>1840418</td>\n",
       "      <td>1660024261</td>\n",
       "      <td>0</td>\n",
       "    </tr>\n",
       "    <tr>\n",
       "      <th>4</th>\n",
       "      <td>0</td>\n",
       "      <td>1813509</td>\n",
       "      <td>1660024355</td>\n",
       "      <td>0</td>\n",
       "    </tr>\n",
       "  </tbody>\n",
       "</table>\n",
       "</div>"
      ],
      "text/plain": [
       "   session      aid          ts  type\n",
       "0        0  1629651  1659964140     0\n",
       "1        0  1768568  1660015113     0\n",
       "2        0  1318324  1660015128     0\n",
       "3        0  1840418  1660024261     0\n",
       "4        0  1813509  1660024355     0"
      ]
     },
     "execution_count": 2,
     "metadata": {},
     "output_type": "execute_result"
    }
   ],
   "source": [
    "df = cudf.read_parquet('../../data/infer_data/train.parquet')\n",
    "df.ts = (df.ts//1000).astype('int32')\n",
    "\n",
    "print( df.shape )\n",
    "MN = df.ts.min()\n",
    "df = df.loc[df.ts >= MN + 60*60*24*7].reset_index(drop=True)\n",
    "\n",
    "print( df.shape )\n",
    "df.head()"
   ]
  },
  {
   "cell_type": "code",
   "execution_count": null,
   "id": "1cf1cc48",
   "metadata": {},
   "outputs": [],
   "source": []
  },
  {
   "cell_type": "code",
   "execution_count": 3,
   "id": "c7adc6b8",
   "metadata": {},
   "outputs": [],
   "source": [
    "mx = df.ts.max()\n",
    "df = df.loc[df.ts > mx - 60*60*24*21]"
   ]
  },
  {
   "cell_type": "code",
   "execution_count": 4,
   "id": "5b1cc758",
   "metadata": {},
   "outputs": [],
   "source": [
    "mn = df.ts.min()\n",
    "#df['hour'] = df.ts % (60*60*24)\n",
    "df['day'] = (df.ts-mn)  // (60*60*24) #% (60*60*24*7)"
   ]
  },
  {
   "cell_type": "code",
   "execution_count": 5,
   "id": "54596ea7",
   "metadata": {},
   "outputs": [],
   "source": [
    "AIDS = df.aid.unique().values\n",
    "DAYS = df.day.unique().values"
   ]
  },
  {
   "cell_type": "code",
   "execution_count": 6,
   "id": "26776b34",
   "metadata": {},
   "outputs": [
    {
     "data": {
      "text/plain": [
       "array([ 0,  1,  2,  3,  4,  5,  6,  7,  8,  9, 10, 11, 12, 13, 14, 15, 16,\n",
       "       17, 18, 19, 20])"
      ]
     },
     "execution_count": 6,
     "metadata": {},
     "output_type": "execute_result"
    }
   ],
   "source": [
    "DAYS"
   ]
  },
  {
   "cell_type": "code",
   "execution_count": 7,
   "id": "fc735745",
   "metadata": {},
   "outputs": [],
   "source": [
    "tmp = df.groupby(['aid','day']).agg({'aid':'count','session':'count'})\n",
    "tmp.columns = ['item','user']"
   ]
  },
  {
   "cell_type": "code",
   "execution_count": 8,
   "id": "48b3fd41",
   "metadata": {},
   "outputs": [
    {
     "data": {
      "text/html": [
       "<div>\n",
       "<style scoped>\n",
       "    .dataframe tbody tr th:only-of-type {\n",
       "        vertical-align: middle;\n",
       "    }\n",
       "\n",
       "    .dataframe tbody tr th {\n",
       "        vertical-align: top;\n",
       "    }\n",
       "\n",
       "    .dataframe thead th {\n",
       "        text-align: right;\n",
       "    }\n",
       "</style>\n",
       "<table border=\"1\" class=\"dataframe\">\n",
       "  <thead>\n",
       "    <tr style=\"text-align: right;\">\n",
       "      <th></th>\n",
       "      <th></th>\n",
       "      <th>item</th>\n",
       "      <th>user</th>\n",
       "    </tr>\n",
       "    <tr>\n",
       "      <th>aid</th>\n",
       "      <th>day</th>\n",
       "      <th></th>\n",
       "      <th></th>\n",
       "    </tr>\n",
       "  </thead>\n",
       "  <tbody>\n",
       "    <tr>\n",
       "      <th>1032706</th>\n",
       "      <th>5</th>\n",
       "      <td>8</td>\n",
       "      <td>8</td>\n",
       "    </tr>\n",
       "    <tr>\n",
       "      <th>247381</th>\n",
       "      <th>18</th>\n",
       "      <td>1</td>\n",
       "      <td>1</td>\n",
       "    </tr>\n",
       "    <tr>\n",
       "      <th>653273</th>\n",
       "      <th>18</th>\n",
       "      <td>3</td>\n",
       "      <td>3</td>\n",
       "    </tr>\n",
       "    <tr>\n",
       "      <th>11948</th>\n",
       "      <th>13</th>\n",
       "      <td>1</td>\n",
       "      <td>1</td>\n",
       "    </tr>\n",
       "    <tr>\n",
       "      <th>649741</th>\n",
       "      <th>6</th>\n",
       "      <td>7</td>\n",
       "      <td>7</td>\n",
       "    </tr>\n",
       "  </tbody>\n",
       "</table>\n",
       "</div>"
      ],
      "text/plain": [
       "             item  user\n",
       "aid     day            \n",
       "1032706 5       8     8\n",
       "247381  18      1     1\n",
       "653273  18      3     3\n",
       "11948   13      1     1\n",
       "649741  6       7     7"
      ]
     },
     "execution_count": 8,
     "metadata": {},
     "output_type": "execute_result"
    }
   ],
   "source": [
    "tmp.head()"
   ]
  },
  {
   "cell_type": "code",
   "execution_count": 9,
   "id": "939e32cb",
   "metadata": {},
   "outputs": [],
   "source": [
    "import cupy\n",
    "dff = cudf.DataFrame(columns=['aid','day'])\n",
    "dff['aid'] = cupy.repeat(AIDS,21).astype('int32')\n",
    "dff['day'] = cupy.tile(DAYS,len(AIDS)).astype('int8')"
   ]
  },
  {
   "cell_type": "code",
   "execution_count": 10,
   "id": "a00f73f7",
   "metadata": {},
   "outputs": [],
   "source": [
    "dff = dff.set_index( ['aid','day'] )"
   ]
  },
  {
   "cell_type": "code",
   "execution_count": 11,
   "id": "09c2323d",
   "metadata": {},
   "outputs": [
    {
     "data": {
      "text/html": [
       "<div>\n",
       "<style scoped>\n",
       "    .dataframe tbody tr th:only-of-type {\n",
       "        vertical-align: middle;\n",
       "    }\n",
       "\n",
       "    .dataframe tbody tr th {\n",
       "        vertical-align: top;\n",
       "    }\n",
       "\n",
       "    .dataframe thead th {\n",
       "        text-align: right;\n",
       "    }\n",
       "</style>\n",
       "<table border=\"1\" class=\"dataframe\">\n",
       "  <thead>\n",
       "    <tr style=\"text-align: right;\">\n",
       "      <th></th>\n",
       "      <th></th>\n",
       "    </tr>\n",
       "    <tr>\n",
       "      <th>aid</th>\n",
       "      <th>day</th>\n",
       "    </tr>\n",
       "  </thead>\n",
       "  <tbody>\n",
       "    <tr>\n",
       "      <th rowspan=\"5\" valign=\"top\">0</th>\n",
       "      <th>0</th>\n",
       "    </tr>\n",
       "    <tr>\n",
       "      <th>1</th>\n",
       "    </tr>\n",
       "    <tr>\n",
       "      <th>2</th>\n",
       "    </tr>\n",
       "    <tr>\n",
       "      <th>3</th>\n",
       "    </tr>\n",
       "    <tr>\n",
       "      <th>4</th>\n",
       "    </tr>\n",
       "  </tbody>\n",
       "</table>\n",
       "</div>"
      ],
      "text/plain": [
       "Empty DataFrame\n",
       "Columns: []\n",
       "Index: [(0, 0), (0, 1), (0, 2), (0, 3), (0, 4)]"
      ]
     },
     "execution_count": 11,
     "metadata": {},
     "output_type": "execute_result"
    }
   ],
   "source": [
    "dff.head()"
   ]
  },
  {
   "cell_type": "code",
   "execution_count": 12,
   "id": "bfbe3587",
   "metadata": {},
   "outputs": [],
   "source": [
    "dff = dff.merge(tmp, left_index=True, right_index=True, how='left').fillna(0).reset_index()"
   ]
  },
  {
   "cell_type": "code",
   "execution_count": 13,
   "id": "7d48dc68",
   "metadata": {},
   "outputs": [
    {
     "data": {
      "text/html": [
       "<div>\n",
       "<style scoped>\n",
       "    .dataframe tbody tr th:only-of-type {\n",
       "        vertical-align: middle;\n",
       "    }\n",
       "\n",
       "    .dataframe tbody tr th {\n",
       "        vertical-align: top;\n",
       "    }\n",
       "\n",
       "    .dataframe thead th {\n",
       "        text-align: right;\n",
       "    }\n",
       "</style>\n",
       "<table border=\"1\" class=\"dataframe\">\n",
       "  <thead>\n",
       "    <tr style=\"text-align: right;\">\n",
       "      <th></th>\n",
       "      <th>aid</th>\n",
       "      <th>day</th>\n",
       "      <th>item</th>\n",
       "      <th>user</th>\n",
       "    </tr>\n",
       "  </thead>\n",
       "  <tbody>\n",
       "    <tr>\n",
       "      <th>0</th>\n",
       "      <td>375</td>\n",
       "      <td>7</td>\n",
       "      <td>0</td>\n",
       "      <td>0</td>\n",
       "    </tr>\n",
       "    <tr>\n",
       "      <th>1</th>\n",
       "      <td>375</td>\n",
       "      <td>8</td>\n",
       "      <td>0</td>\n",
       "      <td>0</td>\n",
       "    </tr>\n",
       "    <tr>\n",
       "      <th>2</th>\n",
       "      <td>375</td>\n",
       "      <td>9</td>\n",
       "      <td>0</td>\n",
       "      <td>0</td>\n",
       "    </tr>\n",
       "    <tr>\n",
       "      <th>3</th>\n",
       "      <td>375</td>\n",
       "      <td>10</td>\n",
       "      <td>0</td>\n",
       "      <td>0</td>\n",
       "    </tr>\n",
       "    <tr>\n",
       "      <th>4</th>\n",
       "      <td>375</td>\n",
       "      <td>11</td>\n",
       "      <td>0</td>\n",
       "      <td>0</td>\n",
       "    </tr>\n",
       "  </tbody>\n",
       "</table>\n",
       "</div>"
      ],
      "text/plain": [
       "   aid  day  item  user\n",
       "0  375    7     0     0\n",
       "1  375    8     0     0\n",
       "2  375    9     0     0\n",
       "3  375   10     0     0\n",
       "4  375   11     0     0"
      ]
     },
     "execution_count": 13,
     "metadata": {},
     "output_type": "execute_result"
    }
   ],
   "source": [
    "dff.head()"
   ]
  },
  {
   "cell_type": "code",
   "execution_count": 14,
   "id": "83003454",
   "metadata": {},
   "outputs": [],
   "source": [
    "item_features3 = dff.groupby('aid').agg({'item':'std','user':'std'}).fillna(-1)\n",
    "item_features3.columns = ['item_day_std','user_day_std']\n",
    "\n",
    "f32 = ['item_day_std','user_day_std']\n",
    "for c in f32: item_features3[c] = item_features3[c].astype('float32')"
   ]
  },
  {
   "cell_type": "code",
   "execution_count": 15,
   "id": "e69d1038",
   "metadata": {},
   "outputs": [
    {
     "data": {
      "text/plain": [
       "86"
      ]
     },
     "execution_count": 15,
     "metadata": {},
     "output_type": "execute_result"
    }
   ],
   "source": [
    "del dff\n",
    "gc.collect()"
   ]
  },
  {
   "cell_type": "code",
   "execution_count": 16,
   "id": "1a8a6e0c",
   "metadata": {},
   "outputs": [
    {
     "data": {
      "text/html": [
       "<div>\n",
       "<style scoped>\n",
       "    .dataframe tbody tr th:only-of-type {\n",
       "        vertical-align: middle;\n",
       "    }\n",
       "\n",
       "    .dataframe tbody tr th {\n",
       "        vertical-align: top;\n",
       "    }\n",
       "\n",
       "    .dataframe thead th {\n",
       "        text-align: right;\n",
       "    }\n",
       "</style>\n",
       "<table border=\"1\" class=\"dataframe\">\n",
       "  <thead>\n",
       "    <tr style=\"text-align: right;\">\n",
       "      <th></th>\n",
       "      <th>item_day_std</th>\n",
       "      <th>user_day_std</th>\n",
       "    </tr>\n",
       "    <tr>\n",
       "      <th>aid</th>\n",
       "      <th></th>\n",
       "      <th></th>\n",
       "    </tr>\n",
       "  </thead>\n",
       "  <tbody>\n",
       "    <tr>\n",
       "      <th>102299</th>\n",
       "      <td>1.627151</td>\n",
       "      <td>1.627151</td>\n",
       "    </tr>\n",
       "    <tr>\n",
       "      <th>223409</th>\n",
       "      <td>0.436436</td>\n",
       "      <td>0.436436</td>\n",
       "    </tr>\n",
       "    <tr>\n",
       "      <th>41691</th>\n",
       "      <td>0.560612</td>\n",
       "      <td>0.560612</td>\n",
       "    </tr>\n",
       "    <tr>\n",
       "      <th>132253</th>\n",
       "      <td>0.300793</td>\n",
       "      <td>0.300793</td>\n",
       "    </tr>\n",
       "    <tr>\n",
       "      <th>1617899</th>\n",
       "      <td>6.720261</td>\n",
       "      <td>6.720261</td>\n",
       "    </tr>\n",
       "  </tbody>\n",
       "</table>\n",
       "</div>"
      ],
      "text/plain": [
       "         item_day_std  user_day_std\n",
       "aid                                \n",
       "102299       1.627151      1.627151\n",
       "223409       0.436436      0.436436\n",
       "41691        0.560612      0.560612\n",
       "132253       0.300793      0.300793\n",
       "1617899      6.720261      6.720261"
      ]
     },
     "execution_count": 16,
     "metadata": {},
     "output_type": "execute_result"
    }
   ],
   "source": [
    "item_features3.head()"
   ]
  },
  {
   "cell_type": "code",
   "execution_count": null,
   "id": "c49077ee",
   "metadata": {},
   "outputs": [],
   "source": []
  },
  {
   "cell_type": "code",
   "execution_count": 17,
   "id": "6dcbe66a",
   "metadata": {},
   "outputs": [
    {
     "name": "stdout",
     "output_type": "stream",
     "text": [
      "(216716096, 5)\n"
     ]
    },
    {
     "data": {
      "text/html": [
       "<div>\n",
       "<style scoped>\n",
       "    .dataframe tbody tr th:only-of-type {\n",
       "        vertical-align: middle;\n",
       "    }\n",
       "\n",
       "    .dataframe tbody tr th {\n",
       "        vertical-align: top;\n",
       "    }\n",
       "\n",
       "    .dataframe thead th {\n",
       "        text-align: right;\n",
       "    }\n",
       "</style>\n",
       "<table border=\"1\" class=\"dataframe\">\n",
       "  <thead>\n",
       "    <tr style=\"text-align: right;\">\n",
       "      <th></th>\n",
       "      <th>session</th>\n",
       "      <th>aid</th>\n",
       "      <th>ts</th>\n",
       "      <th>type</th>\n",
       "      <th>day</th>\n",
       "    </tr>\n",
       "  </thead>\n",
       "  <tbody>\n",
       "    <tr>\n",
       "      <th>0</th>\n",
       "      <td>0</td>\n",
       "      <td>1517085</td>\n",
       "      <td>1659304800</td>\n",
       "      <td>0</td>\n",
       "      <td>0</td>\n",
       "    </tr>\n",
       "    <tr>\n",
       "      <th>1</th>\n",
       "      <td>0</td>\n",
       "      <td>1563459</td>\n",
       "      <td>1659304904</td>\n",
       "      <td>0</td>\n",
       "      <td>0</td>\n",
       "    </tr>\n",
       "    <tr>\n",
       "      <th>2</th>\n",
       "      <td>0</td>\n",
       "      <td>1309446</td>\n",
       "      <td>1659367439</td>\n",
       "      <td>0</td>\n",
       "      <td>0</td>\n",
       "    </tr>\n",
       "    <tr>\n",
       "      <th>3</th>\n",
       "      <td>0</td>\n",
       "      <td>16246</td>\n",
       "      <td>1659367719</td>\n",
       "      <td>0</td>\n",
       "      <td>0</td>\n",
       "    </tr>\n",
       "    <tr>\n",
       "      <th>4</th>\n",
       "      <td>0</td>\n",
       "      <td>1781822</td>\n",
       "      <td>1659367871</td>\n",
       "      <td>0</td>\n",
       "      <td>0</td>\n",
       "    </tr>\n",
       "  </tbody>\n",
       "</table>\n",
       "</div>"
      ],
      "text/plain": [
       "   session      aid          ts  type  day\n",
       "0        0  1517085  1659304800     0    0\n",
       "1        0  1563459  1659304904     0    0\n",
       "2        0  1309446  1659367439     0    0\n",
       "3        0    16246  1659367719     0    0\n",
       "4        0  1781822  1659367871     0    0"
      ]
     },
     "execution_count": 17,
     "metadata": {},
     "output_type": "execute_result"
    }
   ],
   "source": [
    "df = cudf.read_parquet('/raid/Kaggle/otto/parquet2/train.parquet')\n",
    "df.ts = (df.ts//1000).astype('int32')\n",
    "\n",
    "mn = df.ts.min()\n",
    "#df['hour'] = df.ts % (60*60*24)\n",
    "df['day'] = (df.ts-mn)  // (60*60*24) #% (60*60*24*7)\n",
    "print( df.shape )\n",
    "df.head()"
   ]
  },
  {
   "cell_type": "code",
   "execution_count": 18,
   "id": "4c152d5a",
   "metadata": {},
   "outputs": [],
   "source": [
    "df['mn'] = df.groupby('session').ts.transform('min')"
   ]
  },
  {
   "cell_type": "code",
   "execution_count": 19,
   "id": "4c443659",
   "metadata": {},
   "outputs": [
    {
     "data": {
      "text/plain": [
       "(125864676, 6)"
      ]
     },
     "execution_count": 19,
     "metadata": {},
     "output_type": "execute_result"
    }
   ],
   "source": [
    "df = df.loc[df.mn > mn + 60*60*24*3]\n",
    "df.shape"
   ]
  },
  {
   "cell_type": "code",
   "execution_count": 20,
   "id": "ea2b234b",
   "metadata": {},
   "outputs": [],
   "source": [
    "df['t'] = df.ts - df.mn"
   ]
  },
  {
   "cell_type": "code",
   "execution_count": 21,
   "id": "440fb64a",
   "metadata": {},
   "outputs": [
    {
     "data": {
      "text/plain": [
       "(92222573, 7)"
      ]
     },
     "execution_count": 21,
     "metadata": {},
     "output_type": "execute_result"
    }
   ],
   "source": [
    "df = df.loc[df.t < 60*60*24*7]\n",
    "df.shape"
   ]
  },
  {
   "cell_type": "code",
   "execution_count": 22,
   "id": "7117fe90",
   "metadata": {},
   "outputs": [],
   "source": [
    "item_features = df.groupby('aid').agg({'type':'mean','aid':'count','session':'nunique'})\n",
    "item_features.columns = ['buy_ratio','count_item','count_user']"
   ]
  },
  {
   "cell_type": "code",
   "execution_count": 23,
   "id": "3d4c54a2",
   "metadata": {},
   "outputs": [
    {
     "data": {
      "text/html": [
       "<div>\n",
       "<style scoped>\n",
       "    .dataframe tbody tr th:only-of-type {\n",
       "        vertical-align: middle;\n",
       "    }\n",
       "\n",
       "    .dataframe tbody tr th {\n",
       "        vertical-align: top;\n",
       "    }\n",
       "\n",
       "    .dataframe thead th {\n",
       "        text-align: right;\n",
       "    }\n",
       "</style>\n",
       "<table border=\"1\" class=\"dataframe\">\n",
       "  <thead>\n",
       "    <tr style=\"text-align: right;\">\n",
       "      <th></th>\n",
       "      <th>buy_ratio</th>\n",
       "      <th>count_item</th>\n",
       "      <th>count_user</th>\n",
       "    </tr>\n",
       "    <tr>\n",
       "      <th>aid</th>\n",
       "      <th></th>\n",
       "      <th></th>\n",
       "      <th></th>\n",
       "    </tr>\n",
       "  </thead>\n",
       "  <tbody>\n",
       "    <tr>\n",
       "      <th>0</th>\n",
       "      <td>0.000000</td>\n",
       "      <td>20</td>\n",
       "      <td>17</td>\n",
       "    </tr>\n",
       "    <tr>\n",
       "      <th>1</th>\n",
       "      <td>0.052632</td>\n",
       "      <td>19</td>\n",
       "      <td>17</td>\n",
       "    </tr>\n",
       "    <tr>\n",
       "      <th>2</th>\n",
       "      <td>0.000000</td>\n",
       "      <td>11</td>\n",
       "      <td>10</td>\n",
       "    </tr>\n",
       "    <tr>\n",
       "      <th>3</th>\n",
       "      <td>0.104082</td>\n",
       "      <td>1470</td>\n",
       "      <td>715</td>\n",
       "    </tr>\n",
       "    <tr>\n",
       "      <th>4</th>\n",
       "      <td>0.000000</td>\n",
       "      <td>64</td>\n",
       "      <td>51</td>\n",
       "    </tr>\n",
       "  </tbody>\n",
       "</table>\n",
       "</div>"
      ],
      "text/plain": [
       "     buy_ratio  count_item  count_user\n",
       "aid                                   \n",
       "0     0.000000          20          17\n",
       "1     0.052632          19          17\n",
       "2     0.000000          11          10\n",
       "3     0.104082        1470         715\n",
       "4     0.000000          64          51"
      ]
     },
     "execution_count": 23,
     "metadata": {},
     "output_type": "execute_result"
    }
   ],
   "source": [
    "item_features.head()"
   ]
  },
  {
   "cell_type": "code",
   "execution_count": 24,
   "id": "68494031",
   "metadata": {},
   "outputs": [],
   "source": [
    "item_features2 = df.groupby('aid').agg({'type':'std'}).fillna(-1)\n",
    "item_features2.columns = ['buy_ratio_std']\n",
    "\n",
    "f32 = ['buy_ratio_std']\n",
    "for c in f32: item_features2[c] = item_features2[c].astype('float32')"
   ]
  },
  {
   "cell_type": "code",
   "execution_count": 25,
   "id": "b0dc11d8",
   "metadata": {},
   "outputs": [
    {
     "data": {
      "text/html": [
       "<div>\n",
       "<style scoped>\n",
       "    .dataframe tbody tr th:only-of-type {\n",
       "        vertical-align: middle;\n",
       "    }\n",
       "\n",
       "    .dataframe tbody tr th {\n",
       "        vertical-align: top;\n",
       "    }\n",
       "\n",
       "    .dataframe thead th {\n",
       "        text-align: right;\n",
       "    }\n",
       "</style>\n",
       "<table border=\"1\" class=\"dataframe\">\n",
       "  <thead>\n",
       "    <tr style=\"text-align: right;\">\n",
       "      <th></th>\n",
       "      <th>buy_ratio_std</th>\n",
       "    </tr>\n",
       "    <tr>\n",
       "      <th>aid</th>\n",
       "      <th></th>\n",
       "    </tr>\n",
       "  </thead>\n",
       "  <tbody>\n",
       "    <tr>\n",
       "      <th>1133385</th>\n",
       "      <td>0.000000</td>\n",
       "    </tr>\n",
       "    <tr>\n",
       "      <th>1180295</th>\n",
       "      <td>0.223456</td>\n",
       "    </tr>\n",
       "    <tr>\n",
       "      <th>434755</th>\n",
       "      <td>0.000000</td>\n",
       "    </tr>\n",
       "    <tr>\n",
       "      <th>371971</th>\n",
       "      <td>0.134840</td>\n",
       "    </tr>\n",
       "    <tr>\n",
       "      <th>1015389</th>\n",
       "      <td>0.374166</td>\n",
       "    </tr>\n",
       "  </tbody>\n",
       "</table>\n",
       "</div>"
      ],
      "text/plain": [
       "         buy_ratio_std\n",
       "aid                   \n",
       "1133385       0.000000\n",
       "1180295       0.223456\n",
       "434755        0.000000\n",
       "371971        0.134840\n",
       "1015389       0.374166"
      ]
     },
     "execution_count": 25,
     "metadata": {},
     "output_type": "execute_result"
    }
   ],
   "source": [
    "item_features2.head()"
   ]
  },
  {
   "cell_type": "code",
   "execution_count": 26,
   "id": "a80ae583",
   "metadata": {},
   "outputs": [],
   "source": [
    "item_features['repeat'] = item_features.count_item / item_features.count_user\n",
    "\n",
    "f32 = ['buy_ratio','repeat']\n",
    "for c in f32: item_features[c] = item_features[c].astype('float32')\n",
    "\n",
    "i32 = ['count_item','count_user']\n",
    "for c in i32: item_features[c] = item_features[c].astype('int32')"
   ]
  },
  {
   "cell_type": "code",
   "execution_count": 27,
   "id": "66ad45b6",
   "metadata": {},
   "outputs": [
    {
     "name": "stdout",
     "output_type": "stream",
     "text": [
      "(1797312, 4)\n",
      "(1797312, 1)\n",
      "(1839558, 2)\n"
     ]
    }
   ],
   "source": [
    "for d in [item_features,item_features2,item_features3]:\n",
    "    print( d.shape )"
   ]
  },
  {
   "cell_type": "code",
   "execution_count": 28,
   "id": "00f30092",
   "metadata": {},
   "outputs": [],
   "source": [
    "item_features = cudf.concat([item_features,item_features2,item_features3],axis=1)"
   ]
  },
  {
   "cell_type": "code",
   "execution_count": 29,
   "id": "1597eb6d",
   "metadata": {},
   "outputs": [
    {
     "data": {
      "text/plain": [
       "(1848283, 7)"
      ]
     },
     "execution_count": 29,
     "metadata": {},
     "output_type": "execute_result"
    }
   ],
   "source": [
    "item_features.shape"
   ]
  },
  {
   "cell_type": "code",
   "execution_count": 30,
   "id": "89c0cf72",
   "metadata": {},
   "outputs": [],
   "source": [
    "item_features.columns = [f'{c}_5' for c in item_features.columns]"
   ]
  },
  {
   "cell_type": "code",
   "execution_count": 31,
   "id": "5b405532",
   "metadata": {},
   "outputs": [
    {
     "data": {
      "text/html": [
       "<div>\n",
       "<style scoped>\n",
       "    .dataframe tbody tr th:only-of-type {\n",
       "        vertical-align: middle;\n",
       "    }\n",
       "\n",
       "    .dataframe tbody tr th {\n",
       "        vertical-align: top;\n",
       "    }\n",
       "\n",
       "    .dataframe thead th {\n",
       "        text-align: right;\n",
       "    }\n",
       "</style>\n",
       "<table border=\"1\" class=\"dataframe\">\n",
       "  <thead>\n",
       "    <tr style=\"text-align: right;\">\n",
       "      <th></th>\n",
       "      <th>buy_ratio_5</th>\n",
       "      <th>count_item_5</th>\n",
       "      <th>count_user_5</th>\n",
       "      <th>repeat_5</th>\n",
       "      <th>buy_ratio_std_5</th>\n",
       "      <th>item_day_std_5</th>\n",
       "      <th>user_day_std_5</th>\n",
       "    </tr>\n",
       "    <tr>\n",
       "      <th>aid</th>\n",
       "      <th></th>\n",
       "      <th></th>\n",
       "      <th></th>\n",
       "      <th></th>\n",
       "      <th></th>\n",
       "      <th></th>\n",
       "      <th></th>\n",
       "    </tr>\n",
       "  </thead>\n",
       "  <tbody>\n",
       "    <tr>\n",
       "      <th>0</th>\n",
       "      <td>0.000000</td>\n",
       "      <td>20</td>\n",
       "      <td>17</td>\n",
       "      <td>1.176471</td>\n",
       "      <td>0.000000</td>\n",
       "      <td>&lt;NA&gt;</td>\n",
       "      <td>&lt;NA&gt;</td>\n",
       "    </tr>\n",
       "    <tr>\n",
       "      <th>1</th>\n",
       "      <td>0.052632</td>\n",
       "      <td>19</td>\n",
       "      <td>17</td>\n",
       "      <td>1.117647</td>\n",
       "      <td>0.229416</td>\n",
       "      <td>&lt;NA&gt;</td>\n",
       "      <td>&lt;NA&gt;</td>\n",
       "    </tr>\n",
       "    <tr>\n",
       "      <th>2</th>\n",
       "      <td>0.000000</td>\n",
       "      <td>11</td>\n",
       "      <td>10</td>\n",
       "      <td>1.100000</td>\n",
       "      <td>0.000000</td>\n",
       "      <td>&lt;NA&gt;</td>\n",
       "      <td>&lt;NA&gt;</td>\n",
       "    </tr>\n",
       "    <tr>\n",
       "      <th>3</th>\n",
       "      <td>0.104082</td>\n",
       "      <td>1470</td>\n",
       "      <td>715</td>\n",
       "      <td>2.055944</td>\n",
       "      <td>0.353024</td>\n",
       "      <td>&lt;NA&gt;</td>\n",
       "      <td>&lt;NA&gt;</td>\n",
       "    </tr>\n",
       "    <tr>\n",
       "      <th>4</th>\n",
       "      <td>0.000000</td>\n",
       "      <td>64</td>\n",
       "      <td>51</td>\n",
       "      <td>1.254902</td>\n",
       "      <td>0.000000</td>\n",
       "      <td>&lt;NA&gt;</td>\n",
       "      <td>&lt;NA&gt;</td>\n",
       "    </tr>\n",
       "  </tbody>\n",
       "</table>\n",
       "</div>"
      ],
      "text/plain": [
       "     buy_ratio_5  count_item_5  count_user_5  repeat_5  buy_ratio_std_5  \\\n",
       "aid                                                                       \n",
       "0       0.000000            20            17  1.176471         0.000000   \n",
       "1       0.052632            19            17  1.117647         0.229416   \n",
       "2       0.000000            11            10  1.100000         0.000000   \n",
       "3       0.104082          1470           715  2.055944         0.353024   \n",
       "4       0.000000            64            51  1.254902         0.000000   \n",
       "\n",
       "    item_day_std_5 user_day_std_5  \n",
       "aid                                \n",
       "0             <NA>           <NA>  \n",
       "1             <NA>           <NA>  \n",
       "2             <NA>           <NA>  \n",
       "3             <NA>           <NA>  \n",
       "4             <NA>           <NA>  "
      ]
     },
     "execution_count": 31,
     "metadata": {},
     "output_type": "execute_result"
    }
   ],
   "source": [
    "item_features.head()"
   ]
  },
  {
   "cell_type": "code",
   "execution_count": 32,
   "id": "54ea84b3",
   "metadata": {},
   "outputs": [
    {
     "data": {
      "text/plain": [
       "buy_ratio_5        float32\n",
       "count_item_5         int32\n",
       "count_user_5         int32\n",
       "repeat_5           float32\n",
       "buy_ratio_std_5    float32\n",
       "item_day_std_5     float32\n",
       "user_day_std_5     float32\n",
       "dtype: object"
      ]
     },
     "execution_count": 32,
     "metadata": {},
     "output_type": "execute_result"
    }
   ],
   "source": [
    "item_features.dtypes"
   ]
  },
  {
   "cell_type": "code",
   "execution_count": 33,
   "id": "5c3a89a1",
   "metadata": {},
   "outputs": [
    {
     "name": "stdout",
     "output_type": "stream",
     "text": [
      "buy_ratio_5 50971\n",
      "count_item_5 50971\n",
      "count_user_5 50971\n",
      "repeat_5 50971\n",
      "buy_ratio_std_5 50971\n",
      "item_day_std_5 1848283\n",
      "user_day_std_5 1848283\n"
     ]
    }
   ],
   "source": [
    "for k in range(7):\n",
    "    n = item_features.iloc[:,k].isna().sum()\n",
    "    print( item_features.columns[k], n)"
   ]
  },
  {
   "cell_type": "code",
   "execution_count": 34,
   "id": "2a021def",
   "metadata": {},
   "outputs": [],
   "source": [
    "item_features = item_features.astype('float32')"
   ]
  },
  {
   "cell_type": "code",
   "execution_count": 35,
   "id": "5b70464e",
   "metadata": {},
   "outputs": [],
   "source": [
    "item_features.to_parquet('../../data/item_user_features/item14b_LB.pqt')"
   ]
  }
 ],
 "metadata": {
  "kernelspec": {
   "display_name": "Python 3 (ipykernel)",
   "language": "python",
   "name": "python3"
  },
  "language_info": {
   "codemirror_mode": {
    "name": "ipython",
    "version": 3
   },
   "file_extension": ".py",
   "mimetype": "text/x-python",
   "name": "python",
   "nbconvert_exporter": "python",
   "pygments_lexer": "ipython3",
   "version": "3.8.13"
  }
 },
 "nbformat": 4,
 "nbformat_minor": 5
}
