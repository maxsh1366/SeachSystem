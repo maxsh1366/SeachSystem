{
 "cells": [
  {
   "cell_type": "markdown",
   "id": "403d7742",
   "metadata": {
    "papermill": {
     "duration": 0.005829,
     "end_time": "2022-11-03T16:49:27.399833",
     "exception": false,
     "start_time": "2022-11-03T16:49:27.394004",
     "status": "completed"
    },
    "tags": []
   },
   "source": [
    "# OTTO: Co-visitation Matrix\n",
    "\n",
    "There exist products that are frequently viewed and bought together. Here we leverage this idea by computing a co-visitation matrix of products. It's done in the following way:\n",
    "\n",
    "1. First we look at all pairs of events within the same session that are close to each other in time (< 1 day). We compute co-visitation matrix $M_{aid1,aid2}$ by counting global number of event pairs for each pair across all sessions.\n",
    "2. For each $aid1$ we find top 20 most frequent aid2:  `aid2=argsort(M[aid])[-20:]`\n",
    "3. We produce test results by concatenating `tail(20)` of test session events (see https://www.kaggle.com/code/simamumu/old-test-data-last-20-aid-get-lb0-947) with the most likely recommendations from co-visitation matrix. These recommendations are generated from session AIDs and `aid2` from the step 2\n",
    "\n",
    "\n",
    "**Please, smash that thumbs up button and subscribe if you like this notebook!**"
   ]
  },
  {
   "cell_type": "markdown",
   "id": "a3347d85",
   "metadata": {
    "papermill": {
     "duration": 0.003667,
     "end_time": "2022-11-03T16:49:27.407651",
     "exception": false,
     "start_time": "2022-11-03T16:49:27.403984",
     "status": "completed"
    },
    "tags": []
   },
   "source": [
    "## Utils, imports"
   ]
  },
  {
   "cell_type": "code",
   "execution_count": 1,
   "id": "1983ae84",
   "metadata": {},
   "outputs": [],
   "source": [
    "VER = 118"
   ]
  },
  {
   "cell_type": "code",
   "execution_count": 2,
   "id": "aa81e9ef",
   "metadata": {
    "execution": {
     "iopub.execute_input": "2022-11-03T16:49:27.417898Z",
     "iopub.status.busy": "2022-11-03T16:49:27.417269Z",
     "iopub.status.idle": "2022-11-03T16:49:27.535479Z",
     "shell.execute_reply": "2022-11-03T16:49:27.534395Z"
    },
    "papermill": {
     "duration": 0.126841,
     "end_time": "2022-11-03T16:49:27.538248",
     "exception": false,
     "start_time": "2022-11-03T16:49:27.411407",
     "status": "completed"
    },
    "tags": []
   },
   "outputs": [],
   "source": [
    "### import numpy as np\n",
    "from collections import defaultdict\n",
    "import pandas as pd\n",
    "from tqdm.notebook import tqdm\n",
    "import glob\n",
    "import numpy as np, gc\n",
    "import multiprocessing\n",
    "import os\n",
    "import pickle\n",
    "\n",
    "import glob\n",
    "from collections import Counter\n",
    "\n",
    "DEBUG=False   \n",
    "SAMPLING = 1  # Reduce it to improve performance"
   ]
  },
  {
   "cell_type": "code",
   "execution_count": 3,
   "id": "97f744b8",
   "metadata": {
    "execution": {
     "iopub.execute_input": "2022-11-03T16:49:27.548218Z",
     "iopub.status.busy": "2022-11-03T16:49:27.547857Z",
     "iopub.status.idle": "2022-11-03T16:49:53.994340Z",
     "shell.execute_reply": "2022-11-03T16:49:53.992847Z"
    },
    "papermill": {
     "duration": 26.454861,
     "end_time": "2022-11-03T16:49:53.997198",
     "exception": false,
     "start_time": "2022-11-03T16:49:27.542337",
     "status": "completed"
    },
    "tags": []
   },
   "outputs": [],
   "source": [
    "TOP_20_CACHE = 'top_20_aids.pkl'\n",
    "\n",
    "try:\n",
    "    from kaggle_secrets import UserSecretsClient\n",
    "    user_secrets = UserSecretsClient()\n",
    "    secret_value_0 = user_secrets.get_secret(\"gcloud\")\n",
    "\n",
    "    with open('/tmp/json', 'w+') as f:\n",
    "        f.write(secret_value_0)\n",
    "        \n",
    "    !gcloud auth login --cred-file /tmp/json    \n",
    "    !gsutil cp gs://nesp/top_20_aids.pkl .        \n",
    "        \n",
    "except Exception  as ex:\n",
    "    pass"
   ]
  },
  {
   "cell_type": "markdown",
   "id": "bbdba7a1",
   "metadata": {
    "papermill": {
     "duration": 0.006362,
     "end_time": "2022-11-03T16:49:54.010559",
     "exception": false,
     "start_time": "2022-11-03T16:49:54.004197",
     "status": "completed"
    },
    "tags": []
   },
   "source": [
    "## Generate AID pairs"
   ]
  },
  {
   "cell_type": "code",
   "execution_count": 4,
   "id": "53c90727",
   "metadata": {},
   "outputs": [],
   "source": [
    "import sys\n",
    "def gen_pairs(df):\n",
    "    df = df.query('session % @SAMPLING == 0').groupby('session', as_index=False, sort=False).apply(lambda g: g.tail(30)).reset_index(drop=True)\n",
    "    df = pd.merge(df, df, on='session')\n",
    "    #display( df.head() ) #abs(ts_x - ts_y) < 24 * 60 * 60 * 1000 and\n",
    "    pairs = df.query('aid_x != aid_y')[['session', 'aid_x', 'aid_y','ts_x','ts_y','type_y']].drop_duplicates(['session', 'aid_x', 'aid_y'])\n",
    "    #display(pairs.head())\n",
    "    return pairs[['aid_x', 'aid_y', 'ts_x','ts_y','type_y']].values"
   ]
  },
  {
   "cell_type": "code",
   "execution_count": 5,
   "id": "fda5da1e",
   "metadata": {
    "execution": {
     "iopub.execute_input": "2022-11-03T16:49:54.026622Z",
     "iopub.status.busy": "2022-11-03T16:49:54.025500Z",
     "iopub.status.idle": "2022-11-03T16:50:19.578040Z",
     "shell.execute_reply": "2022-11-03T16:50:19.576961Z"
    },
    "papermill": {
     "duration": 25.563306,
     "end_time": "2022-11-03T16:50:19.580610",
     "exception": false,
     "start_time": "2022-11-03T16:49:54.017304",
     "status": "completed"
    },
    "scrolled": true,
    "tags": []
   },
   "outputs": [
    {
     "data": {
      "application/vnd.jupyter.widget-view+json": {
       "model_id": "30f6cce99e0143ebbc4375702ff1c451",
       "version_major": 2,
       "version_minor": 0
      },
      "text/plain": [
       "Chunks:   0%|          | 0/146 [00:00<?, ?it/s]"
      ]
     },
     "metadata": {},
     "output_type": "display_data"
    },
    {
     "name": "stdout",
     "output_type": "stream",
     "text": [
      "CPU times: user 2h 36min 34s, sys: 1min 19s, total: 2h 37min 53s\n",
      "Wall time: 2h 38min 36s\n"
     ]
    }
   ],
   "source": [
    "%%time\n",
    "\n",
    "#BOOST = 'orders'\n",
    "#WEIGHT = 5\n",
    "   \n",
    "def gen_aid_pairs(all_pairs):\n",
    "    #all_pairs = defaultdict(lambda: Counter())\n",
    "    with tqdm(glob.glob('../../data/infer_data/*_parquet/*'), desc='Chunks') as prog:\n",
    "        with multiprocessing.Pool(20) as p:\n",
    "            for idx, chunk_file in enumerate(prog):\n",
    "                chunk = pd.read_parquet(chunk_file)#.drop(columns=['type'])\n",
    "                pair_chunks = p.map(gen_pairs, np.array_split(chunk.head(100000000 if not DEBUG else 10000), 120))            \n",
    "                for pairs in pair_chunks:\n",
    "                    for aid1, aid2, ts, ts2, typ in pairs:\n",
    "                        #w = 1 + 3*(ts - 1659304800025)/(1662328791563-1659304800025)\n",
    "                        w = 1\n",
    "                        if (typ=='carts')|(typ=='orders'): w = 4\n",
    "                        m = (1/2)**(np.abs(ts2 - ts)/60/60/1000)\n",
    "                        all_pairs[aid1][aid2] += w*m\n",
    "                prog.set_description(f'Mem: {sys.getsizeof(object) // (2 ** 20)}MB')\n",
    "\n",
    "                if DEBUG and idx >= 2:\n",
    "                    break\n",
    "                del chunk, pair_chunks\n",
    "                gc.collect()\n",
    "    return all_pairs\n",
    "        \n",
    "if os.path.exists(TOP_20_CACHE):\n",
    "    print('Reading top20 AIDs from cache')\n",
    "    top_20 = pickle.load(open(TOP_20_CACHE, 'rb'))\n",
    "else:\n",
    "    all_pairs = defaultdict(lambda: Counter())\n",
    "    all_pairs = gen_aid_pairs(all_pairs)\n",
    "    \n",
    "    #df_top_20 = []\n",
    "    #for aid, cnt in tqdm(all_pairs.items()):\n",
    "    #    df_top_20.append({'aid1': aid, 'aid2': [aid2 for aid2, freq in cnt.most_common(20)]})\n",
    "\n",
    "    #df_top_20 = pd.DataFrame(df_top_20).set_index('aid1')\n",
    "    #top_20 = df_top_20.aid2.to_dict()\n",
    "    import pickle\n",
    "    #with open(f'top_20_{BOOST}_v{VER}.pkl', 'wb') as f:\n",
    "    #    pickle.dump(top_20, f)\n",
    "        \n",
    "#len(top_20)"
   ]
  },
  {
   "cell_type": "code",
   "execution_count": 6,
   "id": "42acedad",
   "metadata": {},
   "outputs": [
    {
     "data": {
      "application/vnd.jupyter.widget-view+json": {
       "model_id": "3bae12fb83384b15a463d990515f88c9",
       "version_major": 2,
       "version_minor": 0
      },
      "text/plain": [
       "  0%|          | 0/1842637 [00:00<?, ?it/s]"
      ]
     },
     "metadata": {},
     "output_type": "display_data"
    },
    {
     "name": "stdout",
     "output_type": "stream",
     "text": [
      "CPU times: user 8min 2s, sys: 3.14 s, total: 8min 5s\n",
      "Wall time: 8min 3s\n"
     ]
    }
   ],
   "source": [
    "%%time\n",
    "df_top_40 = []\n",
    "for aid, cnt in tqdm(all_pairs.items()):\n",
    "    df_top_40.append({'aid1': aid, 'aid2': [aid2 for aid2, freq in cnt.most_common(40)]})\n",
    "\n",
    "df_top_40 = pd.DataFrame(df_top_40).set_index('aid1')\n",
    "df_top_40.aid2 = df_top_40.aid2.astype('int32') \n",
    "top_40 = df_top_40.aid2.to_dict()\n",
    "with open(f'../../data/covisit_matrices/top_40_orders_carts_v{VER}.pkl', 'wb') as f:\n",
    "    pickle.dump(top_40, f)"
   ]
  }
 ],
 "metadata": {
  "kernelspec": {
   "display_name": "Python 3 (ipykernel)",
   "language": "python",
   "name": "python3"
  },
  "language_info": {
   "codemirror_mode": {
    "name": "ipython",
    "version": 3
   },
   "file_extension": ".py",
   "mimetype": "text/x-python",
   "name": "python",
   "nbconvert_exporter": "python",
   "pygments_lexer": "ipython3",
   "version": "3.8.13"
  },
  "papermill": {
   "default_parameters": {},
   "duration": 510.728298,
   "end_time": "2022-11-03T16:57:49.871924",
   "environment_variables": {},
   "exception": null,
   "input_path": "__notebook__.ipynb",
   "output_path": "__notebook__.ipynb",
   "parameters": {},
   "start_time": "2022-11-03T16:49:19.143626",
   "version": "2.3.4"
  },
  "widgets": {
   "application/vnd.jupyter.widget-state+json": {
    "state": {
     "031ee36fafb743fabfdbe2c52e404acf": {
      "model_module": "@jupyter-widgets/controls",
      "model_module_version": "1.5.0",
      "model_name": "FloatProgressModel",
      "state": {
       "_dom_classes": [],
       "_model_module": "@jupyter-widgets/controls",
       "_model_module_version": "1.5.0",
       "_model_name": "FloatProgressModel",
       "_view_count": null,
       "_view_module": "@jupyter-widgets/controls",
       "_view_module_version": "1.5.0",
       "_view_name": "ProgressView",
       "bar_style": "success",
       "description": "",
       "description_tooltip": null,
       "layout": "IPY_MODEL_c60d5b27c7104ff4b66221703612c2c8",
       "max": 17,
       "min": 0,
       "orientation": "horizontal",
       "style": "IPY_MODEL_c2ba884d4d0d4732937e2a78645d78e2",
       "value": 17
      }
     },
     "0760aa58dc6a449ebb44554c24ed2bd3": {
      "model_module": "@jupyter-widgets/controls",
      "model_module_version": "1.5.0",
      "model_name": "HTMLModel",
      "state": {
       "_dom_classes": [],
       "_model_module": "@jupyter-widgets/controls",
       "_model_module_version": "1.5.0",
       "_model_name": "HTMLModel",
       "_view_count": null,
       "_view_module": "@jupyter-widgets/controls",
       "_view_module_version": "1.5.0",
       "_view_name": "HTMLView",
       "description": "",
       "description_tooltip": null,
       "layout": "IPY_MODEL_1064b0bdf3bd4a3ea3020740104e0e92",
       "placeholder": "​",
       "style": "IPY_MODEL_be5e1ae69d7045e5a0033d98222fba08",
       "value": " 17/17 [00:02&lt;00:00,  9.56it/s]"
      }
     },
     "1064b0bdf3bd4a3ea3020740104e0e92": {
      "model_module": "@jupyter-widgets/base",
      "model_module_version": "1.2.0",
      "model_name": "LayoutModel",
      "state": {
       "_model_module": "@jupyter-widgets/base",
       "_model_module_version": "1.2.0",
       "_model_name": "LayoutModel",
       "_view_count": null,
       "_view_module": "@jupyter-widgets/base",
       "_view_module_version": "1.2.0",
       "_view_name": "LayoutView",
       "align_content": null,
       "align_items": null,
       "align_self": null,
       "border": null,
       "bottom": null,
       "display": null,
       "flex": null,
       "flex_flow": null,
       "grid_area": null,
       "grid_auto_columns": null,
       "grid_auto_flow": null,
       "grid_auto_rows": null,
       "grid_column": null,
       "grid_gap": null,
       "grid_row": null,
       "grid_template_areas": null,
       "grid_template_columns": null,
       "grid_template_rows": null,
       "height": null,
       "justify_content": null,
       "justify_items": null,
       "left": null,
       "margin": null,
       "max_height": null,
       "max_width": null,
       "min_height": null,
       "min_width": null,
       "object_fit": null,
       "object_position": null,
       "order": null,
       "overflow": null,
       "overflow_x": null,
       "overflow_y": null,
       "padding": null,
       "right": null,
       "top": null,
       "visibility": null,
       "width": null
      }
     },
     "1889ea3d74b44b2aa0aceaccc954093c": {
      "model_module": "@jupyter-widgets/controls",
      "model_module_version": "1.5.0",
      "model_name": "HBoxModel",
      "state": {
       "_dom_classes": [],
       "_model_module": "@jupyter-widgets/controls",
       "_model_module_version": "1.5.0",
       "_model_name": "HBoxModel",
       "_view_count": null,
       "_view_module": "@jupyter-widgets/controls",
       "_view_module_version": "1.5.0",
       "_view_name": "HBoxView",
       "box_style": "",
       "children": [
        "IPY_MODEL_2cdd3effa7b64da88f84b3752c118240",
        "IPY_MODEL_031ee36fafb743fabfdbe2c52e404acf",
        "IPY_MODEL_0760aa58dc6a449ebb44554c24ed2bd3"
       ],
       "layout": "IPY_MODEL_4f3ccc97bf9f42928feb4598055d7027"
      }
     },
     "2cdd3effa7b64da88f84b3752c118240": {
      "model_module": "@jupyter-widgets/controls",
      "model_module_version": "1.5.0",
      "model_name": "HTMLModel",
      "state": {
       "_dom_classes": [],
       "_model_module": "@jupyter-widgets/controls",
       "_model_module_version": "1.5.0",
       "_model_name": "HTMLModel",
       "_view_count": null,
       "_view_module": "@jupyter-widgets/controls",
       "_view_module_version": "1.5.0",
       "_view_name": "HTMLView",
       "description": "",
       "description_tooltip": null,
       "layout": "IPY_MODEL_e4c36f74dc844ee3b94f548e941d7207",
       "placeholder": "​",
       "style": "IPY_MODEL_9a77629b692844c6bac59e052d77b9d2",
       "value": "100%"
      }
     },
     "4f3ccc97bf9f42928feb4598055d7027": {
      "model_module": "@jupyter-widgets/base",
      "model_module_version": "1.2.0",
      "model_name": "LayoutModel",
      "state": {
       "_model_module": "@jupyter-widgets/base",
       "_model_module_version": "1.2.0",
       "_model_name": "LayoutModel",
       "_view_count": null,
       "_view_module": "@jupyter-widgets/base",
       "_view_module_version": "1.2.0",
       "_view_name": "LayoutView",
       "align_content": null,
       "align_items": null,
       "align_self": null,
       "border": null,
       "bottom": null,
       "display": null,
       "flex": null,
       "flex_flow": null,
       "grid_area": null,
       "grid_auto_columns": null,
       "grid_auto_flow": null,
       "grid_auto_rows": null,
       "grid_column": null,
       "grid_gap": null,
       "grid_row": null,
       "grid_template_areas": null,
       "grid_template_columns": null,
       "grid_template_rows": null,
       "height": null,
       "justify_content": null,
       "justify_items": null,
       "left": null,
       "margin": null,
       "max_height": null,
       "max_width": null,
       "min_height": null,
       "min_width": null,
       "object_fit": null,
       "object_position": null,
       "order": null,
       "overflow": null,
       "overflow_x": null,
       "overflow_y": null,
       "padding": null,
       "right": null,
       "top": null,
       "visibility": null,
       "width": null
      }
     },
     "9a77629b692844c6bac59e052d77b9d2": {
      "model_module": "@jupyter-widgets/controls",
      "model_module_version": "1.5.0",
      "model_name": "DescriptionStyleModel",
      "state": {
       "_model_module": "@jupyter-widgets/controls",
       "_model_module_version": "1.5.0",
       "_model_name": "DescriptionStyleModel",
       "_view_count": null,
       "_view_module": "@jupyter-widgets/base",
       "_view_module_version": "1.2.0",
       "_view_name": "StyleView",
       "description_width": ""
      }
     },
     "be5e1ae69d7045e5a0033d98222fba08": {
      "model_module": "@jupyter-widgets/controls",
      "model_module_version": "1.5.0",
      "model_name": "DescriptionStyleModel",
      "state": {
       "_model_module": "@jupyter-widgets/controls",
       "_model_module_version": "1.5.0",
       "_model_name": "DescriptionStyleModel",
       "_view_count": null,
       "_view_module": "@jupyter-widgets/base",
       "_view_module_version": "1.2.0",
       "_view_name": "StyleView",
       "description_width": ""
      }
     },
     "c2ba884d4d0d4732937e2a78645d78e2": {
      "model_module": "@jupyter-widgets/controls",
      "model_module_version": "1.5.0",
      "model_name": "ProgressStyleModel",
      "state": {
       "_model_module": "@jupyter-widgets/controls",
       "_model_module_version": "1.5.0",
       "_model_name": "ProgressStyleModel",
       "_view_count": null,
       "_view_module": "@jupyter-widgets/base",
       "_view_module_version": "1.2.0",
       "_view_name": "StyleView",
       "bar_color": null,
       "description_width": ""
      }
     },
     "c60d5b27c7104ff4b66221703612c2c8": {
      "model_module": "@jupyter-widgets/base",
      "model_module_version": "1.2.0",
      "model_name": "LayoutModel",
      "state": {
       "_model_module": "@jupyter-widgets/base",
       "_model_module_version": "1.2.0",
       "_model_name": "LayoutModel",
       "_view_count": null,
       "_view_module": "@jupyter-widgets/base",
       "_view_module_version": "1.2.0",
       "_view_name": "LayoutView",
       "align_content": null,
       "align_items": null,
       "align_self": null,
       "border": null,
       "bottom": null,
       "display": null,
       "flex": null,
       "flex_flow": null,
       "grid_area": null,
       "grid_auto_columns": null,
       "grid_auto_flow": null,
       "grid_auto_rows": null,
       "grid_column": null,
       "grid_gap": null,
       "grid_row": null,
       "grid_template_areas": null,
       "grid_template_columns": null,
       "grid_template_rows": null,
       "height": null,
       "justify_content": null,
       "justify_items": null,
       "left": null,
       "margin": null,
       "max_height": null,
       "max_width": null,
       "min_height": null,
       "min_width": null,
       "object_fit": null,
       "object_position": null,
       "order": null,
       "overflow": null,
       "overflow_x": null,
       "overflow_y": null,
       "padding": null,
       "right": null,
       "top": null,
       "visibility": null,
       "width": null
      }
     },
     "e4c36f74dc844ee3b94f548e941d7207": {
      "model_module": "@jupyter-widgets/base",
      "model_module_version": "1.2.0",
      "model_name": "LayoutModel",
      "state": {
       "_model_module": "@jupyter-widgets/base",
       "_model_module_version": "1.2.0",
       "_model_name": "LayoutModel",
       "_view_count": null,
       "_view_module": "@jupyter-widgets/base",
       "_view_module_version": "1.2.0",
       "_view_name": "LayoutView",
       "align_content": null,
       "align_items": null,
       "align_self": null,
       "border": null,
       "bottom": null,
       "display": null,
       "flex": null,
       "flex_flow": null,
       "grid_area": null,
       "grid_auto_columns": null,
       "grid_auto_flow": null,
       "grid_auto_rows": null,
       "grid_column": null,
       "grid_gap": null,
       "grid_row": null,
       "grid_template_areas": null,
       "grid_template_columns": null,
       "grid_template_rows": null,
       "height": null,
       "justify_content": null,
       "justify_items": null,
       "left": null,
       "margin": null,
       "max_height": null,
       "max_width": null,
       "min_height": null,
       "min_width": null,
       "object_fit": null,
       "object_position": null,
       "order": null,
       "overflow": null,
       "overflow_x": null,
       "overflow_y": null,
       "padding": null,
       "right": null,
       "top": null,
       "visibility": null,
       "width": null
      }
     }
    },
    "version_major": 2,
    "version_minor": 0
   }
  }
 },
 "nbformat": 4,
 "nbformat_minor": 5
}
