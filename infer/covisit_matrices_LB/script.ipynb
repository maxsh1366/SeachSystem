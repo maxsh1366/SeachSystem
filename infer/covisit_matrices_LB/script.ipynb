{
 "cells": [
  {
   "cell_type": "code",
   "execution_count": null,
   "id": "05557b43",
   "metadata": {},
   "outputs": [],
   "source": []
  },
  {
   "cell_type": "code",
   "execution_count": null,
   "id": "d9c1c0b6",
   "metadata": {},
   "outputs": [],
   "source": [
    "%reset -f\n",
    "%run gpu-162-LB.ipynb"
   ]
  },
  {
   "cell_type": "code",
   "execution_count": null,
   "id": "ba44f75c",
   "metadata": {},
   "outputs": [],
   "source": [
    "%reset -f\n",
    "%run gpu-163-LB.ipynb"
   ]
  },
  {
   "cell_type": "code",
   "execution_count": null,
   "id": "c4faefc2",
   "metadata": {},
   "outputs": [],
   "source": [
    "%reset -f\n",
    "%run gpu-178-LB.ipynb"
   ]
  },
  {
   "cell_type": "code",
   "execution_count": null,
   "id": "de1afc98",
   "metadata": {},
   "outputs": [],
   "source": [
    "%reset -f\n",
    "%run gpu-179-LB.ipynb"
   ]
  },
  {
   "cell_type": "code",
   "execution_count": null,
   "id": "b4bff1b9",
   "metadata": {},
   "outputs": [],
   "source": [
    "%reset -f\n",
    "%run gpu-180-LB.ipynb"
   ]
  },
  {
   "cell_type": "code",
   "execution_count": null,
   "id": "a4c0cdbc",
   "metadata": {},
   "outputs": [],
   "source": [
    "%reset -f\n",
    "%run gpu-181-LB.ipynb"
   ]
  },
  {
   "cell_type": "code",
   "execution_count": null,
   "id": "be743eea",
   "metadata": {},
   "outputs": [],
   "source": [
    "%reset -f\n",
    "%run gpu-800-LB.ipynb"
   ]
  },
  {
   "cell_type": "code",
   "execution_count": null,
   "id": "d1954ab5",
   "metadata": {},
   "outputs": [],
   "source": [
    "%reset -f\n",
    "%run gpu-801-LB.ipynb"
   ]
  },
  {
   "cell_type": "code",
   "execution_count": null,
   "id": "0256b62e",
   "metadata": {},
   "outputs": [],
   "source": []
  },
  {
   "cell_type": "code",
   "execution_count": null,
   "id": "3a1c7c47",
   "metadata": {},
   "outputs": [],
   "source": [
    "%reset -f\n",
    "%run cpu-104-LB.ipynb"
   ]
  },
  {
   "cell_type": "code",
   "execution_count": null,
   "id": "8addfa8e",
   "metadata": {},
   "outputs": [],
   "source": [
    "%reset -f\n",
    "%run cpu-118-LB.ipynb"
   ]
  },
  {
   "cell_type": "code",
   "execution_count": null,
   "id": "34f5f41c",
   "metadata": {},
   "outputs": [],
   "source": [
    "%reset -f\n",
    "%run cpu-119-LB.ipynb"
   ]
  },
  {
   "cell_type": "code",
   "execution_count": null,
   "id": "89a1d07a",
   "metadata": {},
   "outputs": [],
   "source": [
    "%reset -f\n",
    "%run cpu-130-LB.ipynb"
   ]
  },
  {
   "cell_type": "code",
   "execution_count": null,
   "id": "94cc34a3",
   "metadata": {},
   "outputs": [],
   "source": [
    "%reset -f\n",
    "%run cpu-132-LB.ipynb"
   ]
  },
  {
   "cell_type": "code",
   "execution_count": null,
   "id": "24c5cb2a",
   "metadata": {},
   "outputs": [],
   "source": [
    "%reset -f\n",
    "%run cpu-16-LB.ipynb"
   ]
  },
  {
   "cell_type": "code",
   "execution_count": null,
   "id": "9c75a4e0",
   "metadata": {},
   "outputs": [],
   "source": [
    "%reset -f\n",
    "%run cpu-23-LB.ipynb"
   ]
  },
  {
   "cell_type": "code",
   "execution_count": null,
   "id": "7863c067",
   "metadata": {},
   "outputs": [],
   "source": [
    "%reset -f\n",
    "%run cpu-24-LB.ipynb"
   ]
  },
  {
   "cell_type": "code",
   "execution_count": null,
   "id": "0397db9a",
   "metadata": {},
   "outputs": [],
   "source": [
    "%reset -f\n",
    "%run cpu-28-LB.ipynb"
   ]
  },
  {
   "cell_type": "code",
   "execution_count": null,
   "id": "ac9ac6d2",
   "metadata": {},
   "outputs": [],
   "source": [
    "%reset -f\n",
    "%run cpu-34-LB.ipynb"
   ]
  },
  {
   "cell_type": "code",
   "execution_count": null,
   "id": "28974432",
   "metadata": {},
   "outputs": [],
   "source": [
    "%reset -f\n",
    "%run cpu-35-LB.ipynb"
   ]
  },
  {
   "cell_type": "code",
   "execution_count": null,
   "id": "09b4a9d1",
   "metadata": {},
   "outputs": [],
   "source": [
    "%reset -f\n",
    "%run cpu-37-LB.ipynb"
   ]
  },
  {
   "cell_type": "code",
   "execution_count": null,
   "id": "2c6c212c",
   "metadata": {},
   "outputs": [],
   "source": []
  }
 ],
 "metadata": {
  "kernelspec": {
   "display_name": "Python 3 (ipykernel)",
   "language": "python",
   "name": "python3"
  },
  "language_info": {
   "codemirror_mode": {
    "name": "ipython",
    "version": 3
   },
   "file_extension": ".py",
   "mimetype": "text/x-python",
   "name": "python",
   "nbconvert_exporter": "python",
   "pygments_lexer": "ipython3",
   "version": "3.8.13"
  }
 },
 "nbformat": 4,
 "nbformat_minor": 5
}
