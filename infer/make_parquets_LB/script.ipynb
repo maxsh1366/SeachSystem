{
 "cells": [
  {
   "cell_type": "code",
   "execution_count": null,
   "id": "18d80b30",
   "metadata": {},
   "outputs": [],
   "source": []
  },
  {
   "cell_type": "code",
   "execution_count": null,
   "id": "867daed2",
   "metadata": {},
   "outputs": [],
   "source": [
    "%reset -f\n",
    "%run Get-Users.ipynb"
   ]
  },
  {
   "cell_type": "code",
   "execution_count": null,
   "id": "8ee9462a",
   "metadata": {},
   "outputs": [],
   "source": [
    "%reset -f\n",
    "%run Get-Users-Copy1.ipynb"
   ]
  },
  {
   "cell_type": "code",
   "execution_count": null,
   "id": "2ce7023c",
   "metadata": {},
   "outputs": [],
   "source": [
    "%reset -f\n",
    "%run Get-Users-Copy2.ipynb"
   ]
  },
  {
   "cell_type": "code",
   "execution_count": null,
   "id": "045b9e20",
   "metadata": {
    "scrolled": true
   },
   "outputs": [],
   "source": [
    "%reset -f\n",
    "%run Get-Users-Copy3.ipynb"
   ]
  },
  {
   "cell_type": "code",
   "execution_count": null,
   "id": "d93f8677",
   "metadata": {},
   "outputs": [],
   "source": []
  },
  {
   "cell_type": "code",
   "execution_count": null,
   "id": "ce853ae3",
   "metadata": {},
   "outputs": [],
   "source": [
    "%reset -f\n",
    "%run Make-161-A.ipynb"
   ]
  },
  {
   "cell_type": "code",
   "execution_count": null,
   "id": "6b17d446",
   "metadata": {},
   "outputs": [],
   "source": [
    "%reset -f\n",
    "%run Make-161-A-Copy1.ipynb"
   ]
  },
  {
   "cell_type": "code",
   "execution_count": null,
   "id": "054ecc0e",
   "metadata": {},
   "outputs": [],
   "source": [
    "%reset -f\n",
    "%run Make-161-A-Copy2.ipynb"
   ]
  },
  {
   "cell_type": "code",
   "execution_count": null,
   "id": "ce346d54",
   "metadata": {},
   "outputs": [],
   "source": [
    "%reset -f\n",
    "%run Make-161-A-Copy3.ipynb"
   ]
  },
  {
   "cell_type": "code",
   "execution_count": null,
   "id": "727d4a32",
   "metadata": {},
   "outputs": [],
   "source": []
  },
  {
   "cell_type": "code",
   "execution_count": null,
   "id": "52bfdcac",
   "metadata": {},
   "outputs": [],
   "source": [
    "%reset -f\n",
    "%run Make-161-B.ipynb"
   ]
  },
  {
   "cell_type": "code",
   "execution_count": null,
   "id": "a638178a",
   "metadata": {},
   "outputs": [],
   "source": [
    "%reset -f\n",
    "%run Make-161-B-Copy1.ipynb"
   ]
  },
  {
   "cell_type": "code",
   "execution_count": null,
   "id": "c9cf09a8",
   "metadata": {},
   "outputs": [],
   "source": [
    "%reset -f\n",
    "%run Make-161-B-Copy2.ipynb"
   ]
  },
  {
   "cell_type": "code",
   "execution_count": null,
   "id": "a92cbd2a",
   "metadata": {},
   "outputs": [],
   "source": [
    "%reset -f\n",
    "%run Make-161-B-Copy3.ipynb"
   ]
  },
  {
   "cell_type": "code",
   "execution_count": null,
   "id": "de2d3e84",
   "metadata": {},
   "outputs": [],
   "source": []
  },
  {
   "cell_type": "code",
   "execution_count": null,
   "id": "1eb6b6ff",
   "metadata": {},
   "outputs": [],
   "source": [
    "%reset -f\n",
    "%run Make-161-C.ipynb"
   ]
  },
  {
   "cell_type": "code",
   "execution_count": null,
   "id": "c3ee2c1c",
   "metadata": {},
   "outputs": [],
   "source": [
    "%reset -f\n",
    "%run Make-161-C-Copy1.ipynb"
   ]
  },
  {
   "cell_type": "code",
   "execution_count": null,
   "id": "760fe6b3",
   "metadata": {},
   "outputs": [],
   "source": [
    "%reset -f\n",
    "%run Make-161-C-Copy2.ipynb"
   ]
  },
  {
   "cell_type": "code",
   "execution_count": null,
   "id": "8fd1352d",
   "metadata": {},
   "outputs": [],
   "source": [
    "%reset -f\n",
    "%run Make-161-C-Copy3.ipynb"
   ]
  },
  {
   "cell_type": "code",
   "execution_count": null,
   "id": "30ebb687",
   "metadata": {},
   "outputs": [],
   "source": []
  },
  {
   "cell_type": "code",
   "execution_count": null,
   "id": "9e300974",
   "metadata": {},
   "outputs": [],
   "source": [
    "%reset -f\n",
    "%run Make-161-D.ipynb"
   ]
  },
  {
   "cell_type": "code",
   "execution_count": null,
   "id": "12954dbf",
   "metadata": {},
   "outputs": [],
   "source": [
    "%reset -f\n",
    "%run Make-161-D-Copy1.ipynb"
   ]
  },
  {
   "cell_type": "code",
   "execution_count": null,
   "id": "49806dc0",
   "metadata": {},
   "outputs": [],
   "source": [
    "%reset -f\n",
    "%run Make-161-D-Copy2.ipynb"
   ]
  },
  {
   "cell_type": "code",
   "execution_count": null,
   "id": "170cc7ae",
   "metadata": {},
   "outputs": [],
   "source": [
    "%reset -f\n",
    "%run Make-161-D-Copy3.ipynb"
   ]
  },
  {
   "cell_type": "code",
   "execution_count": null,
   "id": "a363e247",
   "metadata": {},
   "outputs": [],
   "source": []
  },
  {
   "cell_type": "code",
   "execution_count": null,
   "id": "abd8b28e",
   "metadata": {},
   "outputs": [],
   "source": [
    "%reset -f\n",
    "%run Make-175-A.ipynb"
   ]
  },
  {
   "cell_type": "code",
   "execution_count": null,
   "id": "7a7eaa1f",
   "metadata": {},
   "outputs": [],
   "source": [
    "%reset -f\n",
    "%run Make-175-A-Copy1.ipynb"
   ]
  },
  {
   "cell_type": "code",
   "execution_count": null,
   "id": "13d5d2b6",
   "metadata": {},
   "outputs": [],
   "source": [
    "%reset -f\n",
    "%run Make-175-A-Copy2.ipynb"
   ]
  },
  {
   "cell_type": "code",
   "execution_count": null,
   "id": "798fb5a6",
   "metadata": {},
   "outputs": [],
   "source": [
    "%reset -f\n",
    "%run Make-175-A-Copy3.ipynb"
   ]
  },
  {
   "cell_type": "code",
   "execution_count": null,
   "id": "f8e18808",
   "metadata": {},
   "outputs": [],
   "source": []
  },
  {
   "cell_type": "code",
   "execution_count": null,
   "id": "3e51b5db",
   "metadata": {},
   "outputs": [],
   "source": [
    "%reset -f\n",
    "%run Make-175-B.ipynb"
   ]
  },
  {
   "cell_type": "code",
   "execution_count": null,
   "id": "46d7fb61",
   "metadata": {},
   "outputs": [],
   "source": [
    "%reset -f\n",
    "%run Make-175-B-Copy1.ipynb"
   ]
  },
  {
   "cell_type": "code",
   "execution_count": null,
   "id": "a97126c2",
   "metadata": {},
   "outputs": [],
   "source": [
    "%reset -f\n",
    "%run Make-175-B-Copy2.ipynb"
   ]
  },
  {
   "cell_type": "code",
   "execution_count": null,
   "id": "89f4bec6",
   "metadata": {},
   "outputs": [],
   "source": [
    "%reset -f\n",
    "%run Make-175-B-Copy3.ipynb"
   ]
  },
  {
   "cell_type": "code",
   "execution_count": null,
   "id": "a7900fe2",
   "metadata": {},
   "outputs": [],
   "source": []
  },
  {
   "cell_type": "code",
   "execution_count": null,
   "id": "4b005740",
   "metadata": {},
   "outputs": [],
   "source": [
    "%reset -f\n",
    "%run Make-175-C.ipynb"
   ]
  },
  {
   "cell_type": "code",
   "execution_count": null,
   "id": "7f9fbba5",
   "metadata": {},
   "outputs": [],
   "source": [
    "%reset -f\n",
    "%run Make-175-C-Copy1.ipynb"
   ]
  },
  {
   "cell_type": "code",
   "execution_count": null,
   "id": "c31e74ec",
   "metadata": {},
   "outputs": [],
   "source": [
    "%reset -f\n",
    "%run Make-175-C-Copy2.ipynb"
   ]
  },
  {
   "cell_type": "code",
   "execution_count": null,
   "id": "aec75e77",
   "metadata": {},
   "outputs": [],
   "source": [
    "%reset -f\n",
    "%run Make-175-C-Copy3.ipynb"
   ]
  },
  {
   "cell_type": "code",
   "execution_count": null,
   "id": "57758703",
   "metadata": {},
   "outputs": [],
   "source": []
  },
  {
   "cell_type": "code",
   "execution_count": null,
   "id": "7da48969",
   "metadata": {},
   "outputs": [],
   "source": [
    "%reset -f\n",
    "%run Make-175-D.ipynb"
   ]
  },
  {
   "cell_type": "code",
   "execution_count": null,
   "id": "50e90fc3",
   "metadata": {},
   "outputs": [],
   "source": [
    "%reset -f\n",
    "%run Make-175-D-Copy1.ipynb"
   ]
  },
  {
   "cell_type": "code",
   "execution_count": null,
   "id": "f156ec4e",
   "metadata": {},
   "outputs": [],
   "source": [
    "%reset -f\n",
    "%run Make-175-D-Copy2.ipynb"
   ]
  },
  {
   "cell_type": "code",
   "execution_count": null,
   "id": "372d589e",
   "metadata": {},
   "outputs": [],
   "source": [
    "%reset -f\n",
    "%run Make-175-D-Copy3.ipynb"
   ]
  },
  {
   "cell_type": "code",
   "execution_count": null,
   "id": "f8c4143a",
   "metadata": {},
   "outputs": [],
   "source": []
  },
  {
   "cell_type": "code",
   "execution_count": null,
   "id": "ba8d6057",
   "metadata": {},
   "outputs": [],
   "source": [
    "%reset -f\n",
    "%run Make-175-E.ipynb"
   ]
  },
  {
   "cell_type": "code",
   "execution_count": null,
   "id": "ed032217",
   "metadata": {},
   "outputs": [],
   "source": [
    "%reset -f\n",
    "%run Make-175-E-Copy1.ipynb"
   ]
  },
  {
   "cell_type": "code",
   "execution_count": null,
   "id": "34753ab7",
   "metadata": {},
   "outputs": [],
   "source": [
    "%reset -f\n",
    "%run Make-175-E-Copy2.ipynb"
   ]
  },
  {
   "cell_type": "code",
   "execution_count": null,
   "id": "0eb7a93a",
   "metadata": {},
   "outputs": [],
   "source": [
    "%reset -f\n",
    "%run Make-175-E-Copy3.ipynb"
   ]
  },
  {
   "cell_type": "code",
   "execution_count": null,
   "id": "de2fd997",
   "metadata": {},
   "outputs": [],
   "source": []
  },
  {
   "cell_type": "code",
   "execution_count": null,
   "id": "31b07925",
   "metadata": {},
   "outputs": [],
   "source": [
    "%reset -f\n",
    "%run Make-175-F.ipynb"
   ]
  },
  {
   "cell_type": "code",
   "execution_count": null,
   "id": "9250c560",
   "metadata": {},
   "outputs": [],
   "source": [
    "%reset -f\n",
    "%run Make-175-F-Copy1.ipynb"
   ]
  },
  {
   "cell_type": "code",
   "execution_count": null,
   "id": "4e5ff02a",
   "metadata": {},
   "outputs": [],
   "source": [
    "%reset -f\n",
    "%run Make-175-F-Copy2.ipynb"
   ]
  },
  {
   "cell_type": "code",
   "execution_count": null,
   "id": "1caace6f",
   "metadata": {},
   "outputs": [],
   "source": [
    "%reset -f\n",
    "%run Make-175-F-Copy3.ipynb"
   ]
  },
  {
   "cell_type": "code",
   "execution_count": null,
   "id": "c763dde2",
   "metadata": {},
   "outputs": [],
   "source": []
  },
  {
   "cell_type": "code",
   "execution_count": null,
   "id": "8a583c1d",
   "metadata": {},
   "outputs": [],
   "source": [
    "%reset -f\n",
    "%run Make-175-G.ipynb"
   ]
  },
  {
   "cell_type": "code",
   "execution_count": null,
   "id": "7be9a123",
   "metadata": {},
   "outputs": [],
   "source": [
    "%reset -f\n",
    "%run Make-175-G-Copy1.ipynb"
   ]
  },
  {
   "cell_type": "code",
   "execution_count": null,
   "id": "f7727569",
   "metadata": {},
   "outputs": [],
   "source": [
    "%reset -f\n",
    "%run Make-175-G-Copy2.ipynb"
   ]
  },
  {
   "cell_type": "code",
   "execution_count": null,
   "id": "ba8971a8",
   "metadata": {},
   "outputs": [],
   "source": [
    "%reset -f\n",
    "%run Make-175-G-Copy3.ipynb"
   ]
  },
  {
   "cell_type": "code",
   "execution_count": null,
   "id": "0d708ae5",
   "metadata": {},
   "outputs": [],
   "source": []
  }
 ],
 "metadata": {
  "kernelspec": {
   "display_name": "Python 3 (ipykernel)",
   "language": "python",
   "name": "python3"
  },
  "language_info": {
   "codemirror_mode": {
    "name": "ipython",
    "version": 3
   },
   "file_extension": ".py",
   "mimetype": "text/x-python",
   "name": "python",
   "nbconvert_exporter": "python",
   "pygments_lexer": "ipython3",
   "version": "3.8.13"
  }
 },
 "nbformat": 4,
 "nbformat_minor": 5
}
