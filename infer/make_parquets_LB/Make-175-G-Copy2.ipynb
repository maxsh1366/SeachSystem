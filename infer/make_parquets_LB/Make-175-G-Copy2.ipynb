{
 "cells": [
  {
   "cell_type": "code",
   "execution_count": 1,
   "id": "d0d39a4f",
   "metadata": {},
   "outputs": [],
   "source": [
    "import os\n",
    "os.environ[\"CUDA_VISIBLE_DEVICES\"]=\"0\"\n",
    "\n",
    "X_VER = 186\n",
    "\n",
    "PART = 2\n",
    "\n",
    "USE = 'clicks'"
   ]
  },
  {
   "cell_type": "code",
   "execution_count": 2,
   "id": "829a2f39",
   "metadata": {},
   "outputs": [],
   "source": [
    "import pandas as pd, cudf, numpy as np, gc\n",
    "import matplotlib.pyplot as plt"
   ]
  },
  {
   "cell_type": "code",
   "execution_count": 3,
   "id": "85fa77bd",
   "metadata": {},
   "outputs": [],
   "source": [
    "users = pd.read_parquet(f'../../data/infer_with_features/train_v175_LB_{PART}.pqt')"
   ]
  },
  {
   "cell_type": "code",
   "execution_count": 4,
   "id": "647e3b8a",
   "metadata": {},
   "outputs": [],
   "source": [
    "# SWAP WGT AND SCORE_30\n",
    "tmp = users.wgt.values.copy()\n",
    "users['wgt'] = users['score_30'].values\n",
    "users['score_30'] = tmp\n",
    "del tmp"
   ]
  },
  {
   "cell_type": "markdown",
   "id": "e99077ff",
   "metadata": {},
   "source": [
    "# XGBoost"
   ]
  },
  {
   "cell_type": "code",
   "execution_count": 5,
   "id": "cc595f8e",
   "metadata": {},
   "outputs": [
    {
     "data": {
      "text/plain": [
       "152"
      ]
     },
     "execution_count": 5,
     "metadata": {},
     "output_type": "execute_result"
    }
   ],
   "source": [
    "FEATURES = ['pos', 'wgt', 'score_1', 'score_3', 'score_4', 'score_5', 'score_6', 'score_7', 'score_10', 'score_11',\n",
    "            'score_12', 'score_13', 'score_30', 'score_14', 'score_15', 'score_16', 'score_17', 'score_18', \n",
    "            'score_19', 'score_20', 'score_21', 'score_22', 'score_23', 'score_24', 'score_25', 'score_26', \n",
    "            'buy_ratio_5', 'count_item_5', 'count_user_5', 'repeat_5', 'buy_ratio_std_5', 'item_day_std_5', \n",
    "            'user_day_std_5', 'buy_ratio_0_6', 'buy_ratio_1_6', 'buy_ratio_2_6', 'buy_ratio_3_6', 'buy_ratio_4_6',\n",
    "            'buy_ratio_5_6', 'buy_ratio_6_6', 'count_item_0_6', 'count_item_1_6', 'count_item_2_6', 'count_item_3_6',\n",
    "            'count_item_4_6', 'count_item_5_6', 'count_item_6_6', 'count_user_0_6', 'count_user_1_6', \n",
    "            'count_user_2_6', 'count_user_3_6', 'count_user_4_6', 'count_user_5_6', 'count_user_6_6', \n",
    "            'item_day_std_6', 'user_day_std_6', 'buy_ratio', 'count_item', 'count_user', 'hour_mean', \n",
    "            'day_mean', 'repeat', 'buy_ratio_std', 'hour_std', 'day_std', 'buy_ratio3', 'count_item3', \n",
    "            'count_user3', 'hour_mean3', 'day_mean3', 'repeat3', 'buy_ratio_std3', 'hour_std3', 'day_std3', \n",
    "            'prev3', 'next3', 'orders3', 'carts3', 'order_repeat3', 'cart_repeat3', 'buy_ratio2', 'count_item2', \n",
    "            'unique_item2', 'hour_mean2', 'day_mean2', 'repeat2', 'buy_ratio_std2', 'hour_std2', 'day_std2',\n",
    "            'ts_max7', 'ts_min7', 'ts_diff7', 'z1', 'z2', 'z3', 'z4', 'z5', 'z6', 'buy_ratio7', 'count_item7',\n",
    "            'count_user7', 'hour_mean7', 'day_mean7', 'repeat7', 'buy_ratio_std7', 'hour_std7', 'day_std7',\n",
    "            'prev7', 'next7', 'orders7', 'carts7', 'order_repeat7', 'cart_repeat7', 'buy_ratio8', 'count_item8', \n",
    "            'count_user8', 'hour_mean8', 'day_mean8', 'repeat8', 'buy_ratio_std8', 'hour_std8', 'day_std8', \n",
    "            'prev8', 'next8', 'orders8', 'carts8', 'order_repeat8', 'cart_repeat8', 'buy_ratio9', 'count_item9', \n",
    "            'count_user9', 'hour_mean9', 'day_mean9', 'repeat9', 'buy_ratio_std9', 'hour_std9', 'day_std9', \n",
    "            'prev9', 'next9', 'orders9', 'carts9', 'order_repeat9', 'cart_repeat9', 'buy_ratio10', 'count_item10',\n",
    "            'unique_item10', 'hour_mean10', 'day_mean10', 'repeat10', 'buy_ratio_std10', 'hour_std10', 'day_std10']\n",
    "len(FEATURES)"
   ]
  },
  {
   "cell_type": "code",
   "execution_count": 6,
   "id": "87d89fae",
   "metadata": {},
   "outputs": [
    {
     "name": "stdout",
     "output_type": "stream",
     "text": [
      "(41795000, 154)\n"
     ]
    },
    {
     "data": {
      "text/html": [
       "<div>\n",
       "<style scoped>\n",
       "    .dataframe tbody tr th:only-of-type {\n",
       "        vertical-align: middle;\n",
       "    }\n",
       "\n",
       "    .dataframe tbody tr th {\n",
       "        vertical-align: top;\n",
       "    }\n",
       "\n",
       "    .dataframe thead th {\n",
       "        text-align: right;\n",
       "    }\n",
       "</style>\n",
       "<table border=\"1\" class=\"dataframe\">\n",
       "  <thead>\n",
       "    <tr style=\"text-align: right;\">\n",
       "      <th></th>\n",
       "      <th>user</th>\n",
       "      <th>item</th>\n",
       "      <th>pos</th>\n",
       "      <th>wgt</th>\n",
       "      <th>score_1</th>\n",
       "      <th>score_3</th>\n",
       "      <th>score_4</th>\n",
       "      <th>score_5</th>\n",
       "      <th>score_6</th>\n",
       "      <th>score_7</th>\n",
       "      <th>...</th>\n",
       "      <th>cart_repeat9</th>\n",
       "      <th>buy_ratio10</th>\n",
       "      <th>count_item10</th>\n",
       "      <th>unique_item10</th>\n",
       "      <th>hour_mean10</th>\n",
       "      <th>day_mean10</th>\n",
       "      <th>repeat10</th>\n",
       "      <th>buy_ratio_std10</th>\n",
       "      <th>hour_std10</th>\n",
       "      <th>day_std10</th>\n",
       "    </tr>\n",
       "  </thead>\n",
       "  <tbody>\n",
       "    <tr>\n",
       "      <th>0</th>\n",
       "      <td>12899779</td>\n",
       "      <td>59625</td>\n",
       "      <td>0</td>\n",
       "      <td>-1.000</td>\n",
       "      <td>-1.0</td>\n",
       "      <td>-1.0</td>\n",
       "      <td>-1.0</td>\n",
       "      <td>-1.0</td>\n",
       "      <td>-1.0</td>\n",
       "      <td>-1.0</td>\n",
       "      <td>...</td>\n",
       "      <td>-1.0</td>\n",
       "      <td>NaN</td>\n",
       "      <td>NaN</td>\n",
       "      <td>NaN</td>\n",
       "      <td>NaN</td>\n",
       "      <td>NaN</td>\n",
       "      <td>NaN</td>\n",
       "      <td>NaN</td>\n",
       "      <td>NaN</td>\n",
       "      <td>NaN</td>\n",
       "    </tr>\n",
       "    <tr>\n",
       "      <th>1</th>\n",
       "      <td>12899779</td>\n",
       "      <td>731692</td>\n",
       "      <td>1</td>\n",
       "      <td>5.990</td>\n",
       "      <td>1.0</td>\n",
       "      <td>-3.0</td>\n",
       "      <td>-3.0</td>\n",
       "      <td>-3.0</td>\n",
       "      <td>0.5</td>\n",
       "      <td>-3.0</td>\n",
       "      <td>...</td>\n",
       "      <td>-1.0</td>\n",
       "      <td>NaN</td>\n",
       "      <td>NaN</td>\n",
       "      <td>NaN</td>\n",
       "      <td>NaN</td>\n",
       "      <td>NaN</td>\n",
       "      <td>NaN</td>\n",
       "      <td>NaN</td>\n",
       "      <td>NaN</td>\n",
       "      <td>NaN</td>\n",
       "    </tr>\n",
       "    <tr>\n",
       "      <th>2</th>\n",
       "      <td>12899779</td>\n",
       "      <td>737445</td>\n",
       "      <td>2</td>\n",
       "      <td>10.495</td>\n",
       "      <td>1.0</td>\n",
       "      <td>-3.0</td>\n",
       "      <td>-3.0</td>\n",
       "      <td>-3.0</td>\n",
       "      <td>2.0</td>\n",
       "      <td>-3.0</td>\n",
       "      <td>...</td>\n",
       "      <td>1.0</td>\n",
       "      <td>NaN</td>\n",
       "      <td>NaN</td>\n",
       "      <td>NaN</td>\n",
       "      <td>NaN</td>\n",
       "      <td>NaN</td>\n",
       "      <td>NaN</td>\n",
       "      <td>NaN</td>\n",
       "      <td>NaN</td>\n",
       "      <td>NaN</td>\n",
       "    </tr>\n",
       "    <tr>\n",
       "      <th>3</th>\n",
       "      <td>12899779</td>\n",
       "      <td>941596</td>\n",
       "      <td>3</td>\n",
       "      <td>3.950</td>\n",
       "      <td>1.0</td>\n",
       "      <td>-3.0</td>\n",
       "      <td>-3.0</td>\n",
       "      <td>-3.0</td>\n",
       "      <td>1.0</td>\n",
       "      <td>-3.0</td>\n",
       "      <td>...</td>\n",
       "      <td>-1.0</td>\n",
       "      <td>NaN</td>\n",
       "      <td>NaN</td>\n",
       "      <td>NaN</td>\n",
       "      <td>NaN</td>\n",
       "      <td>NaN</td>\n",
       "      <td>NaN</td>\n",
       "      <td>NaN</td>\n",
       "      <td>NaN</td>\n",
       "      <td>NaN</td>\n",
       "    </tr>\n",
       "    <tr>\n",
       "      <th>4</th>\n",
       "      <td>12899779</td>\n",
       "      <td>1253524</td>\n",
       "      <td>4</td>\n",
       "      <td>6.000</td>\n",
       "      <td>1.0</td>\n",
       "      <td>-3.0</td>\n",
       "      <td>-3.0</td>\n",
       "      <td>-3.0</td>\n",
       "      <td>0.5</td>\n",
       "      <td>-3.0</td>\n",
       "      <td>...</td>\n",
       "      <td>1.0</td>\n",
       "      <td>NaN</td>\n",
       "      <td>NaN</td>\n",
       "      <td>NaN</td>\n",
       "      <td>NaN</td>\n",
       "      <td>NaN</td>\n",
       "      <td>NaN</td>\n",
       "      <td>NaN</td>\n",
       "      <td>NaN</td>\n",
       "      <td>NaN</td>\n",
       "    </tr>\n",
       "  </tbody>\n",
       "</table>\n",
       "<p>5 rows × 154 columns</p>\n",
       "</div>"
      ],
      "text/plain": [
       "       user     item  pos     wgt  score_1  score_3  score_4  score_5  \\\n",
       "0  12899779    59625    0  -1.000     -1.0     -1.0     -1.0     -1.0   \n",
       "1  12899779   731692    1   5.990      1.0     -3.0     -3.0     -3.0   \n",
       "2  12899779   737445    2  10.495      1.0     -3.0     -3.0     -3.0   \n",
       "3  12899779   941596    3   3.950      1.0     -3.0     -3.0     -3.0   \n",
       "4  12899779  1253524    4   6.000      1.0     -3.0     -3.0     -3.0   \n",
       "\n",
       "   score_6  score_7  ...  cart_repeat9  buy_ratio10  count_item10  \\\n",
       "0     -1.0     -1.0  ...          -1.0          NaN           NaN   \n",
       "1      0.5     -3.0  ...          -1.0          NaN           NaN   \n",
       "2      2.0     -3.0  ...           1.0          NaN           NaN   \n",
       "3      1.0     -3.0  ...          -1.0          NaN           NaN   \n",
       "4      0.5     -3.0  ...           1.0          NaN           NaN   \n",
       "\n",
       "   unique_item10  hour_mean10  day_mean10  repeat10  buy_ratio_std10  \\\n",
       "0            NaN          NaN         NaN       NaN              NaN   \n",
       "1            NaN          NaN         NaN       NaN              NaN   \n",
       "2            NaN          NaN         NaN       NaN              NaN   \n",
       "3            NaN          NaN         NaN       NaN              NaN   \n",
       "4            NaN          NaN         NaN       NaN              NaN   \n",
       "\n",
       "   hour_std10  day_std10  \n",
       "0         NaN        NaN  \n",
       "1         NaN        NaN  \n",
       "2         NaN        NaN  \n",
       "3         NaN        NaN  \n",
       "4         NaN        NaN  \n",
       "\n",
       "[5 rows x 154 columns]"
      ]
     },
     "execution_count": 6,
     "metadata": {},
     "output_type": "execute_result"
    }
   ],
   "source": [
    "users = users[['user','item']+FEATURES]\n",
    "print( users.shape )\n",
    "users.head()"
   ]
  },
  {
   "cell_type": "code",
   "execution_count": null,
   "id": "2e7e4a4e",
   "metadata": {},
   "outputs": [],
   "source": []
  },
  {
   "cell_type": "code",
   "execution_count": 7,
   "id": "1da40404",
   "metadata": {},
   "outputs": [
    {
     "name": "stdout",
     "output_type": "stream",
     "text": [
      "XGB Version 1.5.2\n"
     ]
    }
   ],
   "source": [
    "# LOAD XGB LIBRARY\n",
    "from sklearn.model_selection import GroupKFold\n",
    "from sklearn.metrics import roc_auc_score\n",
    "import xgboost as xgb\n",
    "print('XGB Version',xgb.__version__)\n",
    "\n",
    "FOLDS = 5\n",
    "SEED = 42\n",
    "\n",
    "LR = 0.1\n",
    "\n",
    "# XGB MODEL PARAMETERS\n",
    "xgb_parms = { \n",
    "    'max_depth':4, \n",
    "    'learning_rate':LR, \n",
    "    'subsample':0.7,\n",
    "    'colsample_bytree':0.5, \n",
    "    #'eval_metric':'rmse',\n",
    "    'objective':'rank:pairwise',\n",
    "    'tree_method':'gpu_hist',\n",
    "    'predictor':'gpu_predictor',\n",
    "    'random_state':SEED\n",
    "}"
   ]
  },
  {
   "cell_type": "code",
   "execution_count": 8,
   "id": "cffbe609",
   "metadata": {},
   "outputs": [],
   "source": [
    "from sklearn.model_selection import GroupKFold"
   ]
  },
  {
   "cell_type": "code",
   "execution_count": 9,
   "id": "dc3235b3",
   "metadata": {},
   "outputs": [],
   "source": [
    "users['click_oof'] = 0"
   ]
  },
  {
   "cell_type": "code",
   "execution_count": 10,
   "id": "c66594f9",
   "metadata": {
    "scrolled": true
   },
   "outputs": [
    {
     "name": "stdout",
     "output_type": "stream",
     "text": [
      "#########################\n",
      "### Fold 1\n",
      "#########################\n",
      "=> predicting XGB 186...\n",
      "#########################\n",
      "### Fold 2\n",
      "#########################\n",
      "=> predicting XGB 186...\n",
      "#########################\n",
      "### Fold 3\n",
      "#########################\n",
      "=> predicting XGB 186...\n",
      "#########################\n",
      "### Fold 4\n",
      "#########################\n",
      "=> predicting XGB 186...\n",
      "#########################\n",
      "### Fold 5\n",
      "#########################\n",
      "=> predicting XGB 186...\n",
      "CPU times: user 2min 11s, sys: 1min 18s, total: 3min 30s\n",
      "Wall time: 3min 29s\n"
     ]
    }
   ],
   "source": [
    "%%time\n",
    "from cuml import ForestInference\n",
    "\n",
    "for fold in range(FOLDS):\n",
    "    print('#'*25)\n",
    "    print('### Fold',fold+1)\n",
    "    print('#'*25)\n",
    "    \n",
    "    print(f'=> predicting XGB {X_VER}...')\n",
    "    #model = xgb.Booster()\n",
    "    #model.load_model(f'../../jan-24-23-otto/ranker_models13/XGB_fold{fold}_{USE}_v{X_VER}.xgb')\n",
    "    #model.set_param({'predictor': 'gpu_predictor'})\n",
    "    #model.set_param({'gpu_id': 0})\n",
    "    model = ForestInference.load(f'../../data/models/XGB_fold{fold}_{USE}_v{X_VER}.xgb')\n",
    "    \n",
    "    #USR = np.load( f'/raid/Kaggle/otto/pred15/valid_users_{X_VER}_f{fold}.npy' )\n",
    "    #print( 'user count',len(USR) )\n",
    "    #mask = users.user.isin(USR)\n",
    "    \n",
    "    # INFER OOF FOLD K\n",
    "    X_valid = users[FEATURES]\n",
    "    #dvalid = xgb.DMatrix(data=X_valid) \n",
    "    oof_preds = model.predict(X_valid)\n",
    "    users['click_oof'] += oof_preds/FOLDS\n",
    "    \n",
    "    del X_valid, model \n",
    "    gc.collect()"
   ]
  },
  {
   "cell_type": "code",
   "execution_count": 11,
   "id": "b002d63e",
   "metadata": {},
   "outputs": [],
   "source": [
    "coof = users.click_oof.values\n",
    "#np.save(f'/raid/Kaggle/otto/data16/click_oof{X_VER}_{USE}', coof)"
   ]
  },
  {
   "cell_type": "code",
   "execution_count": 12,
   "id": "3705f7f4",
   "metadata": {},
   "outputs": [
    {
     "data": {
      "image/png": "[encoded data removed]",
      "text/plain": [
       "<Figure size 432x288 with 1 Axes>"
      ]
     },
     "metadata": {
      "needs_background": "light"
     },
     "output_type": "display_data"
    }
   ],
   "source": [
    "plt.hist(coof,bins=100)\n",
    "plt.show()"
   ]
  },
  {
   "cell_type": "code",
   "execution_count": 13,
   "id": "da13dc5b",
   "metadata": {},
   "outputs": [
    {
     "name": "stdout",
     "output_type": "stream",
     "text": [
      "CPU times: user 7min 17s, sys: 1min 9s, total: 8min 26s\n",
      "Wall time: 3min 27s\n"
     ]
    }
   ],
   "source": [
    "%%time\n",
    "users = pd.read_parquet(f'../../data/infer_with_features/train_v175_LB_{PART}.pqt')\n",
    "users['click_oof'] = coof\n",
    "users['click_oof'] = users['click_oof'].astype('float32')\n",
    "users.to_parquet(f'../../data/infer_with_features/train_v175_LB_{PART}_X.pqt', index=False)"
   ]
  }
 ],
 "metadata": {
  "kernelspec": {
   "display_name": "Python 3 (ipykernel)",
   "language": "python",
   "name": "python3"
  },
  "language_info": {
   "codemirror_mode": {
    "name": "ipython",
    "version": 3
   },
   "file_extension": ".py",
   "mimetype": "text/x-python",
   "name": "python",
   "nbconvert_exporter": "python",
   "pygments_lexer": "ipython3",
   "version": "3.8.13"
  }
 },
 "nbformat": 4,
 "nbformat_minor": 5
}
