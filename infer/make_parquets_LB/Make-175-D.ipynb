{
 "cells": [
  {
   "cell_type": "code",
   "execution_count": null,
   "id": "a532a329",
   "metadata": {},
   "outputs": [],
   "source": [
    "import os\n",
    "os.environ[\"CUDA_VISIBLE_DEVICES\"]=\"0\"\n",
    "\n",
    "VER = 175\n",
    "PART = 0"
   ]
  },
  {
   "cell_type": "code",
   "execution_count": null,
   "id": "2c422b9b",
   "metadata": {},
   "outputs": [],
   "source": [
    "import pandas as pd, cudf, numpy as np, gc\n",
    "pd.set_option('display.max_columns', 500)\n",
    "import matplotlib.pyplot as plt"
   ]
  },
  {
   "cell_type": "code",
   "execution_count": null,
   "id": "b32454b1",
   "metadata": {},
   "outputs": [],
   "source": [
    "users = pd.read_parquet(f'../../data/infer_with_features/train_v{VER}_LB_{PART}.pqt')"
   ]
  },
  {
   "cell_type": "code",
   "execution_count": null,
   "id": "27796901",
   "metadata": {},
   "outputs": [],
   "source": [
    "print( users.shape )\n",
    "users.head()"
   ]
  },
  {
   "cell_type": "markdown",
   "id": "ada21020",
   "metadata": {},
   "source": [
    "# Add New Items"
   ]
  },
  {
   "cell_type": "code",
   "execution_count": null,
   "id": "141769c0",
   "metadata": {},
   "outputs": [],
   "source": [
    "# FEAT 7\n",
    "df = pd.read_parquet('../../data/item_user_features/item20_LB.pqt')\n",
    "df.head()"
   ]
  },
  {
   "cell_type": "code",
   "execution_count": null,
   "id": "ff82d5a7",
   "metadata": {},
   "outputs": [],
   "source": [
    "for c in df.columns:\n",
    "    if str(df[c].dtype)=='int32':\n",
    "        print(c, df[c].dtype)\n",
    "        df[c] = df[c].astype('float32')"
   ]
  },
  {
   "cell_type": "code",
   "execution_count": null,
   "id": "037db2e4",
   "metadata": {},
   "outputs": [],
   "source": [
    "users = users.merge(df, left_on='item', right_index=True, how='left')\n",
    "print( users.shape )\n",
    "users.head()"
   ]
  },
  {
   "cell_type": "code",
   "execution_count": null,
   "id": "7229f9f2",
   "metadata": {},
   "outputs": [],
   "source": [
    "# FEAT 8\n",
    "df = pd.read_parquet('../../data/item_user_features/item21_LB.pqt')\n",
    "df.head()"
   ]
  },
  {
   "cell_type": "code",
   "execution_count": null,
   "id": "ee235945",
   "metadata": {},
   "outputs": [],
   "source": [
    "for c in df.columns:\n",
    "    if str(df[c].dtype)=='int32':\n",
    "        print(c, df[c].dtype)\n",
    "        df[c] = df[c].astype('float32')"
   ]
  },
  {
   "cell_type": "code",
   "execution_count": null,
   "id": "5f34bd4d",
   "metadata": {},
   "outputs": [],
   "source": [
    "users = users.merge(df, left_on='item', right_index=True, how='left')\n",
    "print( users.shape )\n",
    "users.head()"
   ]
  },
  {
   "cell_type": "code",
   "execution_count": null,
   "id": "d5e1b3fe",
   "metadata": {},
   "outputs": [],
   "source": [
    "# FEAT 9\n",
    "df = pd.read_parquet('../../data/item_user_features/item22_LB.pqt')\n",
    "df.head()"
   ]
  },
  {
   "cell_type": "code",
   "execution_count": null,
   "id": "16695fcc",
   "metadata": {},
   "outputs": [],
   "source": [
    "for c in df.columns:\n",
    "    if str(df[c].dtype)=='int32':\n",
    "        print(c, df[c].dtype)\n",
    "        df[c] = df[c].astype('float32')"
   ]
  },
  {
   "cell_type": "code",
   "execution_count": null,
   "id": "be28060d",
   "metadata": {
    "scrolled": true
   },
   "outputs": [],
   "source": [
    "users = users.merge(df, left_on='item', right_index=True, how='left')\n",
    "print( users.shape )\n",
    "users.head()"
   ]
  },
  {
   "cell_type": "code",
   "execution_count": null,
   "id": "d83f3d59",
   "metadata": {},
   "outputs": [],
   "source": [
    "# FEAT 10\n",
    "df = pd.read_parquet('../../data/item_user_features/user10_LB.pqt')\n",
    "df.head()"
   ]
  },
  {
   "cell_type": "code",
   "execution_count": null,
   "id": "e645f559",
   "metadata": {},
   "outputs": [],
   "source": [
    "for c in df.columns:\n",
    "    if str(df[c].dtype)=='int32':\n",
    "        print(c, df[c].dtype)\n",
    "        df[c] = df[c].astype('float32')"
   ]
  },
  {
   "cell_type": "code",
   "execution_count": null,
   "id": "741c1196",
   "metadata": {},
   "outputs": [],
   "source": [
    "users = users.merge(df, left_on='user', right_index=True, how='left')\n",
    "print( users.shape )\n",
    "users.head()"
   ]
  },
  {
   "cell_type": "markdown",
   "id": "5cb0bda2",
   "metadata": {},
   "source": [
    "# Write Parquet"
   ]
  },
  {
   "cell_type": "code",
   "execution_count": null,
   "id": "6b0432c6",
   "metadata": {},
   "outputs": [],
   "source": [
    "for c in users.columns:\n",
    "    print(c, users[c].dtype)\n",
    "    if str(users[c].dtype) in ['Float32','Int32','float64','int64']:\n",
    "        print('###',c)\n",
    "        users[c] = users[c].astype('float32')"
   ]
  },
  {
   "cell_type": "code",
   "execution_count": null,
   "id": "2f34f33f",
   "metadata": {},
   "outputs": [],
   "source": [
    "%%time\n",
    "users.to_parquet(f'../../data/infer_with_features/train_v{VER}_LB_{PART}.pqt',index=False)"
   ]
  }
 ],
 "metadata": {
  "kernelspec": {
   "display_name": "Python 3 (ipykernel)",
   "language": "python",
   "name": "python3"
  },
  "language_info": {
   "codemirror_mode": {
    "name": "ipython",
    "version": 3
   },
   "file_extension": ".py",
   "mimetype": "text/x-python",
   "name": "python",
   "nbconvert_exporter": "python",
   "pygments_lexer": "ipython3",
   "version": "3.8.13"
  }
 },
 "nbformat": 4,
 "nbformat_minor": 5
}
