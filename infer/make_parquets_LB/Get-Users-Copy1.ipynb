{
 "cells": [
  {
   "cell_type": "code",
   "execution_count": 19,
   "id": "d0d39a4f",
   "metadata": {},
   "outputs": [],
   "source": [
    "import os\n",
    "os.environ[\"CUDA_VISIBLE_DEVICES\"]=\"\"\n",
    "\n",
    "# USE 0,1,2,3\n",
    "PART = 1"
   ]
  },
  {
   "cell_type": "code",
   "execution_count": 20,
   "id": "829a2f39",
   "metadata": {},
   "outputs": [],
   "source": [
    "import pandas as pd, cudf, numpy as np, gc\n",
    "import matplotlib.pyplot as plt"
   ]
  },
  {
   "cell_type": "code",
   "execution_count": 21,
   "id": "674f9039",
   "metadata": {},
   "outputs": [],
   "source": [
    "users = pd.read_parquet('../../data/infer_data/test.parquet',columns=['session'])\n",
    "users = users.rename({'session':'user'},axis=1)"
   ]
  },
  {
   "cell_type": "markdown",
   "id": "e99077ff",
   "metadata": {},
   "source": [
    "# XGBoost"
   ]
  },
  {
   "cell_type": "code",
   "execution_count": 22,
   "id": "a2f7fda7",
   "metadata": {},
   "outputs": [
    {
     "name": "stdout",
     "output_type": "stream",
     "text": [
      "BEFORE (83590150, 1)\n",
      "AFTER (20897550, 1)\n",
      "CPU times: user 3.11 s, sys: 671 ms, total: 3.78 s\n",
      "Wall time: 3.74 s\n"
     ]
    }
   ],
   "source": [
    "%%time\n",
    "print('BEFORE', users.shape )\n",
    "users = users.sort_values('user').reset_index(drop=True)\n",
    "if PART==0:\n",
    "    users = users.iloc[: int(((len(users)/50)//4)*50) ]\n",
    "elif PART==1:\n",
    "    users = users.iloc[ int(((len(users)/50)//4)*50) : int(((2*len(users)/50)//4)*50) ]\n",
    "elif PART==2:\n",
    "    users = users.iloc[ int(((2*len(users)/50)//4)*50) : int(((3*len(users)/50)//4)*50) ]\n",
    "elif PART==3:\n",
    "    users = users.iloc[ int(((3*len(users)/50)//4)*50) :]\n",
    "else:\n",
    "    users = None\n",
    "print('AFTER', users.shape )"
   ]
  },
  {
   "cell_type": "code",
   "execution_count": 23,
   "id": "2e7e4a4e",
   "metadata": {},
   "outputs": [
    {
     "data": {
      "text/plain": [
       "417951"
      ]
     },
     "execution_count": 23,
     "metadata": {},
     "output_type": "execute_result"
    }
   ],
   "source": [
    "UU = users.user.astype('int32').unique()\n",
    "len( UU )"
   ]
  },
  {
   "cell_type": "code",
   "execution_count": 24,
   "id": "2ff0d9a5",
   "metadata": {},
   "outputs": [],
   "source": [
    "np.save(f'test_user_{PART}',UU)"
   ]
  },
  {
   "cell_type": "code",
   "execution_count": null,
   "id": "8b06cf52",
   "metadata": {},
   "outputs": [],
   "source": []
  }
 ],
 "metadata": {
  "kernelspec": {
   "display_name": "Python 3 (ipykernel)",
   "language": "python",
   "name": "python3"
  },
  "language_info": {
   "codemirror_mode": {
    "name": "ipython",
    "version": 3
   },
   "file_extension": ".py",
   "mimetype": "text/x-python",
   "name": "python",
   "nbconvert_exporter": "python",
   "pygments_lexer": "ipython3",
   "version": "3.8.13"
  }
 },
 "nbformat": 4,
 "nbformat_minor": 5
}
