{
 "cells": [
  {
   "cell_type": "code",
   "execution_count": null,
   "id": "a532a329",
   "metadata": {},
   "outputs": [],
   "source": [
    "import os\n",
    "os.environ[\"CUDA_VISIBLE_DEVICES\"]=\"0\"\n",
    "\n",
    "VER_IN = 175\n",
    "VER_OUT = 175\n",
    "PART = 0"
   ]
  },
  {
   "cell_type": "code",
   "execution_count": null,
   "id": "2c422b9b",
   "metadata": {},
   "outputs": [],
   "source": [
    "import pandas as pd, cudf, numpy as np, gc\n",
    "pd.set_option('display.max_columns', 500)\n",
    "import matplotlib.pyplot as plt"
   ]
  },
  {
   "cell_type": "code",
   "execution_count": null,
   "id": "b32454b1",
   "metadata": {},
   "outputs": [],
   "source": [
    "users = pd.read_parquet(f'../../data/infer_with_features/train_v{VER_IN}_LB_{PART}.pqt')"
   ]
  },
  {
   "cell_type": "code",
   "execution_count": null,
   "id": "27796901",
   "metadata": {},
   "outputs": [],
   "source": [
    "print( users.shape )\n",
    "users.head()"
   ]
  },
  {
   "cell_type": "code",
   "execution_count": null,
   "id": "7fc57bdc",
   "metadata": {},
   "outputs": [],
   "source": [
    "df = cudf.read_parquet('../../data/infer_data/test.parquet')\n",
    "df.ts = (df.ts//1000).astype('int32')\n",
    "#df['type'] = df['type'].map({'clicks':0,'carts':1,'orders':2}).astype('int8')\n",
    "\n",
    "print( df.shape )\n",
    "df.head()"
   ]
  },
  {
   "cell_type": "code",
   "execution_count": null,
   "id": "9d48302a",
   "metadata": {},
   "outputs": [],
   "source": [
    "df = df.sort_values(['session','ts']).reset_index(drop=True)"
   ]
  },
  {
   "cell_type": "code",
   "execution_count": null,
   "id": "db5bb60a",
   "metadata": {},
   "outputs": [],
   "source": [
    "tmp = df.groupby('session').aid.agg('last').rename('last')"
   ]
  },
  {
   "cell_type": "code",
   "execution_count": null,
   "id": "7d023862",
   "metadata": {},
   "outputs": [],
   "source": [
    "%%time\n",
    "users = users.merge(tmp.to_pandas(), left_on='user', right_index=True, how='left')"
   ]
  },
  {
   "cell_type": "code",
   "execution_count": null,
   "id": "7c8417ee",
   "metadata": {},
   "outputs": [],
   "source": [
    "users.head()"
   ]
  },
  {
   "cell_type": "code",
   "execution_count": null,
   "id": "f8a5c6dc",
   "metadata": {},
   "outputs": [],
   "source": [
    "%%time\n",
    "x = users.item.values\n",
    "y = users['last'].values"
   ]
  },
  {
   "cell_type": "code",
   "execution_count": null,
   "id": "33dbffcc",
   "metadata": {},
   "outputs": [],
   "source": [
    "users = users.drop(['last'],axis=1)"
   ]
  },
  {
   "cell_type": "code",
   "execution_count": null,
   "id": "a7e45979",
   "metadata": {},
   "outputs": [],
   "source": [
    "embed = np.load('../../data/item_user_features/item_embed_32_LB.npy')\n",
    "z = np.sqrt( np.sum(embed * embed,axis=1) )\n",
    "embed = embed/ np.reshape(z,(-1,1))\n",
    "embed.shape\n",
    "#(1855603, 32)"
   ]
  },
  {
   "cell_type": "code",
   "execution_count": null,
   "id": "bab99b77",
   "metadata": {},
   "outputs": [],
   "source": [
    "%%time\n",
    "e1 = embed[x,]\n",
    "e2 = embed[y,]"
   ]
  },
  {
   "cell_type": "code",
   "execution_count": null,
   "id": "e7003e8f",
   "metadata": {},
   "outputs": [],
   "source": [
    "e1.shape"
   ]
  },
  {
   "cell_type": "code",
   "execution_count": null,
   "id": "b69c1922",
   "metadata": {},
   "outputs": [],
   "source": [
    "%%time\n",
    "z = np.sum( e1*e2,axis=1 )"
   ]
  },
  {
   "cell_type": "code",
   "execution_count": null,
   "id": "5cfd0504",
   "metadata": {},
   "outputs": [],
   "source": [
    "users['z1'] = z"
   ]
  },
  {
   "cell_type": "code",
   "execution_count": null,
   "id": "8d5c66c1",
   "metadata": {},
   "outputs": [],
   "source": [
    "users.z1.dtype"
   ]
  },
  {
   "cell_type": "code",
   "execution_count": null,
   "id": "ec18ebba",
   "metadata": {},
   "outputs": [],
   "source": [
    "users.head()"
   ]
  },
  {
   "cell_type": "code",
   "execution_count": null,
   "id": "0f122e21",
   "metadata": {},
   "outputs": [],
   "source": [
    "users2 = cudf.DataFrame( users[['user','item']] )\n",
    "print( users2.shape )"
   ]
  },
  {
   "cell_type": "code",
   "execution_count": null,
   "id": "aecd0d39",
   "metadata": {},
   "outputs": [],
   "source": [
    "for k in range(5):\n",
    "    tmp = df.loc[df['type']!=0].reset_index(drop=True) \n",
    "    tmp['n'] = tmp.groupby('session').aid.cumcount()\n",
    "    tmp = tmp.loc[tmp.n==k]\n",
    "    tmp = tmp[['session','aid']]\n",
    "    tmp.columns = ['user','last_buy']\n",
    "\n",
    "    users2 = users2.merge(tmp, on='user', how='left')\n",
    "\n",
    "    x = users2.loc[users2.last_buy.notnull()].item.to_numpy()\n",
    "    y = users2.loc[users2.last_buy.notnull()]['last_buy'].to_numpy().astype('int32')\n",
    "\n",
    "    e1 = embed[x,]\n",
    "    e2 = embed[y,]\n",
    "\n",
    "    z = np.sum( e1*e2,axis=1 )\n",
    "\n",
    "    users2[f'z{k+2}'] = -1\n",
    "    users2.loc[users2.last_buy.notnull(),f'z{k+2}'] = z\n",
    "\n",
    "    users2 = users2.drop(['last_buy'],axis=1)\n",
    "    \n",
    "    print(k,users2.shape)"
   ]
  },
  {
   "cell_type": "code",
   "execution_count": null,
   "id": "e74457a6",
   "metadata": {},
   "outputs": [],
   "source": [
    "del df, tmp, e1, e2, z, x, y, embed\n",
    "gc.collect()"
   ]
  },
  {
   "cell_type": "code",
   "execution_count": null,
   "id": "d9ea72e5",
   "metadata": {},
   "outputs": [],
   "source": [
    "print( users2.shape )\n",
    "users2.head()"
   ]
  },
  {
   "cell_type": "code",
   "execution_count": null,
   "id": "969e460d",
   "metadata": {},
   "outputs": [],
   "source": [
    "print( users.shape)\n",
    "users.head()"
   ]
  },
  {
   "cell_type": "code",
   "execution_count": null,
   "id": "fed379f2",
   "metadata": {},
   "outputs": [],
   "source": [
    "%%time\n",
    "users = users.merge(users2.drop_duplicates(['user','item']).to_pandas(), on=['user','item'], how='left')"
   ]
  },
  {
   "cell_type": "code",
   "execution_count": null,
   "id": "992d7ab4",
   "metadata": {},
   "outputs": [],
   "source": [
    "print( users.shape )\n",
    "users.head()"
   ]
  },
  {
   "cell_type": "code",
   "execution_count": null,
   "id": "5b41e680",
   "metadata": {},
   "outputs": [],
   "source": [
    "for c in ['z1']+[f'z{x+2}' for x in range(5)]:\n",
    "    print(c)\n",
    "    users[c] = users[c].astype('float32')"
   ]
  },
  {
   "cell_type": "markdown",
   "id": "73923919",
   "metadata": {},
   "source": [
    "# Write Parquet"
   ]
  },
  {
   "cell_type": "code",
   "execution_count": null,
   "id": "1851c3b9",
   "metadata": {},
   "outputs": [],
   "source": [
    "for c in users.columns:\n",
    "    print(c, users[c].dtype)\n",
    "    if str(users[c].dtype) in ['Float32','Int32','float64','int64']:\n",
    "        print('###',c)\n",
    "        users[c] = users[c].astype('float32')"
   ]
  },
  {
   "cell_type": "code",
   "execution_count": null,
   "id": "78087c7b",
   "metadata": {},
   "outputs": [],
   "source": [
    "%%time\n",
    "users.to_parquet(f'../../data/infer_with_features/train_v{VER_OUT}_LB_{PART}.pqt',index=False)"
   ]
  }
 ],
 "metadata": {
  "kernelspec": {
   "display_name": "Python 3 (ipykernel)",
   "language": "python",
   "name": "python3"
  },
  "language_info": {
   "codemirror_mode": {
    "name": "ipython",
    "version": 3
   },
   "file_extension": ".py",
   "mimetype": "text/x-python",
   "name": "python",
   "nbconvert_exporter": "python",
   "pygments_lexer": "ipython3",
   "version": "3.8.13"
  }
 },
 "nbformat": 4,
 "nbformat_minor": 5
}
